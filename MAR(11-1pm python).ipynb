{
 "cells": [
  {
   "cell_type": "code",
   "execution_count": null,
   "id": "2ea5f740",
   "metadata": {},
   "outputs": [],
   "source": [
    "print(\"jjjj\")"
   ]
  },
  {
   "cell_type": "code",
   "execution_count": null,
   "id": "2255ecc8",
   "metadata": {},
   "outputs": [],
   "source": [
    "print(12==12)"
   ]
  },
  {
   "cell_type": "code",
   "execution_count": null,
   "id": "e8c54c52",
   "metadata": {},
   "outputs": [],
   "source": [
    "a=13\n",
    "b=13\n",
    "c=a==b\n",
    "print(c)\n",
    "print(type(c))"
   ]
  },
  {
   "cell_type": "code",
   "execution_count": null,
   "id": "ee5fb273",
   "metadata": {},
   "outputs": [],
   "source": [
    "#1 variable can not start with numbers\n",
    "9h=\"India\"\n",
    "print(9h)"
   ]
  },
  {
   "cell_type": "code",
   "execution_count": null,
   "id": "f4fceb1c",
   "metadata": {},
   "outputs": [],
   "source": [
    "h9=\"India\"\n",
    "print(h9)"
   ]
  },
  {
   "cell_type": "code",
   "execution_count": null,
   "id": "7e098288",
   "metadata": {},
   "outputs": [],
   "source": [
    "#2) space is not allowed\n",
    "h 9=\"India\"\n",
    "print(h 9)"
   ]
  },
  {
   "cell_type": "code",
   "execution_count": null,
   "id": "f1d94786",
   "metadata": {},
   "outputs": [],
   "source": [
    "#3)\n",
    "_First_name=\"777\"\n",
    "print(_First_name)"
   ]
  },
  {
   "cell_type": "code",
   "execution_count": null,
   "id": "e38bc95a",
   "metadata": {},
   "outputs": [],
   "source": [
    "#4)\n",
    "a=10\n",
    "a=1.5\n",
    "print(a)"
   ]
  },
  {
   "cell_type": "code",
   "execution_count": null,
   "id": "a6b115d3",
   "metadata": {},
   "outputs": [],
   "source": [
    "A=10\n",
    "print(A)"
   ]
  },
  {
   "cell_type": "code",
   "execution_count": null,
   "id": "4096302a",
   "metadata": {},
   "outputs": [],
   "source": [
    "b=\"999\"\n",
    "print(b)"
   ]
  },
  {
   "cell_type": "code",
   "execution_count": null,
   "id": "d26b2332",
   "metadata": {},
   "outputs": [],
   "source": [
    "#Type casting\n",
    "#implicit type cating\n",
    "s=10\n",
    "v=12.8\n",
    "print(s+v)"
   ]
  },
  {
   "cell_type": "code",
   "execution_count": null,
   "id": "8217190e",
   "metadata": {},
   "outputs": [],
   "source": [
    "s=10\n",
    "v=\"12.8\"\n",
    "v1=float(v)\n",
    "print(s+v1)"
   ]
  },
  {
   "cell_type": "code",
   "execution_count": null,
   "id": "0a6ab720",
   "metadata": {},
   "outputs": [],
   "source": [
    "s=10\n",
    "print(type(s))"
   ]
  },
  {
   "cell_type": "code",
   "execution_count": null,
   "id": "3ce321f6",
   "metadata": {},
   "outputs": [],
   "source": [
    "v=\"12.8\"\n",
    "print(type(v))"
   ]
  },
  {
   "cell_type": "code",
   "execution_count": null,
   "id": "90ab94f8",
   "metadata": {},
   "outputs": [],
   "source": [
    "v1=float(v)\n",
    "print(type(v1))"
   ]
  },
  {
   "cell_type": "code",
   "execution_count": null,
   "id": "71179a19",
   "metadata": {},
   "outputs": [],
   "source": [
    "s=\"Amol \"#S\n",
    "v=\"12.8\"#F\n",
    "\n",
    "print(s+v)"
   ]
  },
  {
   "cell_type": "code",
   "execution_count": null,
   "id": "922cc3b6",
   "metadata": {},
   "outputs": [],
   "source": [
    "i=int(input(\"Enter number\"))\n",
    "print(i)\n",
    "print(i+i)"
   ]
  },
  {
   "cell_type": "code",
   "execution_count": null,
   "id": "d6696dd5",
   "metadata": {},
   "outputs": [],
   "source": [
    "i=int(input(\"Enter number\"))\n",
    "print(\"My new number is\",i)\n",
    "print(\"Addition if 2 numbers is\", i+i)"
   ]
  },
  {
   "cell_type": "code",
   "execution_count": null,
   "id": "ea06effe",
   "metadata": {},
   "outputs": [],
   "source": [
    "i=int(input(\"Enter number \"))\n",
    "j=float(input(\"Enter another number \"))\n",
    "\n",
    "print(\"Addition if 2 numbers is\", i+j)"
   ]
  },
  {
   "cell_type": "code",
   "execution_count": null,
   "id": "44cd9996",
   "metadata": {},
   "outputs": [],
   "source": [
    "i=str(input(\"Enter name\"))\n",
    "print(\"My name is\",i)\n",
    "print(\"Addition if 2 numbers is\", i+i)"
   ]
  },
  {
   "cell_type": "code",
   "execution_count": null,
   "id": "5977b3d4",
   "metadata": {},
   "outputs": [],
   "source": [
    "i=input(\"Enter name\")\n",
    "print(\"My no is\",i)\n",
    "print(\"concatnation of 2 numbers is\", i+i)"
   ]
  },
  {
   "cell_type": "code",
   "execution_count": null,
   "id": "58718df9",
   "metadata": {},
   "outputs": [],
   "source": [
    "i=input()\n",
    "print(\"My name is\",i)"
   ]
  },
  {
   "cell_type": "code",
   "execution_count": null,
   "id": "bb1e3732",
   "metadata": {},
   "outputs": [],
   "source": [
    "a=3\n",
    "b=5\n",
    "print(a&b)"
   ]
  },
  {
   "cell_type": "code",
   "execution_count": null,
   "id": "245c1e72",
   "metadata": {},
   "outputs": [],
   "source": [
    "a=3\n",
    "b=5\n",
    "print(a|b)"
   ]
  },
  {
   "cell_type": "code",
   "execution_count": null,
   "id": "261ca1c0",
   "metadata": {},
   "outputs": [],
   "source": [
    "a=6\n",
    "b=7\n",
    "print(a^b)"
   ]
  },
  {
   "cell_type": "code",
   "execution_count": null,
   "id": "ee7ab45b",
   "metadata": {},
   "outputs": [],
   "source": [
    "print(9>>1)"
   ]
  },
  {
   "cell_type": "code",
   "execution_count": null,
   "id": "24e8a08c",
   "metadata": {},
   "outputs": [],
   "source": [
    "print(14<<1)"
   ]
  },
  {
   "cell_type": "code",
   "execution_count": null,
   "id": "4bd845b1",
   "metadata": {},
   "outputs": [],
   "source": [
    "print(14<<2)"
   ]
  },
  {
   "cell_type": "code",
   "execution_count": null,
   "id": "f7fb4b96",
   "metadata": {},
   "outputs": [],
   "source": [
    "x=5\n",
    "print(x>10 and x>3)"
   ]
  },
  {
   "cell_type": "code",
   "execution_count": null,
   "id": "3cedd707",
   "metadata": {},
   "outputs": [],
   "source": [
    "x=5\n",
    "print(x>1 and x>3)"
   ]
  },
  {
   "cell_type": "code",
   "execution_count": null,
   "id": "4a336456",
   "metadata": {},
   "outputs": [],
   "source": [
    "x=5\n",
    "print(x>10 or x>3)"
   ]
  },
  {
   "cell_type": "code",
   "execution_count": null,
   "id": "901f88b3",
   "metadata": {},
   "outputs": [],
   "source": [
    "x=5\n",
    "print(not(x>10 or x>3))"
   ]
  },
  {
   "cell_type": "code",
   "execution_count": null,
   "id": "e0d0d4b1",
   "metadata": {},
   "outputs": [],
   "source": [
    "if x>5:\n",
    "    print(\"Number is greater thn 5\")\n",
    "    \n",
    "else:\n",
    "    print(\"Not\")"
   ]
  },
  {
   "cell_type": "code",
   "execution_count": null,
   "id": "f32c4e80",
   "metadata": {},
   "outputs": [],
   "source": [
    "a=10\n",
    "if a:\n",
    "    print(\"True\")"
   ]
  },
  {
   "cell_type": "code",
   "execution_count": null,
   "id": "44bb39ec",
   "metadata": {},
   "outputs": [],
   "source": [
    "a=10\n",
    "if not a:\n",
    "    print(\"True\")\n",
    "else:\n",
    "    print(False)"
   ]
  },
  {
   "cell_type": "code",
   "execution_count": null,
   "id": "6b6b3d07",
   "metadata": {},
   "outputs": [],
   "source": [
    "if not (a%3 == 0 or a%5 == 0):\n",
    "    print(\"10 is not divisible by either 3 or 5\")\n",
    "else:\n",
    "    print(\"10 is divisible by either 3 or 5\")\n"
   ]
  },
  {
   "cell_type": "code",
   "execution_count": null,
   "id": "a239a045",
   "metadata": {},
   "outputs": [],
   "source": [
    "x=[\"a\",\"B\"]\n",
    "y=[\"a\",\"B\",\"c\"]\n",
    "z=x\n",
    "print(x is z)"
   ]
  },
  {
   "cell_type": "code",
   "execution_count": null,
   "id": "26e75466",
   "metadata": {},
   "outputs": [],
   "source": [
    "x=[\"a\",\"B\"]\n",
    "y=[\"a\",\"B\",\"c\"]\n",
    "z=x\n",
    "print(x is y)"
   ]
  },
  {
   "cell_type": "code",
   "execution_count": null,
   "id": "07a98d82",
   "metadata": {},
   "outputs": [],
   "source": [
    "if not (a%3 == 0 or a%5 == 0):\n",
    "    print(\"10 is not divisible by either 3 or 5\")"
   ]
  },
  {
   "cell_type": "code",
   "execution_count": null,
   "id": "3f37053d",
   "metadata": {},
   "outputs": [],
   "source": [
    "age=int(input(\"enter age\"))\n",
    "if age>=18:\n",
    "    print(\"you can vote\")\n",
    "else:\n",
    "    print(\"NOt\")\n",
    "    "
   ]
  },
  {
   "cell_type": "code",
   "execution_count": null,
   "id": "a29bb380",
   "metadata": {},
   "outputs": [],
   "source": [
    "number=int(input(\"Enter number\"))\n",
    "if (number%2 == 0):\n",
    "    print(\"Even Number\") \n",
    "elif (number == 0):\n",
    "    print(\"Number is zero\")\n",
    "elif (number > 0):\n",
    "    print(\"positive number\")\n",
    "elif (number <0):\n",
    "    print(\"-ve\")\n",
    "else:\n",
    "    print(\"Odd numbers\")\n"
   ]
  },
  {
   "cell_type": "code",
   "execution_count": null,
   "id": "d99423ed",
   "metadata": {},
   "outputs": [],
   "source": [
    "number=int(input(\"Enter number\"))\n",
    "if (number%2 == 0):\n",
    "    print(\"Even Number\") \n",
    "if (number == 0):\n",
    "    print(\"Number is zero\")\n",
    "if (number > 0):\n",
    "    print(\"positive number\")\n",
    "if (number <0):\n",
    "    print(\"-ve\")\n",
    "if (number%2 == 0):\n",
    "    print(\"even\")\n",
    "else:\n",
    "    print(\"not useful\")"
   ]
  },
  {
   "cell_type": "code",
   "execution_count": null,
   "id": "d70e0538",
   "metadata": {},
   "outputs": [],
   "source": [
    "number=int(input(\"Enter number\"))\n",
    "if (number > 0):\n",
    "    print(\"positive number\")\n",
    "    if (number%2 == 0):\n",
    "        print(\"Even Number\") \n",
    "    else:\n",
    "        print(\"odd\")\n",
    "else:\n",
    "    print(\"-ve\")\n"
   ]
  },
  {
   "cell_type": "code",
   "execution_count": null,
   "id": "3dee6e79",
   "metadata": {},
   "outputs": [],
   "source": [
    "a=\"I love India! 2024\"\n",
    "a"
   ]
  },
  {
   "cell_type": "code",
   "execution_count": null,
   "id": "71d37776",
   "metadata": {},
   "outputs": [],
   "source": [
    "p=\"India\"\n",
    "p[4]"
   ]
  },
  {
   "cell_type": "code",
   "execution_count": null,
   "id": "84f3d7b5",
   "metadata": {},
   "outputs": [],
   "source": [
    "p=\"India\"\n",
    "p[-3]"
   ]
  },
  {
   "cell_type": "code",
   "execution_count": null,
   "id": "e3a50926",
   "metadata": {},
   "outputs": [],
   "source": [
    "p[2]"
   ]
  },
  {
   "cell_type": "code",
   "execution_count": null,
   "id": "de1eaa40",
   "metadata": {},
   "outputs": [],
   "source": [
    "\n",
    "var1 = 'Hello World!'\n",
    "var2 = \"Python Programming\"\n",
    "print (\"var1[0]: \", var1[0])\n",
    "\n"
   ]
  },
  {
   "cell_type": "code",
   "execution_count": null,
   "id": "61883567",
   "metadata": {},
   "outputs": [],
   "source": [
    "print (\"var2[1:5]: \", var2[1:5])"
   ]
  },
  {
   "cell_type": "code",
   "execution_count": null,
   "id": "0ad2800a",
   "metadata": {},
   "outputs": [],
   "source": [
    "\n",
    "\n",
    "print (var2[7:18])"
   ]
  },
  {
   "cell_type": "code",
   "execution_count": null,
   "id": "7caf94bc",
   "metadata": {},
   "outputs": [],
   "source": [
    "print (var2[4:10])"
   ]
  },
  {
   "cell_type": "code",
   "execution_count": null,
   "id": "bf9dc81d",
   "metadata": {},
   "outputs": [],
   "source": [
    "\n",
    "var1 =\"Python Programming\"\n",
    "print(var1[-5:-1])\n"
   ]
  },
  {
   "cell_type": "code",
   "execution_count": null,
   "id": "0aba81d1",
   "metadata": {},
   "outputs": [],
   "source": [
    "print(var1[-11:])"
   ]
  },
  {
   "cell_type": "code",
   "execution_count": null,
   "id": "0905a7aa",
   "metadata": {},
   "outputs": [],
   "source": [
    "st=\"Hello world!\"\n",
    "st[0:]"
   ]
  },
  {
   "cell_type": "code",
   "execution_count": null,
   "id": "b16458e7",
   "metadata": {},
   "outputs": [],
   "source": [
    "st[::-1]"
   ]
  },
  {
   "cell_type": "code",
   "execution_count": null,
   "id": "f44b5a17",
   "metadata": {},
   "outputs": [],
   "source": [
    "len(var1)"
   ]
  },
  {
   "cell_type": "code",
   "execution_count": null,
   "id": "10975ba0",
   "metadata": {},
   "outputs": [],
   "source": [
    "txt = 'one one was a race horse, two two was one too.'\n",
    "txt.replace('one','three')\n"
   ]
  },
  {
   "cell_type": "code",
   "execution_count": null,
   "id": "a993aee0",
   "metadata": {},
   "outputs": [],
   "source": [
    "txt = \"Hello, welcome to my world.\"\n",
    "x = txt.find(\"e\",2)\n",
    "x"
   ]
  },
  {
   "cell_type": "code",
   "execution_count": null,
   "id": "d403deb2",
   "metadata": {},
   "outputs": [],
   "source": [
    "txt = \"Company12\"\n",
    "x = txt.isalnum()\n",
    "x\n"
   ]
  },
  {
   "cell_type": "code",
   "execution_count": null,
   "id": "57a991cd",
   "metadata": {},
   "outputs": [],
   "source": [
    "count=0\n",
    "txt = \"Hello, welcome to my world.\"\n",
    "for i in txt:\n",
    "    if i==\"e\":\n",
    "       count=count+1\n",
    "print(count)"
   ]
  },
  {
   "cell_type": "code",
   "execution_count": null,
   "id": "02b8c4ea",
   "metadata": {},
   "outputs": [],
   "source": [
    "txt = \"hello, my name is Peter, I am 26 years old\"\n",
    "x = txt.split(\", \")\n",
    "x\n",
    "\n"
   ]
  },
  {
   "cell_type": "code",
   "execution_count": null,
   "id": "95c2458e",
   "metadata": {},
   "outputs": [],
   "source": [
    "x = txt.split(\", \",maxsplit = 1)\n",
    "x"
   ]
  },
  {
   "cell_type": "code",
   "execution_count": null,
   "id": "48b7d650",
   "metadata": {},
   "outputs": [],
   "source": [
    "myTuple = (\"John\", \"Peter\", \"Vicky\")\n",
    "\"&\".join(myTuple)\n"
   ]
  },
  {
   "cell_type": "code",
   "execution_count": null,
   "id": "ec389d07",
   "metadata": {},
   "outputs": [],
   "source": [
    "myTuple = (\"John\", \"Peter\", \"Vicky\")\n",
    "\"#\".join(myTuple)\n"
   ]
  },
  {
   "cell_type": "code",
   "execution_count": null,
   "id": "8a2251b2",
   "metadata": {},
   "outputs": [],
   "source": [
    "myTuple = (\"John\", \"Peter\", \"Vicky\")\n",
    "\" \".join(myTuple)"
   ]
  },
  {
   "cell_type": "code",
   "execution_count": null,
   "id": "a1b785e9",
   "metadata": {},
   "outputs": [],
   "source": [
    "s = \"aaa,bbb,ccc,dd      \" \n",
    "s.rstrip() \n"
   ]
  },
  {
   "cell_type": "code",
   "execution_count": null,
   "id": "759baf66",
   "metadata": {},
   "outputs": [],
   "source": [
    "s = \"     aaa,bbb,ccc,dd      \" \n",
    "s.lstrip() \n"
   ]
  },
  {
   "cell_type": "code",
   "execution_count": null,
   "id": "6d5fc5b8",
   "metadata": {},
   "outputs": [],
   "source": [
    "s = \"     aaa,bbb,ccc,dd      \" \n",
    "s.strip() "
   ]
  },
  {
   "cell_type": "code",
   "execution_count": null,
   "id": "b263763d",
   "metadata": {},
   "outputs": [],
   "source": [
    "s=\"Start\"\n",
    "s.startswith(\"S\")"
   ]
  },
  {
   "cell_type": "code",
   "execution_count": null,
   "id": "014acc2e",
   "metadata": {},
   "outputs": [],
   "source": [
    "s=\"Start\"\n",
    "s.endswith(\"o\")"
   ]
  },
  {
   "cell_type": "code",
   "execution_count": null,
   "id": "9837f963",
   "metadata": {},
   "outputs": [],
   "source": [
    "txt = \"banana\"\n",
    "x = txt.center(80)\n",
    "print(x) \n"
   ]
  },
  {
   "cell_type": "code",
   "execution_count": null,
   "id": "73fe52f4",
   "metadata": {},
   "outputs": [],
   "source": [
    "txt = \"banana\"\n",
    "x = txt.center(80,\"O\")\n",
    "print(x) \n"
   ]
  },
  {
   "cell_type": "code",
   "execution_count": null,
   "id": "e5b4a077",
   "metadata": {},
   "outputs": [],
   "source": [
    "txt = \"I love apples, apple are my favorite fruit\"\n",
    "\n",
    "x = txt.count(\"apple\")\n",
    "\n",
    "print(x)"
   ]
  },
  {
   "cell_type": "code",
   "execution_count": null,
   "id": "64274eb5",
   "metadata": {},
   "outputs": [],
   "source": [
    "txt = \"I love apples, apple are my favorite fruit\"\n",
    "\n",
    "x = txt.count(\"apple\", 10, 24)\n",
    "\n",
    "print(x)\n",
    "\n"
   ]
  },
  {
   "cell_type": "markdown",
   "id": "fe2f0c25",
   "metadata": {},
   "source": [
    "Homework:\n",
    "1) Write a python program to get a word as input and access and display each letter of the word in a new line. \n",
    "\n",
    "2) Write a program to create a mirror image of the given string. For example, “wel” = “lew“.\n"
   ]
  },
  {
   "cell_type": "code",
   "execution_count": null,
   "id": "052d8292",
   "metadata": {},
   "outputs": [],
   "source": [
    "print(\"I am from Mumbai.\\nI love my country\")"
   ]
  },
  {
   "cell_type": "code",
   "execution_count": null,
   "id": "d78c3fe2",
   "metadata": {},
   "outputs": [],
   "source": [
    "print(\"I am from Mumbai.\\t \\tI love my country\")"
   ]
  },
  {
   "cell_type": "code",
   "execution_count": null,
   "id": "ad33210a",
   "metadata": {},
   "outputs": [],
   "source": [
    "print(\"I am from Mumbai.  I love my country\")"
   ]
  },
  {
   "cell_type": "code",
   "execution_count": null,
   "id": "67e3d03b",
   "metadata": {},
   "outputs": [],
   "source": [
    "for i in range(10):\n",
    "    print(\"Nikanksha\")"
   ]
  },
  {
   "cell_type": "code",
   "execution_count": null,
   "id": "daa973ca",
   "metadata": {},
   "outputs": [],
   "source": [
    "for i in range(1,10):\n",
    "    print(i,\"Nikanksha\")"
   ]
  },
  {
   "cell_type": "code",
   "execution_count": null,
   "id": "dfd54e9a",
   "metadata": {},
   "outputs": [],
   "source": [
    "for i in range(3,10):\n",
    "    print(i)"
   ]
  },
  {
   "cell_type": "code",
   "execution_count": null,
   "id": "528fc61a",
   "metadata": {},
   "outputs": [],
   "source": [
    "for i in range(0,10,2):#start ,stop,step\n",
    "    print(i)"
   ]
  },
  {
   "cell_type": "code",
   "execution_count": null,
   "id": "d520a965",
   "metadata": {},
   "outputs": [],
   "source": [
    "d=\"India\"\n",
    "for i in d:\n",
    "    print(d)"
   ]
  },
  {
   "cell_type": "code",
   "execution_count": null,
   "id": "1adfbe46",
   "metadata": {},
   "outputs": [],
   "source": [
    "d=\"India\"\n",
    "for i in d:\n",
    "    print(i)"
   ]
  },
  {
   "cell_type": "code",
   "execution_count": null,
   "id": "3773845e",
   "metadata": {},
   "outputs": [],
   "source": [
    "d=\"India\"\n",
    "for i in range(len(d)):\n",
    "    print(i)"
   ]
  },
  {
   "cell_type": "code",
   "execution_count": null,
   "id": "dcf72844",
   "metadata": {},
   "outputs": [],
   "source": [
    "fruit=[\"Apple\",\"Banana\",\"Cherry\"]\n",
    "for i in fruit:\n",
    "    print(i)"
   ]
  },
  {
   "cell_type": "code",
   "execution_count": null,
   "id": "a3c07494",
   "metadata": {},
   "outputs": [],
   "source": [
    "fruit=[\"Apple\",\"Banana\",\"Cherry\"]\n",
    "for i in range(len(fruit)):\n",
    "    print(fruit[i])"
   ]
  },
  {
   "cell_type": "code",
   "execution_count": null,
   "id": "d6a131f1",
   "metadata": {},
   "outputs": [],
   "source": [
    "count=0\n",
    "while count<10:\n",
    "    print(count)\n",
    "    count=count+1\n",
    "    "
   ]
  },
  {
   "cell_type": "code",
   "execution_count": null,
   "id": "9c9187f6",
   "metadata": {},
   "outputs": [],
   "source": [
    "count=0\n",
    "while count<=10:\n",
    "    print(count)\n",
    "    count=count+1"
   ]
  },
  {
   "cell_type": "code",
   "execution_count": null,
   "id": "ac11cd2f",
   "metadata": {},
   "outputs": [],
   "source": [
    "count=10\n",
    "while count >0:\n",
    "    print(count)\n",
    "    count=count-1"
   ]
  },
  {
   "cell_type": "code",
   "execution_count": null,
   "id": "7896832c",
   "metadata": {},
   "outputs": [],
   "source": [
    "for i in range(100):\n",
    "    if i==15:\n",
    "        break\n",
    "    print(i)"
   ]
  },
  {
   "cell_type": "code",
   "execution_count": null,
   "id": "e86e4ecf",
   "metadata": {},
   "outputs": [],
   "source": [
    "for i in range(20):\n",
    "    if i==15:\n",
    "        continue\n",
    "    print(i)"
   ]
  },
  {
   "cell_type": "code",
   "execution_count": null,
   "id": "8965c4a3",
   "metadata": {},
   "outputs": [],
   "source": [
    "for i in range(10):\n",
    "    if i==1:\n",
    "       pass \n",
    "    else:\n",
    "        print(i)"
   ]
  },
  {
   "cell_type": "code",
   "execution_count": null,
   "id": "b7c53d70",
   "metadata": {},
   "outputs": [],
   "source": [
    "for i in range(1, 11):\n",
    "    for j in range(1, 11):\n",
    "         print(i*j,end=\"\\t\")\n",
    "    print()\n",
    "\n"
   ]
  },
  {
   "cell_type": "code",
   "execution_count": null,
   "id": "8c3b1b84",
   "metadata": {},
   "outputs": [],
   "source": [
    "\n",
    "for i in range(0,6):\n",
    "    for j in range(1, i + 1):\n",
    "        print(\"*\", end=\" \")\n",
    "    print(' ')\n"
   ]
  },
  {
   "cell_type": "code",
   "execution_count": null,
   "id": "1becee17",
   "metadata": {},
   "outputs": [],
   "source": [
    "rows = 5\n",
    "# outer loop\n",
    "for i in range(1, rows + 1):\n",
    "    # inner loop\n",
    "    for j in range(1, i + 1):\n",
    "        print(\"*\", end=\" \")\n",
    "    print(' ')\n"
   ]
  },
  {
   "cell_type": "code",
   "execution_count": null,
   "id": "d2a147bf",
   "metadata": {},
   "outputs": [],
   "source": [
    "for i in range(3):\n",
    "    for j in range(5):\n",
    "        print(\"*\" , end=\" \")\n",
    "    print()\n"
   ]
  },
  {
   "cell_type": "code",
   "execution_count": null,
   "id": "f0154a47",
   "metadata": {},
   "outputs": [],
   "source": [
    "for i in range(3):\n",
    "    for j in range(5):\n",
    "        if(i==0 or i == 2 or j == 0 or j == 4):\n",
    "            print(\"*\" , end=\" \")\n",
    "        else:\n",
    "            print(\" \", end=\" \")\n",
    "    print()\n"
   ]
  },
  {
   "cell_type": "code",
   "execution_count": null,
   "id": "efea26d3",
   "metadata": {},
   "outputs": [],
   "source": [
    "rows = 5\n",
    "# outer loop\n",
    "for i in range(5):\n",
    "    # inner loop\n",
    "    for j in range(i + 1):\n",
    "        print(\"*\", end=\" \")\n",
    "    print(' ')\n"
   ]
  },
  {
   "cell_type": "code",
   "execution_count": null,
   "id": "c4ce4eae",
   "metadata": {},
   "outputs": [],
   "source": [
    "for i in range(6):\n",
    "    for j in range(6-i):\n",
    "        print(\"*\" , end=\" \")\n",
    "    print()\n"
   ]
  },
  {
   "cell_type": "code",
   "execution_count": null,
   "id": "79e9ae40",
   "metadata": {},
   "outputs": [],
   "source": [
    "for i in range(6):\n",
    "    for j in range(6-i):\n",
    "        if ( i == 0 or i == 5 or j == 0 or j == 6-i-1):\n",
    "            print(\"*\" , end=\" \")\n",
    "        else :\n",
    "            print(\" \" , end = \" \")\n",
    "    print()\n"
   ]
  },
  {
   "cell_type": "code",
   "execution_count": null,
   "id": "81053774",
   "metadata": {},
   "outputs": [],
   "source": [
    "for i in range(5):\n",
    "    for j in range(5-i-1):\n",
    "        print(\" \" , end=\"\")\n",
    "    for k in range(i+1):\n",
    "        print(\"*\" , end=\" \")\n",
    "    print( )\n",
    "for i in range(5):\n",
    "    for j in range(i):\n",
    "        print(\" \" , end=\"\")\n",
    "    for k in range(5-i):\n",
    "        print(\"*\" , end=\" \")\n",
    "    print( )\n",
    "\n"
   ]
  },
  {
   "cell_type": "code",
   "execution_count": null,
   "id": "42d0c965",
   "metadata": {},
   "outputs": [],
   "source": [
    "Home work:\n",
    "\n",
    "    "
   ]
  },
  {
   "cell_type": "code",
   "execution_count": null,
   "id": "77dc00c3",
   "metadata": {},
   "outputs": [],
   "source": [
    "l=[11,44,5,6,7]\n",
    "l"
   ]
  },
  {
   "cell_type": "code",
   "execution_count": null,
   "id": "de1ba30b",
   "metadata": {},
   "outputs": [],
   "source": [
    "l=[11,44,5,6,7,\"apple\",True,44,0]\n",
    "l"
   ]
  },
  {
   "cell_type": "code",
   "execution_count": null,
   "id": "891099eb",
   "metadata": {},
   "outputs": [],
   "source": [
    "Marks = [10, 23, 41, 75]\n",
    "i = 0\n",
    "while i < 4:\n",
    "    print (Marks[i],end=' \\t')\n",
    "    i = i + 1\n"
   ]
  },
  {
   "cell_type": "code",
   "execution_count": null,
   "id": "072d34e6",
   "metadata": {},
   "outputs": [],
   "source": [
    "Marks = [10, 23, 41, 75]\n",
    "i = 0\n",
    "while i < 4:\n",
    "    print (i,end=' \\t')\n",
    "    i = i + 1"
   ]
  },
  {
   "cell_type": "code",
   "execution_count": null,
   "id": "d358fe00",
   "metadata": {},
   "outputs": [],
   "source": [
    "Marks = [10, 23, 41, 75]\n",
    "i = 0\n",
    "while i < 4:\n",
    "    print (Marks,end=' \\t')\n",
    "    i = i + 1"
   ]
  },
  {
   "cell_type": "code",
   "execution_count": null,
   "id": "3a1c475a",
   "metadata": {},
   "outputs": [],
   "source": [
    "i = -1\n",
    "while i >= -4:\n",
    "    print (Marks[i])\n",
    "    i = i + -1\n"
   ]
  },
  {
   "cell_type": "code",
   "execution_count": null,
   "id": "4620b3c0",
   "metadata": {},
   "outputs": [],
   "source": [
    "list = [ 'abcd', 786 , 2.23, 'john', 70.2 ] \n",
    "list[1]=888\n",
    "list"
   ]
  },
  {
   "cell_type": "code",
   "execution_count": null,
   "id": "9d6bf08d",
   "metadata": {},
   "outputs": [],
   "source": [
    "list = [ 'abcd', 786 , 2.23, 'john', 70.2 ] \n",
    "list[2]=\"Nik\""
   ]
  },
  {
   "cell_type": "code",
   "execution_count": null,
   "id": "81ff43a9",
   "metadata": {},
   "outputs": [],
   "source": [
    "list"
   ]
  },
  {
   "cell_type": "code",
   "execution_count": null,
   "id": "b6ccdbf5",
   "metadata": {},
   "outputs": [],
   "source": [
    "list = [ 'abcd', 786 , 2.23, 'john', 70.2 ] \n",
    "list[1:3]=[\"Nik\",\"Jain\"]\n",
    "list"
   ]
  },
  {
   "cell_type": "code",
   "execution_count": null,
   "id": "3a0ca5f0",
   "metadata": {},
   "outputs": [],
   "source": [
    "list[1:3]=[]\n",
    "list"
   ]
  },
  {
   "cell_type": "code",
   "execution_count": null,
   "id": "ca3fbb77",
   "metadata": {},
   "outputs": [],
   "source": [
    "list[:]=[]\n",
    "list"
   ]
  },
  {
   "cell_type": "code",
   "execution_count": null,
   "id": "9be9e54b",
   "metadata": {},
   "outputs": [],
   "source": [
    "list = [ 'abcd', 786 , 2.23, 'john', 70.2 ] \n",
    "list.append(\"new\")\n",
    "list"
   ]
  },
  {
   "cell_type": "code",
   "execution_count": null,
   "id": "d49f2bea",
   "metadata": {},
   "outputs": [],
   "source": [
    "list.append([\"new1\",\"new2\"])\n"
   ]
  },
  {
   "cell_type": "code",
   "execution_count": null,
   "id": "b4fabe02",
   "metadata": {},
   "outputs": [],
   "source": [
    "list"
   ]
  },
  {
   "cell_type": "code",
   "execution_count": null,
   "id": "dd10b34c",
   "metadata": {},
   "outputs": [],
   "source": [
    "list[6]"
   ]
  },
  {
   "cell_type": "code",
   "execution_count": null,
   "id": "f0294aad",
   "metadata": {
    "scrolled": true
   },
   "outputs": [],
   "source": [
    "list[6][1]"
   ]
  },
  {
   "cell_type": "code",
   "execution_count": null,
   "id": "dbb4c9a7",
   "metadata": {},
   "outputs": [],
   "source": [
    "list.extend([1,2,3])\n",
    "list"
   ]
  },
  {
   "cell_type": "code",
   "execution_count": null,
   "id": "899a5906",
   "metadata": {},
   "outputs": [],
   "source": [
    "list.insert(0,\"India\")\n",
    "list"
   ]
  },
  {
   "cell_type": "code",
   "execution_count": null,
   "id": "76457673",
   "metadata": {},
   "outputs": [],
   "source": [
    "list.remove(2.23)\n",
    "list"
   ]
  },
  {
   "cell_type": "code",
   "execution_count": null,
   "id": "b70260df",
   "metadata": {},
   "outputs": [],
   "source": [
    "list.remove(\"aaaa\")\n",
    "list"
   ]
  },
  {
   "cell_type": "code",
   "execution_count": null,
   "id": "9d782f4e",
   "metadata": {},
   "outputs": [],
   "source": [
    "list1=[1,1,1,1,2,3,4,4]\n",
    "list1.count(1)"
   ]
  },
  {
   "cell_type": "code",
   "execution_count": null,
   "id": "d432e4c6",
   "metadata": {},
   "outputs": [],
   "source": [
    "list1.index(2)"
   ]
  },
  {
   "cell_type": "code",
   "execution_count": null,
   "id": "17bf48c6",
   "metadata": {},
   "outputs": [],
   "source": [
    "list1.reverse()\n",
    "list1"
   ]
  },
  {
   "cell_type": "code",
   "execution_count": null,
   "id": "faa2822d",
   "metadata": {},
   "outputs": [],
   "source": [
    "list1.sort()\n",
    "list1"
   ]
  },
  {
   "cell_type": "code",
   "execution_count": null,
   "id": "e079d4c6",
   "metadata": {},
   "outputs": [],
   "source": [
    "list1.sort(reverse=True)\n",
    "list1"
   ]
  },
  {
   "cell_type": "code",
   "execution_count": null,
   "id": "2bc12fd5",
   "metadata": {},
   "outputs": [],
   "source": [
    "list1.sort(reverse=False)\n",
    "list1"
   ]
  },
  {
   "cell_type": "code",
   "execution_count": null,
   "id": "d42ae25a",
   "metadata": {},
   "outputs": [],
   "source": [
    "list1.pop(2)\n",
    "list1"
   ]
  },
  {
   "cell_type": "code",
   "execution_count": null,
   "id": "832e6301",
   "metadata": {},
   "outputs": [],
   "source": [
    "fruits = [\"apple\", \"banana\", \"cherry\", \"kiwi\", \"mango\"]\n",
    "newlist = []\n",
    "for x in fruits:\n",
    "  if \"a\" in x:\n",
    "    newlist.append(x)\n",
    "print(newlist)\n",
    "\n"
   ]
  },
  {
   "cell_type": "code",
   "execution_count": null,
   "id": "eb86d12c",
   "metadata": {},
   "outputs": [],
   "source": [
    "#tuple\n",
    "t=(1,\"India\",34.7,True,34.7)\n",
    "t"
   ]
  },
  {
   "cell_type": "code",
   "execution_count": null,
   "id": "df4494f9",
   "metadata": {},
   "outputs": [],
   "source": [
    "t[0]"
   ]
  },
  {
   "cell_type": "code",
   "execution_count": null,
   "id": "55d26d12",
   "metadata": {},
   "outputs": [],
   "source": [
    "t[0]=\"abc\"\n",
    "t"
   ]
  },
  {
   "cell_type": "code",
   "execution_count": null,
   "id": "28fda293",
   "metadata": {},
   "outputs": [],
   "source": [
    "t1=()\n",
    "\n",
    "t1[0]=\"uuuu\"\n",
    "\n",
    "t1"
   ]
  },
  {
   "cell_type": "code",
   "execution_count": null,
   "id": "d8f7c072",
   "metadata": {},
   "outputs": [],
   "source": [
    "a=10\n",
    "a=5\n",
    "print(a)"
   ]
  },
  {
   "cell_type": "code",
   "execution_count": null,
   "id": "28e2dde4",
   "metadata": {},
   "outputs": [],
   "source": [
    "t1=(\"Apple\")\n",
    "print(type(t1))"
   ]
  },
  {
   "cell_type": "code",
   "execution_count": null,
   "id": "464c11e7",
   "metadata": {},
   "outputs": [],
   "source": [
    "t1=(\"Apple\",)\n",
    "print(type(t1))"
   ]
  },
  {
   "cell_type": "code",
   "execution_count": null,
   "id": "f48947ec",
   "metadata": {},
   "outputs": [],
   "source": [
    "t1=\"Apple\",\"banana\"\n",
    "print(type(t1))"
   ]
  },
  {
   "cell_type": "code",
   "execution_count": null,
   "id": "0177d934",
   "metadata": {},
   "outputs": [],
   "source": [
    "a=[\"hhhh\"]\n",
    "print(type(a))"
   ]
  },
  {
   "cell_type": "code",
   "execution_count": null,
   "id": "64a667d1",
   "metadata": {},
   "outputs": [],
   "source": [
    "thistuple = (\"apple\", \"banana\", \"cherry\")\n",
    "if \"apple\" in thistuple:\n",
    "  print(\"Yes, 'apple' is in the fruits tuple\")\n"
   ]
  },
  {
   "cell_type": "code",
   "execution_count": null,
   "id": "94270dba",
   "metadata": {},
   "outputs": [],
   "source": [
    "x = (\"apple\", \"banana\", \"cherry\")\n",
    "y = list(x)\n",
    "y[1] = \"kiwi\"\n",
    "x = tuple(y)\n",
    "print(x)"
   ]
  },
  {
   "cell_type": "code",
   "execution_count": null,
   "id": "8896a525",
   "metadata": {},
   "outputs": [],
   "source": [
    "thistuple = (\"apple\", \"banana\", \"cherry\")\n",
    "y = list(thistuple)\n",
    "y.append(\"orange\")\n",
    "thistuple = tuple(y)\n",
    "thistuple"
   ]
  },
  {
   "cell_type": "code",
   "execution_count": null,
   "id": "7dd1f20e",
   "metadata": {},
   "outputs": [],
   "source": [
    "a=(\"apple\",\"Banana\",\"Cherry\")\n",
    "a"
   ]
  },
  {
   "cell_type": "code",
   "execution_count": null,
   "id": "c4f5276d",
   "metadata": {},
   "outputs": [],
   "source": [
    "a=(\"apple\",\"Banana\",\"Cherry\")\n",
    "x,y,z=a\n",
    "print(x)"
   ]
  },
  {
   "cell_type": "code",
   "execution_count": null,
   "id": "a60ae189",
   "metadata": {},
   "outputs": [],
   "source": [
    "thistuple = (\"apple\", \"banana\", \"cherry\")\n",
    "for x in thistuple:\n",
    "  print(x)"
   ]
  },
  {
   "cell_type": "code",
   "execution_count": null,
   "id": "2a784dd2",
   "metadata": {},
   "outputs": [],
   "source": [
    "thistuple = (\"apple\", \"banana\", \"cherry\")\n",
    "for i in range(len(thistuple)):\n",
    "  print(thistuple[i])"
   ]
  },
  {
   "cell_type": "code",
   "execution_count": null,
   "id": "4a056330",
   "metadata": {},
   "outputs": [],
   "source": [
    "tuple1 = (\"a\", \"b\" , \"c\")\n",
    "tuple2 = (1, 2, 3)\n",
    "\n",
    "tuple3 = tuple1 + tuple2\n",
    "print(tuple3)"
   ]
  },
  {
   "cell_type": "code",
   "execution_count": null,
   "id": "cd5ffaf4",
   "metadata": {},
   "outputs": [],
   "source": [
    "fruits = (\"apple\", \"banana\", \"cherry\")\n",
    "mytuple = fruits * 2\n",
    "\n",
    "print(mytuple)\n"
   ]
  },
  {
   "cell_type": "code",
   "execution_count": null,
   "id": "fd92cdd2",
   "metadata": {},
   "outputs": [],
   "source": [
    "thistuple = (1, 3, 7, 8, 7, 5, 4, 6, 8, 5)\n",
    "x = thistuple.count(5)\n",
    "print(x)"
   ]
  },
  {
   "cell_type": "code",
   "execution_count": null,
   "id": "fdb601e6",
   "metadata": {},
   "outputs": [],
   "source": [
    "thistuple = (1, 3, 7, 8, 7, 5, 4, 6, 8, 5)\n",
    "x = thistuple.index(8)\n",
    "print(x)"
   ]
  },
  {
   "cell_type": "code",
   "execution_count": null,
   "id": "ce54982e",
   "metadata": {},
   "outputs": [],
   "source": [
    "# Max and Min"
   ]
  },
  {
   "cell_type": "code",
   "execution_count": null,
   "id": "d4da319f",
   "metadata": {},
   "outputs": [],
   "source": [
    "s={\"dddd\",2.4,True}\n",
    "s"
   ]
  },
  {
   "cell_type": "code",
   "execution_count": null,
   "id": "b1e16acd",
   "metadata": {},
   "outputs": [],
   "source": [
    "s=set()\n",
    "print(type(s))"
   ]
  },
  {
   "cell_type": "code",
   "execution_count": null,
   "id": "03194340",
   "metadata": {},
   "outputs": [],
   "source": [
    "print(len(s))"
   ]
  },
  {
   "cell_type": "code",
   "execution_count": null,
   "id": "6815e050",
   "metadata": {},
   "outputs": [],
   "source": [
    "s.add(\"orange\")\n",
    "s"
   ]
  },
  {
   "cell_type": "code",
   "execution_count": null,
   "id": "6208f645",
   "metadata": {},
   "outputs": [],
   "source": []
  },
  {
   "cell_type": "code",
   "execution_count": null,
   "id": "6007fff5",
   "metadata": {},
   "outputs": [],
   "source": [
    "s1={\"apple\",\"Banana\",\"cherry\"}\n",
    "s2={\"apple\",\"mango\",\"kiwi\"}\n",
    "s1.update(s2)\n",
    "s1"
   ]
  },
  {
   "cell_type": "code",
   "execution_count": null,
   "id": "0bd5a31b",
   "metadata": {},
   "outputs": [],
   "source": [
    "s1.remove(\"Banana\")\n",
    "s1\n"
   ]
  },
  {
   "cell_type": "code",
   "execution_count": null,
   "id": "08d92d21",
   "metadata": {},
   "outputs": [],
   "source": [
    "s1.discard(\"kiwi\")\n",
    "s1"
   ]
  },
  {
   "cell_type": "code",
   "execution_count": null,
   "id": "788e89d8",
   "metadata": {},
   "outputs": [],
   "source": [
    "s1.pop()\n",
    "s1\n"
   ]
  },
  {
   "cell_type": "code",
   "execution_count": null,
   "id": "f1ef931e",
   "metadata": {},
   "outputs": [],
   "source": [
    "s1.clear()"
   ]
  },
  {
   "cell_type": "code",
   "execution_count": null,
   "id": "7f985f66",
   "metadata": {},
   "outputs": [],
   "source": [
    "s1"
   ]
  },
  {
   "cell_type": "code",
   "execution_count": null,
   "id": "7d02540e",
   "metadata": {},
   "outputs": [],
   "source": [
    "del s1"
   ]
  },
  {
   "cell_type": "code",
   "execution_count": null,
   "id": "0000ec75",
   "metadata": {},
   "outputs": [],
   "source": [
    "s1"
   ]
  },
  {
   "cell_type": "code",
   "execution_count": null,
   "id": "4d4c6c6c",
   "metadata": {},
   "outputs": [],
   "source": [
    "set1 = {\"a\", \"b\" , \"c\"}\n",
    "set2 = {1, 2, 3}\n",
    "set3 = set1.union(set2)\n",
    "print(set3)"
   ]
  },
  {
   "cell_type": "code",
   "execution_count": null,
   "id": "2b4fd3d5",
   "metadata": {},
   "outputs": [],
   "source": [
    "set1 = {\"a\", \"b\" , \"c\"}\n",
    "set2 = {1, 2, 3}\n",
    "set1.update(set2)\n",
    "set1"
   ]
  },
  {
   "cell_type": "code",
   "execution_count": null,
   "id": "32eddce8",
   "metadata": {},
   "outputs": [],
   "source": [
    "x = {\"apple\", \"banana\", \"cherry\"}\n",
    "y = {\"google\", \"microsoft\", \"apple\"}\n",
    "x.intersection_update(y)\n",
    "print(x)"
   ]
  },
  {
   "cell_type": "code",
   "execution_count": null,
   "id": "2b6dbcab",
   "metadata": {},
   "outputs": [],
   "source": [
    "x = {\"apple\", \"banana\", \"cherry\"}\n",
    "y = {\"google\", \"microsoft\", \"apple\"}\n",
    "z=x.intersection(y)\n",
    "print(z)"
   ]
  },
  {
   "cell_type": "code",
   "execution_count": null,
   "id": "a84ca3d4",
   "metadata": {},
   "outputs": [],
   "source": [
    "x = {\"apple\", \"banana\", \"cherry\"}\n",
    "y = {\"google\", \"microsoft\", \"apple\"}\n",
    "x.symmetric_difference_update(y)\n",
    "x"
   ]
  },
  {
   "cell_type": "code",
   "execution_count": null,
   "id": "a8e77ecc",
   "metadata": {},
   "outputs": [],
   "source": [
    "x = {\"apple\", \"banana\", \"cherry\"}\n",
    "y = {\"google\", \"microsoft\", \"apple\"}\n",
    "z=x.symmetric_difference(y)\n",
    "z"
   ]
  },
  {
   "cell_type": "code",
   "execution_count": null,
   "id": "b259f9a2",
   "metadata": {},
   "outputs": [],
   "source": [
    "# set MCQ"
   ]
  },
  {
   "cell_type": "code",
   "execution_count": null,
   "id": "6d36d20a",
   "metadata": {},
   "outputs": [],
   "source": [
    "a=\"Apple\"\n",
    "b=\"Banana\"\n",
    "\n",
    "\n",
    "a,b=\"Apple\",\"Banana\"\n",
    "\n",
    "\n",
    "t1=(\"Apple\",\"Banana\")\n",
    "t1"
   ]
  },
  {
   "cell_type": "code",
   "execution_count": null,
   "id": "87926d21",
   "metadata": {},
   "outputs": [],
   "source": [
    "a,b=t1\n",
    "a"
   ]
  },
  {
   "cell_type": "code",
   "execution_count": null,
   "id": "ea9a112e",
   "metadata": {},
   "outputs": [],
   "source": [
    "b"
   ]
  },
  {
   "cell_type": "code",
   "execution_count": null,
   "id": "0bcde836",
   "metadata": {},
   "outputs": [],
   "source": [
    "a,b=(\"Apple\",\"Banana\")\n"
   ]
  },
  {
   "cell_type": "code",
   "execution_count": null,
   "id": "c95b09e2",
   "metadata": {},
   "outputs": [],
   "source": [
    "list1=str(input(\"Enter elements\"))\n",
    "print(type(list1))"
   ]
  },
  {
   "cell_type": "code",
   "execution_count": null,
   "id": "51e09cc3",
   "metadata": {},
   "outputs": [],
   "source": [
    "l1=[]\n",
    "for i in range(5):\n",
    "    list1=str(input(\"Enter elements\"))\n",
    "    l1.append(list1)\n",
    "    print(l1)"
   ]
  },
  {
   "cell_type": "code",
   "execution_count": null,
   "id": "fad34d62",
   "metadata": {},
   "outputs": [],
   "source": [
    "l1=[2,3,4,5,\"iii\"]"
   ]
  },
  {
   "cell_type": "code",
   "execution_count": null,
   "id": "9d867113",
   "metadata": {},
   "outputs": [],
   "source": [
    "dic={\"student_id\":\"a1\",\"Student_name\":\"shilpi\",\"age\":15}\n",
    "dic\n"
   ]
  },
  {
   "cell_type": "code",
   "execution_count": null,
   "id": "43f4c8e0",
   "metadata": {},
   "outputs": [],
   "source": [
    "thisdict = {\n",
    "  \"brand\": \"Ford\",\n",
    "  \"model\": \"Mustang\",\n",
    "  \"year\": 1964\n",
    "}\n",
    "print(thisdict)"
   ]
  },
  {
   "cell_type": "code",
   "execution_count": null,
   "id": "ab7c9d5f",
   "metadata": {},
   "outputs": [],
   "source": [
    "thisdict = {\n",
    "  \"brand\": [\"Ford\",\"bmw\",\"volvo\"],\n",
    "  \"model\": [\"Mustang\",\"pppp\",\"qqqq\"],\n",
    "  \"year\": [1964,1990,2000]\n",
    "}\n",
    "print(thisdict)"
   ]
  },
  {
   "cell_type": "code",
   "execution_count": null,
   "id": "fa6ed4b3",
   "metadata": {},
   "outputs": [],
   "source": [
    "thisdict[\"brand\"]"
   ]
  },
  {
   "cell_type": "code",
   "execution_count": null,
   "id": "b6586f37",
   "metadata": {},
   "outputs": [],
   "source": [
    "thisdict.get(\"brand\")"
   ]
  },
  {
   "cell_type": "code",
   "execution_count": null,
   "id": "87592310",
   "metadata": {},
   "outputs": [],
   "source": [
    "thisdict.keys()"
   ]
  },
  {
   "cell_type": "code",
   "execution_count": null,
   "id": "5109ccc8",
   "metadata": {},
   "outputs": [],
   "source": [
    "thisdict.values()"
   ]
  },
  {
   "cell_type": "code",
   "execution_count": null,
   "id": "fc8b2ae4",
   "metadata": {},
   "outputs": [],
   "source": [
    "thisdict.items()"
   ]
  },
  {
   "cell_type": "code",
   "execution_count": null,
   "id": "98154383",
   "metadata": {},
   "outputs": [],
   "source": [
    "thisdict[\"brand\"]=\"lllll\"\n",
    "thisdict"
   ]
  },
  {
   "cell_type": "code",
   "execution_count": null,
   "id": "57705c63",
   "metadata": {},
   "outputs": [],
   "source": [
    "thisdict.update({\"date\":21})\n",
    "thisdict"
   ]
  },
  {
   "cell_type": "code",
   "execution_count": null,
   "id": "f760167b",
   "metadata": {},
   "outputs": [],
   "source": [
    "thisdict.update({\"date\":30})\n",
    "thisdict"
   ]
  },
  {
   "cell_type": "code",
   "execution_count": null,
   "id": "6096a86f",
   "metadata": {},
   "outputs": [],
   "source": [
    "thisdict.update({\"date\":31})\n",
    "thisdict"
   ]
  },
  {
   "cell_type": "code",
   "execution_count": null,
   "id": "513b9c50",
   "metadata": {},
   "outputs": [],
   "source": [
    "thisdict[\"date\"]=\"01\"\n",
    "thisdict"
   ]
  },
  {
   "cell_type": "code",
   "execution_count": null,
   "id": "de96f768",
   "metadata": {},
   "outputs": [],
   "source": [
    "thisdict.pop(\"data\")"
   ]
  },
  {
   "cell_type": "code",
   "execution_count": null,
   "id": "700479be",
   "metadata": {},
   "outputs": [],
   "source": [
    "thisdict"
   ]
  },
  {
   "cell_type": "code",
   "execution_count": null,
   "id": "774a5fd9",
   "metadata": {},
   "outputs": [],
   "source": [
    "thisdict.clear()"
   ]
  },
  {
   "cell_type": "code",
   "execution_count": null,
   "id": "7ca61568",
   "metadata": {},
   "outputs": [],
   "source": [
    "del thisdict[\"brand\"]\n",
    "thisdict"
   ]
  },
  {
   "cell_type": "code",
   "execution_count": null,
   "id": "328cdcc5",
   "metadata": {},
   "outputs": [],
   "source": [
    "del thisdict"
   ]
  },
  {
   "cell_type": "code",
   "execution_count": null,
   "id": "50178547",
   "metadata": {},
   "outputs": [],
   "source": [
    "thisdict"
   ]
  },
  {
   "cell_type": "code",
   "execution_count": null,
   "id": "6480d0d3",
   "metadata": {},
   "outputs": [],
   "source": [
    "thisdict.clear()\n",
    "thisdict"
   ]
  },
  {
   "cell_type": "code",
   "execution_count": null,
   "id": "81d296e4",
   "metadata": {},
   "outputs": [],
   "source": [
    "thisdict = {\n",
    "  \"brand\": \"Ford\",\n",
    "  \"model\": \"Mustang\",\n",
    "  \"year\": 1964,\n",
    "  \"year\":2020\n",
    "}\n",
    "print(thisdict)"
   ]
  },
  {
   "cell_type": "code",
   "execution_count": null,
   "id": "89d94267",
   "metadata": {},
   "outputs": [],
   "source": [
    "for i in thisdict:\n",
    "    print(thisdict[i])"
   ]
  },
  {
   "cell_type": "code",
   "execution_count": null,
   "id": "1e9b3289",
   "metadata": {},
   "outputs": [],
   "source": [
    "for i in thisdict:\n",
    "    print(i)"
   ]
  },
  {
   "cell_type": "code",
   "execution_count": null,
   "id": "37ba51c5",
   "metadata": {},
   "outputs": [],
   "source": [
    "for i in thisdict:\n",
    "    print(thisdict)"
   ]
  },
  {
   "cell_type": "code",
   "execution_count": null,
   "id": "637803c6",
   "metadata": {},
   "outputs": [],
   "source": [
    "for i in thisdict.keys():\n",
    "    print(i)"
   ]
  },
  {
   "cell_type": "code",
   "execution_count": null,
   "id": "e663ce56",
   "metadata": {},
   "outputs": [],
   "source": [
    "for i in thisdict.values():\n",
    "    print(i)"
   ]
  },
  {
   "cell_type": "code",
   "execution_count": null,
   "id": "d0dcb451",
   "metadata": {},
   "outputs": [],
   "source": [
    "for i in thisdict.items():\n",
    "    print(i)"
   ]
  },
  {
   "cell_type": "code",
   "execution_count": null,
   "id": "18534694",
   "metadata": {},
   "outputs": [],
   "source": [
    "myfamily = {\n",
    "  \"child1\" : {\n",
    "    \"name\" : \"Emil\",\n",
    "    \"year\" : 2004\n",
    "  },\n",
    "  \"child2\" : {\n",
    "    \"name\" : \"Tobias\",\n",
    "    \"year\" : 2007\n",
    "  },\n",
    "  \"child3\" : {\n",
    "    \"name\" : \"Linus\",\n",
    "    \"year\" : 2011\n",
    "  }\n",
    "}\n",
    "print(myfamily)\n"
   ]
  },
  {
   "cell_type": "code",
   "execution_count": null,
   "id": "f1d89cb3",
   "metadata": {},
   "outputs": [],
   "source": [
    "child1 = {\n",
    "  \"name\" : \"Emil\",\n",
    "  \"year\" : 2004\n",
    "}\n",
    "child2 = {\n",
    "  \"name\" : \"Tobias\",\n",
    "  \"year\" : 2007\n",
    "}\n",
    "child3 = {\n",
    "  \"name\" : \"Linus\",\n",
    "  \"year\" : 2011\n",
    "}\n",
    "\n",
    "myfamily = {\n",
    "  \"child1\" : child1,\n",
    "  \"child2\" : child2,\n",
    "  \"child3\" : child3\n",
    "}\n",
    "print(myfamily)\n"
   ]
  },
  {
   "cell_type": "code",
   "execution_count": null,
   "id": "547296d7",
   "metadata": {},
   "outputs": [],
   "source": [
    "print(myfamily[\"child2\"][\"name\"])"
   ]
  },
  {
   "cell_type": "code",
   "execution_count": null,
   "id": "a2ce2c69",
   "metadata": {},
   "outputs": [],
   "source": [
    "d={40:\"john\",50:\"petter\"}\n",
    "40 in d"
   ]
  },
  {
   "cell_type": "code",
   "execution_count": null,
   "id": "86ac73bd",
   "metadata": {},
   "outputs": [],
   "source": [
    "d={}\n",
    "d"
   ]
  },
  {
   "cell_type": "code",
   "execution_count": null,
   "id": "cc4bb11e",
   "metadata": {},
   "outputs": [],
   "source": [
    "numbers = {}\n",
    "letters = {}\n",
    "comb = {}\n",
    "numbers[1] = 56\n",
    "numbers[3] = 7\n",
    "letters[4] = 'B'\n",
    "comb['Numbers'] = numbers\n",
    "comb['Letters'] = letters\n",
    "print(comb)\n",
    "#a)\tError, dictionary in a dictionary can’t exist\n",
    "#b)\t‘Numbers’: {1: 56, 3: 7}\n",
    "#c)\t{‘Numbers’: {1: 56}, ‘Letters’: {4: ‘B’}}\n",
    "#{‘Numbers’: {1: 56, 3: 7}, ‘Letters’: {4: ‘B’}}\n"
   ]
  },
  {
   "cell_type": "code",
   "execution_count": null,
   "id": "634ee483",
   "metadata": {},
   "outputs": [],
   "source": [
    "score = {}\n",
    "num = int(input(\"Enter the number of subjects : \"))\n",
    "for i in range(num):\n",
    "    subject = input(\"Enter the name of the subject :\")\n",
    "    marks = int(input(\"Enter the marks :\"))\n",
    "    score[subject] = marks\n",
    "print(score)\n",
    "print(\"Total marks :\" , end=\" \")\n",
    "print(sum(score.values()))"
   ]
  },
  {
   "cell_type": "code",
   "execution_count": null,
   "id": "8cb24293",
   "metadata": {},
   "outputs": [],
   "source": [
    "# Marks of first student\n",
    "marks1 = {\"Math\" : 100 , \"Science\" : 99 , \"English\" : 92}\n",
    "# Marks of second student\n",
    "marks2 = {\"Math\" : 90 , \"Science\" : 89 , \"English\" : 99}\n",
    "# Marks of third student\n",
    "marks3 = {\"Math\" : 94 , \"Science\" : 91 , \"English\" : 95}\n",
    "\n",
    "\n",
    "# Marks of all the students with student names\n",
    "students = {\"student1\" : marks1 , \"student2\" : marks2 , \"stdents3\" : marks3}\n",
    "print(students)"
   ]
  },
  {
   "cell_type": "code",
   "execution_count": null,
   "id": "36d9eb38",
   "metadata": {},
   "outputs": [],
   "source": [
    "def display():\n",
    "    print(\"This is Nikanksha Jain\")\n",
    "    \n",
    "    \n",
    "display()"
   ]
  },
  {
   "cell_type": "code",
   "execution_count": null,
   "id": "aacc1597",
   "metadata": {},
   "outputs": [],
   "source": [
    "def display():\n",
    "    a=int(input(\"Enter number\"))\n",
    "    b=int(input(\"Enter 2nd number\"))\n",
    "    print(\"Addition of two number is :\"a+b)\n",
    "    \n",
    "    \n",
    "display()"
   ]
  },
  {
   "cell_type": "code",
   "execution_count": null,
   "id": "3bfe6d25",
   "metadata": {},
   "outputs": [],
   "source": [
    "def display():\n",
    "    print(\"Addition of two number is :\",12+13)\n",
    "    \n",
    "    \n",
    "display()"
   ]
  },
  {
   "cell_type": "code",
   "execution_count": null,
   "id": "819a3ec0",
   "metadata": {},
   "outputs": [],
   "source": [
    "def add(a,b):\n",
    "    print(\"Addition of two number is :\",a+b)\n",
    "    \n",
    "    \n",
    "a=int(input(\"Enter number \"))\n",
    "b=int(input(\"Enter 2nd number \"))    \n",
    "add(a,b)    "
   ]
  },
  {
   "cell_type": "code",
   "execution_count": null,
   "id": "03f9d2cd",
   "metadata": {},
   "outputs": [],
   "source": [
    "def add(a,b):\n",
    "    print(\"Addition of two number is :\",a+b)\n",
    "    \n",
    "    \n",
    "x=int(input(\"Enter number \"))\n",
    "y=int(input(\"Enter 2nd number \"))    \n",
    "add(x,y)    "
   ]
  },
  {
   "cell_type": "code",
   "execution_count": null,
   "id": "198c9e03",
   "metadata": {},
   "outputs": [],
   "source": [
    "def add(a=33,b=66):\n",
    "    print(\"Addition of two number is :\",a+b)\n",
    "    \n",
    "    \n",
    "  \n",
    "add() "
   ]
  },
  {
   "cell_type": "code",
   "execution_count": null,
   "id": "f50be29e",
   "metadata": {},
   "outputs": [],
   "source": [
    "def add(a,b):\n",
    "    print(\"Addition of two number is :\",a+b)\n",
    "    \n",
    "    \n",
    "y=int(input(\"Enter 2nd number \"))    \n",
    "add(x,y) "
   ]
  },
  {
   "cell_type": "code",
   "execution_count": null,
   "id": "62b0ab89",
   "metadata": {},
   "outputs": [],
   "source": [
    "def add(p=8,q=9):\n",
    "    print(\"Addition of two number is :\",p+q)\n",
    "    \n",
    "    \n",
    "p=int(input(\"Enter number \"))    \n",
    "q=int(input(\"Enter number \"))  \n",
    "add(p,q) "
   ]
  },
  {
   "cell_type": "code",
   "execution_count": null,
   "id": "f178c734",
   "metadata": {},
   "outputs": [],
   "source": [
    "def add(p=8,q=9):\n",
    "    print(\"Addition of two number is :\",p+q)\n",
    "    \n",
    "    \n",
    "  \n",
    "add() "
   ]
  },
  {
   "cell_type": "code",
   "execution_count": null,
   "id": "2e962608",
   "metadata": {},
   "outputs": [],
   "source": [
    "def add(a1,b1):\n",
    "    print(\"Addition of two number is :\",a+b)\n",
    "    \n",
    "    \n",
    "y1=int(input(\"Enter 2nd number \"))    \n",
    "add(x1,y1) "
   ]
  },
  {
   "cell_type": "code",
   "execution_count": null,
   "id": "11311c9b",
   "metadata": {},
   "outputs": [],
   "source": [
    "def print_student_marks( name,*student_marks): \n",
    "    print(name) \n",
    "    for marks in student_marks: \n",
    "        print(marks) \n",
    "        \n",
    "        \n",
    "        \n",
    "        \n",
    "# function invocation \n",
    "print_student_marks('xyz', 90,99,100) \n",
    "print_student_marks('abc', 90, 88) \n"
   ]
  },
  {
   "cell_type": "code",
   "execution_count": null,
   "id": "8daa68e9",
   "metadata": {},
   "outputs": [],
   "source": [
    "x = lambda a : a + 10\n",
    "print(x(5))"
   ]
  },
  {
   "cell_type": "code",
   "execution_count": null,
   "id": "bedb0b19",
   "metadata": {},
   "outputs": [],
   "source": [
    "x = lambda a,b : a + b\n",
    "print(x(5,11))"
   ]
  },
  {
   "cell_type": "code",
   "execution_count": null,
   "id": "40e12ea8",
   "metadata": {},
   "outputs": [],
   "source": [
    "x = lambda p,r,t : (p*r*t)/100\n",
    "print(x(1000,5,2))"
   ]
  },
  {
   "cell_type": "code",
   "execution_count": null,
   "id": "9f0e22dd",
   "metadata": {},
   "outputs": [],
   "source": [
    "def myfunc(n):\n",
    "    return lambda a : a * n\n",
    "\n",
    "\n",
    "\n",
    "\n",
    "mydoubler = myfunc(2)\n",
    "print(mydoubler(11)) \n",
    "\n"
   ]
  },
  {
   "cell_type": "code",
   "execution_count": null,
   "id": "18f6637a",
   "metadata": {},
   "outputs": [],
   "source": [
    "mytripler = myfunc(3)\n",
    "print(mytripler(11))"
   ]
  },
  {
   "cell_type": "code",
   "execution_count": null,
   "id": "37fe0f5f",
   "metadata": {},
   "outputs": [],
   "source": [
    "def add(a,b):\n",
    "    c=a+b\n",
    "    return(c)\n",
    "    \n",
    "    \n",
    "    \n",
    "x=add(1,2)\n",
    "print(x)"
   ]
  },
  {
   "cell_type": "code",
   "execution_count": null,
   "id": "6befa53a",
   "metadata": {},
   "outputs": [],
   "source": [
    "def add(a,b):\n",
    "    c=a+b\n",
    "    print(c)\n",
    "    \n",
    "    \n",
    "    \n",
    "add(1,2)\n"
   ]
  },
  {
   "cell_type": "code",
   "execution_count": null,
   "id": "fa38f850",
   "metadata": {},
   "outputs": [],
   "source": [
    "def add(a,b):\n",
    "    c=a+b\n",
    "    return(c)\n",
    "    \n",
    "    \n",
    "    \n",
    "print(add(1,2))\n"
   ]
  },
  {
   "cell_type": "code",
   "execution_count": null,
   "id": "b590e3cd",
   "metadata": {},
   "outputs": [],
   "source": [
    "string = \"Tata\"\n",
    " \n",
    "def test(string):\n",
    "    string = \"I love Tata\"\n",
    "    print(\"Inside Function:\", string)\n",
    " \n",
    "# Driver's code\n",
    "test(string)\n",
    "print(\"Outside Function:\", string)"
   ]
  },
  {
   "cell_type": "code",
   "execution_count": null,
   "id": "d9bb1ca3",
   "metadata": {},
   "outputs": [],
   "source": [
    "def add_more(list):\n",
    "    list.append(50)\n",
    "    print(\"Inside Function\", list)\n",
    " \n",
    "# Driver's code\n",
    "mylist = [10, 20, 30, 40]\n",
    " \n",
    "add_more(mylist)\n",
    "print(\"Outside Function:\", mylist)\n"
   ]
  },
  {
   "cell_type": "code",
   "execution_count": null,
   "id": "bd1a4205",
   "metadata": {},
   "outputs": [],
   "source": [
    "a = 99 # Global variable \n",
    "def func(): \n",
    "    a= 88#Local variable\n",
    "    print(a) \n",
    "func() \n",
    "print(a) \n",
    "\n",
    "\n"
   ]
  },
  {
   "cell_type": "code",
   "execution_count": null,
   "id": "4a154abe",
   "metadata": {},
   "outputs": [],
   "source": [
    "a=99\n",
    "def fun():\n",
    "    global a\n",
    "    a=88\n",
    "    print(a)#88\n",
    "    \n",
    "fun()\n",
    "print(a)#99"
   ]
  },
  {
   "cell_type": "code",
   "execution_count": null,
   "id": "8bcb9c07",
   "metadata": {},
   "outputs": [],
   "source": [
    "print(\"Nikanksha\")"
   ]
  },
  {
   "cell_type": "code",
   "execution_count": null,
   "id": "2a91f99d",
   "metadata": {},
   "outputs": [],
   "source": [
    "def calculateSquare(n): \n",
    " return n*n\n",
    "\n",
    "\n",
    "numbers = (1, 2, 3, 4)\n",
    "result = map(calculateSquare, numbers)\n",
    "print(result)\n",
    "# converting map object to list\n",
    "numbersSquare = list(result)\n",
    "print(numbersSquare)\n"
   ]
  },
  {
   "cell_type": "code",
   "execution_count": null,
   "id": "d3d9c7b3",
   "metadata": {},
   "outputs": [],
   "source": [
    "numbers = (1, 2, 3, 4)\n",
    "result = map(lambda x: x*x, numbers)\n",
    "print(result)\n",
    "# converting map object to set\n",
    "numbersSquare = list(result)\n",
    "print(numbersSquare)\n"
   ]
  },
  {
   "cell_type": "code",
   "execution_count": null,
   "id": "ad108dcd",
   "metadata": {},
   "outputs": [],
   "source": [
    "ages = [5, 12, 17, 18, 24, 32]\n",
    "def myFunc(x):\n",
    "  if x < 18:\n",
    "    return False\n",
    "  else:\n",
    "    return True\n",
    "\n",
    "adults = filter(myFunc, ages)\n",
    "\n",
    "for x in adults:\n",
    "  print(x)\n"
   ]
  },
  {
   "cell_type": "code",
   "execution_count": null,
   "id": "58dd581e",
   "metadata": {},
   "outputs": [],
   "source": [
    "import functools\n",
    "# initializing list\n",
    "lis = [1, 3, 5, 6, 2]\n",
    " \n",
    "# using reduce to compute sum of list\n",
    "print(\"The sum of the list elements is : \", end=\"\")\n",
    "print(functools.reduce(lambda a, b: a+b, lis))\n"
   ]
  },
  {
   "cell_type": "code",
   "execution_count": null,
   "id": "d1c40415",
   "metadata": {},
   "outputs": [],
   "source": [
    "import random"
   ]
  },
  {
   "cell_type": "code",
   "execution_count": null,
   "id": "4c6404df",
   "metadata": {},
   "outputs": [],
   "source": [
    "a=[\"head\",\"Tail\"]\n",
    "flip=random.choice(a)\n",
    "print(flip)"
   ]
  },
  {
   "cell_type": "code",
   "execution_count": null,
   "id": "87978349",
   "metadata": {},
   "outputs": [],
   "source": [
    "A0 = dict(zip(('a','b','c','d','e'),(1,2,3,14,15)))\n",
    "A0"
   ]
  },
  {
   "cell_type": "code",
   "execution_count": null,
   "id": "ca2fcf23",
   "metadata": {},
   "outputs": [],
   "source": [
    "A1 = range(10)\n",
    "A1"
   ]
  },
  {
   "cell_type": "code",
   "execution_count": null,
   "id": "5d7698c7",
   "metadata": {},
   "outputs": [],
   "source": [
    "A2 = sorted([i for i in A1 if i in A0])\n",
    "A2"
   ]
  },
  {
   "cell_type": "code",
   "execution_count": null,
   "id": "553e7354",
   "metadata": {},
   "outputs": [],
   "source": [
    "A3 = sorted([A0[s] for s in A0])\n",
    "A3"
   ]
  },
  {
   "cell_type": "code",
   "execution_count": null,
   "id": "d91bedf7",
   "metadata": {},
   "outputs": [],
   "source": [
    "A5 = {i:i*i for i in A1}\n",
    "A5"
   ]
  },
  {
   "cell_type": "code",
   "execution_count": null,
   "id": "c36ecb92",
   "metadata": {},
   "outputs": [],
   "source": [
    "A6 = [[i,i*i] for i in A1]\n",
    "A6"
   ]
  },
  {
   "cell_type": "code",
   "execution_count": 2,
   "id": "01c1a9d6",
   "metadata": {},
   "outputs": [
    {
     "name": "stdout",
     "output_type": "stream",
     "text": [
      ".....Pizza Menu...\n",
      "1. Farm house \n",
      "2.otc pizza \n",
      "3. cheese pizza\n",
      "Enter number1\n",
      "You have selected farm house \n",
      "\n",
      "Select your crust\n",
      "1.pan \n",
      "2. thin\n",
      "Enter crust1\n",
      "you have slected thin crust\n",
      "\n",
      "Select your toppings\n"
     ]
    }
   ],
   "source": [
    "print(\".....Pizza Menu...\")\n",
    "print(\"1. Farm house \\n2.otc pizza \\n3. cheese pizza\")\n",
    "choice =int(input(\"Enter number\"))\n",
    "if choice == 1:\n",
    "    print(\"You have selected farm house \")\n",
    "    print()\n",
    "    print(\"Select your crust\")\n",
    "    print(\"1.pan \\n2. thin\")\n",
    "    crust=input(\"Enter crust\")\n",
    "    if crust ==1:\n",
    "        print(\"you have slected pan crust\")\n",
    "    else:\n",
    "        print(\"you have slected thin crust\")\n",
    "    print()\n",
    "    print(\"Select your toppings\")\n",
    "    "
   ]
  },
  {
   "cell_type": "code",
   "execution_count": 3,
   "id": "4a0ec860",
   "metadata": {},
   "outputs": [
    {
     "name": "stdout",
     "output_type": "stream",
     "text": [
      "10\n",
      "20\n",
      "30\n"
     ]
    }
   ],
   "source": [
    "class sample:\n",
    "    x=10\n",
    "    y=20\n",
    "    \n",
    "\n",
    "s=sample()\n",
    "print(s.x)\n",
    "print(s.y)\n",
    "print(s.x+s.y)\n",
    "    "
   ]
  },
  {
   "cell_type": "code",
   "execution_count": 4,
   "id": "8d8cd723",
   "metadata": {},
   "outputs": [
    {
     "name": "stdout",
     "output_type": "stream",
     "text": [
      "Total Marks =  207\n",
      "Average Marks =  69.0\n"
     ]
    }
   ],
   "source": [
    "class Student:\n",
    "     mark1, mark2, mark3 = 45, 91, 71 \n",
    "     def process(self): \n",
    "          sum = Student.mark1 + Student.mark2 + Student.mark3\n",
    "          avg = sum/3\n",
    "          print(\"Total Marks = \", sum)\n",
    "          print(\"Average Marks = \", avg)\n",
    "          return\n",
    "        \n",
    "        \n",
    "        \n",
    "S=Student()\n",
    "S.process()\n"
   ]
  },
  {
   "cell_type": "code",
   "execution_count": 5,
   "id": "e3b0058e",
   "metadata": {},
   "outputs": [
    {
     "name": "stdout",
     "output_type": "stream",
     "text": [
      "Total Marks =  207\n",
      "Average Marks =  69.0\n"
     ]
    }
   ],
   "source": [
    "class Student:\n",
    "     mark1, mark2, mark3 = 45, 91, 71 \n",
    "     def process(self):                             \n",
    "          sum = self.mark1 + self.mark2 + self.mark3\n",
    "          avg = sum/3\n",
    "          print(\"Total Marks = \", sum)\n",
    "          print(\"Average Marks = \", avg)\n",
    "          \n",
    "        \n",
    "        \n",
    "        \n",
    "S=Student()\n",
    "S.process()"
   ]
  },
  {
   "cell_type": "code",
   "execution_count": 6,
   "id": "13b9d5cb",
   "metadata": {},
   "outputs": [
    {
     "name": "stdout",
     "output_type": "stream",
     "text": [
      "Constructor of class Sample...\n",
      "The value is : 10\n"
     ]
    }
   ],
   "source": [
    "class Sample:\n",
    "    \n",
    "    def __init__(self, num):\n",
    "        print(\"Constructor of class Sample...\")\n",
    "        #self.num=num\n",
    "        print(\"The value is :\",num)\n",
    "        \n",
    "        \n",
    "        \n",
    "        \n",
    "        \n",
    "S=Sample(10)\n",
    "\n"
   ]
  },
  {
   "cell_type": "code",
   "execution_count": 10,
   "id": "e3bfd19f",
   "metadata": {},
   "outputs": [
    {
     "name": "stdout",
     "output_type": "stream",
     "text": [
      "This function is in child class.\n"
     ]
    }
   ],
   "source": [
    "class Parent:\n",
    "    def func1(self):\n",
    "        print(\"This function is in parent class.\")\n",
    " \n",
    "# Derived class\n",
    " \n",
    "class Child(Parent):\n",
    "    def func2(self):\n",
    "        print(\"This function is in child class.\")\n",
    " \n",
    "# Driver's code\n",
    "object = Child()\n",
    "object.func1()\n",
    "object.func2()\n"
   ]
  },
  {
   "cell_type": "code",
   "execution_count": 9,
   "id": "36dc5287",
   "metadata": {},
   "outputs": [
    {
     "name": "stdout",
     "output_type": "stream",
     "text": [
      "This function is in parent class.\n"
     ]
    }
   ],
   "source": [
    "o = Parent()\n",
    "o.func1()\n"
   ]
  },
  {
   "cell_type": "code",
   "execution_count": 11,
   "id": "6e4c1907",
   "metadata": {},
   "outputs": [
    {
     "name": "stdout",
     "output_type": "stream",
     "text": [
      "Father : RAM\n",
      "Mother : SITA\n"
     ]
    }
   ],
   "source": [
    "# Base class1\n",
    "class Mother:\n",
    "    mothername = \"\"\n",
    "    def mother(self):\n",
    "        print(self.mothername)\n",
    " \n",
    "# Base class2\n",
    "class Father:\n",
    "    fathername = \"\"\n",
    "    def father(self):\n",
    "        print(self.fathername)\n",
    " \n",
    "# Derived class\n",
    "class Son(Mother, Father):\n",
    "    def parents(self):\n",
    "        print(\"Father :\", self.fathername)\n",
    "        print(\"Mother :\", self.mothername)\n",
    " \n",
    "# Driver's code\n",
    "s1 = Son()\n",
    "s1.fathername = \"RAM\"\n",
    "s1.mothername = \"SITA\"\n",
    "s1.parents()\n"
   ]
  },
  {
   "cell_type": "code",
   "execution_count": 12,
   "id": "b8343ba6",
   "metadata": {},
   "outputs": [
    {
     "name": "stdout",
     "output_type": "stream",
     "text": [
      "Lal mani\n",
      "Grandfather name : Lal mani\n",
      "Father name : Rampal\n",
      "Son name : Prince\n"
     ]
    }
   ],
   "source": [
    "class Grandfather:\n",
    "    def __init__(self, grandfathername):\n",
    "        self.grandfathername = grandfathername\n",
    " \n",
    "# Intermediate class\n",
    "class Father(Grandfather):\n",
    "    def __init__(self, fathername, grandfathername):\n",
    "        self.fathername = fathername\n",
    "        # invoking constructor of Grandfather class\n",
    "        Grandfather.__init__(self, grandfathername)\n",
    " \n",
    "# Derived class \n",
    "class Son(Father):\n",
    "    def __init__(self, sonname, fathername, grandfathername):\n",
    "        self.sonname = sonname\n",
    "        # invoking constructor of Father class\n",
    "        Father.__init__(self, fathername, grandfathername)\n",
    "    def print_name(self):\n",
    "        print('Grandfather name :', self.grandfathername)\n",
    "        print(\"Father name :\", self.fathername)\n",
    "        print(\"Son name :\", self.sonname)\n",
    " \n",
    " \n",
    "#  Driver code\n",
    "s1 = Son('Prince', 'Rampal', 'Lal mani')\n",
    "print(s1.grandfathername)\n",
    "s1.print_name()\n"
   ]
  },
  {
   "cell_type": "code",
   "execution_count": 13,
   "id": "42040e4f",
   "metadata": {},
   "outputs": [
    {
     "name": "stdout",
     "output_type": "stream",
     "text": [
      "This function is in parent class.\n",
      "This function is in child 1.\n",
      "This function is in parent class.\n",
      "This function is in child 2.\n"
     ]
    }
   ],
   "source": [
    "class Parent:\n",
    "    def func1(self):\n",
    "        print(\"This function is in parent class.\")\n",
    "# Derived class1\n",
    "class Child1(Parent):\n",
    "    def func2(self):\n",
    "        print(\"This function is in child 1.\")\n",
    "# Derivied class2\n",
    "class Child2(Parent):\n",
    "    def func3(self):\n",
    "        print(\"This function is in child 2.\")\n",
    "# Driver's code\n",
    "object1 = Child1()\n",
    "object2 = Child2()\n",
    "object1.func1()\n",
    "object1.func2()\n",
    "object2.func1()\n",
    "object2.func3()\n",
    "\n",
    "\n"
   ]
  },
  {
   "cell_type": "code",
   "execution_count": 14,
   "id": "3c502e2a",
   "metadata": {},
   "outputs": [
    {
     "name": "stdout",
     "output_type": "stream",
     "text": [
      "This function is in school.\n",
      "This function is in student 1. \n"
     ]
    }
   ],
   "source": [
    "class School:\n",
    "    def func1(self):\n",
    "        print(\"This function is in school.\")\n",
    " \n",
    "class Student1(School):\n",
    "    def func2(self):\n",
    "        print(\"This function is in student 1. \")\n",
    " \n",
    " \n",
    "class Student2(School):\n",
    "    def func3(self):\n",
    "        print(\"This function is in student 2.\")\n",
    " \n",
    "class Student3(Student1, School):\n",
    "    def func4(self):\n",
    "        print(\"This function is in student 3.\")\n",
    "# Driver's code\n",
    "object = Student3()\n",
    "object.func1()\n",
    "object.func2()\n",
    "\n",
    "\n",
    "\n"
   ]
  },
  {
   "cell_type": "code",
   "execution_count": 16,
   "id": "52e2eaa0",
   "metadata": {},
   "outputs": [
    {
     "name": "stdout",
     "output_type": "stream",
     "text": [
      "New Delhi is the capital of India.\n",
      "Hindi is the most widely spoken language of India.\n",
      "India is a developing country.\n",
      "Washington, D.C. is the capital of USA.\n",
      "English is the primary language of USA.\n",
      "USA is a developed country.\n"
     ]
    }
   ],
   "source": [
    "class India:\n",
    "    def capital(self):\n",
    "        print(\"New Delhi is the capital of India.\")\n",
    " \n",
    "    def language(self):\n",
    "        print(\"Hindi is the most widely spoken language of India.\")\n",
    " \n",
    "    def type(self):\n",
    "        print(\"India is a developing country.\")\n",
    " \n",
    "class USA:\n",
    "    def capital(self):\n",
    "        print(\"Washington, D.C. is the capital of USA.\")\n",
    " \n",
    "    def language(self):\n",
    "        print(\"English is the primary language of USA.\")\n",
    " \n",
    "    def type(self):\n",
    "        print(\"USA is a developed country.\")\n",
    " \n",
    "obj_ind = India()\n",
    "obj_usa = USA()\n",
    "for country in (obj_ind, obj_usa):\n",
    "    country.capital()\n",
    "    country.language()\n",
    "    country.type()\n"
   ]
  },
  {
   "cell_type": "code",
   "execution_count": 17,
   "id": "42218cfb",
   "metadata": {},
   "outputs": [
    {
     "name": "stdout",
     "output_type": "stream",
     "text": [
      "Calling protected member of base class:  2\n",
      "Calling modified protected member outside class:  3\n",
      "Accessing protected member of obj1:  3\n",
      "Accessing protected member of obj2:  2\n"
     ]
    }
   ],
   "source": [
    "class Base:\n",
    "    def __init__(self):\n",
    "  \n",
    "        # Protected member\n",
    "        self._a = 2\n",
    "  \n",
    "# Creating a derived class\n",
    "class Derived(Base):\n",
    "    def __init__(self):\n",
    "  \n",
    "        # Calling constructor of\n",
    "        # Base class\n",
    "        Base.__init__(self)\n",
    "        print(\"Calling protected member of base class: \", \n",
    "              self._a)\n",
    "  \n",
    "        # Modify the protected variable:\n",
    "        self._a = 3\n",
    "        print(\"Calling modified protected member outside class: \",\n",
    "              self._a)\n",
    "  \n",
    "  \n",
    "obj1 = Derived()\n",
    "  \n",
    "obj2 = Base()\n",
    "  \n",
    "# Calling protected member\n",
    "# Can be accessed but should not be done due to convention\n",
    "print(\"Accessing protected member of obj1: \", obj1._a)\n",
    "  \n",
    "# Accessing the protected variable outside\n",
    "print(\"Accessing protected member of obj2: \", obj2._a)\n",
    "\n",
    "\n"
   ]
  },
  {
   "cell_type": "code",
   "execution_count": null,
   "id": "24a5d598",
   "metadata": {},
   "outputs": [],
   "source": []
  }
 ],
 "metadata": {
  "kernelspec": {
   "display_name": "Python 3 (ipykernel)",
   "language": "python",
   "name": "python3"
  },
  "language_info": {
   "codemirror_mode": {
    "name": "ipython",
    "version": 3
   },
   "file_extension": ".py",
   "mimetype": "text/x-python",
   "name": "python",
   "nbconvert_exporter": "python",
   "pygments_lexer": "ipython3",
   "version": "3.9.12"
  }
 },
 "nbformat": 4,
 "nbformat_minor": 5
}
