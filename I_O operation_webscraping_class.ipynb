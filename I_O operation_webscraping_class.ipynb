{
 "cells": [
  {
   "cell_type": "code",
   "execution_count": null,
   "id": "f58784c2",
   "metadata": {},
   "outputs": [],
   "source": [
    "#!pip install requests"
   ]
  },
  {
   "cell_type": "code",
   "execution_count": 65,
   "id": "af5d9df4",
   "metadata": {},
   "outputs": [
    {
     "data": {
      "text/plain": [
       "<_io.TextIOWrapper name='foo.txt' mode='r+' encoding='cp1252'>"
      ]
     },
     "execution_count": 65,
     "metadata": {},
     "output_type": "execute_result"
    }
   ],
   "source": [
    "fo = open('foo.txt', 'r+')\n",
    "fo"
   ]
  },
  {
   "cell_type": "code",
   "execution_count": 66,
   "id": "ef296917",
   "metadata": {},
   "outputs": [
    {
     "data": {
      "text/plain": [
       "'this test_neha line test_nehas sample line 2'"
      ]
     },
     "execution_count": 66,
     "metadata": {},
     "output_type": "execute_result"
    }
   ],
   "source": [
    "text = fo.read()\n",
    "text"
   ]
  },
  {
   "cell_type": "code",
   "execution_count": 67,
   "id": "91b439d6",
   "metadata": {},
   "outputs": [
    {
     "data": {
      "text/plain": [
       "44"
      ]
     },
     "execution_count": 67,
     "metadata": {},
     "output_type": "execute_result"
    }
   ],
   "source": [
    "fo.tell()"
   ]
  },
  {
   "cell_type": "code",
   "execution_count": 73,
   "id": "2f3e2374",
   "metadata": {},
   "outputs": [
    {
     "data": {
      "text/plain": [
       "10"
      ]
     },
     "execution_count": 73,
     "metadata": {},
     "output_type": "execute_result"
    }
   ],
   "source": [
    "fo.seek(10)"
   ]
  },
  {
   "cell_type": "code",
   "execution_count": 61,
   "id": "ffeab867",
   "metadata": {},
   "outputs": [
    {
     "data": {
      "text/plain": [
       "20"
      ]
     },
     "execution_count": 61,
     "metadata": {},
     "output_type": "execute_result"
    }
   ],
   "source": [
    "fo.tell()"
   ]
  },
  {
   "cell_type": "code",
   "execution_count": 62,
   "id": "e7c749d1",
   "metadata": {},
   "outputs": [],
   "source": [
    "fo.writelines(['test_neha'])"
   ]
  },
  {
   "cell_type": "code",
   "execution_count": 31,
   "id": "1749af27",
   "metadata": {},
   "outputs": [
    {
     "data": {
      "text/plain": [
       "'# This is 6th line\\n# This is 7th linetest_neha'"
      ]
     },
     "execution_count": 31,
     "metadata": {},
     "output_type": "execute_result"
    }
   ],
   "source": [
    "fo.read()"
   ]
  },
  {
   "cell_type": "code",
   "execution_count": 54,
   "id": "cdcde1fb",
   "metadata": {},
   "outputs": [
    {
     "data": {
      "text/plain": [
       "14"
      ]
     },
     "execution_count": 54,
     "metadata": {},
     "output_type": "execute_result"
    }
   ],
   "source": [
    "fo.tell()"
   ]
  },
  {
   "cell_type": "code",
   "execution_count": 64,
   "id": "55902522",
   "metadata": {},
   "outputs": [
    {
     "data": {
      "text/plain": [
       "True"
      ]
     },
     "execution_count": 64,
     "metadata": {},
     "output_type": "execute_result"
    }
   ],
   "source": [
    "fo.close()\n",
    "fo.closed"
   ]
  },
  {
   "cell_type": "code",
   "execution_count": 98,
   "id": "b3cf25e3",
   "metadata": {},
   "outputs": [],
   "source": [
    "fo = open(\"foo.txt\",\"w+\") # overwrite files\n"
   ]
  },
  {
   "cell_type": "code",
   "execution_count": 99,
   "id": "616e0aa9",
   "metadata": {},
   "outputs": [
    {
     "data": {
      "text/plain": [
       "_io.TextIOWrapper"
      ]
     },
     "execution_count": 99,
     "metadata": {},
     "output_type": "execute_result"
    }
   ],
   "source": [
    "type(fo)"
   ]
  },
  {
   "cell_type": "code",
   "execution_count": 44,
   "id": "56cb217f",
   "metadata": {},
   "outputs": [
    {
     "data": {
      "text/plain": [
       "''"
      ]
     },
     "execution_count": 44,
     "metadata": {},
     "output_type": "execute_result"
    }
   ],
   "source": [
    "fo.read()"
   ]
  },
  {
   "cell_type": "code",
   "execution_count": 21,
   "id": "a83878b4",
   "metadata": {},
   "outputs": [
    {
     "data": {
      "text/plain": [
       "38"
      ]
     },
     "execution_count": 21,
     "metadata": {},
     "output_type": "execute_result"
    }
   ],
   "source": [
    "list1= ['# This is 6th line', \"\\n\",'# This is 7th line']\n",
    "fo.writelines(list1)\n",
    "fo.tell()\n"
   ]
  },
  {
   "cell_type": "code",
   "execution_count": 64,
   "id": "0847b016",
   "metadata": {},
   "outputs": [],
   "source": [
    "fo.close()"
   ]
  },
  {
   "cell_type": "code",
   "execution_count": 65,
   "id": "d845f0a8",
   "metadata": {},
   "outputs": [
    {
     "data": {
      "text/plain": [
       "True"
      ]
     },
     "execution_count": 65,
     "metadata": {},
     "output_type": "execute_result"
    }
   ],
   "source": [
    "fo.closed"
   ]
  },
  {
   "cell_type": "code",
   "execution_count": 60,
   "id": "6bd93540",
   "metadata": {},
   "outputs": [],
   "source": [
    "import os\n"
   ]
  },
  {
   "cell_type": "code",
   "execution_count": 61,
   "id": "f01d8a2a",
   "metadata": {},
   "outputs": [
    {
     "data": {
      "text/plain": [
       "'C:\\\\Users\\\\Neha\\\\Documents\\\\ExcelR_batch_material\\\\DS_course_material\\\\Python_for_DS\\\\Day6'"
      ]
     },
     "execution_count": 61,
     "metadata": {},
     "output_type": "execute_result"
    }
   ],
   "source": [
    "os.getcwd()"
   ]
  },
  {
   "cell_type": "code",
   "execution_count": 79,
   "id": "27f71656",
   "metadata": {},
   "outputs": [
    {
     "name": "stdout",
     "output_type": "stream",
     "text": [
      " Volume in drive C has no label.\n",
      " Volume Serial Number is ECCF-7A78\n",
      "\n",
      " Directory of C:\\Users\\Neha\\Documents\\ExcelR_batch_material\\DS_course_material\\Python_for_DS\\Day5\n",
      "\n"
     ]
    },
    {
     "name": "stderr",
     "output_type": "stream",
     "text": [
      "File Not Found\n"
     ]
    }
   ],
   "source": []
  },
  {
   "cell_type": "code",
   "execution_count": 67,
   "id": "ada1ffe8",
   "metadata": {},
   "outputs": [],
   "source": [
    "os.rename('Salaries.xlsx', 't1.xlsx')"
   ]
  },
  {
   "cell_type": "code",
   "execution_count": 68,
   "id": "1ef12221",
   "metadata": {},
   "outputs": [],
   "source": [
    "d1 = pd.read_excel('t1.xlsx')"
   ]
  },
  {
   "cell_type": "code",
   "execution_count": 73,
   "id": "f30e78ea",
   "metadata": {},
   "outputs": [],
   "source": [
    "d1.to_csv('test.csv')"
   ]
  },
  {
   "cell_type": "code",
   "execution_count": 77,
   "id": "9c917f3b",
   "metadata": {},
   "outputs": [],
   "source": [
    "import os\n",
    "os.mkdir('test')"
   ]
  },
  {
   "cell_type": "code",
   "execution_count": 71,
   "id": "63133fa2",
   "metadata": {},
   "outputs": [],
   "source": [
    "os.chdir('test')"
   ]
  },
  {
   "cell_type": "code",
   "execution_count": 72,
   "id": "d8d4d641",
   "metadata": {},
   "outputs": [
    {
     "data": {
      "text/plain": [
       "'C:\\\\Users\\\\Neha\\\\Documents\\\\ExcelR_batch_material\\\\DS_course_material\\\\Python_for_DS\\\\Day6\\\\test'"
      ]
     },
     "execution_count": 72,
     "metadata": {},
     "output_type": "execute_result"
    }
   ],
   "source": [
    "os.getcwd()"
   ]
  },
  {
   "cell_type": "code",
   "execution_count": 100,
   "id": "a3561dbe",
   "metadata": {},
   "outputs": [
    {
     "name": "stdout",
     "output_type": "stream",
     "text": [
      "\n",
      "1 False\n",
      "neha True\n"
     ]
    }
   ],
   "source": [
    "with open('data.txt', 'w+') as f:\n",
    "    f.write('this is new line')\n",
    "    print(f.read())\n",
    "    print('1', f.closed)\n",
    "    pass\n",
    "\n",
    "print('neha', f.closed)"
   ]
  },
  {
   "cell_type": "code",
   "execution_count": 88,
   "id": "9e172798",
   "metadata": {},
   "outputs": [
    {
     "data": {
      "text/plain": [
       "'this is new line'"
      ]
     },
     "execution_count": 88,
     "metadata": {},
     "output_type": "execute_result"
    }
   ],
   "source": [
    "with open('data.txt', 'r+') as f:\n",
    "    text = f.read()\n",
    "text"
   ]
  },
  {
   "cell_type": "code",
   "execution_count": 89,
   "id": "42912eca",
   "metadata": {},
   "outputs": [
    {
     "ename": "FileNotFoundError",
     "evalue": "[Errno 2] No such file or directory: 'somemissingfile.txt'",
     "output_type": "error",
     "traceback": [
      "\u001b[1;31m---------------------------------------------------------------------------\u001b[0m",
      "\u001b[1;31mFileNotFoundError\u001b[0m                         Traceback (most recent call last)",
      "\u001b[1;32m~\\AppData\\Local\\Temp\\ipykernel_16340\\1698647775.py\u001b[0m in \u001b[0;36m<module>\u001b[1;34m\u001b[0m\n\u001b[1;32m----> 1\u001b[1;33m \u001b[0mf\u001b[0m \u001b[1;33m=\u001b[0m \u001b[0mopen\u001b[0m\u001b[1;33m(\u001b[0m\u001b[1;34m\"somemissingfile.txt\"\u001b[0m\u001b[1;33m,\u001b[0m\u001b[1;34m\"r\"\u001b[0m\u001b[1;33m)\u001b[0m\u001b[1;33m\u001b[0m\u001b[1;33m\u001b[0m\u001b[0m\n\u001b[0m\u001b[0;32m      2\u001b[0m \u001b[0mprint\u001b[0m\u001b[1;33m(\u001b[0m\u001b[0mf\u001b[0m\u001b[1;33m.\u001b[0m\u001b[0mread\u001b[0m\u001b[1;33m(\u001b[0m\u001b[1;33m)\u001b[0m\u001b[1;33m)\u001b[0m\u001b[1;33m\u001b[0m\u001b[1;33m\u001b[0m\u001b[0m\n",
      "\u001b[1;31mFileNotFoundError\u001b[0m: [Errno 2] No such file or directory: 'somemissingfile.txt'"
     ]
    }
   ],
   "source": [
    "f = open(\"somemissingfile.txt\",\"r\")\n",
    "print(f.read())"
   ]
  },
  {
   "cell_type": "code",
   "execution_count": 82,
   "id": "bc960a3a",
   "metadata": {},
   "outputs": [
    {
     "name": "stdout",
     "output_type": "stream",
     "text": [
      "OOps..file doesnt exist\n"
     ]
    }
   ],
   "source": [
    "try:\n",
    "    f = open(\"somemissingfile.txt\",\"r\")\n",
    "    print(f.read())\n",
    "except IOError:\n",
    "    print(\"OOps..file doesnt exist\")\n",
    "\n",
    "\n"
   ]
  },
  {
   "cell_type": "code",
   "execution_count": 101,
   "id": "795489df",
   "metadata": {},
   "outputs": [
    {
     "name": "stdout",
     "output_type": "stream",
     "text": [
      "[Errno 2] No such file or directory: 'somemissingfile.txt' try this out:\n"
     ]
    }
   ],
   "source": [
    "# printing actual exception message\n",
    "try:\n",
    "    f = open(\"somemissingfile.txt\",\"r\")\n",
    "    print(f.read())\n",
    "except Exception as e:\n",
    "    print(e, 'try this out:')"
   ]
  },
  {
   "cell_type": "code",
   "execution_count": 104,
   "id": "19e4abe0",
   "metadata": {},
   "outputs": [
    {
     "name": "stdout",
     "output_type": "stream",
     "text": [
      "'tuple' object does not support item assignment please dont chang it\n"
     ]
    }
   ],
   "source": [
    "try:\n",
    "    t1 = (1,2,3)\n",
    "    t1[0] = 10\n",
    "except Exception as e:\n",
    "    print(e, 'please dont chang it')"
   ]
  },
  {
   "cell_type": "code",
   "execution_count": 105,
   "id": "3f44753b",
   "metadata": {},
   "outputs": [
    {
     "name": "stdout",
     "output_type": "stream",
     "text": [
      "Something wrong! try out after sometime.\n"
     ]
    }
   ],
   "source": [
    "try:\n",
    "    f = open(\"somemissingfile.txt\",\"r\")\n",
    "    print(f.read())\n",
    "except:\n",
    "    print('Something wrong! try out after sometime.')"
   ]
  },
  {
   "cell_type": "code",
   "execution_count": 106,
   "id": "3a2eea7d",
   "metadata": {},
   "outputs": [
    {
     "name": "stdout",
     "output_type": "stream",
     "text": [
      "OOps..file doesnt exist\n",
      "This will execute no matter what\n"
     ]
    }
   ],
   "source": [
    "try:\n",
    "    f = open(\"foo1.txt\",\"r\")\n",
    "    print(f.read())\n",
    "    f.close()\n",
    "except IOError:\n",
    "    print(\"OOps..file doesnt exist\")\n",
    "except:\n",
    "    print(\"Wrong input\")\n",
    "else:\n",
    "    print(\"Yeah!! Its a bug free code\")\n",
    "\n",
    "    \n",
    "print(\"This will execute no matter what\")\n"
   ]
  },
  {
   "cell_type": "code",
   "execution_count": null,
   "id": "7882c7cb",
   "metadata": {},
   "outputs": [],
   "source": [
    "a = 10\n",
    "if a>0:\n",
    "    print('a')\n",
    "else:\n",
    "    print('nothing')"
   ]
  },
  {
   "cell_type": "code",
   "execution_count": 14,
   "id": "7c27fd5c",
   "metadata": {},
   "outputs": [],
   "source": [
    "def ageEvenOrOdd(age):\n",
    "    if age<0 :\n",
    "        raise ValueError(\"Oops , age cant be Less than 0\")\n",
    "    elif age==0:\n",
    "        print(\"New Born\")\n",
    "    if age%2==0:\n",
    "        print(\"Age is Even\")\n",
    "    else:\n",
    "        print(\"Age is Odd\")\n"
   ]
  },
  {
   "cell_type": "code",
   "execution_count": 15,
   "id": "4d62fb49",
   "metadata": {},
   "outputs": [
    {
     "ename": "ValueError",
     "evalue": "Oops , age cant be Less than 0",
     "output_type": "error",
     "traceback": [
      "\u001b[1;31m---------------------------------------------------------------------------\u001b[0m",
      "\u001b[1;31mValueError\u001b[0m                                Traceback (most recent call last)",
      "\u001b[1;32m~\\AppData\\Local\\Temp\\ipykernel_7092\\1020902661.py\u001b[0m in \u001b[0;36m<module>\u001b[1;34m\u001b[0m\n\u001b[1;32m----> 1\u001b[1;33m \u001b[0mageEvenOrOdd\u001b[0m\u001b[1;33m(\u001b[0m\u001b[1;33m-\u001b[0m\u001b[1;36m12\u001b[0m\u001b[1;33m)\u001b[0m\u001b[1;33m\u001b[0m\u001b[1;33m\u001b[0m\u001b[0m\n\u001b[0m",
      "\u001b[1;32m~\\AppData\\Local\\Temp\\ipykernel_7092\\3403770217.py\u001b[0m in \u001b[0;36mageEvenOrOdd\u001b[1;34m(age)\u001b[0m\n\u001b[0;32m      1\u001b[0m \u001b[1;32mdef\u001b[0m \u001b[0mageEvenOrOdd\u001b[0m\u001b[1;33m(\u001b[0m\u001b[0mage\u001b[0m\u001b[1;33m)\u001b[0m\u001b[1;33m:\u001b[0m\u001b[1;33m\u001b[0m\u001b[1;33m\u001b[0m\u001b[0m\n\u001b[0;32m      2\u001b[0m     \u001b[1;32mif\u001b[0m \u001b[0mage\u001b[0m\u001b[1;33m<\u001b[0m\u001b[1;36m0\u001b[0m \u001b[1;33m:\u001b[0m\u001b[1;33m\u001b[0m\u001b[1;33m\u001b[0m\u001b[0m\n\u001b[1;32m----> 3\u001b[1;33m         \u001b[1;32mraise\u001b[0m \u001b[0mValueError\u001b[0m\u001b[1;33m(\u001b[0m\u001b[1;34m\"Oops , age cant be Less than 0\"\u001b[0m\u001b[1;33m)\u001b[0m\u001b[1;33m\u001b[0m\u001b[1;33m\u001b[0m\u001b[0m\n\u001b[0m\u001b[0;32m      4\u001b[0m     \u001b[1;32melif\u001b[0m \u001b[0mage\u001b[0m\u001b[1;33m==\u001b[0m\u001b[1;36m0\u001b[0m\u001b[1;33m:\u001b[0m\u001b[1;33m\u001b[0m\u001b[1;33m\u001b[0m\u001b[0m\n\u001b[0;32m      5\u001b[0m         \u001b[0mprint\u001b[0m\u001b[1;33m(\u001b[0m\u001b[1;34m\"New Born\"\u001b[0m\u001b[1;33m)\u001b[0m\u001b[1;33m\u001b[0m\u001b[1;33m\u001b[0m\u001b[0m\n",
      "\u001b[1;31mValueError\u001b[0m: Oops , age cant be Less than 0"
     ]
    }
   ],
   "source": [
    "ageEvenOrOdd(-12)"
   ]
  },
  {
   "cell_type": "code",
   "execution_count": 107,
   "id": "11ce3df5",
   "metadata": {},
   "outputs": [
    {
     "name": "stdout",
     "output_type": "stream",
     "text": [
      "2\n"
     ]
    }
   ],
   "source": [
    "def foo():\n",
    "    try:\n",
    "        return 1        \n",
    "    \n",
    "    finally:\n",
    "        return 2\n",
    "\n",
    "k = foo()\n",
    "print(k)\n"
   ]
  },
  {
   "cell_type": "code",
   "execution_count": 109,
   "id": "641b36c0",
   "metadata": {},
   "outputs": [
    {
     "data": {
      "text/html": [
       "<div>\n",
       "<style scoped>\n",
       "    .dataframe tbody tr th:only-of-type {\n",
       "        vertical-align: middle;\n",
       "    }\n",
       "\n",
       "    .dataframe tbody tr th {\n",
       "        vertical-align: top;\n",
       "    }\n",
       "\n",
       "    .dataframe thead th {\n",
       "        text-align: right;\n",
       "    }\n",
       "</style>\n",
       "<table border=\"1\" class=\"dataframe\">\n",
       "  <thead>\n",
       "    <tr style=\"text-align: right;\">\n",
       "      <th></th>\n",
       "      <th>Unnamed: 0</th>\n",
       "      <th>rank</th>\n",
       "      <th>discipline</th>\n",
       "      <th>phd</th>\n",
       "      <th>service</th>\n",
       "      <th>sex</th>\n",
       "      <th>salary</th>\n",
       "    </tr>\n",
       "  </thead>\n",
       "  <tbody>\n",
       "    <tr>\n",
       "      <th>0</th>\n",
       "      <td>0</td>\n",
       "      <td>Prof</td>\n",
       "      <td>B</td>\n",
       "      <td>56</td>\n",
       "      <td>49</td>\n",
       "      <td>Male</td>\n",
       "      <td>186960</td>\n",
       "    </tr>\n",
       "    <tr>\n",
       "      <th>1</th>\n",
       "      <td>1</td>\n",
       "      <td>Prof</td>\n",
       "      <td>A</td>\n",
       "      <td>12</td>\n",
       "      <td>6</td>\n",
       "      <td>Male</td>\n",
       "      <td>93000</td>\n",
       "    </tr>\n",
       "    <tr>\n",
       "      <th>2</th>\n",
       "      <td>2</td>\n",
       "      <td>Prof</td>\n",
       "      <td>A</td>\n",
       "      <td>23</td>\n",
       "      <td>20</td>\n",
       "      <td>Male</td>\n",
       "      <td>110515</td>\n",
       "    </tr>\n",
       "    <tr>\n",
       "      <th>3</th>\n",
       "      <td>3</td>\n",
       "      <td>Prof</td>\n",
       "      <td>A</td>\n",
       "      <td>40</td>\n",
       "      <td>31</td>\n",
       "      <td>Male</td>\n",
       "      <td>131205</td>\n",
       "    </tr>\n",
       "    <tr>\n",
       "      <th>4</th>\n",
       "      <td>4</td>\n",
       "      <td>Prof</td>\n",
       "      <td>B</td>\n",
       "      <td>20</td>\n",
       "      <td>18</td>\n",
       "      <td>Male</td>\n",
       "      <td>104800</td>\n",
       "    </tr>\n",
       "    <tr>\n",
       "      <th>...</th>\n",
       "      <td>...</td>\n",
       "      <td>...</td>\n",
       "      <td>...</td>\n",
       "      <td>...</td>\n",
       "      <td>...</td>\n",
       "      <td>...</td>\n",
       "      <td>...</td>\n",
       "    </tr>\n",
       "    <tr>\n",
       "      <th>73</th>\n",
       "      <td>73</td>\n",
       "      <td>Prof</td>\n",
       "      <td>B</td>\n",
       "      <td>18</td>\n",
       "      <td>10</td>\n",
       "      <td>Female</td>\n",
       "      <td>105450</td>\n",
       "    </tr>\n",
       "    <tr>\n",
       "      <th>74</th>\n",
       "      <td>74</td>\n",
       "      <td>AssocProf</td>\n",
       "      <td>B</td>\n",
       "      <td>19</td>\n",
       "      <td>6</td>\n",
       "      <td>Female</td>\n",
       "      <td>104542</td>\n",
       "    </tr>\n",
       "    <tr>\n",
       "      <th>75</th>\n",
       "      <td>75</td>\n",
       "      <td>Prof</td>\n",
       "      <td>B</td>\n",
       "      <td>17</td>\n",
       "      <td>17</td>\n",
       "      <td>Female</td>\n",
       "      <td>124312</td>\n",
       "    </tr>\n",
       "    <tr>\n",
       "      <th>76</th>\n",
       "      <td>76</td>\n",
       "      <td>Prof</td>\n",
       "      <td>A</td>\n",
       "      <td>28</td>\n",
       "      <td>14</td>\n",
       "      <td>Female</td>\n",
       "      <td>109954</td>\n",
       "    </tr>\n",
       "    <tr>\n",
       "      <th>77</th>\n",
       "      <td>77</td>\n",
       "      <td>Prof</td>\n",
       "      <td>A</td>\n",
       "      <td>23</td>\n",
       "      <td>15</td>\n",
       "      <td>Female</td>\n",
       "      <td>109646</td>\n",
       "    </tr>\n",
       "  </tbody>\n",
       "</table>\n",
       "<p>78 rows × 7 columns</p>\n",
       "</div>"
      ],
      "text/plain": [
       "    Unnamed: 0       rank discipline  phd  service     sex  salary\n",
       "0            0       Prof          B   56       49    Male  186960\n",
       "1            1       Prof          A   12        6    Male   93000\n",
       "2            2       Prof          A   23       20    Male  110515\n",
       "3            3       Prof          A   40       31    Male  131205\n",
       "4            4       Prof          B   20       18    Male  104800\n",
       "..         ...        ...        ...  ...      ...     ...     ...\n",
       "73          73       Prof          B   18       10  Female  105450\n",
       "74          74  AssocProf          B   19        6  Female  104542\n",
       "75          75       Prof          B   17       17  Female  124312\n",
       "76          76       Prof          A   28       14  Female  109954\n",
       "77          77       Prof          A   23       15  Female  109646\n",
       "\n",
       "[78 rows x 7 columns]"
      ]
     },
     "execution_count": 109,
     "metadata": {},
     "output_type": "execute_result"
    }
   ],
   "source": [
    "import pandas as pd\n",
    "pd.read_csv('test.csv')"
   ]
  },
  {
   "cell_type": "code",
   "execution_count": 114,
   "id": "ab7b27f2",
   "metadata": {},
   "outputs": [],
   "source": [
    "df = pd.read_csv('test.csv', index_col=0)"
   ]
  },
  {
   "cell_type": "code",
   "execution_count": 115,
   "id": "67279f8e",
   "metadata": {},
   "outputs": [
    {
     "data": {
      "text/plain": [
       "pandas.core.frame.DataFrame"
      ]
     },
     "execution_count": 115,
     "metadata": {},
     "output_type": "execute_result"
    }
   ],
   "source": [
    "type(df)"
   ]
  },
  {
   "cell_type": "code",
   "execution_count": 31,
   "id": "835fe701",
   "metadata": {},
   "outputs": [
    {
     "data": {
      "text/plain": [
       "'C:\\\\Users\\\\Neha\\\\Documents\\\\ExcelR_batch_material\\\\DS_course_material\\\\Python_for_DS\\\\Day6'"
      ]
     },
     "execution_count": 31,
     "metadata": {},
     "output_type": "execute_result"
    }
   ],
   "source": [
    "import os\n",
    "os.getcwd()"
   ]
  },
  {
   "cell_type": "code",
   "execution_count": 32,
   "id": "591cb6c8",
   "metadata": {},
   "outputs": [
    {
     "data": {
      "text/html": [
       "<div>\n",
       "<style scoped>\n",
       "    .dataframe tbody tr th:only-of-type {\n",
       "        vertical-align: middle;\n",
       "    }\n",
       "\n",
       "    .dataframe tbody tr th {\n",
       "        vertical-align: top;\n",
       "    }\n",
       "\n",
       "    .dataframe thead th {\n",
       "        text-align: right;\n",
       "    }\n",
       "</style>\n",
       "<table border=\"1\" class=\"dataframe\">\n",
       "  <thead>\n",
       "    <tr style=\"text-align: right;\">\n",
       "      <th></th>\n",
       "      <th>rank</th>\n",
       "      <th>discipline</th>\n",
       "      <th>phd</th>\n",
       "      <th>service</th>\n",
       "      <th>sex</th>\n",
       "      <th>salary</th>\n",
       "    </tr>\n",
       "  </thead>\n",
       "  <tbody>\n",
       "    <tr>\n",
       "      <th>0</th>\n",
       "      <td>Prof</td>\n",
       "      <td>B</td>\n",
       "      <td>56</td>\n",
       "      <td>49</td>\n",
       "      <td>Male</td>\n",
       "      <td>186960</td>\n",
       "    </tr>\n",
       "    <tr>\n",
       "      <th>1</th>\n",
       "      <td>Prof</td>\n",
       "      <td>A</td>\n",
       "      <td>12</td>\n",
       "      <td>6</td>\n",
       "      <td>Male</td>\n",
       "      <td>93000</td>\n",
       "    </tr>\n",
       "    <tr>\n",
       "      <th>2</th>\n",
       "      <td>Prof</td>\n",
       "      <td>A</td>\n",
       "      <td>23</td>\n",
       "      <td>20</td>\n",
       "      <td>Male</td>\n",
       "      <td>110515</td>\n",
       "    </tr>\n",
       "    <tr>\n",
       "      <th>3</th>\n",
       "      <td>Prof</td>\n",
       "      <td>A</td>\n",
       "      <td>40</td>\n",
       "      <td>31</td>\n",
       "      <td>Male</td>\n",
       "      <td>131205</td>\n",
       "    </tr>\n",
       "    <tr>\n",
       "      <th>4</th>\n",
       "      <td>Prof</td>\n",
       "      <td>B</td>\n",
       "      <td>20</td>\n",
       "      <td>18</td>\n",
       "      <td>Male</td>\n",
       "      <td>104800</td>\n",
       "    </tr>\n",
       "    <tr>\n",
       "      <th>...</th>\n",
       "      <td>...</td>\n",
       "      <td>...</td>\n",
       "      <td>...</td>\n",
       "      <td>...</td>\n",
       "      <td>...</td>\n",
       "      <td>...</td>\n",
       "    </tr>\n",
       "    <tr>\n",
       "      <th>73</th>\n",
       "      <td>Prof</td>\n",
       "      <td>B</td>\n",
       "      <td>18</td>\n",
       "      <td>10</td>\n",
       "      <td>Female</td>\n",
       "      <td>105450</td>\n",
       "    </tr>\n",
       "    <tr>\n",
       "      <th>74</th>\n",
       "      <td>AssocProf</td>\n",
       "      <td>B</td>\n",
       "      <td>19</td>\n",
       "      <td>6</td>\n",
       "      <td>Female</td>\n",
       "      <td>104542</td>\n",
       "    </tr>\n",
       "    <tr>\n",
       "      <th>75</th>\n",
       "      <td>Prof</td>\n",
       "      <td>B</td>\n",
       "      <td>17</td>\n",
       "      <td>17</td>\n",
       "      <td>Female</td>\n",
       "      <td>124312</td>\n",
       "    </tr>\n",
       "    <tr>\n",
       "      <th>76</th>\n",
       "      <td>Prof</td>\n",
       "      <td>A</td>\n",
       "      <td>28</td>\n",
       "      <td>14</td>\n",
       "      <td>Female</td>\n",
       "      <td>109954</td>\n",
       "    </tr>\n",
       "    <tr>\n",
       "      <th>77</th>\n",
       "      <td>Prof</td>\n",
       "      <td>A</td>\n",
       "      <td>23</td>\n",
       "      <td>15</td>\n",
       "      <td>Female</td>\n",
       "      <td>109646</td>\n",
       "    </tr>\n",
       "  </tbody>\n",
       "</table>\n",
       "<p>78 rows × 6 columns</p>\n",
       "</div>"
      ],
      "text/plain": [
       "         rank discipline  phd  service     sex  salary\n",
       "0        Prof          B   56       49    Male  186960\n",
       "1        Prof          A   12        6    Male   93000\n",
       "2        Prof          A   23       20    Male  110515\n",
       "3        Prof          A   40       31    Male  131205\n",
       "4        Prof          B   20       18    Male  104800\n",
       "..        ...        ...  ...      ...     ...     ...\n",
       "73       Prof          B   18       10  Female  105450\n",
       "74  AssocProf          B   19        6  Female  104542\n",
       "75       Prof          B   17       17  Female  124312\n",
       "76       Prof          A   28       14  Female  109954\n",
       "77       Prof          A   23       15  Female  109646\n",
       "\n",
       "[78 rows x 6 columns]"
      ]
     },
     "execution_count": 32,
     "metadata": {},
     "output_type": "execute_result"
    }
   ],
   "source": [
    "pd.read_excel('t1 - Copy.xlsx')"
   ]
  },
  {
   "cell_type": "code",
   "execution_count": 33,
   "id": "ddae0526",
   "metadata": {},
   "outputs": [
    {
     "name": "stdout",
     "output_type": "stream",
     "text": [
      "\t\r\n",
      "\r\n",
      "<!DOCTYPE html>\r\n",
      "<!--[if lt IE 7]><html class=\"lt-ie9 lt-ie8 lt-ie7\" lang=\"en\" dir=\"ltr\"><![endif]-->\r\n",
      "<!--[if IE 7]><html class=\"lt-ie9 lt-ie8\" lang=\"en\" dir=\"ltr\"><![endif]-->\r\n",
      "<!--[if IE 8]><html class=\"lt-ie9\" lang=\"en\" dir=\"ltr\"><![endif]-->\r\n",
      "<!--[if gt IE 8]><!--><html lang=\"en\" dir=\"ltr\" prefix=\"content: http://purl.org/rss/1.0/modules/content/ dc: http://purl.org/dc/terms/ foaf: http://xmlns.com/foaf/0.1/ og: http://ogp.me/ns# rdfs: http://www.w3.org/2000/01/rdf-schema# sioc: http://rdfs.org/sioc/ns# sioct: http://rdfs.org/sioc/types# skos: http://www.w3.org/2004/02/skos/core# xsd: http://www.w3.org/2001/XMLSchema#\"><!--<![endif]-->\r\n",
      "<head>\r\n",
      "<meta charset=\"utf-8\" />\n",
      "<link rel=\"shortcut icon\" href=\"https://www.india.gov.in/sites/upload_files/npi/files/favicon_0.ico\" type=\"image/vnd.microsoft.icon\" />\n",
      "<title>National Portal of India</title>\r\n",
      "\r\n",
      "<meta name=\"title\" content=\"National Portal of India\" />\r\n",
      "<meta name=\"lang\" content=\"English\" />\r\n",
      "<meta name=\"MobileOptimized\" content=\"width\" />\r\n",
      "<meta name=\"HandheldFriendly\" content=\"true\" />\r\n",
      "\r\n",
      "<meta name=\"keywords\" content=\"National Portal of India, India Portal, NPI, Government Information, Government Services, one stop source of government information, single-window access to government information,  Government of India, GoI\" />\r\n",
      "<meta name=\"description\" content=\"National Portal of India provides a single-window access to information and services that are electronically delivered from all Government Departments, Institutions and Organizations. It has been a popular source of information to a wide range of stakeholders - from citizens, to government, business and Indian Diasporas. It is a gateway to access Indian Government websites at Centre, State and District levels.\" />\r\n",
      "\r\n",
      "<meta name=\"viewport\" content=\"width=device-width, initial-scale=1\" />\r\n",
      "\r\n",
      "<style>\n",
      "@import url(\"https://www.india.gov.in/modules/system/system.base.css?rlw2wx\");\n",
      "@import url(\"https://www.india.gov.in/modules/system/system.menus.css?rlw2wx\");\n",
      "@import url(\"https://www.india.gov.in/modules/system/system.messages.css?rlw2wx\");\n",
      "</style>\n",
      "<style>\n",
      "@import url(\"https://www.india.gov.in/sites/all/modules/contributed/views_slideshow/views_slideshow.css?rlw2wx\");\n",
      "</style>\n",
      "<style>\n",
      "@import url(\"https://www.india.gov.in/sites/all/modules/contributed/calendar/css/calendar_multiday.css?rlw2wx\");\n",
      "@import url(\"https://www.india.gov.in/sites/all/modules/contributed/date/date_api/date.css?rlw2wx\");\n",
      "@import url(\"https://www.india.gov.in/sites/all/modules/contributed/date/date_popup/themes/datepicker.1.7.css?rlw2wx\");\n",
      "@import url(\"https://www.india.gov.in/sites/all/modules/contributed/date/date_repeat_field/date_repeat_field.css?rlw2wx\");\n",
      "@import url(\"https://www.india.gov.in/modules/field/theme/field.css?rlw2wx\");\n",
      "@import url(\"https://www.india.gov.in/sites/all/modules/contributed/logintoboggan/logintoboggan.css?rlw2wx\");\n",
      "@import url(\"https://www.india.gov.in/modules/node/node.css?rlw2wx\");\n",
      "@import url(\"https://www.india.gov.in/modules/search/search.css?rlw2wx\");\n",
      "@import url(\"https://www.india.gov.in/modules/user/user.css?rlw2wx\");\n",
      "@import url(\"https://www.india.gov.in/sites/all/modules/contributed/views/css/views.css?rlw2wx\");\n",
      "</style>\n",
      "<style>\n",
      "@import url(\"https://www.india.gov.in/sites/all/modules/contributed/ctools/css/ctools.css?rlw2wx\");\n",
      "@import url(\"https://www.india.gov.in/sites/all/modules/contributed/panels/css/panels.css?rlw2wx\");\n",
      "@import url(\"https://www.india.gov.in/sites/all/modules/contributed/panels/plugins/layouts/threecol_25_50_25/threecol_25_50_25.css?rlw2wx\");\n",
      "@import url(\"https://www.india.gov.in/sites/all/modules/contributed/quicktabs/css/quicktabs.css?rlw2wx\");\n",
      "@import url(\"https://www.india.gov.in/sites/all/modules/contributed/panels/plugins/layouts/onecol/onecol.css?rlw2wx\");\n",
      "@import url(\"https://www.india.gov.in/sites/all/modules/contributed/flexslider/assets/css/flexslider_img.css?rlw2wx\");\n",
      "@import url(\"https://www.india.gov.in/sites/all/libraries/flexslider/flexslider.css?rlw2wx\");\n",
      "</style>\n",
      "<style media=\"screen\">\n",
      "@import url(\"https://www.india.gov.in/sites/all/themes/adaptivetheme/at_core/css/at.layout.css?rlw2wx\");\n",
      "@import url(\"https://www.india.gov.in/sites/all/themes/adaptivetheme/npi_adaptive/css/font-awesome.min.css?rlw2wx\");\n",
      "@import url(\"https://www.india.gov.in/sites/all/themes/adaptivetheme/npi_adaptive/css/global.custom.responsive.css?rlw2wx\");\n",
      "@import url(\"https://www.india.gov.in/sites/all/themes/adaptivetheme/npi_adaptive/css/global.base.css?rlw2wx\");\n",
      "@import url(\"https://www.india.gov.in/sites/all/themes/adaptivetheme/npi_adaptive/css/global.styles.css?rlw2wx\");\n",
      "</style>\n",
      "<style media=\"print\">\n",
      "@import url(\"https://www.india.gov.in/sites/all/themes/adaptivetheme/npi_adaptive/css/print.css?rlw2wx\");\n",
      "</style>\n",
      "<style media=\"screen\">\n",
      "@import url(\"https://www.india.gov.in/sites/upload_files/npi/files/adaptivetheme/npi_adaptive_files/npi_adaptive.default.layout.css?rlw2wx\");\n",
      "</style>\n",
      "<link href=\"https://www.india.gov.in/sites/all/themes/adaptivetheme/npi_adaptive/css/override.css\" rel=\"alternate stylesheet\" type=\"text/css\" media=\"screen\" title=\"change\" />\r\n",
      "<script src=\"https://www.india.gov.in/sites/all/modules/contributed/jquery_update/replace/jquery/3.1/jquery.min.js?v=3.1.1\"></script>\n",
      "<script src=\"https://www.india.gov.in/misc/jquery-extend-3.4.0.js?v=3.1.1\"></script>\n",
      "<script src=\"https://www.india.gov.in/misc/jquery-html-prefilter-3.5.0-backport.js?v=3.1.1\"></script>\n",
      "<script src=\"https://www.india.gov.in/misc/jquery.once.js?v=1.2\"></script>\n",
      "<script src=\"https://www.india.gov.in/misc/drupal.js?rlw2wx\"></script>\n",
      "<script src=\"https://www.india.gov.in/sites/all/modules/contributed/jquery_update/replace/ui/external/jquery.cookie.js?v=67fb34f6a866c40d0570\"></script>\n",
      "<script src=\"https://www.india.gov.in/sites/all/modules/contributed/jquery_update/replace/jquery.form/4/jquery.form.min.js?v=4.2.1\"></script>\n",
      "<script src=\"https://www.india.gov.in/sites/all/modules/contributed/views_slideshow/js/views_slideshow.js?v=1.0\"></script>\n",
      "<script src=\"https://www.india.gov.in/misc/ajax.js?v=7.91\"></script>\n",
      "<script src=\"https://www.india.gov.in/sites/all/modules/contributed/jquery_update/js/jquery_update.js?v=0.0.1\"></script>\n",
      "<script src=\"https://www.india.gov.in/sites/all/modules/contributed/admin_menu/admin_devel/admin_devel.js?rlw2wx\"></script>\n",
      "<script src=\"https://www.india.gov.in/sites/all/modules/customs/hb_documents/hb_documents.js?rlw2wx\"></script>\n",
      "<script src=\"https://www.india.gov.in/sites/all/modules/customs/hb_schemes/hb_schemes.js?rlw2wx\"></script>\n",
      "<script src=\"https://www.india.gov.in/sites/all/modules/customs/webform_email_reply/script.js?rlw2wx\"></script>\n",
      "<script src=\"https://www.india.gov.in/misc/progress.js?rlw2wx\"></script>\n",
      "<script src=\"https://www.india.gov.in/sites/all/modules/contributed/views/js/base.js?rlw2wx\"></script>\n",
      "<script src=\"https://www.india.gov.in/sites/all/modules/contributed/quicktabs/js/quicktabs.js?rlw2wx\"></script>\n",
      "<script src=\"https://www.india.gov.in/sites/all/modules/contributed/views/js/ajax_view.js?rlw2wx\"></script>\n",
      "<script src=\"https://www.india.gov.in/sites/all/libraries/flexslider/jquery.flexslider-min.js?rlw2wx\"></script>\n",
      "<script src=\"https://www.india.gov.in/sites/all/modules/contributed/flexslider_views_slideshow/js/flexslider_views_slideshow.js?rlw2wx\"></script>\n",
      "<script src=\"https://www.india.gov.in/sites/all/themes/adaptivetheme/npi_adaptive/scripts/jquery.min.js?rlw2wx\"></script>\n",
      "<script src=\"https://www.india.gov.in/sites/all/themes/adaptivetheme/npi_adaptive/scripts/custom.js?rlw2wx\"></script>\n",
      "<script>jQuery.extend(Drupal.settings, {\"basePath\":\"\\/\",\"pathPrefix\":\"\",\"setHasJsCookie\":0,\"ajaxPageState\":{\"theme\":\"npi_adaptive\",\"theme_token\":\"qMlyR8fTgSGCEavMEZaB0R71Bx0V4O-Ym1U6lkdoh1o\",\"jquery_version\":\"3.1\",\"js\":{\"sites\\/all\\/modules\\/contributed\\/jquery_update\\/replace\\/jquery\\/3.1\\/jquery.min.js\":1,\"misc\\/jquery-extend-3.4.0.js\":1,\"misc\\/jquery-html-prefilter-3.5.0-backport.js\":1,\"misc\\/jquery.once.js\":1,\"misc\\/drupal.js\":1,\"sites\\/all\\/modules\\/contributed\\/jquery_update\\/replace\\/ui\\/external\\/jquery.cookie.js\":1,\"sites\\/all\\/modules\\/contributed\\/jquery_update\\/replace\\/jquery.form\\/4\\/jquery.form.min.js\":1,\"sites\\/all\\/modules\\/contributed\\/views_slideshow\\/js\\/views_slideshow.js\":1,\"misc\\/ajax.js\":1,\"sites\\/all\\/modules\\/contributed\\/jquery_update\\/js\\/jquery_update.js\":1,\"sites\\/all\\/modules\\/contributed\\/admin_menu\\/admin_devel\\/admin_devel.js\":1,\"sites\\/all\\/modules\\/customs\\/hb_documents\\/hb_documents.js\":1,\"sites\\/all\\/modules\\/customs\\/hb_schemes\\/hb_schemes.js\":1,\"sites\\/all\\/modules\\/customs\\/webform_email_reply\\/script.js\":1,\"misc\\/progress.js\":1,\"sites\\/all\\/modules\\/contributed\\/views\\/js\\/base.js\":1,\"sites\\/all\\/modules\\/contributed\\/quicktabs\\/js\\/quicktabs.js\":1,\"sites\\/all\\/modules\\/contributed\\/views\\/js\\/ajax_view.js\":1,\"sites\\/all\\/libraries\\/flexslider\\/jquery.flexslider-min.js\":1,\"sites\\/all\\/modules\\/contributed\\/flexslider_views_slideshow\\/js\\/flexslider_views_slideshow.js\":1,\"sites\\/all\\/themes\\/adaptivetheme\\/npi_adaptive\\/scripts\\/jquery.min.js\":1,\"sites\\/all\\/themes\\/adaptivetheme\\/npi_adaptive\\/scripts\\/custom.js\":1},\"css\":{\"modules\\/system\\/system.base.css\":1,\"modules\\/system\\/system.menus.css\":1,\"modules\\/system\\/system.messages.css\":1,\"sites\\/all\\/modules\\/contributed\\/views_slideshow\\/views_slideshow.css\":1,\"sites\\/all\\/modules\\/contributed\\/calendar\\/css\\/calendar_multiday.css\":1,\"sites\\/all\\/modules\\/contributed\\/date\\/date_api\\/date.css\":1,\"sites\\/all\\/modules\\/contributed\\/date\\/date_popup\\/themes\\/datepicker.1.7.css\":1,\"sites\\/all\\/modules\\/contributed\\/date\\/date_repeat_field\\/date_repeat_field.css\":1,\"modules\\/field\\/theme\\/field.css\":1,\"sites\\/all\\/modules\\/contributed\\/logintoboggan\\/logintoboggan.css\":1,\"modules\\/node\\/node.css\":1,\"modules\\/search\\/search.css\":1,\"modules\\/user\\/user.css\":1,\"sites\\/all\\/modules\\/contributed\\/views\\/css\\/views.css\":1,\"sites\\/all\\/modules\\/contributed\\/ctools\\/css\\/ctools.css\":1,\"sites\\/all\\/modules\\/contributed\\/panels\\/css\\/panels.css\":1,\"sites\\/all\\/modules\\/contributed\\/panels\\/plugins\\/layouts\\/threecol_25_50_25\\/threecol_25_50_25.css\":1,\"sites\\/all\\/modules\\/contributed\\/quicktabs\\/css\\/quicktabs.css\":1,\"sites\\/all\\/modules\\/contributed\\/panels\\/plugins\\/layouts\\/onecol\\/onecol.css\":1,\"sites\\/all\\/modules\\/contributed\\/flexslider\\/assets\\/css\\/flexslider_img.css\":1,\"sites\\/all\\/libraries\\/flexslider\\/flexslider.css\":1,\"sites\\/all\\/themes\\/adaptivetheme\\/at_core\\/css\\/at.layout.css\":1,\"sites\\/all\\/themes\\/adaptivetheme\\/npi_adaptive\\/css\\/font-awesome.min.css\":1,\"sites\\/all\\/themes\\/adaptivetheme\\/npi_adaptive\\/css\\/global.custom.responsive.css\":1,\"sites\\/all\\/themes\\/adaptivetheme\\/npi_adaptive\\/css\\/global.base.css\":1,\"sites\\/all\\/themes\\/adaptivetheme\\/npi_adaptive\\/css\\/global.styles.css\":1,\"sites\\/all\\/themes\\/adaptivetheme\\/npi_adaptive\\/css\\/print.css\":1,\"public:\\/\\/adaptivetheme\\/npi_adaptive_files\\/npi_adaptive.default.layout.css\":1}},\"encrypt_submissions\":{\"baseUrl\":\"https:\\/\\/www.india.gov.in\"},\"better_exposed_filters\":{\"views\":{\"news_feeds\":{\"displays\":{\"block\":{\"filters\":[]}}},\"metadata\":{\"displays\":{\"block_1\":{\"filters\":[]}}},\"featured\":{\"displays\":{\"block\":{\"filters\":[]}}},\"spotlight\":{\"displays\":{\"block\":{\"filters\":[]}}},\"most_search\":{\"displays\":{\"block\":{\"filters\":[]}}},\"home_main_slider\":{\"displays\":{\"block\":{\"filters\":[]}}}}},\"ajax\":{\"quicktabs-tab-_none_-0\":{\"progress\":{\"message\":\"\",\"type\":\"throbber\"},\"event\":\"click\",\"url\":\"\\/quicktabs\\/ajax\\/_none_\\/0\\/view\\/news_feeds\\/block\\/1\\/home\\/\"}},\"urlIsAjaxTrusted\":{\"\\/quicktabs\\/ajax\\/_none_\\/0\\/view\\/news_feeds\\/block\\/1\\/home\\/\":true,\"\\/views\\/ajax\":true,\"\\/search\\/node\":true},\"quicktabs\":{\"qt__none_\":{\"name\":\"_none_\",\"tabs\":[{\"vid\":\"news_feeds\",\"display\":\"block\",\"args\":\"\",\"view_path\":\"home\",\"view_dom_id\":1,\"ajax_args\":\"\",\"actual_args\":[]}],\"ajaxPageState\":{\"jquery_version\":\"3.1\"}}},\"views\":{\"ajax_path\":\"\\/views\\/ajax\",\"ajaxViews\":{\"views_dom_id:b2167e6a43f50a0f17dd2f1b4351645c\":{\"view_name\":\"metadata\",\"view_display_id\":\"block_1\",\"view_args\":\"166659\",\"view_path\":\"home\",\"view_base_path\":\"admin\\/metadata-online\",\"view_dom_id\":\"b2167e6a43f50a0f17dd2f1b4351645c\",\"pager_element\":0},\"views_dom_id:96743aa91547cc12d2208cad55c1b5f9\":{\"view_name\":\"metadata\",\"view_display_id\":\"block_1\",\"view_args\":\"166856\",\"view_path\":\"home\",\"view_base_path\":\"admin\\/metadata-online\",\"view_dom_id\":\"96743aa91547cc12d2208cad55c1b5f9\",\"pager_element\":0},\"views_dom_id:b1ccb4f9470e1995a6051e8bca1d152d\":{\"view_name\":\"spotlight\",\"view_display_id\":\"block\",\"view_args\":\"\",\"view_path\":\"home\",\"view_base_path\":\"spotlight\",\"view_dom_id\":\"b1ccb4f9470e1995a6051e8bca1d152d\",\"pager_element\":0}}},\"viewsSlideshow\":{\"home_main_slider-block\":{\"methods\":{\"goToSlide\":[\"viewsSlideshowPager\",\"viewsSlideshowSlideCounter\",\"viewsSlideshowCycle\"],\"nextSlide\":[\"viewsSlideshowPager\",\"viewsSlideshowSlideCounter\",\"flexsliderViewsSlideshow\",\"viewsSlideshowCycle\"],\"pause\":[\"viewsSlideshowControls\",\"flexsliderViewsSlideshow\",\"viewsSlideshowCycle\"],\"play\":[\"viewsSlideshowControls\",\"flexsliderViewsSlideshow\",\"viewsSlideshowCycle\"],\"previousSlide\":[\"viewsSlideshowPager\",\"viewsSlideshowSlideCounter\",\"flexsliderViewsSlideshow\",\"viewsSlideshowCycle\"],\"transitionBegin\":[\"viewsSlideshowPager\",\"viewsSlideshowSlideCounter\"],\"transitionEnd\":[]},\"paused\":0}},\"flexslider_views_slideshow\":{\"#flexslider_views_slideshow_main_home_main_slider-block\":{\"num_divs\":2,\"id_prefix\":\"#flexslider_views_slideshow_main_\",\"vss_id\":\"home_main_slider-block\",\"namespace\":\"flex-\",\"selector\":\".slides \\u003E li\",\"easing\":\"linear\",\"direction\":\"horizontal\",\"reverse\":false,\"smoothHeight\":false,\"startAt\":0,\"animationSpeed\":600,\"initDelay\":0,\"useCSS\":false,\"touch\":true,\"video\":false,\"keyboard\":true,\"multipleKeyboard\":false,\"mousewheel\":0,\"controlsContainer\":\".flex-control-nav-container\",\"sync\":\"\",\"asNavFor\":\"\",\"itemWidth\":0,\"itemMargin\":0,\"minItems\":0,\"maxItems\":0,\"move\":0,\"animation\":\"slide\",\"slideshow\":true,\"slideshowSpeed\":7000,\"directionNav\":true,\"controlNav\":true,\"prevText\":\"\",\"nextText\":\"\",\"pausePlay\":true,\"pauseText\":\"\",\"playText\":\"\",\"randomize\":true,\"thumbCaptions\":false,\"thumbCaptionsBoth\":false,\"animationLoop\":true,\"pauseOnAction\":true,\"pauseOnHover\":false,\"manualControls\":\"\"}},\"adaptivetheme\":{\"npi_adaptive\":{\"layout_settings\":{\"bigscreen\":\"three-col-grail\",\"tablet_landscape\":\"three-col-grail\",\"tablet_portrait\":\"one-col-vert\",\"smalltouch_landscape\":\"one-col-vert\",\"smalltouch_portrait\":\"one-col-stack\"},\"media_query_settings\":{\"bigscreen\":\"only screen and (min-width:1025px)\",\"tablet_landscape\":\"only screen and (min-width:769px) and (max-width:1024px)\",\"tablet_portrait\":\"only screen and (min-width:581px) and (max-width:768px)\",\"smalltouch_landscape\":\"only screen and (min-width:321px) and (max-width:580px)\",\"smalltouch_portrait\":\"only screen and (max-width:320px)\"}}}});</script>\n",
      "<!--[if lt IE 9]>\n",
      "<script src=\"https://www.india.gov.in/sites/all/themes/adaptivetheme/at_core/scripts/html5.js?rlw2wx\"></script>\n",
      "<![endif]-->\n",
      "\r\n",
      "<script type=\"text/javascript\">  \r\n",
      "\tif(_getCookie(\"fontSize\") != null){\r\n",
      "\t\tfontSize = _getCookie(\"fontSize\");\r\n",
      "\t}else{\r\n",
      "\t\tfontSize = 100;\r\n",
      "\t}\r\n",
      "\tvar base_url =\"https://www.india.gov.in\";\r\n",
      "\t</script> \r\n",
      "\r\n",
      " \r\n",
      "</head>\r\n",
      "<body class=\"html front not-logged-in no-sidebars page-home home i18n-en site-name-hidden atr-7.x-3.x atv-7.x-3.2 page-panels\">\r\n",
      "    <!-- !Leaderboard Region -->\r\n",
      "\r\n",
      "\r\n",
      "\r\n",
      "<link href=\"//maxcdn.bootstrapcdn.com/font-awesome/4.2.0/css/font-awesome.min.css\" rel=\"stylesheet\">\r\n",
      "\r\n",
      "\r\n",
      "<header id=\"header\" class=\"clearfix app-main-header\" role=\"banner\">\r\n",
      "\t<section class=\"top_head\">\r\n",
      "\t\t<div class=\"wrapper\">\r\n",
      "\t\t\t<div class=\"region region-header\"><div class=\"region-inner clearfix\"><div id=\"block-block-4\" class=\"block block-block no-title\" ><div class=\"block-inner clearfix\">  \r\n",
      "  \r\n",
      "  <div class=\"block-content content\">       \n",
      "<div class=\"tophead_left\">\n",
      "<span class=\"social_icons\">\n",
      "<a href=\"https://twitter.com/indiagovin\" target=\"_blank\" title=\"Visit Our Twitter Page (External Website that opens in a new window)\"><img src=\"/sites/all/themes/adaptivetheme/npi_adaptive/images/twitter.png\" alt=\"Twitter Icon\"></a>\n",
      "\n",
      "</span>\n",
      "</div>\n",
      "<div class=\"tophead_right\">\n",
      "<a href=\"#main-content\" class=\"loginlinks skip-link\">Skip to main content</a>\n",
      "<a href=\"https://www.india.gov.in/user/login\" class=\"loginlinks\">Sign In</a>\n",
      "<a href=\"https://www.india.gov.in/user/register\" class=\"loginlinks\">Register</a>\n",
      "\t\t\t\n",
      "<span class=\"sizechanger\">\n",
      "<a id=\"text_resize_decrease\" class=\"changer\" href=\"javascript:;\" onclick=\"set_font_size('decrease')\" title=\"Decrease font size\" role=\"link\">-A</a>\n",
      "<a id=\"text_resize_reset\" class=\"changer\" onclick=\"set_font_size('')\" href=\"javascript:;\" title=\"Reset font size\" role=\"link\">A</a>\n",
      "<a id=\"text_resize_increase\" class=\"changer\" onclick=\"set_font_size('increase')\" href=\"javascript:;\" title=\"Increase font size\" role=\"link\">+A</a>\n",
      "</span>\n",
      "<span class=\"colorchanger\">\n",
      "<a href=\"javascript:void(0);\" onclick=\"chooseStyle('none', 60);\" role=\"link\" aria-label=\"\"  title=\"Normal Contrast\">A</a>\n",
      "<a href=\"javascript:void(0);\" class=\"blackbg\"  onclick=\"chooseStyle('change', 60);\" role=\"link\"  aria-label=\"\"  title=\"High Contrast\">A</a>\n",
      "</span>\n",
      "<a href=\"https://www.xn--i1bj3fqcyde.xn--11b7cb3a6a.xn--h2brj9c/\" class=\"alink\" id=\"switch-lang\" title=\"Change Language हिन्दी\" aria-label=\"Change Language हिन्दी\" rel=\"हिन्दी\">हिन्दी</a>   \n",
      "</div></div>\r\n",
      "  </div></div></div></div>\t\t</div>\r\n",
      "\t</section>\r\n",
      "\t<section class=\"header_middle\">\r\n",
      "\t\t<div class=\"wrapper\">\r\n",
      "<h1 style=\"display:none;\"><img src=\"https://www.india.gov.in/sites/upload_files/npi/files/newsletter/logo_share.png\" alt=\"NPI Logo\"></h1>\r\n",
      "        \t\t\t  <div id=\"logo\">\r\n",
      "\t\t\t\t <a href=\"https://www.india.gov.in/\" aria-label=\"Go to home\" title=\"Go to home\"><img alt=\"India Gov Logo\" src=\"https://www.india.gov.in/sites/upload_files/npi/files/logo_1.png\" typeof=\"foaf:Image\" class=\"site-logo\"></a>\r\n",
      "\t\t\t  </div>\r\n",
      "\t\t\t              <a class=\"mobileNav\" aria-label=\"Mobile Menu\" title=\"Mobile Menu\" href=\"javascript:;\"><span></span><span></span><span></span></a>\r\n",
      "\t\t\t<div id=\"menu-bar\" class=\"nav clearfix\"><div id=\"block-panels-mini-main-menu\" class=\"block block-panels-mini no-title menu-wrapper menu-bar-wrapper clearfix\" >  \r\n",
      "  \r\n",
      "  <div class=\"one-column at-panel panel-display clearfix\" id=\"mini-panel-main_menu\">\n",
      "  <div class=\"region region-one-main\">\n",
      "    <div class=\"region-inner clearfix\">\n",
      "      <div class=\"panel-pane pane-custom pane-8 no-title block\">\r\n",
      "  <div class=\"block-inner clearfix\">\r\n",
      "    \r\n",
      "            \r\n",
      "    \r\n",
      "    <div class=\"block-content\">\r\n",
      "          <nav>\n",
      "<ul id=\"nav\">\n",
      "  <li class=\"topics   \"><a href=\"/topics\" class=\"topicsLink\"><img src=\"/sites/all/themes/adaptivetheme/npi_adaptive/images/nav1.png\" alt=\"Topics\"><span>Topics</span></a>\n",
      "    <ul>\n",
      "      <li class=\"  \"><span class=\"fa fa-pagelines\"></span><a href=\"/topics/agriculture\">Agriculture</a></li>\n",
      "      <li><span class=\"fa fa-paint-brush\"></span><a href=\"/topics/art-culture\">Art &amp; Culture</a></li>\n",
      "      <li><span class=\"fa fa-pencil-square-o\"></span><a href=\"/topics/commerce\">Commerce</a></li>\n",
      "      <li><span class=\"fa fa-laptop\"></span><a href=\"/topics/communications-it\">Communications & IT</a></li>\n",
      "      <li class=\" \"><span class=\"fa fa-space-shuttle\"></span><a href=\"/topics/defence\">Defence</a></li>\n",
      "      <li><span class=\"fa fa-graduation-cap\"></span><a href=\"/topics/education\">Education</a></li>\n",
      "      <li><span class=\"fa fa-tree\"></span><a href=\"/topics/environment-forest\">Environment &amp; Forest</a></li>\n",
      "      <li class=\" \"><span class=\"fa fa-bar-chart\"></span><a href=\"/topics/finance-taxes\">Finance &amp; Taxes</a></li>\n",
      "      <li><span class=\"fa fa-cutlery\"></span><a href=\"/topics/food-public-distribution\">Food &amp; Public Distribution</a></li>\n",
      "      <li class=\" \"><span class=\"fa fa-globe\"></span><a href=\"/topics/foreign-affairs\">Foreign Affairs</a></li>\n",
      "      <li class=\" \"><span class=\"fa fa-university\"></span><a href=\"/topics/governance-administration\">Governance &amp; Administration</a></li>\n",
      "      <li><span class=\"fa fa-plus\"></span><a href=\"/topics/health-family-welfare\">Health &amp; Family Welfare</a></li>\n",
      "      <li><span class=\"fa fa-cogs\"></span><a href=\"/topics/home-affairs-enforcement\">Home Affairs &amp; Enforcement</a></li>\n",
      "      <li><span class=\"fa fa-home\"></span><a href=\"/topics/housing\">Housing</a></li>\n",
      "      <li class=\" \"><span class=\"fa fa-building\"></span><a href=\"/topics/industries\">Industries</a></li>\n",
      "      <li class=\"  \"><span class=\"fa fa-building-o\"></span><a href=\"/topics/infrastructure\">Infrastructure</a></li>\n",
      "      <li class=\" \"><span class=\"fa fa-video-camera\"></span><a href=\"/topics/information-broadcasting\">Information &amp; Broadcasting</a></li>\n",
      "      <li><span class=\"fa fa-male\"></span><a href=\"/topics/labour-employment\">Labour &amp; Employment</a></li>\n",
      "      <li><span class=\"fa fa-gavel\"></span><a href=\"/topics/law-justice\">Law &amp; Justice</a></li>\n",
      "      <li class=\" \"><span class=\"fa fa-plug\"></span><a href=\"/topics/power-energy\">Power &amp; Energy</a></li>\n",
      "      <li><span class=\"fa fa-bicycle\"></span><a href=\"/topics/rural\">Rural</a></li>\n",
      "      <li><span class=\"fa fa-wifi\"></span><a href=\"/topics/science-technology\">Science &amp; Technology</a></li>\n",
      "      <li><span class=\"fa fa-wheelchair\"></span><a href=\"/topics/social-development\">Social Development</a></li>\n",
      "      <li><span class=\"fa fa-bus\"></span><a href=\"/topics/transport\">Transport</a></li>\n",
      "      <li><span class=\"fa fa-plane\"></span><a href=\"/topics/travel-tourism\">Travel &amp; Tourism</a></li>\n",
      "      <li><span class=\"fa fa-futbol-o\"></span><a href=\"/topics/youth-sports\">Youth &amp; Sports</a></li>\n",
      "    </ul>\n",
      "  </li>\n",
      "  <li class=\"how\"><a href=\"https://services.india.gov.in/\"  target=\"_BLANK\" title=\"External Website that opens in a new window\" class=\"howDiID\"><img src=\"/sites/all/themes/adaptivetheme/npi_adaptive/images/nav2.png\" alt=\"Services\"><span>Services</span></a>\n",
      "  </li>\n",
      "  <li class=\"government\"><a href=\"/my-government\" class=\"myGovt\"><img src=\"/sites/all/themes/adaptivetheme/npi_adaptive/images/nav3.png\" alt=\"My Government\"><span>My Government</span></a>\n",
      "    <ul>\n",
      "      <li><span class=\"fa fa-pencil-square\"></span><a href=\"/my-government/constitution-india\">Constitution of India</a></li>\n",
      "      <li><span class=\"fa fa-floppy-o\"></span><a href=\"/my-government/government-directory\">Government Directory</a></li>\n",
      "      <li><span class=\"fa fa-university\"></span><a href=\"/my-government/indian-parliament\">Indian Parliament</a></li>\n",
      "      <li><span class=\"fa fa-book\"></span><a href=\"/my-government/publications\">Publications</a></li>\n",
      "      <li><span class=\"fa fa-users\"></span><a href=\"/my-government/whos-who\">Who's Who</a></li>\n",
      "      <li><span class=\"fa fa-gavel\"></span><a href=\"https://indiacode.nic.in/\"   target=\"_BLANK\" title=\"External Website that opens in a new window\">Acts</a></li>\n",
      "      <li><span class=\"fa fa-file-excel-o\"></span><a href=\"/my-government/schemes\">Schemes</a></li>\n",
      "      <li><span class=\"fa fa-file-word-o\"></span><a href=\"/my-government/documents\">Documents</a></li>\n",
      "      <!--<li><span class=\"fa fa-file-o\"></span><a href=\"/my-government/forms\">Forms</a></li>\n",
      "      <li><span class=\"fa fa-microphone\"></span><a href=\"/my-government/people-speak\">PeopleSpeak</a></li>-->\n",
      "    </ul>\n",
      "  </li>\n",
      "  <li class=\"people\"><a href=\"/people-groups\" class=\"peopleGroups\"><img src=\"/sites/all/themes/adaptivetheme/npi_adaptive/images/nav4.png\" alt=\"People Groups\"><span>People Groups</span></a>\n",
      "    <ul>\n",
      "      <li><span class=\"fa fa-users\"></span><a href=\"/people-groups/community\">Community</a></li>\n",
      "      <li><span class=\"fa fa-refresh\"></span><a href=\"/people-groups/life-cycle\">Life Cycle</a></li>\n",
      "    </ul>\n",
      "  </li>\n",
      "  <li class=\"egov\"><a href=\"/india-glance\" class=\"indGlance\"><img src=\"/sites/all/themes/adaptivetheme/npi_adaptive/images/nav5.png\" alt=\"India at a Glance\"><span>India at a Glance</span></a> \n",
      "  <ul>\n",
      "      <li class=\"  \"><span class=\"fa fa-flag\"></span><a href=\"/india-glance/profile\" role=\"link\">Profile</a></li>\n",
      "      <li class=\" \"><span class=\"fa fa-globe\"></span><a href=\"/india-glance/states-india\" role=\"link\">States of India</a></li>\n",
      "      <li class=\" \"><span class=\"fa fa-trophy\"></span><a target=\"_blank\" href=\"https://knowindia.gov.in/my-india-my-pride/\" role=\"link\">My India My Pride</a></li>\n",
      "      <li class=\" \"><span class=\"fa fa-inr\"></span><a href=\"/india-glance/national-symbols\" role=\"link\">National Symbols</a></li>\n",
      "      <li class=\" \"><span class=\"fa fa-music\"></span><a href=\"/india-glance/culture-heritage\" role=\"link\">Culture &amp; Heritage</a></li>\n",
      "\t  <li class=\" \"><span class=\"fa fa-list\"></span><a href=\"/india-glance/districts-india\" role=\"link\">Districts of India</a></li>\n",
      "      <li class=\" \"><span class=\"fa fa-female\"></span><a href=\"/india-glance/people-and-lifestyle\" role=\"link\">People and Lifestyle</a></li>\n",
      "      <li class=\" \"><span class=\"fa fa-binoculars\"></span><a href=\"/india-glance/places-visit\" role=\"link\">Places to Visit</a></li>\n",
      "      <li class=\" \"><span class=\"fa fa-map-marker\"></span><a href=\"/india-glance/natural-wonders\" role=\"link\">Natural Wonders</a></li>\n",
      "      <li class=\"   \"><span class=\"fa fa-building-o\"></span><a href=\"/india-glance/where-stay\" role=\"link\">Where to stay</a></li>\n",
      "      <li class=\"   \"><span class=\"fa fa-car\"></span><a href=\"/topics/travel-tourism/modes-travel\" role=\"link\">Modes of Travel</a></li>\n",
      "      <li class=\" \"><span class=\"fa fa-user\"></span><a href=\"/india-glance/travel-agents\" role=\"link\">Travel Agents</a></li>\n",
      "    </ul>   \n",
      "  </li>  \n",
      "</ul>\n",
      "</nav>\n",
      "    </div>\r\n",
      "\r\n",
      "    \r\n",
      "    \r\n",
      "  </div>\r\n",
      "</div>\r\n",
      "    </div>\n",
      "  </div>\n",
      "</div>\n",
      "\r\n",
      "  </div></div>\t\t</div>\r\n",
      "\t</section>\r\n",
      "    <section class=\"header_botton\">\r\n",
      "\t\t<div class=\"wrapper\">\r\n",
      "\t\t\t<div class=\"search_section\">\r\n",
      "\t\t\t\t<div class=\"searchform\">\r\n",
      "\t\t\t\t\t<div class=\"searchrow\"> \r\n",
      "                    \t<div class=\"search_form\">\r\n",
      "\t\t\t\t\t\t\t<div class=\"region region-goi-search\"><div class=\"region-inner clearfix\"><div id=\"block-block-16\" class=\"block block-block no-title\" ><div class=\"block-inner clearfix\">  \r\n",
      "  \r\n",
      "  <div class=\"block-content content\"><form action=\"https://www.india.gov.in/gsearch\" id=\"searchForm\"  autocomplete=\"off\">\n",
      "   <label for=\"search_key\">Search</label>\n",
      "      <input type=\"text\" value=\"\" maxlength=\"128\" name=\"s\" id=\"search_key\" size=\"15\" placeholder=\"Search - Keyword, Phrase\" class=\"form-text searchText ui-autocomplete-input\"   autocomplete=\"off\" />                \n",
      "<input type=\"submit\" name=\"op\" value=\"Search\" id=\"edit-submit1\" class=\"form-submit\" />\n",
      "<div id=\"auto_suggesion\"></div>\n",
      "    </form>\n",
      "</div>\r\n",
      "  </div></div></div></div>                        </div>\r\n",
      "\t\t\t\t\t\t <a href=\"javascript:void(0)\" id=\"advsearchbtn\">Advanced Search</a>\r\n",
      "\t\t\t\t\t\t<div id=\"light\" class=\"white_box\" style=\"width: 380px;\">\t\r\n",
      "\t\t\t\t\t\t\t<div class=\"search-form\">\r\n",
      "\t\t\t\t\t\t\t\t                                <form action=\"/advance-search/results\" method=\"get\" id=\"views-exposed-form-advance-metadata-search-page-1\" accept-charset=\"UTF-8\" autocomplete=\"off\"><div><div class=\"views-exposed-form\">\r\n",
      "  <div class=\"views-exposed-widgets clearfix\">\r\n",
      "          <div id=\"edit-title-wrapper\" class=\"views-exposed-widget views-widget-filter-title\">\r\n",
      "                  <label for=\"edit-title\">\r\n",
      "            Title        </label>\r\n",
      "                        <div class=\"views-widget\">\r\n",
      "          <div class=\"form-item form-type-textfield form-item-title\">\r\n",
      " <input placeholder=\"Search Keyword\" type=\"text\" id=\"edit-title\" name=\"title\" value=\"\" size=\"30\" maxlength=\"128\" class=\"form-text\">\r\n",
      "</div>\r\n",
      "        </div>\r\n",
      "              </div>\r\n",
      "          <div id=\"edit-term-node-tid-depth-wrapper\" class=\"views-exposed-widget views-widget-filter-term_node_tid_depth\">\r\n",
      "                  <label for=\"edit-term-node-tid-depth\">\r\n",
      "             Section         </label>\r\n",
      "                        <div class=\"views-widget\">\r\n",
      "          <div class=\"form-item form-type-select form-item-term-node-tid-depth\">\r\n",
      " <select id=\"edit-term-node-tid-depth\" name=\"term_node_tid_depth\" class=\"form-select\"><option value=\"All\" selected=\"selected\">- Any -</option><option value=\"166659\"> Topics</option><option value=\"166665\">- Agriculture</option><option value=\"166691\">-- Agricultural Licence</option><option value=\"166692\">-- Agricultural Machinery</option><option value=\"166693\">-- Agricultural Produces</option><option value=\"166694\">-- Research & Extension</option><option value=\"166695\">-- Storage</option><option value=\"166696\">-- Marketing & Prices</option><option value=\"166697\">-- Animal Husbandry</option><option value=\"166698\">-- Certification & Gradation</option><option value=\"166699\">-- Crops</option><option value=\"166700\">-- Dairy</option><option value=\"166701\">-- Fertilizers & Pesticides</option><option value=\"166702\">-- Fisheries</option><option value=\"166703\">-- Floriculture</option><option value=\"166704\">-- Horticulture</option><option value=\"166705\">-- Irrigation</option><option value=\"166706\">-- Loans & Credit</option><option value=\"166707\">-- Organic Farming</option><option value=\"166708\">-- Plant Protection</option><option value=\"166709\">-- Seeds</option><option value=\"166710\">-- Sericulture</option><option value=\"166711\">-- Soil and Water Conservation</option><option value=\"166712\">-- Weather</option><option value=\"166666\">- Art & Culture</option><option value=\"166713\">-- Archaeology</option><option value=\"166714\">-- Dance</option><option value=\"166715\">-- Fairs & Festivals</option><option value=\"166716\">-- Handicrafts</option><option value=\"166717\">-- Heritage</option><option value=\"166718\">-- Literature</option><option value=\"166719\">-- Monuments</option><option value=\"166720\">-- Music</option><option value=\"166721\">-- Painting</option><option value=\"166722\">-- Theatre</option><option value=\"166667\">- Commerce</option><option value=\"166723\">-- Export</option><option value=\"166724\">-- Import</option><option value=\"166725\">-- SEZs</option><option value=\"166726\">-- Trade Promotion</option><option value=\"166668\">- Communications & IT</option><option value=\"166727\">-- Electronics & IT</option><option value=\"166728\">-- Post</option><option value=\"166729\">-- Telecom</option><option value=\"166669\">- Defence</option><option value=\"166730\">-- Air Force</option><option value=\"166731\">-- Army</option><option value=\"166732\">-- Navy</option><option value=\"166733\">-- Paramilitary Forces</option><option value=\"166670\">- Education</option><option value=\"166734\">-- Elementary Education</option><option value=\"166735\">-- Secondary & Higher Secondary Education</option><option value=\"166736\">-- Higher Education</option><option value=\"166737\">-- Adult Education</option><option value=\"166671\">- Environment & Forest</option><option value=\"166738\">-- Environment</option><option value=\"166739\">-- Forest</option><option value=\"166740\">-- Natural Resources</option><option value=\"166741\">-- Wildlife</option><option value=\"166672\">- Finance & Taxes</option><option value=\"166742\">-- Insurance</option><option value=\"166743\">-- Pension</option><option value=\"166744\">-- Banking</option><option value=\"166745\">-- Economy</option><option value=\"166746\">-- Trade</option><option value=\"166747\">-- Taxes</option><option value=\"166673\">- Food & Public Distribution</option><option value=\"166748\">-- Commodities</option><option value=\"166749\">-- Consumer Affairs</option><option value=\"166750\">-- Consumer Cooperatives</option><option value=\"166751\">-- Public Distribution</option><option value=\"166674\">- Foreign Affairs</option><option value=\"166752\">-- Embassy & Consulates</option><option value=\"166753\">-- India & World</option><option value=\"166754\">-- India and Its Neighbours</option><option value=\"166755\">-- NRIs</option><option value=\"166756\">-- Passport & Visa</option><option value=\"166675\">- Governance & Administration</option><option value=\"166757\">-- Constitution</option><option value=\"166758\">-- Parliament</option><option value=\"166759\">-- State Legislature</option><option value=\"166760\">-- Union/State Government</option><option value=\"166761\">-- District Administration</option><option value=\"166762\">-- Local Administration</option><option value=\"166763\">-- RTI & Grievances</option><option value=\"166676\">- Health & Family Welfare</option><option value=\"166764\">-- Family Welfare</option><option value=\"166765\">-- Health</option><option value=\"166677\">- Housing</option><option value=\"166769\">-- EWS Housing</option><option value=\"166770\">-- Rural Housing</option><option value=\"166771\">-- Urban Housing</option><option value=\"166678\">- Home Affairs & Enforcement</option><option value=\"166766\">-- Enforcement Organizations</option><option value=\"166767\">-- Internal Security</option><option value=\"166679\">- Industries</option><option value=\"166772\">-- Micro, Small & Medium Enterprises</option><option value=\"166773\">-- Mining</option><option value=\"166774\">-- Chemicals and Petrochemicals</option><option value=\"166775\">-- Corporate Governance</option><option value=\"166776\">-- Cottage</option><option value=\"166777\">-- Defence Products</option><option value=\"166778\">-- Fertilizers</option><option value=\"166779\">-- Food Processing</option><option value=\"166780\">-- Heavy Industries</option><option value=\"166781\">-- Manufacturing</option><option value=\"166782\">-- Oil and Natural Gas</option><option value=\"166783\">-- Pharmaceuticals</option><option value=\"166784\">-- Retail</option><option value=\"166785\">-- Textiles</option><option value=\"166786\">-- Tourism</option><option value=\"166680\">- Infrastructure</option><option value=\"166790\">-- Power</option><option value=\"166791\">-- Bridges</option><option value=\"166792\">-- Dams</option><option value=\"166793\">-- Roads</option><option value=\"166794\">-- Urban</option><option value=\"166681\">- Information & Broadcasting</option><option value=\"166787\">-- Broadcasting</option><option value=\"166788\">-- Film</option><option value=\"166789\">-- Print Media</option><option value=\"166682\">- Labour & Employment</option><option value=\"166803\">-- Employment</option><option value=\"166804\">-- Organized Sector Workers</option><option value=\"166805\">-- Unorganized Sector Workers</option><option value=\"166683\">- Law & Justice</option><option value=\"166795\">-- Judiciary</option><option value=\"166796\">-- Alternative Dispute Redressal (ADR)</option><option value=\"166797\">-- Enactment of Laws</option><option value=\"166798\">-- Institutions</option><option value=\"166799\">-- Law Commission of India</option><option value=\"166800\">-- Legal Aid</option><option value=\"166801\">-- Legal Profession</option><option value=\"166802\">-- Personal Law</option><option value=\"166684\">- Power & Energy</option><option value=\"166806\">-- Coal</option><option value=\"166807\">-- Conservation of Energy</option><option value=\"166808\">-- Petroleum & Natural Gas</option><option value=\"166809\">-- Power</option><option value=\"166810\">-- Renewable Energy</option><option value=\"166685\">- Rural</option><option value=\"166811\">-- Rural Employment</option><option value=\"166812\">-- Development</option><option value=\"166813\">-- Panchayati Raj</option><option value=\"166686\">- Science & Technology</option><option value=\"166814\">-- Scientific Education</option><option value=\"166815\">-- Research & Development</option><option value=\"166687\">- Social Development</option><option value=\"166816\">-- Other Backward Classes</option><option value=\"166817\">-- Scheduled Castes</option><option value=\"166818\">-- Children</option><option value=\"166819\">-- Disabled</option><option value=\"166820\">-- Minority Community</option><option value=\"166821\">-- Senior Citizen</option><option value=\"166822\">-- Tribal</option><option value=\"166823\">-- Women</option><option value=\"166688\">- Transport</option><option value=\"166828\">-- Aviation</option><option value=\"166829\">-- Metro</option><option value=\"166830\">-- Railways</option><option value=\"166831\">-- Surface Transport</option><option value=\"166832\">-- Water Ways</option><option value=\"166689\">- Travel & Tourism</option><option value=\"166824\">-- Places</option><option value=\"166826\">-- Modes of Travel</option><option value=\"166827\">-- Approved Agents</option><option value=\"166690\">- Youth & Sports</option><option value=\"166833\">-- Sports Infrastructure</option><option value=\"166834\">-- Games</option><option value=\"166835\">-- Youth Affairs</option><option value=\"166661\"> My Government</option><option value=\"166848\">- Constitution of India</option><option value=\"166858\">-- Constitution of India (Full Text)</option><option value=\"166849\">- Government Directory</option><option value=\"303137\">-- Districts</option><option value=\"166890\">-- Union Government</option><option value=\"166891\">-- States & UTs</option><option value=\"166893\">-- Judiciary</option><option value=\"166850\">- Indian Parliament</option><option value=\"166861\">-- President of India</option><option value=\"166862\">-- Rajya Sabha</option><option value=\"166863\">-- Lok Sabha</option><option value=\"166851\">- Publications</option><option value=\"166889\">-- Books</option><option value=\"166852\">- Who's Who</option><option value=\"166864\">-- President</option><option value=\"166865\">-- Vice-President</option><option value=\"166866\">-- Prime Minister</option><option value=\"166867\">-- Council of Ministers</option><option value=\"166868\">-- Governors</option><option value=\"166869\">-- Lt. Governors & Administrators</option><option value=\"166870\">-- Chief Ministers</option><option value=\"166871\">-- Judges of Supreme Court</option><option value=\"166872\">-- Chiefs of Armed Forces</option><option value=\"166873\">-- Members of Parliament</option><option value=\"166874\">-- MLAs/MLCs</option><option value=\"166853\">- Acts</option><option value=\"166854\">- Schemes</option><option value=\"166855\">- Documents</option><option value=\"166875\">-- Annual Report</option><option value=\"166876\">-- Budget</option><option value=\"303144\">-- Demand for Grant</option><option value=\"166877\">-- Census Report</option><option value=\"166878\">-- Citizens Charter</option><option value=\"166879\">-- E-Books</option><option value=\"166880\">-- Gazetteer Notification</option><option value=\"166881\">-- Guidelines</option><option value=\"166882\">-- Others</option><option value=\"166883\">-- Plan Document</option><option value=\"166884\">-- Policy</option><option value=\"166885\">-- Reports</option><option value=\"166662\"> People Groups</option><option value=\"166894\">- Community</option><option value=\"166899\">-- Businesspersons</option><option value=\"166900\">-- Indians Travelling Abroad</option><option value=\"166901\">-- Minority Community</option><option value=\"166902\">-- Rural Indian</option><option value=\"166903\">-- Scheduled Tribes/Schedule Caste</option><option value=\"166904\">-- Self-Employed</option><option value=\"166905\">-- Social Workers</option><option value=\"166906\">-- Sportsperson</option><option value=\"166907\">-- Student</option><option value=\"166908\">-- Tourists</option><option value=\"166909\">-- Women</option><option value=\"166910\">-- Defence & Paramilitary Personnel</option><option value=\"166911\">-- Differently Abled</option><option value=\"166912\">-- Entrepreneur</option><option value=\"166913\">-- Environmentalists</option><option value=\"166914\">-- Government Employee</option><option value=\"166915\">-- Importers and Exporters</option><option value=\"166916\">-- Job Seekers</option><option value=\"166917\">-- Non-Resident Indians</option><option value=\"166895\">- Life Cycle</option><option value=\"166896\">-- Kids</option><option value=\"166897\">-- Senior Citizens</option><option value=\"166898\">-- Youth</option><option value=\"166664\"> India at a Glance</option><option value=\"166927\">- Profile</option><option value=\"166929\">- States of India</option><option value=\"166930\">- My India My Pride</option><option value=\"166931\">- National Symbols</option><option value=\"166932\">- Culture & Heritage</option><option value=\"303138\">- Districts of India</option><option value=\"166933\">- People and Lifestyle</option><option value=\"166934\">- Places to Visit</option><option value=\"166935\">- Natural Wonders</option><option value=\"166936\">- Where to stay</option><option value=\"166937\">- Modes of Travel</option><option value=\"166939\">- Travel Agents</option></select>\r\n",
      "</div>\r\n",
      "        </div>\r\n",
      "              </div>\r\n",
      "              <div class=\"views-exposed-widget views-widget-sort-by\">\r\n",
      "        <div class=\"form-item form-type-select form-item-sort-by\">\r\n",
      "  <label for=\"edit-sort-by\">Sort by  </label>\r\n",
      " <select id=\"edit-sort-by\" name=\"sort_by\" class=\"form-select\"><option value=\"created\" selected=\"selected\">Recent</option><option value=\"changed\">Most Updated</option></select>\r\n",
      "</div>\r\n",
      "      </div>\r\n",
      "      <div class=\"views-exposed-widget views-widget-sort-order\">\r\n",
      "        <div class=\"form-item form-type-select form-item-sort-order\">\r\n",
      "  <label for=\"edit-sort-order\">Order </label>\r\n",
      " <select id=\"edit-sort-order\" name=\"sort_order\" class=\"form-select\"><option value=\"ASC\">Asc</option><option value=\"DESC\" selected=\"selected\">Desc</option></select>\r\n",
      "</div>\r\n",
      "      </div>\r\n",
      "                <div class=\"views-exposed-widget views-submit-button\">\r\n",
      "      <input type=\"submit\" id=\"edit-submit-advance-metadata-search\" value=\"Search\" class=\"form-submit\" name=\"Advance search Submit Botton\">    </div>\r\n",
      "      </div>\r\n",
      "</div>\r\n",
      "</div></form>\r\n",
      "\t                          \t\r\n",
      "\t\t\t\t\t\t\t</div>\r\n",
      "\t\t\t\t\t\t\t<!--add-adres-footer-->\r\n",
      "\t\r\n",
      "\t\t\t\t\t\t</div>\r\n",
      "                        \r\n",
      "\t\t\t\t\t</div> \t\r\n",
      "\t\t\t\t</div>\r\n",
      "\r\n",
      "\t\t\t</div>\r\n",
      "\t\t\t<div class=\"heraderbtm_col2\">\r\n",
      "\t\t\t\t<div class=\"region region-leaderboard\"><div class=\"region-inner clearfix\"><section id=\"block-views-most-search-block\" class=\"block block-views\" ><div class=\"block-inner clearfix\">  \r\n",
      "      <h2 class=\"block-title\">Most Searched</h2>\r\n",
      "  \r\n",
      "  <div class=\"block-content content\"><div class=\"view view-most-search view-id-most_search view-display-id-block view-dom-id-000b159be12c1c1d2d36b9e828ff68e0\">\n",
      "        \n",
      "  \n",
      "  \n",
      "      <div class=\"view-content\">\n",
      "      <div class=\"item-list\">    <ul>          <li class=\"views-row views-row-1 views-row-odd views-row-first\">  \n",
      "          <a href=\"/gsearch?s=Birth%20Certificate\">Birth Certificate</a>  </li>\n",
      "          <li class=\"views-row views-row-2 views-row-even\">  \n",
      "          <a href=\"/gsearch?s=Driving%20Licence\">Driving Licence</a>  </li>\n",
      "          <li class=\"views-row views-row-3 views-row-odd views-row-last\">  \n",
      "          <a href=\"/gsearch?s=Pan%20card\">Pan card</a>  </li>\n",
      "      </ul></div>    </div>\n",
      "  \n",
      "  \n",
      "  \n",
      "  \n",
      "  \n",
      "  \n",
      "</div></div>\r\n",
      "  </div></section></div></div>\t\t\t</div>\r\n",
      "\t\t <!-- !Header Region -->\r\n",
      "\t\t</div>\r\n",
      "\t</section> \r\n",
      "</header>\r\n",
      "\r\n",
      "\t<section class=\"sliderportion\">\r\n",
      "\t\t<div class=\"\">\r\n",
      "\t\t\t<article class=\"homeslider\">\r\n",
      "\t\t\t\t<div class=\"region region-highlighted\"><div class=\"region-inner clearfix\"><div id=\"block-views-home-main-slider-block\" class=\"block block-views no-title\" ><div class=\"block-inner clearfix\">  \r\n",
      "  \r\n",
      "  <div class=\"block-content content\"><div class=\"view view-home-main-slider view-id-home_main_slider view-display-id-block jquery-slider-wrapper jquery-slider-option-navigation-selector-control-timer view-dom-id-fae3ad58a65c9f799574616d07318916\">\n",
      "        \n",
      "  \n",
      "  \n",
      "      <div class=\"view-content\">\n",
      "      \n",
      "  <div class=\"skin-default\">\n",
      "    \n",
      "    <div id=\"flexslider_views_slideshow_main_home_main_slider-block\" class=\"flexslider_views_slideshow_main views_slideshow_main\"><div class=\"flex-nav-container\">\n",
      "  <div class=\"flexslider\">\n",
      "    <ul id=\"flexslider_views_slideshow_home_main_slider-block\" class=\"flexslider-views-slideshow-main-frame slides\">\n",
      "        <li class=\"flexslider-views-slideshow-main-frame-row flexslider_views_slideshow_slide views-row-1 views-row-odd\">\n",
      "      \n",
      "  <div class=\"views-field views-field-php\">        <span class=\"field-content\"><img src=\"https://cbpssubscriber.mygov.in/assets/uploads/flYHd7E7b2W2XRtP\" id=\"_9dlO5d9OlWeVIZCG\" onclick=\"javascript:window.open('https://cbpssubscriber.mygov.in/aff/9dlO5d9OlWeVIZCG')\" style=\"cursor:pointer\" onload=\"javascript:(function(){if(typeof _done == 'undefined' || !_done){this.setAttribute('src', this.getAttribute('src')+'?'+Math.floor((Math.random() * 100) + 1)); _done=true;}}).call(this)\" alt=\"CBPS Banner\"></span>  </div>  </li>\n",
      "  <li class=\"flexslider-views-slideshow-main-frame-row flexslider_views_slideshow_slide views-row-2 views_slideshow_cycle_hidden views-row-even\">\n",
      "      \n",
      "  <div class=\"views-field views-field-php\">        <span class=\"field-content\"><a href=\"https://www.india.gov.in/spotlight/universal-service-obligation-fund-usof \" target=\"_BLANK\" class=\"ext-link\" title=\"Universal Service Obligation Fund (USOF)\"><img  alt=\"Universal Service Obligation Fund (USOF)\" src=\"https://www.india.gov.in/sites/upload_files/npi/files/usof-spotlight.jpg\"></a></span>  </div>  </li>\n",
      "    </ul>\n",
      "  </div>\n",
      "</div></div>\n",
      "      </div>\n",
      "    </div>\n",
      "  \n",
      "  \n",
      "  \n",
      "  \n",
      "  \n",
      "  \n",
      "</div></div>\r\n",
      "  </div></div></div></div>\t\t\t</article>\r\n",
      "\t\t</div>\r\n",
      "\t</section>\r\n",
      "    <div id=\"main\" class=\"columns clearfix\">\r\n",
      "      <main id=\"content-column\" class=\"content-column\" role=\"main\">\r\n",
      "        <div class=\"content-inner\">\r\n",
      "\r\n",
      "          <!-- !Breadcrumbs -->\r\n",
      "\t\t\t\r\n",
      "\t\t\t<!-- !Messages and Help -->\r\n",
      "\t\t\t\t\t\t\r\n",
      "\t\t\t<!-- !Secondary Content Region -->\r\n",
      "\t\t\t\r\n",
      "          <div id=\"main-content\">\r\n",
      "\r\n",
      "            \r\n",
      "            <!-- !Main Content Header -->\r\n",
      "            \t\t\t\r\n",
      "\t\t\t\r\n",
      "            <!-- !Main Content -->\r\n",
      "                          <div id=\"content\" class=\"region\">\r\n",
      "                <div id=\"block-system-main\" class=\"block block-system no-title\" >          <div class=\"one-column at-panel panel-display clearfix\" id=\"home\">   <div class=\"region region-one-main\">     <div class=\"region-inner clearfix\">       <div class=\"panel-pane pane-panels-mini pane-home-main-content wrapper no-title block\">    <div class=\"block-inner clearfix\">                                <div class=\"block-content\">        <div class=\"panel-display panel-3col clearfix\" id=\"mini-panel-home_main_content\">   <div class=\"panel-panel panel-col-first\">     <div class=\"inside\"><div class=\"panel-pane pane-custom pane-1 home_heading no-title block\">    <div class=\"block-inner clearfix\">                                <div class=\"block-content\">        <h2>News Highlights</h2>    </div>                  </div>  </div>  <div class=\"panel-separator\"></div><div class=\"panel-pane pane-block pane-quicktabs-none no-title block\">    <div class=\"block-inner clearfix\">                                <div class=\"block-content\">        <div  id=\"quicktabs-_none_\" class=\"quicktabs-wrapper quicktabs-style-nostyle\"><div class=\"item-list item-list-q\"><ul class=\"quicktabs-tabs quicktabs-style-nostyle\"><li class=\"active even first last\"><a href=\"/home?qt-_none_=0#qt-_none_\" id=\"quicktabs-tab-_none_-0\" class=\"active\">News &amp; Press Releases</a></li></ul></div><div id=\"quicktabs-container-_none_\" class=\"quicktabs_main quicktabs-style-nostyle\"><div  id=\"quicktabs-tabpage-_none_-0\" class=\"quicktabs-tabpage \"><div class=\"view view-news-feeds view-id-news_feeds view-display-id-block view-dom-id-0bfceb179589db207a710e25d0d88ac9\">                      <div class=\"view-content\">       <div class=\"item-list\">    <ul>          <li class=\"views-row views-row-1 views-row-odd views-row-first\">             <a href=\"https://pib.gov.in/PressReleaseIframePage.aspx?PRID=1880873 \" target=\"_blank\" title=\"External site that opens in a new window \" class=\"ext-link-ajax\">PM expresses gratitude and thanks global leaders for extending...</a>   </li>           <li class=\"views-row views-row-2 views-row-even\">             <a href=\"https://pib.gov.in/PressReleaseIframePage.aspx?PRID=1880863 \" target=\"_blank\" title=\"External site that opens in a new window \" class=\"ext-link-ajax\">The 1st Sherpa Meeting of India’s G20 Presidency begins today...</a>   </li>           <li class=\"views-row views-row-3 views-row-odd\">             <a href=\"https://pib.gov.in/PressReleaseIframePage.aspx?PRID=1880836 \" target=\"_blank\" title=\"External site that opens in a new window \" class=\"ext-link-ajax\"> President of India Witnesses Operational Demonstration By...</a>   </li>           <li class=\"views-row views-row-4 views-row-even\">             <a href=\"https://pib.gov.in/PressReleaseIframePage.aspx?PRID=1880828 \" target=\"_blank\" title=\"External site that opens in a new window \" class=\"ext-link-ajax\">Ministry of Culture organizes “Daakroom”, the letter writing...</a>   </li>           <li class=\"views-row views-row-5 views-row-odd\">             <a href=\"https://pib.gov.in/PressReleaseIframePage.aspx?PRID=1880819 \" target=\"_blank\" title=\"External site that opens in a new window \" class=\"ext-link-ajax\">Stage III of revised Graded Response Action Plan (GRAP) invoked...</a>   </li>           <li class=\"views-row views-row-6 views-row-even\">             <a href=\"https://pib.gov.in/PressReleaseIframePage.aspx?PRID=1880815 \" target=\"_blank\" title=\"External site that opens in a new window \" class=\"ext-link-ajax\">189th Meeting of Employees’ State Insurance Corporation (ESIC)...</a>   </li>           <li class=\"views-row views-row-7 views-row-odd views-row-last\">             <a href=\"https://pib.gov.in/PressReleaseIframePage.aspx?PRID=1880813 \" target=\"_blank\" title=\"External site that opens in a new window \" class=\"ext-link-ajax\">Shri Atul Bhatt, CMD, RINL ,flags off the Vizag Steel Run-a 5K...</a>   </li>       </ul></div>    </div>                   <div class=\"view-footer\">       <div class=\"more-link\"><a title=\"More news\" href=\"/news_lists?a703479779\">more news..</a></div>    </div>       </div></div></div></div>    </div>                  </div>  </div>  </div>   </div>    <div class=\"panel-panel panel-col\">     <div class=\"inside\"><div class=\"panel-pane pane-custom pane-2 home_heading no-title block\">    <div class=\"block-inner clearfix\">                                <div class=\"block-content\">        <h2>Most Requested Information & Forms</h2>    </div>                  </div>  </div>  <div class=\"panel-separator\"></div><div class=\"panel-pane pane-panels-mini pane-most-view-for-home mostpopular_block accordian no-title block\">    <div class=\"block-inner clearfix\">                                <div class=\"block-content\">        <div class=\"panel-display panel-1col clearfix\" id=\"mini-panel-most_view_for_home\">   <div class=\"panel-panel panel-col\">     <div><section class=\"panel-pane pane-views pane-metadata home-tab block\">    <div class=\"block-inner clearfix\">                      <h2 class=\"pane-title block-title\">Information</h2>                      <div class=\"block-content\">        <div class=\"view view-metadata view-id-metadata view-display-id-block_1 accordion-container view-dom-id-b2167e6a43f50a0f17dd2f1b4351645c\">                      <div class=\"view-content\">       <div class=\"accordion_body collapsing-section\">    <ul>          <li class=\"views-row views-row-1 views-row-odd views-row-first\">     <div>        <span><a href=\"/national-leprosy-eradication-programme-0\">National Leprosy Eradication Programme</a></span>  </div></li>           <li class=\"views-row views-row-2 views-row-even\">     <div>        <span><a href=\"/official-website-central-translation-bureau\">Official website of Central Translation Bureau</a></span>  </div></li>           <li class=\"views-row views-row-3 views-row-odd\">     <div>        <span><a href=\"/official-website-information-technology-department-delhi\">Website of Information Technology Department of Delhi</a></span>  </div></li>           <li class=\"views-row views-row-4 views-row-even\">     <div>        <span><a href=\"/website-building-materials-and-technology-promotion-council\"> Website on Building Materials and Technology Promotion...</a></span>  </div></li>           <li class=\"views-row views-row-5 views-row-odd\">     <div>        <span><a href=\"/official-website-bharat-cooking-coal-limited\">Website of Bharat Coking Coal Limited</a></span>  </div></li>           <li class=\"views-row views-row-6 views-row-even\">     <div>        <span><a href=\"/official-website-andhra-pradesh-state-consumer-disputes-redressal-commission\">Website of Andhra Pradesh State Consumer Disputes Redressal...</a></span>  </div></li>           <li class=\"views-row views-row-7 views-row-odd views-row-last\">     <div>        <span><a href=\"/official-website-meteorological-centre-raipur\">Website of Meteorological Centre of Raipur</a></span>  </div></li>       </ul></div>    </div>                   </div>    </div>                  </div>  </section>  </div>   </div> </div>     </div>                  </div>  </div>  </div>   </div>    <div class=\"panel-panel panel-col-last\">     <div class=\"inside\"><div class=\"panel-pane pane-custom pane-3 home_heading no-title block\">    <div class=\"block-inner clearfix\">                                <div class=\"block-content\">        <h2>Activities & Initiatives</h2>    </div>                  </div>  </div>  <div class=\"panel-separator\"></div><div class=\"panel-pane pane-views pane-featured no-title block\">    <div class=\"block-inner clearfix\">                                <div class=\"block-content\">        <div class=\"view view-featured view-id-featured view-display-id-block view-dom-id-b299742d8220808fb9031da2b0098dd9\">                      <div class=\"view-content\">         <div class=\"views-row views-row-1 views-row-odd views-row-first initiatives-block\">          <div class=\"views-field views-field-field-image\">        <div class=\"field-content\"><a href=\"https://amritmahotsav.nic.in\" class=\"ext-link\"><img typeof=\"foaf:Image\" class=\"image-style-none\" src=\"https://www.india.gov.in/sites/upload_files/npi/files/india75.jpg\" width=\"199\" height=\"87\" alt=\"Azadi Ka Amrit Mahotsav\" title=\"Azadi Ka Amrit Mahotsav\" /></a></div>  </div>     <div>        <p>initiative of the Government of India to celebrate and commemorate 75 years of independence of progressive India</p>  </div>  </div>   <div class=\"views-row views-row-2 views-row-even views-row-last initiatives-block\">          <div class=\"views-field views-field-field-image\">        <div class=\"field-content\"><a href=\"https://www.g20.org\" class=\"ext-link\"><img typeof=\"foaf:Image\" class=\"image-style-none\" src=\"https://www.india.gov.in/sites/upload_files/npi/files/g-20-logo.jpg\" width=\"199\" height=\"87\" alt=\"G-20\" title=\"G-20\" /></a></div>  </div>     <div>        <p>One Earth One Family One Future</p>  </div>  </div>     </div>                   </div>    </div>                  </div>  </div>  </div>   </div> </div>     </div>                  </div>  </div>  <div class=\"panel-separator\"></div><div class=\"panel-pane pane-panels-mini pane-home-spotlight-section bottom-blue-row no-title block\">    <div class=\"block-inner clearfix\">                                <div class=\"block-content\">        <div class=\"three-3x33 at-panel panel-display clearfix\" id=\"mini-panel-home_spotlight_section\">     <div class=\"region region-three-33-first\">     <div class=\"region-inner clearfix\">       <div class=\"panel-pane pane-custom pane-4 bottom-sms no-title block\">    <div class=\"block-inner clearfix\">                                <div class=\"block-content\">        <div class=\"bottom-sms clearfix\">  <div class=\"sms-heading\"><h3>Be involved</h3><span class=\"title-sub\">collaborate, share and influence government policy</span></div>  <div class=\"icon-holder clearfix\">     <div class=\"sms-content data-do\"><a href=\"https://www.mygov.in/task/slogan-writing-competition-g20-summit\" target=\"_blank\" role=\"link\"><span>Slogan Writing Competition on G20 Summit</span></a></div>     <div class=\"sms-content data-discuss\"><a href=\"https://www.mygov.in/group-issue/inviting-ideas-mann-ki-baat-prime-minister-narendra-modi-25th-december-2022\" target=\"_blank\" role=\"link\"><span>Inviting ideas for Mann Ki Baat by Prime Minister Narendra Modi on 25th December ..</span></a></div>     <div class=\"sms-content data-poll\"><a href=\"https://www.mygov.in/mygov-survey/my-thoughts-–-our-toilets\" target=\"_blank\" role=\"link\"><span>My Thoughts – Our Toilets</span></a></div>     <div class=\"sms-content data-talk\"><a href=\"https://www.mygov.in/talk/tune-mann-ki-baat-prime-minister-narendra-modi-27th-novemeber-2022\" target=\"_blank\" role=\"link\"><span>Tune in to Mann Ki Baat by Prime Minister Narendra Modi on 27th Novemeber 2022</span></a></div> </div> <span class=\"subscribe-now\">          <a href=\"https://www.india.gov.in/mygov/events\" role=\"link\">     View Details</a></span>  </div>    </div>                  </div>  </div>      </div>   </div>   <div class=\"region region-three-33-second\">     <div class=\"region-inner clearfix\">       <div class=\"panel-pane pane-views pane-spotlight no-title block\">    <div class=\"block-inner clearfix\">                                <div class=\"block-content\">        <div class=\"view view-spotlight view-id-spotlight view-display-id-block bottom-sms view-dom-id-b1ccb4f9470e1995a6051e8bca1d152d\">             <div class=\"view-header\">       <div class=\"sms-heading\"> <h3>Spotlight</h3> </div>     </div>                <div class=\"view-content\">       <div class=\"item-list\">    <ul>          <li class=\"views-row views-row-1 views-row-odd views-row-first\">     <div class=\"views-field views-field-nid\">        <span class=\"field-content\"><a href=\"/spotlight/universal-service-obligation-fund-usof\"><span>Universal Service Obligation Fund (USOF)</span></a></span>  </div></li>           <li class=\"views-row views-row-2 views-row-even views-row-last\">     <div class=\"views-field views-field-nid\">        <span class=\"field-content\"><a href=\"/spotlight/vidyanjali\"><span>Vidyanjali</span></a></span>  </div></li>       </ul></div>    </div>                   <div class=\"view-footer\">       <span class=\"subscribe-now\"><a href=\"/spotlight\" title=\"Click here to see all Spotlight\">View all</a></span>    </div>       </div>    </div>                  </div>  </div>  <div class=\"panel-separator\"></div><div class=\"panel-pane pane-custom pane-5 no-title block\">    <div class=\"block-inner clearfix\">                                <div class=\"block-content\">        <div class=\"view view-spotlight view-id-spotlight view-display-id-block bottom-sms margn-top\"> \t<div class=\"view-header\"> \t  <div class=\"sms-heading\"> \t\t<h3>Transparency</h3> \t  </div> \t</div> \t<div class=\"view-content\"> \t  <div class=\"views-row views-row-1 views-row-odd views-row-first sms-content\"> \t\t<div class=\"views-field views-field-title\"> <span class=\"field-content\"> \t\t<a href=\"https://rti.gov.in/\" target=\"blank\" title=\"Right to Information Site Link\" class=\"ext-link\">Right to Information</a> | <a href=\"https://data.gov.in/\" target=\"blank\" title=\"Open Data Site Link\" class=\"ext-link\">Open Data</a> | <a href=\"https://pgportal.gov.in/cpgoffice/\" target=\"blank\" title=\"Public Grievance Site Link\" class=\"ext-link\">Public Grievance</a> \t\t</span></div> \t  </div> \t</div> </div>    </div>                  </div>  </div>      </div>   </div>   <div class=\"region region-three-33-third\">     <div class=\"region-inner clearfix\">       <div class=\"panel-pane pane-custom pane-6 no-title block\">    <div class=\"block-inner clearfix\">                                <div class=\"block-content\">        <div class=\"bottom-sms contact-block\">     <div class=\"sms-heading\">       <h3><a class=\"feedback\" href=\"/feedback\">Feedback</a></h3>       <h3><a class=\"contactus\" href=\"/contact-us\">Contact us</a></h3>       <h3><span class=\"sharepage\" >Share this page</span></h3>       <div class=\"home-social-share\">         <div class=\"facebook-share\"><a title=\"External site that opens in a new window \" href=\"https://www.facebook.com/sharer.php?u=https%3A%2F%2Findia.gov.in%2Fhome\" target=\"_blank\" class=\"ext-link\">Facebook</a></div>         <div class=\"twitter-share\"><a  title=\"External site that opens in a new window \" href=\"https://twitter.com/share?url=https%3A%2F%2Findia.gov.in%26text%3DPlease+check+this+link\" target=\"_blank\" class=\"ext-link\">Twitter</a></div>       </div>     </div> </div>    </div>                  </div>  </div>      </div>   </div>   </div>     </div>                  </div>  </div>  <div class=\"panel-separator\"></div><div class=\"panel-pane pane-custom pane-7 wrapper no-title block\">    <div class=\"block-inner clearfix\">                                <div class=\"block-content\">        <script type=\"text/javascript\"> \t \t$(document).ready(function(){\t\t \t\tvar n_time;\t\t \t\trefreshCalendar(); \t\tsetInterval( refreshCalendar, 900000); \t\tfunction refreshCalendar(){ \t\t\tvar d = new Date(); \t\t\tn_time = d.getTime(); \t\t\t\t\t \t\t\t$(\".calendar a\").attr(\"href\", $(\".calendar a\").attr(\"href\")+\"?a=\"+n_time); \t\t} \t}); </script>    <div class=\"homebtm_quicklinks \"><ul> <li><a href=\"https://goidirectory.gov.in/\" target=\"_blank\" title=\"Integrated Government Online Directory (iGOD) (External Website that opens in a new window)\"  role=\"link\"><img alt=\"Integrated Government Online Directory\" src=\"/sites/all/themes/adaptivetheme/npi_adaptive/images/quicklinks5.png\"><div class=\"quilcklinks_outer\"><h2>Integrated Government Online Directory (iGOD)</h2><p>A one-point source to access all Indian Government Websites at all levels and from all sectors. </p></div></a></li>   <li><a title=\"Mobile Seva Appstore (External Website that opens in a new window)\" target=\"_blank\" href=\"https://apps.mgov.gov.in/\" role=\"link\"><img alt=\"Mobile App Directory\" src=\"/sites/all/themes/adaptivetheme/npi_adaptive/images/quicklinks2.png\"><div class=\"quilcklinks_outer\"><h2>Mobile App Directory</h2><p>Mobile Seva Appstore: National Mobile Governance Initiative by Dept. of Electronics & IT</p></div></a></li>  <li  class=\"calendar\"><a href=\"/calendar\"  role=\"link\"><img alt=\"Calendar\" src=\"/sites/all/themes/adaptivetheme/npi_adaptive/images/quicklinks3.png\"><div class=\"quilcklinks_outer\"><h2>Calendar</h2><p>View holidays as per the circular issued by the Ministry of Personnel, Public Grievances and Pensions.</p></div></a></li>  <li><a href=\"https://www.mygov.in/\" target=\"_blank\"  role=\"link\" title=\"MyGov (External Website that opens in a new window)\"><img alt=\"MyGov\" src=\"/sites/upload_files/npi/files/newsletter/quicklinks6.png\"><div class=\"quilcklinks_outer\"><h2>MyGov</h2><p>Be an active partner in nation-building. Participate in Groups, Tasks, Discussions, Polls, Blogs and Talks.</p></div></a></li>  <li><a href=\"https://webcast.gov.in/\"  role=\"link\" title=\"Webcast Services (External Website that opens in a new window)\" target=\"_blank\"><img alt=\"Webcast Services\" src=\"/sites/all/themes/adaptivetheme/npi_adaptive/images/webcast-icon.png\"><div class=\"quilcklinks_outer\"><h2>Webcast Services</h2><p>View live and on demand Webcast of important Goverment events, activities and Live TV Channels</p></div></a></li>  </ul></div>     </div>                  </div>  </div>      </div>   </div> </div>     </div>              </div>\r\n",
      "            \r\n",
      "            <!-- !Feed Icons -->\r\n",
      "            \r\n",
      "            \r\n",
      "          </div><!-- /end #main-content -->\r\n",
      "\r\n",
      "          <!-- !Content Aside Region-->\r\n",
      "          \r\n",
      "        </div><!-- /end .content-inner -->\r\n",
      "      </main><!-- /end #content-column -->\r\n",
      "\r\n",
      "      <!-- !Sidebar Regions -->\r\n",
      "            \r\n",
      "    </div><!-- /end #columns -->\r\n",
      "\r\n",
      "    <!-- !Tertiary Content Region -->\r\n",
      "    \r\n",
      "<!-- !Footer -->\r\n",
      "  <footer id=\"footer\" class=\"clearfix app-main-footer\" role=\"contentinfo\">\r\n",
      "\t\t\t\t\t\t\r\n",
      "\t<section id=\"footertop\">\r\n",
      "\t\t<div class=\"wrapper\">\r\n",
      "          <a class=\"mobilebtmNav\" href=\"javascript:;\" aria-label=\"Mobile Menu\" title=\"Mobile Menu\"><div id=\"menutext\">Menu</div><div class=\"spanoutetr\"><span></span><span></span><span></span></div></a>\r\n",
      "\t\t\t<div class=\"region region-footer\"><div class=\"region-inner clearfix\"><div id=\"block-block-6\" class=\"block block-block no-title\" ><div class=\"block-inner clearfix\">  \r\n",
      "  \r\n",
      "  <div class=\"block-content content\">\n",
      "<ul>\n",
      "<li><a title=\"NPI Overview \" href=\"/about-portal\" role=\"link\">About us</a></li>\n",
      "<li><a title=\"Write to NPI\" href=\"/contact-us\" role=\"link\">Contact us</a></li>\n",
      "<li><a title=\"Suggestion for NPI\" href=\"/feedback\" role=\"link\">Feedback</a></li>\n",
      "<li><a title=\"Visitor Summary for NPI\" href=\"/visitor-summary\" role=\"link\">Visitor Summary</a></li>\n",
      "<li><a title=\"Using NPI\" href=\"/help\" role=\"link\">Help</a></li>\n",
      "<li><a href=\"/link-us\" role=\"link\" title=\"Link to Us\">Link to Us</a></li>\n",
      "<li><a title=\"Monthly Newsletter\" href=\"/newsletters\" role=\"link\">Newsletter</a></li>\n",
      "<li><a title=\"Recommend NPI\" href=\"/tell-friend\" role=\"link\">Tell a Friend</a></li>\n",
      "<li><a title=\"Policies &amp; Disclaimer\" href=\"/website-policy\" role=\"link\">Website Policy</a></li>\n",
      "<li><a href=\"/sitemap\" role=\"link\" title=\"Sitemap\">Sitemap</a></li>\n",
      "</ul>\n",
      "\n",
      "\n",
      "</div>\r\n",
      "  </div></div></div></div>\t\t</div>\r\n",
      "\t</section>\r\n",
      "\t\t<section id=\"fotter-bottom\">\r\n",
      "\t<div class=\"wrapper\">\r\n",
      "\t\t<div class=\"region region-content-aside\"><div class=\"region-inner clearfix\"><div id=\"block-block-7\" class=\"block block-block no-title\" ><div class=\"block-inner clearfix\">  \r\n",
      "  \r\n",
      "  <div class=\"block-content content\"><div class=\"footer_col3\">\n",
      "\t\t\t\t<a  title=\"Data Portal India (External site that opens in a new window)\" target=\"_blank\" href=\"https://data.gov.in/\"><img src=\"https://www.india.gov.in/sites/all/themes/adaptivetheme/npi_adaptive/images/img-ftr-open-data-portal.png\" alt=\"Data Portal India\"></a>\n",
      "\t\t\t\t<a  title=\"Press Information Bureau Government of India (External site that opens in a new window)\" target=\"_blank\" href=\"https://pib.gov.in/\"><img src=\"https://www.india.gov.in/sites/all/themes/adaptivetheme/npi_adaptive/images/pib.png\" alt=\"Press Information Bureau Government of India\"></a>\n",
      "\t</div>\n",
      "\t\t\t<div class=\"footerLinks\">\n",
      "\t\t\t \n",
      "\n",
      "<ul>\n",
      "  <li class=\"first\"><a href=\"/topics\" role=\"link\"><span>Information Related To</span></a>\n",
      "    <ul>\n",
      "      <li><a href=\"/topics/agriculture\" role=\"link\">Agriculture</a></li>\n",
      "      <li><a href=\"/topics/art-culture\" role=\"link\">Art &amp; Culture</a></li>\n",
      "      <li><a href=\"/topics/commerce\" role=\"link\">Commerce</a></li>\n",
      "      <li><a href=\"/topics/communications-it\" role=\"link\">Communication</a></li>\n",
      "      <li><a href=\"/topics/defence\" role=\"link\">Defence</a></li>\n",
      "      <li><a href=\"/topics/education\" role=\"link\">Education</a></li>\n",
      "      <li><a href=\"/topics/environment-forest\" role=\"link\">Environment &amp; Forest</a></li>\n",
      "      <li><a href=\"/topics/finance-taxes\" role=\"link\">Finance &amp; Taxes</a></li>\n",
      "      <li><a href=\"/topics/food-public-distribution\" role=\"link\">Food &amp; Public Distribution</a></li>\n",
      "      <li><a href=\"/topics/foreign-affairs\" role=\"link\">Foreign Affairs</a></li>\n",
      "      <li><a href=\"/topics/governance-administration\" role=\"link\">Governance &amp; Administration</a></li>\n",
      "      <li><a href=\"/topics/health-family-welfare\" role=\"link\">Health &amp; Family Welfare</a></li>\n",
      "      <li><a href=\"/topics/housing\" role=\"link\">Housing</a></li>\n",
      "      <li><a href=\"/topics/home-affairs-enforcement\" role=\"link\">Home Affairs &amp; Enforcement</a></li>\n",
      "      <li><a href=\"/topics/industries\" role=\"link\">Industries</a></li>\n",
      "      <li><a href=\"/topics/infrastructure\" role=\"link\">Infrastructure</a></li>\n",
      "      <li><a href=\"/topics/information-broadcasting\" role=\"link\">Information &amp; Broadcasting</a></li>\n",
      "      <li><a href=\"/topics/labour-employment\" role=\"link\">Labour &amp; Employment</a></li>\n",
      "      <li><a href=\"/topics/law-justice\" role=\"link\">Law &amp; Justice</a></li>\n",
      "      <li><a href=\"/topics/power-energy\" role=\"link\">Power &amp; Energy</a></li>\n",
      "      <li><a href=\"/topics/rural\" role=\"link\">Rural</a></li>\n",
      "      <li><a href=\"/topics/science-technology\" role=\"link\">Science &amp; Technology</a></li>\n",
      "      <li><a href=\"/topics/social-development\" role=\"link\">Social Development</a></li>\n",
      "      <li><a href=\"/topics/transport\" role=\"link\">Transport</a></li>\n",
      "      <li><a href=\"/topics/travel-tourism\" role=\"link\">Travel &amp; Tourism</a></li>\n",
      "      <li><a href=\"/topics/youth-sports\" role=\"link\">Youth &amp; Sports</a></li>\n",
      "    </ul>\n",
      "  </li>\n",
      "  <li><a href=\"/my-government\" role=\"link\"><span>About the Government</span></a>\n",
      "    <ul>\n",
      "      <li><a href=\"/my-government/constitution-india\" role=\"link\">Constitution of India</a></li>\n",
      "      <li><a href=\"/my-government/government-directory\" role=\"link\">Government Directory</a></li>\n",
      "      <li><a href=\"/my-government/indian-parliament\" role=\"link\">Indian Parliament</a></li>\n",
      "      <li><a href=\"/my-government/publications\" role=\"link\">Publications</a></li>\n",
      "      <li><a href=\"/my-government/whos-who\" role=\"link\">Who's Who</a></li>\n",
      "      <li><a href=\"/my-government/whos-who/president\" role=\"link\">President of India</a></li>\n",
      "      <li><a href=\"/my-government/whos-who/vice-president\" role=\"link\">Vice-President of India</a></li>\n",
      "      <li><a href=\"/my-government/whos-who/prime-minister\" role=\"link\">Prime Minister of India</a></li>\n",
      "      <li><a href=\"/my-government/whos-who/council-ministers\" role=\"link\">Cabinet Ministers</a></li>\n",
      "      <li><a href=\"/my-government/whos-who/chiefs-armed-forces\" role=\"link\">Chiefs of Armed Forces</a></li>\n",
      "      <li><a href=\"/my-government/whos-who/members-parliament\" role=\"link\">Members of Parliament</a></li>\n",
      "    </ul>\n",
      "    </li>\n",
      "</ul>\n",
      "\n",
      "\n",
      "\n",
      "\n",
      "\t\t\t</div>\n",
      "</div>\r\n",
      "  </div></div><div id=\"block-block-9\" class=\"block block-block no-title\" ><div class=\"block-inner clearfix\">  \r\n",
      "  \r\n",
      "  <div class=\"block-content content\"><div class=\"lastupdated\">\n",
      "<div class=\"footer_stqc\">\n",
      "<a class=\"nic_logo\" href=\"https://www.nic.in/\" target=\"_blank\"><img src=\"https://www.india.gov.in/sites/all/themes/adaptivetheme/npi_adaptive/images/nic.png\" alt=\"nic\"/></a>\n",
      "<p>This Portal is a <a href=\"https://www.meity.gov.in/content/mission-mode-projects\" target=\"_blank\" title=\"External site that opens in a new window\" >Mission Mode Project</a> under the <a href=\"https://www.meity.gov.in/divisions/national-e-governance-plan\" target=\"_blank\" title=\"External site that opens in a new window\" >National E-Governance Plan</a>, and is owned, designed and developed by <a href=\"https://www.nic.in/\" target=\"_blank\" title=\"External site that opens in a new window\" >National Informatics Centre (NIC)</a>, <a href=\"https://www.meity.gov.in/\" target=\"_blank\" title=\"External site that opens in a new window\" >Ministry of Electronics & Information Technology</a>, Government of India. The content linked through NPI is owned and maintained by the respective Ministries/Departments.</p>\n",
      "<a class=\"logo_stqc\" href=\"https://www.india.gov.in/sites/upload_files/npi/files/stqc_certificate_npi.pdf\" target=\"_blank\" title=\"Certified Quality Website - CQW\"><img src=\"https://www.india.gov.in/sites/upload_files/npi/files/newsletter/cqw_logo.png\" alt=\"Certified Quality Website - CQW\"/></a>\n",
      "</div>\n",
      "<div class=\"last-review\"> Last reviewed and updated on  05 Dec, 2022<span style=\"color:#131313;\"> \n",
      "\n",
      " NPI 1\n",
      "\n",
      "</span></div>\n",
      "</div>\n",
      "\n",
      "<!-- Global site tag (gtag.js) - Google Analytics -->\n",
      "<script async src=\"https://www.googletagmanager.com/gtag/js?id=UA-42583533-1\"></script>\n",
      "<script>\n",
      "  window.dataLayer = window.dataLayer || [];\n",
      "  function gtag(){dataLayer.push(arguments);}\n",
      "  gtag('js', new Date());\n",
      "\n",
      "  gtag('config', 'UA-42583533-1', { cookie_flags: 'secure' });\n",
      "</script>\n",
      "</div>\r\n",
      "  </div></div></div></div>\t\t</div>\r\n",
      "\t</section>\r\n",
      "\t\r\n",
      "  </footer>\r\n",
      "\r\n",
      "\r\n",
      "   \r\n",
      "\r\n",
      "  </body>\r\n",
      "</html>\r\n",
      "\n"
     ]
    }
   ],
   "source": [
    "import requests \n",
    "r = requests.get('https://www.india.gov.in/') \n",
    "print(r.text) \n"
   ]
  },
  {
   "cell_type": "code",
   "execution_count": 118,
   "id": "7205a89e",
   "metadata": {},
   "outputs": [],
   "source": [
    "s1 =r.text #.findall('content')"
   ]
  },
  {
   "cell_type": "code",
   "execution_count": 119,
   "id": "e3f882dd",
   "metadata": {},
   "outputs": [
    {
     "data": {
      "text/plain": [
       "54"
      ]
     },
     "execution_count": 119,
     "metadata": {},
     "output_type": "execute_result"
    }
   ],
   "source": [
    "s1.find('content')"
   ]
  },
  {
   "cell_type": "code",
   "execution_count": 91,
   "id": "929cdf58",
   "metadata": {},
   "outputs": [
    {
     "name": "stdout",
     "output_type": "stream",
     "text": [
      "<html lang=\"en\" op=\"news\"><head><meta name=\"referrer\" content=\"origin\"><meta name=\"viewport\" content=\"width=device-width, initial-scale=1.0\"><link rel=\"stylesheet\" type=\"text/css\" href=\"news.css?auy6OwaXOwjZxSzpShwo\">\n",
      "        <link rel=\"shortcut icon\" href=\"favicon.ico\">\n",
      "          <link rel=\"alternate\" type=\"application/rss+xml\" title=\"RSS\" href=\"rss\">\n",
      "        <title>Hacker News</title></head><body><center><table id=\"hnmain\" border=\"0\" cellpadding=\"0\" cellspacing=\"0\" width=\"85%\" bgcolor=\"#f6f6ef\">\n",
      "        <tr><td bgcolor=\"#ff6600\"><table border=\"0\" cellpadding=\"0\" cellspacing=\"0\" width=\"100%\" style=\"padding:2px\"><tr><td style=\"width:18px;padding-right:4px\"><a href=\"https://news.ycombinator.com\"><img src=\"y18.svg\" width=\"18\" height=\"18\" style=\"border:1px white solid; display:block\"></a></td>\n",
      "                  <td style=\"line-height:12pt; height:10px;\"><span class=\"pagetop\"><b class=\"hnname\"><a href=\"news\">Hacker News</a></b>\n",
      "                            <a href=\"newest\">new</a> | <a href=\"front\">past</a> | <a href=\"newcomments\">comments</a> | <a href=\"ask\">ask</a> | <a href=\"show\">show</a> | <a href=\"jobs\">jobs</a> | <a href=\"submit\">submit</a>            </span></td><td style=\"text-align:right;padding-right:4px;\"><span class=\"pagetop\">\n",
      "                              <a href=\"login?goto=news\">login</a>\n",
      "                          </span></td>\n",
      "              </tr></table></td></tr>\n",
      "<tr id=\"pagespace\" title=\"\" style=\"height:10px\"></tr><tr><td><table border=\"0\" cellpadding=\"0\" cellspacing=\"0\">\n",
      "            <tr class='athing' id='36304143'>\n",
      "      <td align=\"right\" valign=\"top\" class=\"title\"><span class=\"rank\">1.</span></td>      <td valign=\"top\" class=\"votelinks\"><center><a id='up_36304143'href='vote?id=36304143&amp;how=up&amp;goto=news'><div class='votearrow' title='upvote'></div></a></center></td><td class=\"title\"><span class=\"titleline\"><a href=\"https://github.com/ggerganov/llama.cpp/pull/1827\">Llama.cpp: Full CUDA GPU Acceleration</a><span class=\"sitebit comhead\"> (<a href=\"from?site=github.com/ggerganov\"><span class=\"sitestr\">github.com/ggerganov</span></a>)</span></span></td></tr><tr><td colspan=\"2\"></td><td class=\"subtext\"><span class=\"subline\">\n",
      "          <span class=\"score\" id=\"score_36304143\">212 points</span> by <a href=\"user?id=gzer0\" class=\"hnuser\">gzer0</a> <span class=\"age\" title=\"2023-06-13T01:55:08\"><a href=\"item?id=36304143\">3 hours ago</a></span> <span id=\"unv_36304143\"></span> | <a href=\"hide?id=36304143&amp;goto=news\">hide</a> | <a href=\"item?id=36304143\">90&nbsp;comments</a>        </span>\n",
      "              </td></tr>\n",
      "      <tr class=\"spacer\" style=\"height:5px\"></tr>\n",
      "                <tr class='athing' id='36303371'>\n",
      "      <td align=\"right\" valign=\"top\" class=\"title\"><span class=\"rank\">2.</span></td>      <td valign=\"top\" class=\"votelinks\"><center><a id='up_36303371'href='vote?id=36303371&amp;how=up&amp;goto=news'><div class='votearrow' title='upvote'></div></a></center></td><td class=\"title\"><span class=\"titleline\"><a href=\"https://apps.apple.com/us/story/id1435835881\" rel=\"noreferrer\">BBEdit: Where Respect Is Due</a><span class=\"sitebit comhead\"> (<a href=\"from?site=apps.apple.com\"><span class=\"sitestr\">apps.apple.com</span></a>)</span></span></td></tr><tr><td colspan=\"2\"></td><td class=\"subtext\"><span class=\"subline\">\n",
      "          <span class=\"score\" id=\"score_36303371\">278 points</span> by <a href=\"user?id=tambourine_man\" class=\"hnuser\">tambourine_man</a> <span class=\"age\" title=\"2023-06-13T00:23:14\"><a href=\"item?id=36303371\">5 hours ago</a></span> <span id=\"unv_36303371\"></span> | <a href=\"hide?id=36303371&amp;goto=news\">hide</a> | <a href=\"item?id=36303371\">65&nbsp;comments</a>        </span>\n",
      "              </td></tr>\n",
      "      <tr class=\"spacer\" style=\"height:5px\"></tr>\n",
      "                <tr class='athing' id='36296695'>\n",
      "      <td align=\"right\" valign=\"top\" class=\"title\"><span class=\"rank\">3.</span></td>      <td valign=\"top\" class=\"votelinks\"><center><a id='up_36296695'href='vote?id=36296695&amp;how=up&amp;goto=news'><div class='votearrow' title='upvote'></div></a></center></td><td class=\"title\"><span class=\"titleline\"><a href=\"https://non.io\" rel=\"noreferrer\">Show HN: Non.io, a Reddit-like platform Ive been working on for the last 4 years</a><span class=\"sitebit comhead\"> (<a href=\"from?site=non.io\"><span class=\"sitestr\">non.io</span></a>)</span></span></td></tr><tr><td colspan=\"2\"></td><td class=\"subtext\"><span class=\"subline\">\n",
      "          <span class=\"score\" id=\"score_36296695\">1556 points</span> by <a href=\"user?id=jjcm\" class=\"hnuser\">jjcm</a> <span class=\"age\" title=\"2023-06-12T16:54:38\"><a href=\"item?id=36296695\">12 hours ago</a></span> <span id=\"unv_36296695\"></span> | <a href=\"hide?id=36296695&amp;goto=news\">hide</a> | <a href=\"item?id=36296695\">475&nbsp;comments</a>        </span>\n",
      "              </td></tr>\n",
      "      <tr class=\"spacer\" style=\"height:5px\"></tr>\n",
      "                <tr class='athing' id='36304979'>\n",
      "      <td align=\"right\" valign=\"top\" class=\"title\"><span class=\"rank\">4.</span></td>      <td valign=\"top\" class=\"votelinks\"><center><a id='up_36304979'href='vote?id=36304979&amp;how=up&amp;goto=news'><div class='votearrow' title='upvote'></div></a></center></td><td class=\"title\"><span class=\"titleline\"><a href=\"https://waabi.ai/oyster/\" rel=\"noreferrer\">Oyster: Towards Unsupervised Object Detection from Lidar Point Clouds</a><span class=\"sitebit comhead\"> (<a href=\"from?site=waabi.ai\"><span class=\"sitestr\">waabi.ai</span></a>)</span></span></td></tr><tr><td colspan=\"2\"></td><td class=\"subtext\"><span class=\"subline\">\n",
      "          <span class=\"score\" id=\"score_36304979\">24 points</span> by <a href=\"user?id=abrichr\" class=\"hnuser\">abrichr</a> <span class=\"age\" title=\"2023-06-13T03:48:31\"><a href=\"item?id=36304979\">1 hour ago</a></span> <span id=\"unv_36304979\"></span> | <a href=\"hide?id=36304979&amp;goto=news\">hide</a> | <a href=\"item?id=36304979\">discuss</a>        </span>\n",
      "              </td></tr>\n",
      "      <tr class=\"spacer\" style=\"height:5px\"></tr>\n",
      "                <tr class='athing' id='36305271'>\n",
      "      <td align=\"right\" valign=\"top\" class=\"title\"><span class=\"rank\">5.</span></td>      <td valign=\"top\" class=\"votelinks\"><center><a id='up_36305271'href='vote?id=36305271&amp;how=up&amp;goto=news'><div class='votearrow' title='upvote'></div></a></center></td><td class=\"title\"><span class=\"titleline\"><a href=\"https://hackcompute.com/hacking-epp-servers/\" rel=\"noreferrer\">Hacking root EPP servers to take control of zones</a><span class=\"sitebit comhead\"> (<a href=\"from?site=hackcompute.com\"><span class=\"sitestr\">hackcompute.com</span></a>)</span></span></td></tr><tr><td colspan=\"2\"></td><td class=\"subtext\"><span class=\"subline\">\n",
      "          <span class=\"score\" id=\"score_36305271\">32 points</span> by <a href=\"user?id=iancarroll\" class=\"hnuser\">iancarroll</a> <span class=\"age\" title=\"2023-06-13T04:22:46\"><a href=\"item?id=36305271\">1 hour ago</a></span> <span id=\"unv_36305271\"></span> | <a href=\"hide?id=36305271&amp;goto=news\">hide</a> | <a href=\"item?id=36305271\">6&nbsp;comments</a>        </span>\n",
      "              </td></tr>\n",
      "      <tr class=\"spacer\" style=\"height:5px\"></tr>\n",
      "                <tr class='athing' id='36304716'>\n",
      "      <td align=\"right\" valign=\"top\" class=\"title\"><span class=\"rank\">6.</span></td>      <td valign=\"top\" class=\"votelinks\"><center><a id='up_36304716'href='vote?id=36304716&amp;how=up&amp;goto=news'><div class='votearrow' title='upvote'></div></a></center></td><td class=\"title\"><span class=\"titleline\"><a href=\"https://snap-research.github.io/SnapFusion/\" rel=\"noreferrer\">SnapFusion: Text-to-Image Diffusion Model on Mobile Devices Within Two Seconds</a><span class=\"sitebit comhead\"> (<a href=\"from?site=snap-research.github.io\"><span class=\"sitestr\">snap-research.github.io</span></a>)</span></span></td></tr><tr><td colspan=\"2\"></td><td class=\"subtext\"><span class=\"subline\">\n",
      "          <span class=\"score\" id=\"score_36304716\">40 points</span> by <a href=\"user?id=synapse26\" class=\"hnuser\">synapse26</a> <span class=\"age\" title=\"2023-06-13T03:16:07\"><a href=\"item?id=36304716\">2 hours ago</a></span> <span id=\"unv_36304716\"></span> | <a href=\"hide?id=36304716&amp;goto=news\">hide</a> | <a href=\"item?id=36304716\">4&nbsp;comments</a>        </span>\n",
      "              </td></tr>\n",
      "      <tr class=\"spacer\" style=\"height:5px\"></tr>\n",
      "                <tr class='athing' id='36302805'>\n",
      "      <td align=\"right\" valign=\"top\" class=\"title\"><span class=\"rank\">7.</span></td>      <td valign=\"top\" class=\"votelinks\"><center><a id='up_36302805'href='vote?id=36302805&amp;how=up&amp;goto=news'><div class='votearrow' title='upvote'></div></a></center></td><td class=\"title\"><span class=\"titleline\"><a href=\"https://github.com/mackyle/sqlite/blob/18cf47156abe94255ae1495ba2da84517dce6081/src/os.h\">Why sqlite3 temp files were renamed &#x27;etilqs_*&#x27; (2006)</a><span class=\"sitebit comhead\"> (<a href=\"from?site=github.com/mackyle\"><span class=\"sitestr\">github.com/mackyle</span></a>)</span></span></td></tr><tr><td colspan=\"2\"></td><td class=\"subtext\"><span class=\"subline\">\n",
      "          <span class=\"score\" id=\"score_36302805\">183 points</span> by <a href=\"user?id=bsmith89\" class=\"hnuser\">bsmith89</a> <span class=\"age\" title=\"2023-06-12T23:20:28\"><a href=\"item?id=36302805\">6 hours ago</a></span> <span id=\"unv_36302805\"></span> | <a href=\"hide?id=36302805&amp;goto=news\">hide</a> | <a href=\"item?id=36302805\">64&nbsp;comments</a>        </span>\n",
      "              </td></tr>\n",
      "      <tr class=\"spacer\" style=\"height:5px\"></tr>\n",
      "                <tr class='athing' id='36302448'>\n",
      "      <td align=\"right\" valign=\"top\" class=\"title\"><span class=\"rank\">8.</span></td>      <td valign=\"top\" class=\"votelinks\"><center><a id='up_36302448'href='vote?id=36302448&amp;how=up&amp;goto=news'><div class='votearrow' title='upvote'></div></a></center></td><td class=\"title\"><span class=\"titleline\"><a href=\"https://www.quantamagazine.org/a-new-experiment-casts-doubt-on-the-leading-theory-of-the-nucleus-20230612/\" rel=\"noreferrer\">A new experiment casts doubt on the leading theory of the nucleus</a><span class=\"sitebit comhead\"> (<a href=\"from?site=quantamagazine.org\"><span class=\"sitestr\">quantamagazine.org</span></a>)</span></span></td></tr><tr><td colspan=\"2\"></td><td class=\"subtext\"><span class=\"subline\">\n",
      "          <span class=\"score\" id=\"score_36302448\">116 points</span> by <a href=\"user?id=jnord\" class=\"hnuser\">jnord</a> <span class=\"age\" title=\"2023-06-12T22:49:35\"><a href=\"item?id=36302448\">6 hours ago</a></span> <span id=\"unv_36302448\"></span> | <a href=\"hide?id=36302448&amp;goto=news\">hide</a> | <a href=\"item?id=36302448\">44&nbsp;comments</a>        </span>\n",
      "              </td></tr>\n",
      "      <tr class=\"spacer\" style=\"height:5px\"></tr>\n",
      "                <tr class='athing' id='36299543'>\n",
      "      <td align=\"right\" valign=\"top\" class=\"title\"><span class=\"rank\">9.</span></td>      <td valign=\"top\" class=\"votelinks\"><center><a id='up_36299543'href='vote?id=36299543&amp;how=up&amp;goto=news'><div class='votearrow' title='upvote'></div></a></center></td><td class=\"title\"><span class=\"titleline\"><a href=\"https://spritely.institute/news/hoot-wireworld-live-in-browser.html\" rel=\"noreferrer\">Lisp Game Jam – “Wireworld” in WebAssembly Using Spritely&#x27;s Hoot Project</a><span class=\"sitebit comhead\"> (<a href=\"from?site=spritely.institute\"><span class=\"sitestr\">spritely.institute</span></a>)</span></span></td></tr><tr><td colspan=\"2\"></td><td class=\"subtext\"><span class=\"subline\">\n",
      "          <span class=\"score\" id=\"score_36299543\">30 points</span> by <a href=\"user?id=paroneayea\" class=\"hnuser\">paroneayea</a> <span class=\"age\" title=\"2023-06-12T19:25:01\"><a href=\"item?id=36299543\">3 hours ago</a></span> <span id=\"unv_36299543\"></span> | <a href=\"hide?id=36299543&amp;goto=news\">hide</a> | <a href=\"item?id=36299543\">2&nbsp;comments</a>        </span>\n",
      "              </td></tr>\n",
      "      <tr class=\"spacer\" style=\"height:5px\"></tr>\n",
      "                <tr class='athing' id='36302002'>\n",
      "      <td align=\"right\" valign=\"top\" class=\"title\"><span class=\"rank\">10.</span></td>      <td valign=\"top\" class=\"votelinks\"><center><a id='up_36302002'href='vote?id=36302002&amp;how=up&amp;goto=news'><div class='votearrow' title='upvote'></div></a></center></td><td class=\"title\"><span class=\"titleline\"><a href=\"https://ericwbailey.website/published/dont-use-custom-css-scrollbars/\" rel=\"noreferrer\">Don&#x27;t use custom CSS scrollbars</a><span class=\"sitebit comhead\"> (<a href=\"from?site=ericwbailey.website\"><span class=\"sitestr\">ericwbailey.website</span></a>)</span></span></td></tr><tr><td colspan=\"2\"></td><td class=\"subtext\"><span class=\"subline\">\n",
      "          <span class=\"score\" id=\"score_36302002\">155 points</span> by <a href=\"user?id=Twixes\" class=\"hnuser\">Twixes</a> <span class=\"age\" title=\"2023-06-12T22:12:39\"><a href=\"item?id=36302002\">7 hours ago</a></span> <span id=\"unv_36302002\"></span> | <a href=\"hide?id=36302002&amp;goto=news\">hide</a> | <a href=\"item?id=36302002\">96&nbsp;comments</a>        </span>\n",
      "              </td></tr>\n",
      "      <tr class=\"spacer\" style=\"height:5px\"></tr>\n",
      "                <tr class='athing' id='36301974'>\n",
      "      <td align=\"right\" valign=\"top\" class=\"title\"><span class=\"rank\">11.</span></td>      <td valign=\"top\" class=\"votelinks\"><center><a id='up_36301974'href='vote?id=36301974&amp;how=up&amp;goto=news'><div class='votearrow' title='upvote'></div></a></center></td><td class=\"title\"><span class=\"titleline\"><a href=\"https://www.sfgate.com/food/article/anchor-brewing-co-ends-national-distribution-18148141.php\" rel=\"noreferrer\">Anchor Brewing Company ends national distribution, kills Christmas Ale</a><span class=\"sitebit comhead\"> (<a href=\"from?site=sfgate.com\"><span class=\"sitestr\">sfgate.com</span></a>)</span></span></td></tr><tr><td colspan=\"2\"></td><td class=\"subtext\"><span class=\"subline\">\n",
      "          <span class=\"score\" id=\"score_36301974\">124 points</span> by <a href=\"user?id=kaycebasques\" class=\"hnuser\">kaycebasques</a> <span class=\"age\" title=\"2023-06-12T22:09:45\"><a href=\"item?id=36301974\">7 hours ago</a></span> <span id=\"unv_36301974\"></span> | <a href=\"hide?id=36301974&amp;goto=news\">hide</a> | <a href=\"item?id=36301974\">193&nbsp;comments</a>        </span>\n",
      "              </td></tr>\n",
      "      <tr class=\"spacer\" style=\"height:5px\"></tr>\n",
      "                <tr class='athing' id='36299246'>\n",
      "      <td align=\"right\" valign=\"top\" class=\"title\"><span class=\"rank\">12.</span></td>      <td valign=\"top\" class=\"votelinks\"><center><a id='up_36299246'href='vote?id=36299246&amp;how=up&amp;goto=news'><div class='votearrow' title='upvote'></div></a></center></td><td class=\"title\"><span class=\"titleline\"><a href=\"https://arxiv.org/abs/2306.02707\" rel=\"noreferrer\">Orca: Progressive Learning from Complex Explanation Traces of GPT-4</a><span class=\"sitebit comhead\"> (<a href=\"from?site=arxiv.org\"><span class=\"sitestr\">arxiv.org</span></a>)</span></span></td></tr><tr><td colspan=\"2\"></td><td class=\"subtext\"><span class=\"subline\">\n",
      "          <span class=\"score\" id=\"score_36299246\">16 points</span> by <a href=\"user?id=kordlessagain\" class=\"hnuser\">kordlessagain</a> <span class=\"age\" title=\"2023-06-12T19:04:59\"><a href=\"item?id=36299246\">2 hours ago</a></span> <span id=\"unv_36299246\"></span> | <a href=\"hide?id=36299246&amp;goto=news\">hide</a> | <a href=\"item?id=36299246\">1&nbsp;comment</a>        </span>\n",
      "              </td></tr>\n",
      "      <tr class=\"spacer\" style=\"height:5px\"></tr>\n",
      "                <tr class='athing' id='36296882'>\n",
      "      <td align=\"right\" valign=\"top\" class=\"title\"><span class=\"rank\">13.</span></td>      <td valign=\"top\" class=\"votelinks\"><center><a id='up_36296882'href='vote?id=36296882&amp;how=up&amp;goto=news'><div class='votearrow' title='upvote'></div></a></center></td><td class=\"title\"><span class=\"titleline\"><a href=\"https://www.marginalia.nu/log/82_killing_community\" rel=\"noreferrer\">Killing Community</a><span class=\"sitebit comhead\"> (<a href=\"from?site=marginalia.nu\"><span class=\"sitestr\">marginalia.nu</span></a>)</span></span></td></tr><tr><td colspan=\"2\"></td><td class=\"subtext\"><span class=\"subline\">\n",
      "          <span class=\"score\" id=\"score_36296882\">383 points</span> by <a href=\"user?id=dasil003\" class=\"hnuser\">dasil003</a> <span class=\"age\" title=\"2023-06-12T17:02:59\"><a href=\"item?id=36296882\">12 hours ago</a></span> <span id=\"unv_36296882\"></span> | <a href=\"hide?id=36296882&amp;goto=news\">hide</a> | <a href=\"item?id=36296882\">234&nbsp;comments</a>        </span>\n",
      "              </td></tr>\n",
      "      <tr class=\"spacer\" style=\"height:5px\"></tr>\n",
      "                <tr class='athing' id='36297476'>\n",
      "      <td align=\"right\" valign=\"top\" class=\"title\"><span class=\"rank\">14.</span></td>      <td valign=\"top\" class=\"votelinks\"><center><a id='up_36297476'href='vote?id=36297476&amp;how=up&amp;goto=news'><div class='votearrow' title='upvote'></div></a></center></td><td class=\"title\"><span class=\"titleline\"><a href=\"https://justine.lol/sorting/\" rel=\"noreferrer\">Understanding DeepMind&#x27;s sorting algorithm</a><span class=\"sitebit comhead\"> (<a href=\"from?site=justine.lol\"><span class=\"sitestr\">justine.lol</span></a>)</span></span></td></tr><tr><td colspan=\"2\"></td><td class=\"subtext\"><span class=\"subline\">\n",
      "          <span class=\"score\" id=\"score_36297476\">289 points</span> by <a href=\"user?id=jart\" class=\"hnuser\">jart</a> <span class=\"age\" title=\"2023-06-12T17:30:54\"><a href=\"item?id=36297476\">12 hours ago</a></span> <span id=\"unv_36297476\"></span> | <a href=\"hide?id=36297476&amp;goto=news\">hide</a> | <a href=\"item?id=36297476\">35&nbsp;comments</a>        </span>\n",
      "              </td></tr>\n",
      "      <tr class=\"spacer\" style=\"height:5px\"></tr>\n",
      "                <tr class='athing' id='36304623'>\n",
      "      <td align=\"right\" valign=\"top\" class=\"title\"><span class=\"rank\">15.</span></td>      <td valign=\"top\" class=\"votelinks\"><center><a id='up_36304623'href='vote?id=36304623&amp;how=up&amp;goto=news'><div class='votearrow' title='upvote'></div></a></center></td><td class=\"title\"><span class=\"titleline\"><a href=\"https://carboncredits.com/meta-to-buy-almost-7-million-carbon-credits-from-aspiration/\" rel=\"noreferrer\">Meta to Buy Almost 7M Carbon Credits</a><span class=\"sitebit comhead\"> (<a href=\"from?site=carboncredits.com\"><span class=\"sitestr\">carboncredits.com</span></a>)</span></span></td></tr><tr><td colspan=\"2\"></td><td class=\"subtext\"><span class=\"subline\">\n",
      "          <span class=\"score\" id=\"score_36304623\">22 points</span> by <a href=\"user?id=Brajeshwar\" class=\"hnuser\">Brajeshwar</a> <span class=\"age\" title=\"2023-06-13T03:01:21\"><a href=\"item?id=36304623\">2 hours ago</a></span> <span id=\"unv_36304623\"></span> | <a href=\"hide?id=36304623&amp;goto=news\">hide</a> | <a href=\"item?id=36304623\">36&nbsp;comments</a>        </span>\n",
      "              </td></tr>\n",
      "      <tr class=\"spacer\" style=\"height:5px\"></tr>\n",
      "                <tr class='athing' id='36304685'>\n",
      "      <td align=\"right\" valign=\"top\" class=\"title\"><span class=\"rank\">16.</span></td>      <td valign=\"top\" class=\"votelinks\"><center><a id='up_36304685'href='vote?id=36304685&amp;how=up&amp;goto=news'><div class='votearrow' title='upvote'></div></a></center></td><td class=\"title\"><span class=\"titleline\"><a href=\"https://www.dkriesel.com/en/blog/2013/0802_xerox-workcentres_are_switching_written_numbers_when_scanning\" rel=\"noreferrer\">Xerox scanners randomly alter numbers in scanned documents (2013)</a><span class=\"sitebit comhead\"> (<a href=\"from?site=dkriesel.com\"><span class=\"sitestr\">dkriesel.com</span></a>)</span></span></td></tr><tr><td colspan=\"2\"></td><td class=\"subtext\"><span class=\"subline\">\n",
      "          <span class=\"score\" id=\"score_36304685\">49 points</span> by <a href=\"user?id=gurjeet\" class=\"hnuser\">gurjeet</a> <span class=\"age\" title=\"2023-06-13T03:11:00\"><a href=\"item?id=36304685\">2 hours ago</a></span> <span id=\"unv_36304685\"></span> | <a href=\"hide?id=36304685&amp;goto=news\">hide</a> | <a href=\"item?id=36304685\">10&nbsp;comments</a>        </span>\n",
      "              </td></tr>\n",
      "      <tr class=\"spacer\" style=\"height:5px\"></tr>\n",
      "                <tr class='athing' id='36302231'>\n",
      "      <td align=\"right\" valign=\"top\" class=\"title\"><span class=\"rank\">17.</span></td>      <td valign=\"top\" class=\"votelinks\"><center><a id='up_36302231'href='vote?id=36302231&amp;how=up&amp;goto=news'><div class='votearrow' title='upvote'></div></a></center></td><td class=\"title\"><span class=\"titleline\"><a href=\"https://newsletter.mollywhite.net/p/but-the-sec-let-us-go-public-and\" rel=\"noreferrer\">“But the SEC let us go public” and other flawed arguments in Coinbase&#x27;s defense</a><span class=\"sitebit comhead\"> (<a href=\"from?site=mollywhite.net\"><span class=\"sitestr\">mollywhite.net</span></a>)</span></span></td></tr><tr><td colspan=\"2\"></td><td class=\"subtext\"><span class=\"subline\">\n",
      "          <span class=\"score\" id=\"score_36302231\">117 points</span> by <a href=\"user?id=0xedb\" class=\"hnuser\">0xedb</a> <span class=\"age\" title=\"2023-06-12T22:32:12\"><a href=\"item?id=36302231\">7 hours ago</a></span> <span id=\"unv_36302231\"></span> | <a href=\"hide?id=36302231&amp;goto=news\">hide</a> | <a href=\"item?id=36302231\">167&nbsp;comments</a>        </span>\n",
      "              </td></tr>\n",
      "      <tr class=\"spacer\" style=\"height:5px\"></tr>\n",
      "                <tr class='athing' id='36301758'>\n",
      "      <td align=\"right\" valign=\"top\" class=\"title\"><span class=\"rank\">18.</span></td>      <td valign=\"top\" class=\"votelinks\"><center><a id='up_36301758'href='vote?id=36301758&amp;how=up&amp;goto=news'><div class='votearrow' title='upvote'></div></a></center></td><td class=\"title\"><span class=\"titleline\"><a href=\"https://sashachapin.substack.com/p/in-praise-of-blowing-up-your-life\" rel=\"noreferrer\">In praise of blowing up your life</a><span class=\"sitebit comhead\"> (<a href=\"from?site=sashachapin.substack.com\"><span class=\"sitestr\">sashachapin.substack.com</span></a>)</span></span></td></tr><tr><td colspan=\"2\"></td><td class=\"subtext\"><span class=\"subline\">\n",
      "          <span class=\"score\" id=\"score_36301758\">101 points</span> by <a href=\"user?id=jger15\" class=\"hnuser\">jger15</a> <span class=\"age\" title=\"2023-06-12T21:54:16\"><a href=\"item?id=36301758\">7 hours ago</a></span> <span id=\"unv_36301758\"></span> | <a href=\"hide?id=36301758&amp;goto=news\">hide</a> | <a href=\"item?id=36301758\">70&nbsp;comments</a>        </span>\n",
      "              </td></tr>\n",
      "      <tr class=\"spacer\" style=\"height:5px\"></tr>\n",
      "                <tr class='athing' id='36300439'>\n",
      "      <td align=\"right\" valign=\"top\" class=\"title\"><span class=\"rank\">19.</span></td>      <td valign=\"top\" class=\"votelinks\"><center><a id='up_36300439'href='vote?id=36300439&amp;how=up&amp;goto=news'><div class='votearrow' title='upvote'></div></a></center></td><td class=\"title\"><span class=\"titleline\"><a href=\"https://www.scientificamerican.com/podcast/episode/mdma-moves-from-club-drug-to-real-therapy/\" rel=\"nofollow noreferrer\">MDMA Moves from Club Drug to Real Therapy</a><span class=\"sitebit comhead\"> (<a href=\"from?site=scientificamerican.com\"><span class=\"sitestr\">scientificamerican.com</span></a>)</span></span></td></tr><tr><td colspan=\"2\"></td><td class=\"subtext\"><span class=\"subline\">\n",
      "          <span class=\"score\" id=\"score_36300439\">6 points</span> by <a href=\"user?id=LinuxBender\" class=\"hnuser\">LinuxBender</a> <span class=\"age\" title=\"2023-06-12T20:22:40\"><a href=\"item?id=36300439\">1 hour ago</a></span> <span id=\"unv_36300439\"></span> | <a href=\"hide?id=36300439&amp;goto=news\">hide</a> | <a href=\"item?id=36300439\">1&nbsp;comment</a>        </span>\n",
      "              </td></tr>\n",
      "      <tr class=\"spacer\" style=\"height:5px\"></tr>\n",
      "                <tr class='athing' id='36296282'>\n",
      "      <td align=\"right\" valign=\"top\" class=\"title\"><span class=\"rank\">20.</span></td>      <td valign=\"top\" class=\"votelinks\"><center><a id='up_36296282'href='vote?id=36296282&amp;how=up&amp;goto=news'><div class='votearrow' title='upvote'></div></a></center></td><td class=\"title\"><span class=\"titleline\"><a href=\"https://pixelfed.blog/p/2023/feature/introducing-import-from-instagram\" rel=\"noreferrer\">Pixelfed Introduces Import from Instagram</a><span class=\"sitebit comhead\"> (<a href=\"from?site=pixelfed.blog\"><span class=\"sitestr\">pixelfed.blog</span></a>)</span></span></td></tr><tr><td colspan=\"2\"></td><td class=\"subtext\"><span class=\"subline\">\n",
      "          <span class=\"score\" id=\"score_36296282\">195 points</span> by <a href=\"user?id=rapnie\" class=\"hnuser\">rapnie</a> <span class=\"age\" title=\"2023-06-12T16:35:04\"><a href=\"item?id=36296282\">13 hours ago</a></span> <span id=\"unv_36296282\"></span> | <a href=\"hide?id=36296282&amp;goto=news\">hide</a> | <a href=\"item?id=36296282\">99&nbsp;comments</a>        </span>\n",
      "              </td></tr>\n",
      "      <tr class=\"spacer\" style=\"height:5px\"></tr>\n",
      "                <tr class='athing' id='36303955'>\n",
      "      <td align=\"right\" valign=\"top\" class=\"title\"><span class=\"rank\">21.</span></td>      <td valign=\"top\" class=\"votelinks\"><center><a id='up_36303955'href='vote?id=36303955&amp;how=up&amp;goto=news'><div class='votearrow' title='upvote'></div></a></center></td><td class=\"title\"><span class=\"titleline\"><a href=\"https://vintagenatgeographic.tumblr.com/\" rel=\"noreferrer\">Vintage National Geographic Photos</a><span class=\"sitebit comhead\"> (<a href=\"from?site=vintagenatgeographic.tumblr.com\"><span class=\"sitestr\">vintagenatgeographic.tumblr.com</span></a>)</span></span></td></tr><tr><td colspan=\"2\"></td><td class=\"subtext\"><span class=\"subline\">\n",
      "          <span class=\"score\" id=\"score_36303955\">30 points</span> by <a href=\"user?id=ZunarJ5\" class=\"hnuser\">ZunarJ5</a> <span class=\"age\" title=\"2023-06-13T01:30:22\"><a href=\"item?id=36303955\">4 hours ago</a></span> <span id=\"unv_36303955\"></span> | <a href=\"hide?id=36303955&amp;goto=news\">hide</a> | <a href=\"item?id=36303955\">4&nbsp;comments</a>        </span>\n",
      "              </td></tr>\n",
      "      <tr class=\"spacer\" style=\"height:5px\"></tr>\n",
      "                <tr class='athing' id='36300958'>\n",
      "      <td align=\"right\" valign=\"top\" class=\"title\"><span class=\"rank\">22.</span></td>      <td valign=\"top\" class=\"votelinks\"><center><a id='up_36300958'href='vote?id=36300958&amp;how=up&amp;goto=news'><div class='votearrow' title='upvote'></div></a></center></td><td class=\"title\"><span class=\"titleline\"><a href=\"https://www.techdirt.com/2023/06/08/us-patent-office-proposes-rule-to-make-it-much-harder-to-kill-bad-patents/\" rel=\"noreferrer\">US Patent Office proposes rule to make it much harder to kill bad patents</a><span class=\"sitebit comhead\"> (<a href=\"from?site=techdirt.com\"><span class=\"sitestr\">techdirt.com</span></a>)</span></span></td></tr><tr><td colspan=\"2\"></td><td class=\"subtext\"><span class=\"subline\">\n",
      "          <span class=\"score\" id=\"score_36300958\">394 points</span> by <a href=\"user?id=berkeleyjunk\" class=\"hnuser\">berkeleyjunk</a> <span class=\"age\" title=\"2023-06-12T20:55:03\"><a href=\"item?id=36300958\">8 hours ago</a></span> <span id=\"unv_36300958\"></span> | <a href=\"hide?id=36300958&amp;goto=news\">hide</a> | <a href=\"item?id=36300958\">55&nbsp;comments</a>        </span>\n",
      "              </td></tr>\n",
      "      <tr class=\"spacer\" style=\"height:5px\"></tr>\n",
      "                <tr class='athing' id='36289682'>\n",
      "      <td align=\"right\" valign=\"top\" class=\"title\"><span class=\"rank\">23.</span></td>      <td valign=\"top\" class=\"votelinks\"><center><a id='up_36289682'href='vote?id=36289682&amp;how=up&amp;goto=news'><div class='votearrow' title='upvote'></div></a></center></td><td class=\"title\"><span class=\"titleline\"><a href=\"https://www.hackster.io/news/miniature-macintosh-with-raspberry-pi-cbff147ed047\" rel=\"noreferrer\">Miniature Macintosh with Raspberry Pi</a><span class=\"sitebit comhead\"> (<a href=\"from?site=hackster.io\"><span class=\"sitestr\">hackster.io</span></a>)</span></span></td></tr><tr><td colspan=\"2\"></td><td class=\"subtext\"><span class=\"subline\">\n",
      "          <span class=\"score\" id=\"score_36289682\">84 points</span> by <a href=\"user?id=rcarmo\" class=\"hnuser\">rcarmo</a> <span class=\"age\" title=\"2023-06-12T07:31:50\"><a href=\"item?id=36289682\">8 hours ago</a></span> <span id=\"unv_36289682\"></span> | <a href=\"hide?id=36289682&amp;goto=news\">hide</a> | <a href=\"item?id=36289682\">27&nbsp;comments</a>        </span>\n",
      "              </td></tr>\n",
      "      <tr class=\"spacer\" style=\"height:5px\"></tr>\n",
      "                <tr class='athing' id='36295227'>\n",
      "      <td align=\"right\" valign=\"top\" class=\"title\"><span class=\"rank\">24.</span></td>      <td valign=\"top\" class=\"votelinks\"><center><a id='up_36295227'href='vote?id=36295227&amp;how=up&amp;goto=news'><div class='votearrow' title='upvote'></div></a></center></td><td class=\"title\"><span class=\"titleline\"><a href=\"https://generalrobots.substack.com/p/dimension-hopper-part-1\" rel=\"noreferrer\">Show HN: Stable Diffusion powered level editor for a 2D game</a><span class=\"sitebit comhead\"> (<a href=\"from?site=generalrobots.substack.com\"><span class=\"sitestr\">generalrobots.substack.com</span></a>)</span></span></td></tr><tr><td colspan=\"2\"></td><td class=\"subtext\"><span class=\"subline\">\n",
      "          <span class=\"score\" id=\"score_36295227\">313 points</span> by <a href=\"user?id=robobenjie\" class=\"hnuser\">robobenjie</a> <span class=\"age\" title=\"2023-06-12T15:31:55\"><a href=\"item?id=36295227\">14 hours ago</a></span> <span id=\"unv_36295227\"></span> | <a href=\"hide?id=36295227&amp;goto=news\">hide</a> | <a href=\"item?id=36295227\">67&nbsp;comments</a>        </span>\n",
      "              </td></tr>\n",
      "      <tr class=\"spacer\" style=\"height:5px\"></tr>\n",
      "                <tr class='athing' id='36300539'>\n",
      "      <td align=\"right\" valign=\"top\" class=\"title\"><span class=\"rank\">25.</span></td>      <td valign=\"top\" class=\"votelinks\"><center><a id='up_36300539'href='vote?id=36300539&amp;how=up&amp;goto=news'><div class='votearrow' title='upvote'></div></a></center></td><td class=\"title\"><span class=\"titleline\"><a href=\"https://benjcal.space/posts/the-adventures-of-writing-a-chip8-emulator-part-1/\" rel=\"noreferrer\">The Adventures of Writing a CHIP8 Emulator</a><span class=\"sitebit comhead\"> (<a href=\"from?site=benjcal.space\"><span class=\"sitestr\">benjcal.space</span></a>)</span></span></td></tr><tr><td colspan=\"2\"></td><td class=\"subtext\"><span class=\"subline\">\n",
      "          <span class=\"score\" id=\"score_36300539\">20 points</span> by <a href=\"user?id=lrsjng\" class=\"hnuser\">lrsjng</a> <span class=\"age\" title=\"2023-06-12T20:28:50\"><a href=\"item?id=36300539\">4 hours ago</a></span> <span id=\"unv_36300539\"></span> | <a href=\"hide?id=36300539&amp;goto=news\">hide</a> | <a href=\"item?id=36300539\">2&nbsp;comments</a>        </span>\n",
      "              </td></tr>\n",
      "      <tr class=\"spacer\" style=\"height:5px\"></tr>\n",
      "                <tr class='athing' id='36289580'>\n",
      "      <td align=\"right\" valign=\"top\" class=\"title\"><span class=\"rank\">26.</span></td>      <td valign=\"top\" class=\"votelinks\"><center><a id='up_36289580'href='vote?id=36289580&amp;how=up&amp;goto=news'><div class='votearrow' title='upvote'></div></a></center></td><td class=\"title\"><span class=\"titleline\"><a href=\"https://underjord.io/scripting-with-elixir.html\" rel=\"noreferrer\">Scripting with Elixir</a><span class=\"sitebit comhead\"> (<a href=\"from?site=underjord.io\"><span class=\"sitestr\">underjord.io</span></a>)</span></span></td></tr><tr><td colspan=\"2\"></td><td class=\"subtext\"><span class=\"subline\">\n",
      "          <span class=\"score\" id=\"score_36289580\">169 points</span> by <a href=\"user?id=lawik\" class=\"hnuser\">lawik</a> <span class=\"age\" title=\"2023-06-12T07:20:18\"><a href=\"item?id=36289580\">10 hours ago</a></span> <span id=\"unv_36289580\"></span> | <a href=\"hide?id=36289580&amp;goto=news\">hide</a> | <a href=\"item?id=36289580\">34&nbsp;comments</a>        </span>\n",
      "              </td></tr>\n",
      "      <tr class=\"spacer\" style=\"height:5px\"></tr>\n",
      "                <tr class='athing' id='36303074'>\n",
      "      <td align=\"right\" valign=\"top\" class=\"title\"><span class=\"rank\">27.</span></td>      <td valign=\"top\" class=\"votelinks\"><center><a id='up_36303074'href='vote?id=36303074&amp;how=up&amp;goto=news'><div class='votearrow' title='upvote'></div></a></center></td><td class=\"title\"><span class=\"titleline\"><a href=\"https://www.pulumi.com/blog/converting-full-terraform-programs-to-pulumi/\" rel=\"noreferrer\">Converting Full Terraform Programs to Pulumi</a><span class=\"sitebit comhead\"> (<a href=\"from?site=pulumi.com\"><span class=\"sitestr\">pulumi.com</span></a>)</span></span></td></tr><tr><td colspan=\"2\"></td><td class=\"subtext\"><span class=\"subline\">\n",
      "          <span class=\"score\" id=\"score_36303074\">41 points</span> by <a href=\"user?id=hekul\" class=\"hnuser\">hekul</a> <span class=\"age\" title=\"2023-06-12T23:47:37\"><a href=\"item?id=36303074\">5 hours ago</a></span> <span id=\"unv_36303074\"></span> | <a href=\"hide?id=36303074&amp;goto=news\">hide</a> | <a href=\"item?id=36303074\">27&nbsp;comments</a>        </span>\n",
      "              </td></tr>\n",
      "      <tr class=\"spacer\" style=\"height:5px\"></tr>\n",
      "                <tr class='athing' id='36303447'>\n",
      "      <td align=\"right\" valign=\"top\" class=\"title\"><span class=\"rank\">28.</span></td>      <td valign=\"top\" class=\"votelinks\"><center><a id='up_36303447'href='vote?id=36303447&amp;how=up&amp;goto=news'><div class='votearrow' title='upvote'></div></a></center></td><td class=\"title\"><span class=\"titleline\"><a href=\"https://www.nytimes.com/2023/06/12/magazine/mrbeast-youtube.html\" rel=\"noreferrer\">MrBeast has become a viral sensation for his acts of altruism</a><span class=\"sitebit comhead\"> (<a href=\"from?site=nytimes.com\"><span class=\"sitestr\">nytimes.com</span></a>)</span></span></td></tr><tr><td colspan=\"2\"></td><td class=\"subtext\"><span class=\"subline\">\n",
      "          <span class=\"score\" id=\"score_36303447\">91 points</span> by <a href=\"user?id=gaws\" class=\"hnuser\">gaws</a> <span class=\"age\" title=\"2023-06-13T00:32:37\"><a href=\"item?id=36303447\">5 hours ago</a></span> <span id=\"unv_36303447\"></span> | <a href=\"hide?id=36303447&amp;goto=news\">hide</a> | <a href=\"item?id=36303447\">243&nbsp;comments</a>        </span>\n",
      "              </td></tr>\n",
      "      <tr class=\"spacer\" style=\"height:5px\"></tr>\n",
      "                <tr class='athing' id='36301337'>\n",
      "      <td align=\"right\" valign=\"top\" class=\"title\"><span class=\"rank\">29.</span></td>      <td valign=\"top\" class=\"votelinks\"><center><a id='up_36301337'href='vote?id=36301337&amp;how=up&amp;goto=news'><div class='votearrow' title='upvote'></div></a></center></td><td class=\"title\"><span class=\"titleline\"><a href=\"https://zsync.xyz/\" rel=\"noreferrer\">Show HN: Zsync, a Reddit Alternative with the Goal to Reward Quality Comments</a><span class=\"sitebit comhead\"> (<a href=\"from?site=zsync.xyz\"><span class=\"sitestr\">zsync.xyz</span></a>)</span></span></td></tr><tr><td colspan=\"2\"></td><td class=\"subtext\"><span class=\"subline\">\n",
      "          <span class=\"score\" id=\"score_36301337\">120 points</span> by <a href=\"user?id=JSavageOne\" class=\"hnuser\">JSavageOne</a> <span class=\"age\" title=\"2023-06-12T21:21:33\"><a href=\"item?id=36301337\">8 hours ago</a></span> <span id=\"unv_36301337\"></span> | <a href=\"hide?id=36301337&amp;goto=news\">hide</a> | <a href=\"item?id=36301337\">60&nbsp;comments</a>        </span>\n",
      "              </td></tr>\n",
      "      <tr class=\"spacer\" style=\"height:5px\"></tr>\n",
      "                <tr class='athing' id='36289493'>\n",
      "      <td align=\"right\" valign=\"top\" class=\"title\"><span class=\"rank\">30.</span></td>      <td valign=\"top\" class=\"votelinks\"><center><a id='up_36289493'href='vote?id=36289493&amp;how=up&amp;goto=news'><div class='votearrow' title='upvote'></div></a></center></td><td class=\"title\"><span class=\"titleline\"><a href=\"https://blog.mobian.org/posts/2023/06/10/bookworm/\" rel=\"noreferrer\">The Mobian Bookworm has landed</a><span class=\"sitebit comhead\"> (<a href=\"from?site=mobian.org\"><span class=\"sitestr\">mobian.org</span></a>)</span></span></td></tr><tr><td colspan=\"2\"></td><td class=\"subtext\"><span class=\"subline\">\n",
      "          <span class=\"score\" id=\"score_36289493\">42 points</span> by <a href=\"user?id=pabs3\" class=\"hnuser\">pabs3</a> <span class=\"age\" title=\"2023-06-12T07:10:41\"><a href=\"item?id=36289493\">7 hours ago</a></span> <span id=\"unv_36289493\"></span> | <a href=\"hide?id=36289493&amp;goto=news\">hide</a> | <a href=\"item?id=36289493\">4&nbsp;comments</a>        </span>\n",
      "              </td></tr>\n",
      "      <tr class=\"spacer\" style=\"height:5px\"></tr>\n",
      "            <tr class=\"morespace\" style=\"height:10px\"></tr><tr><td colspan=\"2\"></td>\n",
      "      <td class='title'><a href='?p=2' class='morelink' rel='next'>More</a></td>    </tr>\n",
      "  </table>\n",
      "</td></tr>\n",
      "<tr><td><img src=\"s.gif\" height=\"10\" width=\"0\"><table width=\"100%\" cellspacing=\"0\" cellpadding=\"1\"><tr><td bgcolor=\"#ff6600\"></td></tr></table><br>\n",
      "<center><span class=\"yclinks\"><a href=\"newsguidelines.html\">Guidelines</a> | <a href=\"newsfaq.html\">FAQ</a> | <a href=\"lists\">Lists</a> | <a href=\"https://github.com/HackerNews/API\">API</a> | <a href=\"security.html\">Security</a> | <a href=\"https://www.ycombinator.com/legal/\">Legal</a> | <a href=\"https://www.ycombinator.com/apply/\">Apply to YC</a> | <a href=\"mailto:hn@ycombinator.com\">Contact</a></span><br><br>\n",
      "<form method=\"get\" action=\"//hn.algolia.com/\">Search: <input type=\"text\" name=\"q\" size=\"17\" autocorrect=\"off\" spellcheck=\"false\" autocapitalize=\"off\" autocomplete=\"false\"></form></center></td></tr>      </table></center></body>\n",
      "      <script type='text/javascript' src='hn.js?auy6OwaXOwjZxSzpShwo'></script>\n",
      "  </html>\n",
      "\n"
     ]
    }
   ],
   "source": [
    "import requests\n",
    "from bs4 import BeautifulSoup\n",
    "#r = requests.get('http://olympus.realpython.org/profiles/aphrodite')\n",
    "r = requests.get('https://news.ycombinator.com')\n",
    "print(r.text)"
   ]
  },
  {
   "cell_type": "markdown",
   "id": "5a8e2d0d",
   "metadata": {},
   "source": [
    "The first thing we need to do is inspect Hacker News's home-page to understand the structure and the different CSS classes that we will have to select, As evident from the screenshot, all postings are part of a <tr> tag with the class athing. So, let's simply find all these tags. Yet again, we can do that with one line of code."
   ]
  },
  {
   "cell_type": "code",
   "execution_count": 92,
   "id": "f3130aa5",
   "metadata": {},
   "outputs": [
    {
     "data": {
      "text/plain": [
       "bs4.BeautifulSoup"
      ]
     },
     "execution_count": 92,
     "metadata": {},
     "output_type": "execute_result"
    }
   ],
   "source": [
    "soup = BeautifulSoup(r.text, 'html.parser')\n",
    "type(soup)"
   ]
  },
  {
   "cell_type": "code",
   "execution_count": 93,
   "id": "de186cf0",
   "metadata": {},
   "outputs": [
    {
     "data": {
      "text/plain": [
       "<html lang=\"en\" op=\"news\"><head><meta content=\"origin\" name=\"referrer\"/><meta content=\"width=device-width, initial-scale=1.0\" name=\"viewport\"/><link href=\"news.css?auy6OwaXOwjZxSzpShwo\" rel=\"stylesheet\" type=\"text/css\"/>\n",
       "<link href=\"favicon.ico\" rel=\"shortcut icon\"/>\n",
       "<link href=\"rss\" rel=\"alternate\" title=\"RSS\" type=\"application/rss+xml\"/>\n",
       "<title>Hacker News</title></head><body><center><table bgcolor=\"#f6f6ef\" border=\"0\" cellpadding=\"0\" cellspacing=\"0\" id=\"hnmain\" width=\"85%\">\n",
       "<tr><td bgcolor=\"#ff6600\"><table border=\"0\" cellpadding=\"0\" cellspacing=\"0\" style=\"padding:2px\" width=\"100%\"><tr><td style=\"width:18px;padding-right:4px\"><a href=\"https://news.ycombinator.com\"><img height=\"18\" src=\"y18.svg\" style=\"border:1px white solid; display:block\" width=\"18\"/></a></td>\n",
       "<td style=\"line-height:12pt; height:10px;\"><span class=\"pagetop\"><b class=\"hnname\"><a href=\"news\">Hacker News</a></b>\n",
       "<a href=\"newest\">new</a> | <a href=\"front\">past</a> | <a href=\"newcomments\">comments</a> | <a href=\"ask\">ask</a> | <a href=\"show\">show</a> | <a href=\"jobs\">jobs</a> | <a href=\"submit\">submit</a> </span></td><td style=\"text-align:right;padding-right:4px;\"><span class=\"pagetop\">\n",
       "<a href=\"login?goto=news\">login</a>\n",
       "</span></td>\n",
       "</tr></table></td></tr>\n",
       "<tr id=\"pagespace\" style=\"height:10px\" title=\"\"></tr><tr><td><table border=\"0\" cellpadding=\"0\" cellspacing=\"0\">\n",
       "<tr class=\"athing\" id=\"36304143\">\n",
       "<td align=\"right\" class=\"title\" valign=\"top\"><span class=\"rank\">1.</span></td> <td class=\"votelinks\" valign=\"top\"><center><a href=\"vote?id=36304143&amp;how=up&amp;goto=news\" id=\"up_36304143\"><div class=\"votearrow\" title=\"upvote\"></div></a></center></td><td class=\"title\"><span class=\"titleline\"><a href=\"https://github.com/ggerganov/llama.cpp/pull/1827\">Llama.cpp: Full CUDA GPU Acceleration</a><span class=\"sitebit comhead\"> (<a href=\"from?site=github.com/ggerganov\"><span class=\"sitestr\">github.com/ggerganov</span></a>)</span></span></td></tr><tr><td colspan=\"2\"></td><td class=\"subtext\"><span class=\"subline\">\n",
       "<span class=\"score\" id=\"score_36304143\">212 points</span> by <a class=\"hnuser\" href=\"user?id=gzer0\">gzer0</a> <span class=\"age\" title=\"2023-06-13T01:55:08\"><a href=\"item?id=36304143\">3 hours ago</a></span> <span id=\"unv_36304143\"></span> | <a href=\"hide?id=36304143&amp;goto=news\">hide</a> | <a href=\"item?id=36304143\">90 comments</a> </span>\n",
       "</td></tr>\n",
       "<tr class=\"spacer\" style=\"height:5px\"></tr>\n",
       "<tr class=\"athing\" id=\"36303371\">\n",
       "<td align=\"right\" class=\"title\" valign=\"top\"><span class=\"rank\">2.</span></td> <td class=\"votelinks\" valign=\"top\"><center><a href=\"vote?id=36303371&amp;how=up&amp;goto=news\" id=\"up_36303371\"><div class=\"votearrow\" title=\"upvote\"></div></a></center></td><td class=\"title\"><span class=\"titleline\"><a href=\"https://apps.apple.com/us/story/id1435835881\" rel=\"noreferrer\">BBEdit: Where Respect Is Due</a><span class=\"sitebit comhead\"> (<a href=\"from?site=apps.apple.com\"><span class=\"sitestr\">apps.apple.com</span></a>)</span></span></td></tr><tr><td colspan=\"2\"></td><td class=\"subtext\"><span class=\"subline\">\n",
       "<span class=\"score\" id=\"score_36303371\">278 points</span> by <a class=\"hnuser\" href=\"user?id=tambourine_man\">tambourine_man</a> <span class=\"age\" title=\"2023-06-13T00:23:14\"><a href=\"item?id=36303371\">5 hours ago</a></span> <span id=\"unv_36303371\"></span> | <a href=\"hide?id=36303371&amp;goto=news\">hide</a> | <a href=\"item?id=36303371\">65 comments</a> </span>\n",
       "</td></tr>\n",
       "<tr class=\"spacer\" style=\"height:5px\"></tr>\n",
       "<tr class=\"athing\" id=\"36296695\">\n",
       "<td align=\"right\" class=\"title\" valign=\"top\"><span class=\"rank\">3.</span></td> <td class=\"votelinks\" valign=\"top\"><center><a href=\"vote?id=36296695&amp;how=up&amp;goto=news\" id=\"up_36296695\"><div class=\"votearrow\" title=\"upvote\"></div></a></center></td><td class=\"title\"><span class=\"titleline\"><a href=\"https://non.io\" rel=\"noreferrer\">Show HN: Non.io, a Reddit-like platform Ive been working on for the last 4 years</a><span class=\"sitebit comhead\"> (<a href=\"from?site=non.io\"><span class=\"sitestr\">non.io</span></a>)</span></span></td></tr><tr><td colspan=\"2\"></td><td class=\"subtext\"><span class=\"subline\">\n",
       "<span class=\"score\" id=\"score_36296695\">1556 points</span> by <a class=\"hnuser\" href=\"user?id=jjcm\">jjcm</a> <span class=\"age\" title=\"2023-06-12T16:54:38\"><a href=\"item?id=36296695\">12 hours ago</a></span> <span id=\"unv_36296695\"></span> | <a href=\"hide?id=36296695&amp;goto=news\">hide</a> | <a href=\"item?id=36296695\">475 comments</a> </span>\n",
       "</td></tr>\n",
       "<tr class=\"spacer\" style=\"height:5px\"></tr>\n",
       "<tr class=\"athing\" id=\"36304979\">\n",
       "<td align=\"right\" class=\"title\" valign=\"top\"><span class=\"rank\">4.</span></td> <td class=\"votelinks\" valign=\"top\"><center><a href=\"vote?id=36304979&amp;how=up&amp;goto=news\" id=\"up_36304979\"><div class=\"votearrow\" title=\"upvote\"></div></a></center></td><td class=\"title\"><span class=\"titleline\"><a href=\"https://waabi.ai/oyster/\" rel=\"noreferrer\">Oyster: Towards Unsupervised Object Detection from Lidar Point Clouds</a><span class=\"sitebit comhead\"> (<a href=\"from?site=waabi.ai\"><span class=\"sitestr\">waabi.ai</span></a>)</span></span></td></tr><tr><td colspan=\"2\"></td><td class=\"subtext\"><span class=\"subline\">\n",
       "<span class=\"score\" id=\"score_36304979\">24 points</span> by <a class=\"hnuser\" href=\"user?id=abrichr\">abrichr</a> <span class=\"age\" title=\"2023-06-13T03:48:31\"><a href=\"item?id=36304979\">1 hour ago</a></span> <span id=\"unv_36304979\"></span> | <a href=\"hide?id=36304979&amp;goto=news\">hide</a> | <a href=\"item?id=36304979\">discuss</a> </span>\n",
       "</td></tr>\n",
       "<tr class=\"spacer\" style=\"height:5px\"></tr>\n",
       "<tr class=\"athing\" id=\"36305271\">\n",
       "<td align=\"right\" class=\"title\" valign=\"top\"><span class=\"rank\">5.</span></td> <td class=\"votelinks\" valign=\"top\"><center><a href=\"vote?id=36305271&amp;how=up&amp;goto=news\" id=\"up_36305271\"><div class=\"votearrow\" title=\"upvote\"></div></a></center></td><td class=\"title\"><span class=\"titleline\"><a href=\"https://hackcompute.com/hacking-epp-servers/\" rel=\"noreferrer\">Hacking root EPP servers to take control of zones</a><span class=\"sitebit comhead\"> (<a href=\"from?site=hackcompute.com\"><span class=\"sitestr\">hackcompute.com</span></a>)</span></span></td></tr><tr><td colspan=\"2\"></td><td class=\"subtext\"><span class=\"subline\">\n",
       "<span class=\"score\" id=\"score_36305271\">32 points</span> by <a class=\"hnuser\" href=\"user?id=iancarroll\">iancarroll</a> <span class=\"age\" title=\"2023-06-13T04:22:46\"><a href=\"item?id=36305271\">1 hour ago</a></span> <span id=\"unv_36305271\"></span> | <a href=\"hide?id=36305271&amp;goto=news\">hide</a> | <a href=\"item?id=36305271\">6 comments</a> </span>\n",
       "</td></tr>\n",
       "<tr class=\"spacer\" style=\"height:5px\"></tr>\n",
       "<tr class=\"athing\" id=\"36304716\">\n",
       "<td align=\"right\" class=\"title\" valign=\"top\"><span class=\"rank\">6.</span></td> <td class=\"votelinks\" valign=\"top\"><center><a href=\"vote?id=36304716&amp;how=up&amp;goto=news\" id=\"up_36304716\"><div class=\"votearrow\" title=\"upvote\"></div></a></center></td><td class=\"title\"><span class=\"titleline\"><a href=\"https://snap-research.github.io/SnapFusion/\" rel=\"noreferrer\">SnapFusion: Text-to-Image Diffusion Model on Mobile Devices Within Two Seconds</a><span class=\"sitebit comhead\"> (<a href=\"from?site=snap-research.github.io\"><span class=\"sitestr\">snap-research.github.io</span></a>)</span></span></td></tr><tr><td colspan=\"2\"></td><td class=\"subtext\"><span class=\"subline\">\n",
       "<span class=\"score\" id=\"score_36304716\">40 points</span> by <a class=\"hnuser\" href=\"user?id=synapse26\">synapse26</a> <span class=\"age\" title=\"2023-06-13T03:16:07\"><a href=\"item?id=36304716\">2 hours ago</a></span> <span id=\"unv_36304716\"></span> | <a href=\"hide?id=36304716&amp;goto=news\">hide</a> | <a href=\"item?id=36304716\">4 comments</a> </span>\n",
       "</td></tr>\n",
       "<tr class=\"spacer\" style=\"height:5px\"></tr>\n",
       "<tr class=\"athing\" id=\"36302805\">\n",
       "<td align=\"right\" class=\"title\" valign=\"top\"><span class=\"rank\">7.</span></td> <td class=\"votelinks\" valign=\"top\"><center><a href=\"vote?id=36302805&amp;how=up&amp;goto=news\" id=\"up_36302805\"><div class=\"votearrow\" title=\"upvote\"></div></a></center></td><td class=\"title\"><span class=\"titleline\"><a href=\"https://github.com/mackyle/sqlite/blob/18cf47156abe94255ae1495ba2da84517dce6081/src/os.h\">Why sqlite3 temp files were renamed 'etilqs_*' (2006)</a><span class=\"sitebit comhead\"> (<a href=\"from?site=github.com/mackyle\"><span class=\"sitestr\">github.com/mackyle</span></a>)</span></span></td></tr><tr><td colspan=\"2\"></td><td class=\"subtext\"><span class=\"subline\">\n",
       "<span class=\"score\" id=\"score_36302805\">183 points</span> by <a class=\"hnuser\" href=\"user?id=bsmith89\">bsmith89</a> <span class=\"age\" title=\"2023-06-12T23:20:28\"><a href=\"item?id=36302805\">6 hours ago</a></span> <span id=\"unv_36302805\"></span> | <a href=\"hide?id=36302805&amp;goto=news\">hide</a> | <a href=\"item?id=36302805\">64 comments</a> </span>\n",
       "</td></tr>\n",
       "<tr class=\"spacer\" style=\"height:5px\"></tr>\n",
       "<tr class=\"athing\" id=\"36302448\">\n",
       "<td align=\"right\" class=\"title\" valign=\"top\"><span class=\"rank\">8.</span></td> <td class=\"votelinks\" valign=\"top\"><center><a href=\"vote?id=36302448&amp;how=up&amp;goto=news\" id=\"up_36302448\"><div class=\"votearrow\" title=\"upvote\"></div></a></center></td><td class=\"title\"><span class=\"titleline\"><a href=\"https://www.quantamagazine.org/a-new-experiment-casts-doubt-on-the-leading-theory-of-the-nucleus-20230612/\" rel=\"noreferrer\">A new experiment casts doubt on the leading theory of the nucleus</a><span class=\"sitebit comhead\"> (<a href=\"from?site=quantamagazine.org\"><span class=\"sitestr\">quantamagazine.org</span></a>)</span></span></td></tr><tr><td colspan=\"2\"></td><td class=\"subtext\"><span class=\"subline\">\n",
       "<span class=\"score\" id=\"score_36302448\">116 points</span> by <a class=\"hnuser\" href=\"user?id=jnord\">jnord</a> <span class=\"age\" title=\"2023-06-12T22:49:35\"><a href=\"item?id=36302448\">6 hours ago</a></span> <span id=\"unv_36302448\"></span> | <a href=\"hide?id=36302448&amp;goto=news\">hide</a> | <a href=\"item?id=36302448\">44 comments</a> </span>\n",
       "</td></tr>\n",
       "<tr class=\"spacer\" style=\"height:5px\"></tr>\n",
       "<tr class=\"athing\" id=\"36299543\">\n",
       "<td align=\"right\" class=\"title\" valign=\"top\"><span class=\"rank\">9.</span></td> <td class=\"votelinks\" valign=\"top\"><center><a href=\"vote?id=36299543&amp;how=up&amp;goto=news\" id=\"up_36299543\"><div class=\"votearrow\" title=\"upvote\"></div></a></center></td><td class=\"title\"><span class=\"titleline\"><a href=\"https://spritely.institute/news/hoot-wireworld-live-in-browser.html\" rel=\"noreferrer\">Lisp Game Jam – “Wireworld” in WebAssembly Using Spritely's Hoot Project</a><span class=\"sitebit comhead\"> (<a href=\"from?site=spritely.institute\"><span class=\"sitestr\">spritely.institute</span></a>)</span></span></td></tr><tr><td colspan=\"2\"></td><td class=\"subtext\"><span class=\"subline\">\n",
       "<span class=\"score\" id=\"score_36299543\">30 points</span> by <a class=\"hnuser\" href=\"user?id=paroneayea\">paroneayea</a> <span class=\"age\" title=\"2023-06-12T19:25:01\"><a href=\"item?id=36299543\">3 hours ago</a></span> <span id=\"unv_36299543\"></span> | <a href=\"hide?id=36299543&amp;goto=news\">hide</a> | <a href=\"item?id=36299543\">2 comments</a> </span>\n",
       "</td></tr>\n",
       "<tr class=\"spacer\" style=\"height:5px\"></tr>\n",
       "<tr class=\"athing\" id=\"36302002\">\n",
       "<td align=\"right\" class=\"title\" valign=\"top\"><span class=\"rank\">10.</span></td> <td class=\"votelinks\" valign=\"top\"><center><a href=\"vote?id=36302002&amp;how=up&amp;goto=news\" id=\"up_36302002\"><div class=\"votearrow\" title=\"upvote\"></div></a></center></td><td class=\"title\"><span class=\"titleline\"><a href=\"https://ericwbailey.website/published/dont-use-custom-css-scrollbars/\" rel=\"noreferrer\">Don't use custom CSS scrollbars</a><span class=\"sitebit comhead\"> (<a href=\"from?site=ericwbailey.website\"><span class=\"sitestr\">ericwbailey.website</span></a>)</span></span></td></tr><tr><td colspan=\"2\"></td><td class=\"subtext\"><span class=\"subline\">\n",
       "<span class=\"score\" id=\"score_36302002\">155 points</span> by <a class=\"hnuser\" href=\"user?id=Twixes\">Twixes</a> <span class=\"age\" title=\"2023-06-12T22:12:39\"><a href=\"item?id=36302002\">7 hours ago</a></span> <span id=\"unv_36302002\"></span> | <a href=\"hide?id=36302002&amp;goto=news\">hide</a> | <a href=\"item?id=36302002\">96 comments</a> </span>\n",
       "</td></tr>\n",
       "<tr class=\"spacer\" style=\"height:5px\"></tr>\n",
       "<tr class=\"athing\" id=\"36301974\">\n",
       "<td align=\"right\" class=\"title\" valign=\"top\"><span class=\"rank\">11.</span></td> <td class=\"votelinks\" valign=\"top\"><center><a href=\"vote?id=36301974&amp;how=up&amp;goto=news\" id=\"up_36301974\"><div class=\"votearrow\" title=\"upvote\"></div></a></center></td><td class=\"title\"><span class=\"titleline\"><a href=\"https://www.sfgate.com/food/article/anchor-brewing-co-ends-national-distribution-18148141.php\" rel=\"noreferrer\">Anchor Brewing Company ends national distribution, kills Christmas Ale</a><span class=\"sitebit comhead\"> (<a href=\"from?site=sfgate.com\"><span class=\"sitestr\">sfgate.com</span></a>)</span></span></td></tr><tr><td colspan=\"2\"></td><td class=\"subtext\"><span class=\"subline\">\n",
       "<span class=\"score\" id=\"score_36301974\">124 points</span> by <a class=\"hnuser\" href=\"user?id=kaycebasques\">kaycebasques</a> <span class=\"age\" title=\"2023-06-12T22:09:45\"><a href=\"item?id=36301974\">7 hours ago</a></span> <span id=\"unv_36301974\"></span> | <a href=\"hide?id=36301974&amp;goto=news\">hide</a> | <a href=\"item?id=36301974\">193 comments</a> </span>\n",
       "</td></tr>\n",
       "<tr class=\"spacer\" style=\"height:5px\"></tr>\n",
       "<tr class=\"athing\" id=\"36299246\">\n",
       "<td align=\"right\" class=\"title\" valign=\"top\"><span class=\"rank\">12.</span></td> <td class=\"votelinks\" valign=\"top\"><center><a href=\"vote?id=36299246&amp;how=up&amp;goto=news\" id=\"up_36299246\"><div class=\"votearrow\" title=\"upvote\"></div></a></center></td><td class=\"title\"><span class=\"titleline\"><a href=\"https://arxiv.org/abs/2306.02707\" rel=\"noreferrer\">Orca: Progressive Learning from Complex Explanation Traces of GPT-4</a><span class=\"sitebit comhead\"> (<a href=\"from?site=arxiv.org\"><span class=\"sitestr\">arxiv.org</span></a>)</span></span></td></tr><tr><td colspan=\"2\"></td><td class=\"subtext\"><span class=\"subline\">\n",
       "<span class=\"score\" id=\"score_36299246\">16 points</span> by <a class=\"hnuser\" href=\"user?id=kordlessagain\">kordlessagain</a> <span class=\"age\" title=\"2023-06-12T19:04:59\"><a href=\"item?id=36299246\">2 hours ago</a></span> <span id=\"unv_36299246\"></span> | <a href=\"hide?id=36299246&amp;goto=news\">hide</a> | <a href=\"item?id=36299246\">1 comment</a> </span>\n",
       "</td></tr>\n",
       "<tr class=\"spacer\" style=\"height:5px\"></tr>\n",
       "<tr class=\"athing\" id=\"36296882\">\n",
       "<td align=\"right\" class=\"title\" valign=\"top\"><span class=\"rank\">13.</span></td> <td class=\"votelinks\" valign=\"top\"><center><a href=\"vote?id=36296882&amp;how=up&amp;goto=news\" id=\"up_36296882\"><div class=\"votearrow\" title=\"upvote\"></div></a></center></td><td class=\"title\"><span class=\"titleline\"><a href=\"https://www.marginalia.nu/log/82_killing_community\" rel=\"noreferrer\">Killing Community</a><span class=\"sitebit comhead\"> (<a href=\"from?site=marginalia.nu\"><span class=\"sitestr\">marginalia.nu</span></a>)</span></span></td></tr><tr><td colspan=\"2\"></td><td class=\"subtext\"><span class=\"subline\">\n",
       "<span class=\"score\" id=\"score_36296882\">383 points</span> by <a class=\"hnuser\" href=\"user?id=dasil003\">dasil003</a> <span class=\"age\" title=\"2023-06-12T17:02:59\"><a href=\"item?id=36296882\">12 hours ago</a></span> <span id=\"unv_36296882\"></span> | <a href=\"hide?id=36296882&amp;goto=news\">hide</a> | <a href=\"item?id=36296882\">234 comments</a> </span>\n",
       "</td></tr>\n",
       "<tr class=\"spacer\" style=\"height:5px\"></tr>\n",
       "<tr class=\"athing\" id=\"36297476\">\n",
       "<td align=\"right\" class=\"title\" valign=\"top\"><span class=\"rank\">14.</span></td> <td class=\"votelinks\" valign=\"top\"><center><a href=\"vote?id=36297476&amp;how=up&amp;goto=news\" id=\"up_36297476\"><div class=\"votearrow\" title=\"upvote\"></div></a></center></td><td class=\"title\"><span class=\"titleline\"><a href=\"https://justine.lol/sorting/\" rel=\"noreferrer\">Understanding DeepMind's sorting algorithm</a><span class=\"sitebit comhead\"> (<a href=\"from?site=justine.lol\"><span class=\"sitestr\">justine.lol</span></a>)</span></span></td></tr><tr><td colspan=\"2\"></td><td class=\"subtext\"><span class=\"subline\">\n",
       "<span class=\"score\" id=\"score_36297476\">289 points</span> by <a class=\"hnuser\" href=\"user?id=jart\">jart</a> <span class=\"age\" title=\"2023-06-12T17:30:54\"><a href=\"item?id=36297476\">12 hours ago</a></span> <span id=\"unv_36297476\"></span> | <a href=\"hide?id=36297476&amp;goto=news\">hide</a> | <a href=\"item?id=36297476\">35 comments</a> </span>\n",
       "</td></tr>\n",
       "<tr class=\"spacer\" style=\"height:5px\"></tr>\n",
       "<tr class=\"athing\" id=\"36304623\">\n",
       "<td align=\"right\" class=\"title\" valign=\"top\"><span class=\"rank\">15.</span></td> <td class=\"votelinks\" valign=\"top\"><center><a href=\"vote?id=36304623&amp;how=up&amp;goto=news\" id=\"up_36304623\"><div class=\"votearrow\" title=\"upvote\"></div></a></center></td><td class=\"title\"><span class=\"titleline\"><a href=\"https://carboncredits.com/meta-to-buy-almost-7-million-carbon-credits-from-aspiration/\" rel=\"noreferrer\">Meta to Buy Almost 7M Carbon Credits</a><span class=\"sitebit comhead\"> (<a href=\"from?site=carboncredits.com\"><span class=\"sitestr\">carboncredits.com</span></a>)</span></span></td></tr><tr><td colspan=\"2\"></td><td class=\"subtext\"><span class=\"subline\">\n",
       "<span class=\"score\" id=\"score_36304623\">22 points</span> by <a class=\"hnuser\" href=\"user?id=Brajeshwar\">Brajeshwar</a> <span class=\"age\" title=\"2023-06-13T03:01:21\"><a href=\"item?id=36304623\">2 hours ago</a></span> <span id=\"unv_36304623\"></span> | <a href=\"hide?id=36304623&amp;goto=news\">hide</a> | <a href=\"item?id=36304623\">36 comments</a> </span>\n",
       "</td></tr>\n",
       "<tr class=\"spacer\" style=\"height:5px\"></tr>\n",
       "<tr class=\"athing\" id=\"36304685\">\n",
       "<td align=\"right\" class=\"title\" valign=\"top\"><span class=\"rank\">16.</span></td> <td class=\"votelinks\" valign=\"top\"><center><a href=\"vote?id=36304685&amp;how=up&amp;goto=news\" id=\"up_36304685\"><div class=\"votearrow\" title=\"upvote\"></div></a></center></td><td class=\"title\"><span class=\"titleline\"><a href=\"https://www.dkriesel.com/en/blog/2013/0802_xerox-workcentres_are_switching_written_numbers_when_scanning\" rel=\"noreferrer\">Xerox scanners randomly alter numbers in scanned documents (2013)</a><span class=\"sitebit comhead\"> (<a href=\"from?site=dkriesel.com\"><span class=\"sitestr\">dkriesel.com</span></a>)</span></span></td></tr><tr><td colspan=\"2\"></td><td class=\"subtext\"><span class=\"subline\">\n",
       "<span class=\"score\" id=\"score_36304685\">49 points</span> by <a class=\"hnuser\" href=\"user?id=gurjeet\">gurjeet</a> <span class=\"age\" title=\"2023-06-13T03:11:00\"><a href=\"item?id=36304685\">2 hours ago</a></span> <span id=\"unv_36304685\"></span> | <a href=\"hide?id=36304685&amp;goto=news\">hide</a> | <a href=\"item?id=36304685\">10 comments</a> </span>\n",
       "</td></tr>\n",
       "<tr class=\"spacer\" style=\"height:5px\"></tr>\n",
       "<tr class=\"athing\" id=\"36302231\">\n",
       "<td align=\"right\" class=\"title\" valign=\"top\"><span class=\"rank\">17.</span></td> <td class=\"votelinks\" valign=\"top\"><center><a href=\"vote?id=36302231&amp;how=up&amp;goto=news\" id=\"up_36302231\"><div class=\"votearrow\" title=\"upvote\"></div></a></center></td><td class=\"title\"><span class=\"titleline\"><a href=\"https://newsletter.mollywhite.net/p/but-the-sec-let-us-go-public-and\" rel=\"noreferrer\">“But the SEC let us go public” and other flawed arguments in Coinbase's defense</a><span class=\"sitebit comhead\"> (<a href=\"from?site=mollywhite.net\"><span class=\"sitestr\">mollywhite.net</span></a>)</span></span></td></tr><tr><td colspan=\"2\"></td><td class=\"subtext\"><span class=\"subline\">\n",
       "<span class=\"score\" id=\"score_36302231\">117 points</span> by <a class=\"hnuser\" href=\"user?id=0xedb\">0xedb</a> <span class=\"age\" title=\"2023-06-12T22:32:12\"><a href=\"item?id=36302231\">7 hours ago</a></span> <span id=\"unv_36302231\"></span> | <a href=\"hide?id=36302231&amp;goto=news\">hide</a> | <a href=\"item?id=36302231\">167 comments</a> </span>\n",
       "</td></tr>\n",
       "<tr class=\"spacer\" style=\"height:5px\"></tr>\n",
       "<tr class=\"athing\" id=\"36301758\">\n",
       "<td align=\"right\" class=\"title\" valign=\"top\"><span class=\"rank\">18.</span></td> <td class=\"votelinks\" valign=\"top\"><center><a href=\"vote?id=36301758&amp;how=up&amp;goto=news\" id=\"up_36301758\"><div class=\"votearrow\" title=\"upvote\"></div></a></center></td><td class=\"title\"><span class=\"titleline\"><a href=\"https://sashachapin.substack.com/p/in-praise-of-blowing-up-your-life\" rel=\"noreferrer\">In praise of blowing up your life</a><span class=\"sitebit comhead\"> (<a href=\"from?site=sashachapin.substack.com\"><span class=\"sitestr\">sashachapin.substack.com</span></a>)</span></span></td></tr><tr><td colspan=\"2\"></td><td class=\"subtext\"><span class=\"subline\">\n",
       "<span class=\"score\" id=\"score_36301758\">101 points</span> by <a class=\"hnuser\" href=\"user?id=jger15\">jger15</a> <span class=\"age\" title=\"2023-06-12T21:54:16\"><a href=\"item?id=36301758\">7 hours ago</a></span> <span id=\"unv_36301758\"></span> | <a href=\"hide?id=36301758&amp;goto=news\">hide</a> | <a href=\"item?id=36301758\">70 comments</a> </span>\n",
       "</td></tr>\n",
       "<tr class=\"spacer\" style=\"height:5px\"></tr>\n",
       "<tr class=\"athing\" id=\"36300439\">\n",
       "<td align=\"right\" class=\"title\" valign=\"top\"><span class=\"rank\">19.</span></td> <td class=\"votelinks\" valign=\"top\"><center><a href=\"vote?id=36300439&amp;how=up&amp;goto=news\" id=\"up_36300439\"><div class=\"votearrow\" title=\"upvote\"></div></a></center></td><td class=\"title\"><span class=\"titleline\"><a href=\"https://www.scientificamerican.com/podcast/episode/mdma-moves-from-club-drug-to-real-therapy/\" rel=\"nofollow noreferrer\">MDMA Moves from Club Drug to Real Therapy</a><span class=\"sitebit comhead\"> (<a href=\"from?site=scientificamerican.com\"><span class=\"sitestr\">scientificamerican.com</span></a>)</span></span></td></tr><tr><td colspan=\"2\"></td><td class=\"subtext\"><span class=\"subline\">\n",
       "<span class=\"score\" id=\"score_36300439\">6 points</span> by <a class=\"hnuser\" href=\"user?id=LinuxBender\">LinuxBender</a> <span class=\"age\" title=\"2023-06-12T20:22:40\"><a href=\"item?id=36300439\">1 hour ago</a></span> <span id=\"unv_36300439\"></span> | <a href=\"hide?id=36300439&amp;goto=news\">hide</a> | <a href=\"item?id=36300439\">1 comment</a> </span>\n",
       "</td></tr>\n",
       "<tr class=\"spacer\" style=\"height:5px\"></tr>\n",
       "<tr class=\"athing\" id=\"36296282\">\n",
       "<td align=\"right\" class=\"title\" valign=\"top\"><span class=\"rank\">20.</span></td> <td class=\"votelinks\" valign=\"top\"><center><a href=\"vote?id=36296282&amp;how=up&amp;goto=news\" id=\"up_36296282\"><div class=\"votearrow\" title=\"upvote\"></div></a></center></td><td class=\"title\"><span class=\"titleline\"><a href=\"https://pixelfed.blog/p/2023/feature/introducing-import-from-instagram\" rel=\"noreferrer\">Pixelfed Introduces Import from Instagram</a><span class=\"sitebit comhead\"> (<a href=\"from?site=pixelfed.blog\"><span class=\"sitestr\">pixelfed.blog</span></a>)</span></span></td></tr><tr><td colspan=\"2\"></td><td class=\"subtext\"><span class=\"subline\">\n",
       "<span class=\"score\" id=\"score_36296282\">195 points</span> by <a class=\"hnuser\" href=\"user?id=rapnie\">rapnie</a> <span class=\"age\" title=\"2023-06-12T16:35:04\"><a href=\"item?id=36296282\">13 hours ago</a></span> <span id=\"unv_36296282\"></span> | <a href=\"hide?id=36296282&amp;goto=news\">hide</a> | <a href=\"item?id=36296282\">99 comments</a> </span>\n",
       "</td></tr>\n",
       "<tr class=\"spacer\" style=\"height:5px\"></tr>\n",
       "<tr class=\"athing\" id=\"36303955\">\n",
       "<td align=\"right\" class=\"title\" valign=\"top\"><span class=\"rank\">21.</span></td> <td class=\"votelinks\" valign=\"top\"><center><a href=\"vote?id=36303955&amp;how=up&amp;goto=news\" id=\"up_36303955\"><div class=\"votearrow\" title=\"upvote\"></div></a></center></td><td class=\"title\"><span class=\"titleline\"><a href=\"https://vintagenatgeographic.tumblr.com/\" rel=\"noreferrer\">Vintage National Geographic Photos</a><span class=\"sitebit comhead\"> (<a href=\"from?site=vintagenatgeographic.tumblr.com\"><span class=\"sitestr\">vintagenatgeographic.tumblr.com</span></a>)</span></span></td></tr><tr><td colspan=\"2\"></td><td class=\"subtext\"><span class=\"subline\">\n",
       "<span class=\"score\" id=\"score_36303955\">30 points</span> by <a class=\"hnuser\" href=\"user?id=ZunarJ5\">ZunarJ5</a> <span class=\"age\" title=\"2023-06-13T01:30:22\"><a href=\"item?id=36303955\">4 hours ago</a></span> <span id=\"unv_36303955\"></span> | <a href=\"hide?id=36303955&amp;goto=news\">hide</a> | <a href=\"item?id=36303955\">4 comments</a> </span>\n",
       "</td></tr>\n",
       "<tr class=\"spacer\" style=\"height:5px\"></tr>\n",
       "<tr class=\"athing\" id=\"36300958\">\n",
       "<td align=\"right\" class=\"title\" valign=\"top\"><span class=\"rank\">22.</span></td> <td class=\"votelinks\" valign=\"top\"><center><a href=\"vote?id=36300958&amp;how=up&amp;goto=news\" id=\"up_36300958\"><div class=\"votearrow\" title=\"upvote\"></div></a></center></td><td class=\"title\"><span class=\"titleline\"><a href=\"https://www.techdirt.com/2023/06/08/us-patent-office-proposes-rule-to-make-it-much-harder-to-kill-bad-patents/\" rel=\"noreferrer\">US Patent Office proposes rule to make it much harder to kill bad patents</a><span class=\"sitebit comhead\"> (<a href=\"from?site=techdirt.com\"><span class=\"sitestr\">techdirt.com</span></a>)</span></span></td></tr><tr><td colspan=\"2\"></td><td class=\"subtext\"><span class=\"subline\">\n",
       "<span class=\"score\" id=\"score_36300958\">394 points</span> by <a class=\"hnuser\" href=\"user?id=berkeleyjunk\">berkeleyjunk</a> <span class=\"age\" title=\"2023-06-12T20:55:03\"><a href=\"item?id=36300958\">8 hours ago</a></span> <span id=\"unv_36300958\"></span> | <a href=\"hide?id=36300958&amp;goto=news\">hide</a> | <a href=\"item?id=36300958\">55 comments</a> </span>\n",
       "</td></tr>\n",
       "<tr class=\"spacer\" style=\"height:5px\"></tr>\n",
       "<tr class=\"athing\" id=\"36289682\">\n",
       "<td align=\"right\" class=\"title\" valign=\"top\"><span class=\"rank\">23.</span></td> <td class=\"votelinks\" valign=\"top\"><center><a href=\"vote?id=36289682&amp;how=up&amp;goto=news\" id=\"up_36289682\"><div class=\"votearrow\" title=\"upvote\"></div></a></center></td><td class=\"title\"><span class=\"titleline\"><a href=\"https://www.hackster.io/news/miniature-macintosh-with-raspberry-pi-cbff147ed047\" rel=\"noreferrer\">Miniature Macintosh with Raspberry Pi</a><span class=\"sitebit comhead\"> (<a href=\"from?site=hackster.io\"><span class=\"sitestr\">hackster.io</span></a>)</span></span></td></tr><tr><td colspan=\"2\"></td><td class=\"subtext\"><span class=\"subline\">\n",
       "<span class=\"score\" id=\"score_36289682\">84 points</span> by <a class=\"hnuser\" href=\"user?id=rcarmo\">rcarmo</a> <span class=\"age\" title=\"2023-06-12T07:31:50\"><a href=\"item?id=36289682\">8 hours ago</a></span> <span id=\"unv_36289682\"></span> | <a href=\"hide?id=36289682&amp;goto=news\">hide</a> | <a href=\"item?id=36289682\">27 comments</a> </span>\n",
       "</td></tr>\n",
       "<tr class=\"spacer\" style=\"height:5px\"></tr>\n",
       "<tr class=\"athing\" id=\"36295227\">\n",
       "<td align=\"right\" class=\"title\" valign=\"top\"><span class=\"rank\">24.</span></td> <td class=\"votelinks\" valign=\"top\"><center><a href=\"vote?id=36295227&amp;how=up&amp;goto=news\" id=\"up_36295227\"><div class=\"votearrow\" title=\"upvote\"></div></a></center></td><td class=\"title\"><span class=\"titleline\"><a href=\"https://generalrobots.substack.com/p/dimension-hopper-part-1\" rel=\"noreferrer\">Show HN: Stable Diffusion powered level editor for a 2D game</a><span class=\"sitebit comhead\"> (<a href=\"from?site=generalrobots.substack.com\"><span class=\"sitestr\">generalrobots.substack.com</span></a>)</span></span></td></tr><tr><td colspan=\"2\"></td><td class=\"subtext\"><span class=\"subline\">\n",
       "<span class=\"score\" id=\"score_36295227\">313 points</span> by <a class=\"hnuser\" href=\"user?id=robobenjie\">robobenjie</a> <span class=\"age\" title=\"2023-06-12T15:31:55\"><a href=\"item?id=36295227\">14 hours ago</a></span> <span id=\"unv_36295227\"></span> | <a href=\"hide?id=36295227&amp;goto=news\">hide</a> | <a href=\"item?id=36295227\">67 comments</a> </span>\n",
       "</td></tr>\n",
       "<tr class=\"spacer\" style=\"height:5px\"></tr>\n",
       "<tr class=\"athing\" id=\"36300539\">\n",
       "<td align=\"right\" class=\"title\" valign=\"top\"><span class=\"rank\">25.</span></td> <td class=\"votelinks\" valign=\"top\"><center><a href=\"vote?id=36300539&amp;how=up&amp;goto=news\" id=\"up_36300539\"><div class=\"votearrow\" title=\"upvote\"></div></a></center></td><td class=\"title\"><span class=\"titleline\"><a href=\"https://benjcal.space/posts/the-adventures-of-writing-a-chip8-emulator-part-1/\" rel=\"noreferrer\">The Adventures of Writing a CHIP8 Emulator</a><span class=\"sitebit comhead\"> (<a href=\"from?site=benjcal.space\"><span class=\"sitestr\">benjcal.space</span></a>)</span></span></td></tr><tr><td colspan=\"2\"></td><td class=\"subtext\"><span class=\"subline\">\n",
       "<span class=\"score\" id=\"score_36300539\">20 points</span> by <a class=\"hnuser\" href=\"user?id=lrsjng\">lrsjng</a> <span class=\"age\" title=\"2023-06-12T20:28:50\"><a href=\"item?id=36300539\">4 hours ago</a></span> <span id=\"unv_36300539\"></span> | <a href=\"hide?id=36300539&amp;goto=news\">hide</a> | <a href=\"item?id=36300539\">2 comments</a> </span>\n",
       "</td></tr>\n",
       "<tr class=\"spacer\" style=\"height:5px\"></tr>\n",
       "<tr class=\"athing\" id=\"36289580\">\n",
       "<td align=\"right\" class=\"title\" valign=\"top\"><span class=\"rank\">26.</span></td> <td class=\"votelinks\" valign=\"top\"><center><a href=\"vote?id=36289580&amp;how=up&amp;goto=news\" id=\"up_36289580\"><div class=\"votearrow\" title=\"upvote\"></div></a></center></td><td class=\"title\"><span class=\"titleline\"><a href=\"https://underjord.io/scripting-with-elixir.html\" rel=\"noreferrer\">Scripting with Elixir</a><span class=\"sitebit comhead\"> (<a href=\"from?site=underjord.io\"><span class=\"sitestr\">underjord.io</span></a>)</span></span></td></tr><tr><td colspan=\"2\"></td><td class=\"subtext\"><span class=\"subline\">\n",
       "<span class=\"score\" id=\"score_36289580\">169 points</span> by <a class=\"hnuser\" href=\"user?id=lawik\">lawik</a> <span class=\"age\" title=\"2023-06-12T07:20:18\"><a href=\"item?id=36289580\">10 hours ago</a></span> <span id=\"unv_36289580\"></span> | <a href=\"hide?id=36289580&amp;goto=news\">hide</a> | <a href=\"item?id=36289580\">34 comments</a> </span>\n",
       "</td></tr>\n",
       "<tr class=\"spacer\" style=\"height:5px\"></tr>\n",
       "<tr class=\"athing\" id=\"36303074\">\n",
       "<td align=\"right\" class=\"title\" valign=\"top\"><span class=\"rank\">27.</span></td> <td class=\"votelinks\" valign=\"top\"><center><a href=\"vote?id=36303074&amp;how=up&amp;goto=news\" id=\"up_36303074\"><div class=\"votearrow\" title=\"upvote\"></div></a></center></td><td class=\"title\"><span class=\"titleline\"><a href=\"https://www.pulumi.com/blog/converting-full-terraform-programs-to-pulumi/\" rel=\"noreferrer\">Converting Full Terraform Programs to Pulumi</a><span class=\"sitebit comhead\"> (<a href=\"from?site=pulumi.com\"><span class=\"sitestr\">pulumi.com</span></a>)</span></span></td></tr><tr><td colspan=\"2\"></td><td class=\"subtext\"><span class=\"subline\">\n",
       "<span class=\"score\" id=\"score_36303074\">41 points</span> by <a class=\"hnuser\" href=\"user?id=hekul\">hekul</a> <span class=\"age\" title=\"2023-06-12T23:47:37\"><a href=\"item?id=36303074\">5 hours ago</a></span> <span id=\"unv_36303074\"></span> | <a href=\"hide?id=36303074&amp;goto=news\">hide</a> | <a href=\"item?id=36303074\">27 comments</a> </span>\n",
       "</td></tr>\n",
       "<tr class=\"spacer\" style=\"height:5px\"></tr>\n",
       "<tr class=\"athing\" id=\"36303447\">\n",
       "<td align=\"right\" class=\"title\" valign=\"top\"><span class=\"rank\">28.</span></td> <td class=\"votelinks\" valign=\"top\"><center><a href=\"vote?id=36303447&amp;how=up&amp;goto=news\" id=\"up_36303447\"><div class=\"votearrow\" title=\"upvote\"></div></a></center></td><td class=\"title\"><span class=\"titleline\"><a href=\"https://www.nytimes.com/2023/06/12/magazine/mrbeast-youtube.html\" rel=\"noreferrer\">MrBeast has become a viral sensation for his acts of altruism</a><span class=\"sitebit comhead\"> (<a href=\"from?site=nytimes.com\"><span class=\"sitestr\">nytimes.com</span></a>)</span></span></td></tr><tr><td colspan=\"2\"></td><td class=\"subtext\"><span class=\"subline\">\n",
       "<span class=\"score\" id=\"score_36303447\">91 points</span> by <a class=\"hnuser\" href=\"user?id=gaws\">gaws</a> <span class=\"age\" title=\"2023-06-13T00:32:37\"><a href=\"item?id=36303447\">5 hours ago</a></span> <span id=\"unv_36303447\"></span> | <a href=\"hide?id=36303447&amp;goto=news\">hide</a> | <a href=\"item?id=36303447\">243 comments</a> </span>\n",
       "</td></tr>\n",
       "<tr class=\"spacer\" style=\"height:5px\"></tr>\n",
       "<tr class=\"athing\" id=\"36301337\">\n",
       "<td align=\"right\" class=\"title\" valign=\"top\"><span class=\"rank\">29.</span></td> <td class=\"votelinks\" valign=\"top\"><center><a href=\"vote?id=36301337&amp;how=up&amp;goto=news\" id=\"up_36301337\"><div class=\"votearrow\" title=\"upvote\"></div></a></center></td><td class=\"title\"><span class=\"titleline\"><a href=\"https://zsync.xyz/\" rel=\"noreferrer\">Show HN: Zsync, a Reddit Alternative with the Goal to Reward Quality Comments</a><span class=\"sitebit comhead\"> (<a href=\"from?site=zsync.xyz\"><span class=\"sitestr\">zsync.xyz</span></a>)</span></span></td></tr><tr><td colspan=\"2\"></td><td class=\"subtext\"><span class=\"subline\">\n",
       "<span class=\"score\" id=\"score_36301337\">120 points</span> by <a class=\"hnuser\" href=\"user?id=JSavageOne\">JSavageOne</a> <span class=\"age\" title=\"2023-06-12T21:21:33\"><a href=\"item?id=36301337\">8 hours ago</a></span> <span id=\"unv_36301337\"></span> | <a href=\"hide?id=36301337&amp;goto=news\">hide</a> | <a href=\"item?id=36301337\">60 comments</a> </span>\n",
       "</td></tr>\n",
       "<tr class=\"spacer\" style=\"height:5px\"></tr>\n",
       "<tr class=\"athing\" id=\"36289493\">\n",
       "<td align=\"right\" class=\"title\" valign=\"top\"><span class=\"rank\">30.</span></td> <td class=\"votelinks\" valign=\"top\"><center><a href=\"vote?id=36289493&amp;how=up&amp;goto=news\" id=\"up_36289493\"><div class=\"votearrow\" title=\"upvote\"></div></a></center></td><td class=\"title\"><span class=\"titleline\"><a href=\"https://blog.mobian.org/posts/2023/06/10/bookworm/\" rel=\"noreferrer\">The Mobian Bookworm has landed</a><span class=\"sitebit comhead\"> (<a href=\"from?site=mobian.org\"><span class=\"sitestr\">mobian.org</span></a>)</span></span></td></tr><tr><td colspan=\"2\"></td><td class=\"subtext\"><span class=\"subline\">\n",
       "<span class=\"score\" id=\"score_36289493\">42 points</span> by <a class=\"hnuser\" href=\"user?id=pabs3\">pabs3</a> <span class=\"age\" title=\"2023-06-12T07:10:41\"><a href=\"item?id=36289493\">7 hours ago</a></span> <span id=\"unv_36289493\"></span> | <a href=\"hide?id=36289493&amp;goto=news\">hide</a> | <a href=\"item?id=36289493\">4 comments</a> </span>\n",
       "</td></tr>\n",
       "<tr class=\"spacer\" style=\"height:5px\"></tr>\n",
       "<tr class=\"morespace\" style=\"height:10px\"></tr><tr><td colspan=\"2\"></td>\n",
       "<td class=\"title\"><a class=\"morelink\" href=\"?p=2\" rel=\"next\">More</a></td> </tr>\n",
       "</table>\n",
       "</td></tr>\n",
       "<tr><td><img height=\"10\" src=\"s.gif\" width=\"0\"/><table cellpadding=\"1\" cellspacing=\"0\" width=\"100%\"><tr><td bgcolor=\"#ff6600\"></td></tr></table><br/>\n",
       "<center><span class=\"yclinks\"><a href=\"newsguidelines.html\">Guidelines</a> | <a href=\"newsfaq.html\">FAQ</a> | <a href=\"lists\">Lists</a> | <a href=\"https://github.com/HackerNews/API\">API</a> | <a href=\"security.html\">Security</a> | <a href=\"https://www.ycombinator.com/legal/\">Legal</a> | <a href=\"https://www.ycombinator.com/apply/\">Apply to YC</a> | <a href=\"mailto:hn@ycombinator.com\">Contact</a></span><br/><br/>\n",
       "<form action=\"//hn.algolia.com/\" method=\"get\">Search: <input autocapitalize=\"off\" autocomplete=\"false\" autocorrect=\"off\" name=\"q\" size=\"17\" spellcheck=\"false\" type=\"text\"/></form></center></td></tr> </table></center></body>\n",
       "<script src=\"hn.js?auy6OwaXOwjZxSzpShwo\" type=\"text/javascript\"></script>\n",
       "</html>"
      ]
     },
     "execution_count": 93,
     "metadata": {},
     "output_type": "execute_result"
    }
   ],
   "source": [
    "soup"
   ]
  },
  {
   "cell_type": "code",
   "execution_count": 120,
   "id": "e408d547",
   "metadata": {},
   "outputs": [
    {
     "data": {
      "text/plain": [
       "<tr class=\"athing\" id=\"36304143\">\n",
       "<td align=\"right\" class=\"title\" valign=\"top\"><span class=\"rank\">1.</span></td> <td class=\"votelinks\" valign=\"top\"><center><a href=\"vote?id=36304143&amp;how=up&amp;goto=news\" id=\"up_36304143\"><div class=\"votearrow\" title=\"upvote\"></div></a></center></td><td class=\"title\"><span class=\"titleline\"><a href=\"https://github.com/ggerganov/llama.cpp/pull/1827\">Llama.cpp: Full CUDA GPU Acceleration</a><span class=\"sitebit comhead\"> (<a href=\"from?site=github.com/ggerganov\"><span class=\"sitestr\">github.com/ggerganov</span></a>)</span></span></td></tr>"
      ]
     },
     "execution_count": 120,
     "metadata": {},
     "output_type": "execute_result"
    }
   ],
   "source": [
    "soup = BeautifulSoup(r.text, 'html.parser')\n",
    "links = soup.findAll('tr', class_='athing')\n",
    "links[0]"
   ]
  },
  {
   "cell_type": "code",
   "execution_count": 127,
   "id": "1ede5516",
   "metadata": {},
   "outputs": [
    {
     "data": {
      "text/plain": [
       "[<td align=\"right\" class=\"title\" valign=\"top\"><span class=\"rank\">1.</span></td>,\n",
       " <td class=\"title\"><span class=\"titleline\"><a href=\"https://github.com/ggerganov/llama.cpp/pull/1827\">Llama.cpp: Full CUDA GPU Acceleration</a><span class=\"sitebit comhead\"> (<a href=\"from?site=github.com/ggerganov\"><span class=\"sitestr\">github.com/ggerganov</span></a>)</span></span></td>,\n",
       " <td align=\"right\" class=\"title\" valign=\"top\"><span class=\"rank\">2.</span></td>,\n",
       " <td class=\"title\"><span class=\"titleline\"><a href=\"https://apps.apple.com/us/story/id1435835881\" rel=\"noreferrer\">BBEdit: Where Respect Is Due</a><span class=\"sitebit comhead\"> (<a href=\"from?site=apps.apple.com\"><span class=\"sitestr\">apps.apple.com</span></a>)</span></span></td>,\n",
       " <td align=\"right\" class=\"title\" valign=\"top\"><span class=\"rank\">3.</span></td>,\n",
       " <td class=\"title\"><span class=\"titleline\"><a href=\"https://non.io\" rel=\"noreferrer\">Show HN: Non.io, a Reddit-like platform Ive been working on for the last 4 years</a><span class=\"sitebit comhead\"> (<a href=\"from?site=non.io\"><span class=\"sitestr\">non.io</span></a>)</span></span></td>,\n",
       " <td align=\"right\" class=\"title\" valign=\"top\"><span class=\"rank\">4.</span></td>,\n",
       " <td class=\"title\"><span class=\"titleline\"><a href=\"https://waabi.ai/oyster/\" rel=\"noreferrer\">Oyster: Towards Unsupervised Object Detection from Lidar Point Clouds</a><span class=\"sitebit comhead\"> (<a href=\"from?site=waabi.ai\"><span class=\"sitestr\">waabi.ai</span></a>)</span></span></td>,\n",
       " <td align=\"right\" class=\"title\" valign=\"top\"><span class=\"rank\">5.</span></td>,\n",
       " <td class=\"title\"><span class=\"titleline\"><a href=\"https://hackcompute.com/hacking-epp-servers/\" rel=\"noreferrer\">Hacking root EPP servers to take control of zones</a><span class=\"sitebit comhead\"> (<a href=\"from?site=hackcompute.com\"><span class=\"sitestr\">hackcompute.com</span></a>)</span></span></td>,\n",
       " <td align=\"right\" class=\"title\" valign=\"top\"><span class=\"rank\">6.</span></td>,\n",
       " <td class=\"title\"><span class=\"titleline\"><a href=\"https://snap-research.github.io/SnapFusion/\" rel=\"noreferrer\">SnapFusion: Text-to-Image Diffusion Model on Mobile Devices Within Two Seconds</a><span class=\"sitebit comhead\"> (<a href=\"from?site=snap-research.github.io\"><span class=\"sitestr\">snap-research.github.io</span></a>)</span></span></td>,\n",
       " <td align=\"right\" class=\"title\" valign=\"top\"><span class=\"rank\">7.</span></td>,\n",
       " <td class=\"title\"><span class=\"titleline\"><a href=\"https://github.com/mackyle/sqlite/blob/18cf47156abe94255ae1495ba2da84517dce6081/src/os.h\">Why sqlite3 temp files were renamed 'etilqs_*' (2006)</a><span class=\"sitebit comhead\"> (<a href=\"from?site=github.com/mackyle\"><span class=\"sitestr\">github.com/mackyle</span></a>)</span></span></td>,\n",
       " <td align=\"right\" class=\"title\" valign=\"top\"><span class=\"rank\">8.</span></td>,\n",
       " <td class=\"title\"><span class=\"titleline\"><a href=\"https://www.quantamagazine.org/a-new-experiment-casts-doubt-on-the-leading-theory-of-the-nucleus-20230612/\" rel=\"noreferrer\">A new experiment casts doubt on the leading theory of the nucleus</a><span class=\"sitebit comhead\"> (<a href=\"from?site=quantamagazine.org\"><span class=\"sitestr\">quantamagazine.org</span></a>)</span></span></td>,\n",
       " <td align=\"right\" class=\"title\" valign=\"top\"><span class=\"rank\">9.</span></td>,\n",
       " <td class=\"title\"><span class=\"titleline\"><a href=\"https://spritely.institute/news/hoot-wireworld-live-in-browser.html\" rel=\"noreferrer\">Lisp Game Jam – “Wireworld” in WebAssembly Using Spritely's Hoot Project</a><span class=\"sitebit comhead\"> (<a href=\"from?site=spritely.institute\"><span class=\"sitestr\">spritely.institute</span></a>)</span></span></td>,\n",
       " <td align=\"right\" class=\"title\" valign=\"top\"><span class=\"rank\">10.</span></td>,\n",
       " <td class=\"title\"><span class=\"titleline\"><a href=\"https://ericwbailey.website/published/dont-use-custom-css-scrollbars/\" rel=\"noreferrer\">Don't use custom CSS scrollbars</a><span class=\"sitebit comhead\"> (<a href=\"from?site=ericwbailey.website\"><span class=\"sitestr\">ericwbailey.website</span></a>)</span></span></td>,\n",
       " <td align=\"right\" class=\"title\" valign=\"top\"><span class=\"rank\">11.</span></td>,\n",
       " <td class=\"title\"><span class=\"titleline\"><a href=\"https://www.sfgate.com/food/article/anchor-brewing-co-ends-national-distribution-18148141.php\" rel=\"noreferrer\">Anchor Brewing Company ends national distribution, kills Christmas Ale</a><span class=\"sitebit comhead\"> (<a href=\"from?site=sfgate.com\"><span class=\"sitestr\">sfgate.com</span></a>)</span></span></td>,\n",
       " <td align=\"right\" class=\"title\" valign=\"top\"><span class=\"rank\">12.</span></td>,\n",
       " <td class=\"title\"><span class=\"titleline\"><a href=\"https://arxiv.org/abs/2306.02707\" rel=\"noreferrer\">Orca: Progressive Learning from Complex Explanation Traces of GPT-4</a><span class=\"sitebit comhead\"> (<a href=\"from?site=arxiv.org\"><span class=\"sitestr\">arxiv.org</span></a>)</span></span></td>,\n",
       " <td align=\"right\" class=\"title\" valign=\"top\"><span class=\"rank\">13.</span></td>,\n",
       " <td class=\"title\"><span class=\"titleline\"><a href=\"https://www.marginalia.nu/log/82_killing_community\" rel=\"noreferrer\">Killing Community</a><span class=\"sitebit comhead\"> (<a href=\"from?site=marginalia.nu\"><span class=\"sitestr\">marginalia.nu</span></a>)</span></span></td>,\n",
       " <td align=\"right\" class=\"title\" valign=\"top\"><span class=\"rank\">14.</span></td>,\n",
       " <td class=\"title\"><span class=\"titleline\"><a href=\"https://justine.lol/sorting/\" rel=\"noreferrer\">Understanding DeepMind's sorting algorithm</a><span class=\"sitebit comhead\"> (<a href=\"from?site=justine.lol\"><span class=\"sitestr\">justine.lol</span></a>)</span></span></td>,\n",
       " <td align=\"right\" class=\"title\" valign=\"top\"><span class=\"rank\">15.</span></td>,\n",
       " <td class=\"title\"><span class=\"titleline\"><a href=\"https://carboncredits.com/meta-to-buy-almost-7-million-carbon-credits-from-aspiration/\" rel=\"noreferrer\">Meta to Buy Almost 7M Carbon Credits</a><span class=\"sitebit comhead\"> (<a href=\"from?site=carboncredits.com\"><span class=\"sitestr\">carboncredits.com</span></a>)</span></span></td>,\n",
       " <td align=\"right\" class=\"title\" valign=\"top\"><span class=\"rank\">16.</span></td>,\n",
       " <td class=\"title\"><span class=\"titleline\"><a href=\"https://www.dkriesel.com/en/blog/2013/0802_xerox-workcentres_are_switching_written_numbers_when_scanning\" rel=\"noreferrer\">Xerox scanners randomly alter numbers in scanned documents (2013)</a><span class=\"sitebit comhead\"> (<a href=\"from?site=dkriesel.com\"><span class=\"sitestr\">dkriesel.com</span></a>)</span></span></td>,\n",
       " <td align=\"right\" class=\"title\" valign=\"top\"><span class=\"rank\">17.</span></td>,\n",
       " <td class=\"title\"><span class=\"titleline\"><a href=\"https://newsletter.mollywhite.net/p/but-the-sec-let-us-go-public-and\" rel=\"noreferrer\">“But the SEC let us go public” and other flawed arguments in Coinbase's defense</a><span class=\"sitebit comhead\"> (<a href=\"from?site=mollywhite.net\"><span class=\"sitestr\">mollywhite.net</span></a>)</span></span></td>,\n",
       " <td align=\"right\" class=\"title\" valign=\"top\"><span class=\"rank\">18.</span></td>,\n",
       " <td class=\"title\"><span class=\"titleline\"><a href=\"https://sashachapin.substack.com/p/in-praise-of-blowing-up-your-life\" rel=\"noreferrer\">In praise of blowing up your life</a><span class=\"sitebit comhead\"> (<a href=\"from?site=sashachapin.substack.com\"><span class=\"sitestr\">sashachapin.substack.com</span></a>)</span></span></td>,\n",
       " <td align=\"right\" class=\"title\" valign=\"top\"><span class=\"rank\">19.</span></td>,\n",
       " <td class=\"title\"><span class=\"titleline\"><a href=\"https://www.scientificamerican.com/podcast/episode/mdma-moves-from-club-drug-to-real-therapy/\" rel=\"nofollow noreferrer\">MDMA Moves from Club Drug to Real Therapy</a><span class=\"sitebit comhead\"> (<a href=\"from?site=scientificamerican.com\"><span class=\"sitestr\">scientificamerican.com</span></a>)</span></span></td>,\n",
       " <td align=\"right\" class=\"title\" valign=\"top\"><span class=\"rank\">20.</span></td>,\n",
       " <td class=\"title\"><span class=\"titleline\"><a href=\"https://pixelfed.blog/p/2023/feature/introducing-import-from-instagram\" rel=\"noreferrer\">Pixelfed Introduces Import from Instagram</a><span class=\"sitebit comhead\"> (<a href=\"from?site=pixelfed.blog\"><span class=\"sitestr\">pixelfed.blog</span></a>)</span></span></td>,\n",
       " <td align=\"right\" class=\"title\" valign=\"top\"><span class=\"rank\">21.</span></td>,\n",
       " <td class=\"title\"><span class=\"titleline\"><a href=\"https://vintagenatgeographic.tumblr.com/\" rel=\"noreferrer\">Vintage National Geographic Photos</a><span class=\"sitebit comhead\"> (<a href=\"from?site=vintagenatgeographic.tumblr.com\"><span class=\"sitestr\">vintagenatgeographic.tumblr.com</span></a>)</span></span></td>,\n",
       " <td align=\"right\" class=\"title\" valign=\"top\"><span class=\"rank\">22.</span></td>,\n",
       " <td class=\"title\"><span class=\"titleline\"><a href=\"https://www.techdirt.com/2023/06/08/us-patent-office-proposes-rule-to-make-it-much-harder-to-kill-bad-patents/\" rel=\"noreferrer\">US Patent Office proposes rule to make it much harder to kill bad patents</a><span class=\"sitebit comhead\"> (<a href=\"from?site=techdirt.com\"><span class=\"sitestr\">techdirt.com</span></a>)</span></span></td>,\n",
       " <td align=\"right\" class=\"title\" valign=\"top\"><span class=\"rank\">23.</span></td>,\n",
       " <td class=\"title\"><span class=\"titleline\"><a href=\"https://www.hackster.io/news/miniature-macintosh-with-raspberry-pi-cbff147ed047\" rel=\"noreferrer\">Miniature Macintosh with Raspberry Pi</a><span class=\"sitebit comhead\"> (<a href=\"from?site=hackster.io\"><span class=\"sitestr\">hackster.io</span></a>)</span></span></td>,\n",
       " <td align=\"right\" class=\"title\" valign=\"top\"><span class=\"rank\">24.</span></td>,\n",
       " <td class=\"title\"><span class=\"titleline\"><a href=\"https://generalrobots.substack.com/p/dimension-hopper-part-1\" rel=\"noreferrer\">Show HN: Stable Diffusion powered level editor for a 2D game</a><span class=\"sitebit comhead\"> (<a href=\"from?site=generalrobots.substack.com\"><span class=\"sitestr\">generalrobots.substack.com</span></a>)</span></span></td>,\n",
       " <td align=\"right\" class=\"title\" valign=\"top\"><span class=\"rank\">25.</span></td>,\n",
       " <td class=\"title\"><span class=\"titleline\"><a href=\"https://benjcal.space/posts/the-adventures-of-writing-a-chip8-emulator-part-1/\" rel=\"noreferrer\">The Adventures of Writing a CHIP8 Emulator</a><span class=\"sitebit comhead\"> (<a href=\"from?site=benjcal.space\"><span class=\"sitestr\">benjcal.space</span></a>)</span></span></td>,\n",
       " <td align=\"right\" class=\"title\" valign=\"top\"><span class=\"rank\">26.</span></td>,\n",
       " <td class=\"title\"><span class=\"titleline\"><a href=\"https://underjord.io/scripting-with-elixir.html\" rel=\"noreferrer\">Scripting with Elixir</a><span class=\"sitebit comhead\"> (<a href=\"from?site=underjord.io\"><span class=\"sitestr\">underjord.io</span></a>)</span></span></td>,\n",
       " <td align=\"right\" class=\"title\" valign=\"top\"><span class=\"rank\">27.</span></td>,\n",
       " <td class=\"title\"><span class=\"titleline\"><a href=\"https://www.pulumi.com/blog/converting-full-terraform-programs-to-pulumi/\" rel=\"noreferrer\">Converting Full Terraform Programs to Pulumi</a><span class=\"sitebit comhead\"> (<a href=\"from?site=pulumi.com\"><span class=\"sitestr\">pulumi.com</span></a>)</span></span></td>,\n",
       " <td align=\"right\" class=\"title\" valign=\"top\"><span class=\"rank\">28.</span></td>,\n",
       " <td class=\"title\"><span class=\"titleline\"><a href=\"https://www.nytimes.com/2023/06/12/magazine/mrbeast-youtube.html\" rel=\"noreferrer\">MrBeast has become a viral sensation for his acts of altruism</a><span class=\"sitebit comhead\"> (<a href=\"from?site=nytimes.com\"><span class=\"sitestr\">nytimes.com</span></a>)</span></span></td>,\n",
       " <td align=\"right\" class=\"title\" valign=\"top\"><span class=\"rank\">29.</span></td>,\n",
       " <td class=\"title\"><span class=\"titleline\"><a href=\"https://zsync.xyz/\" rel=\"noreferrer\">Show HN: Zsync, a Reddit Alternative with the Goal to Reward Quality Comments</a><span class=\"sitebit comhead\"> (<a href=\"from?site=zsync.xyz\"><span class=\"sitestr\">zsync.xyz</span></a>)</span></span></td>,\n",
       " <td align=\"right\" class=\"title\" valign=\"top\"><span class=\"rank\">30.</span></td>,\n",
       " <td class=\"title\"><span class=\"titleline\"><a href=\"https://blog.mobian.org/posts/2023/06/10/bookworm/\" rel=\"noreferrer\">The Mobian Bookworm has landed</a><span class=\"sitebit comhead\"> (<a href=\"from?site=mobian.org\"><span class=\"sitestr\">mobian.org</span></a>)</span></span></td>,\n",
       " <td class=\"title\"><a class=\"morelink\" href=\"?p=2\" rel=\"next\">More</a></td>]"
      ]
     },
     "execution_count": 127,
     "metadata": {},
     "output_type": "execute_result"
    }
   ],
   "source": [
    "links1 = soup.findAll('td', class_='title')\n",
    "links1"
   ]
  },
  {
   "cell_type": "code",
   "execution_count": 95,
   "id": "233f2177",
   "metadata": {},
   "outputs": [
    {
     "data": {
      "text/plain": [
       "30"
      ]
     },
     "execution_count": 95,
     "metadata": {},
     "output_type": "execute_result"
    }
   ],
   "source": [
    "len(links)"
   ]
  },
  {
   "cell_type": "code",
   "execution_count": 39,
   "id": "0e1b6992",
   "metadata": {},
   "outputs": [
    {
     "data": {
      "text/plain": [
       "bs4.element.Tag"
      ]
     },
     "execution_count": 39,
     "metadata": {},
     "output_type": "execute_result"
    }
   ],
   "source": [
    "type(links[0])"
   ]
  },
  {
   "cell_type": "code",
   "execution_count": 96,
   "id": "b964abab",
   "metadata": {},
   "outputs": [
    {
     "data": {
      "text/plain": [
       "[<td align=\"right\" class=\"title\" valign=\"top\"><span class=\"rank\">1.</span></td>,\n",
       " <td class=\"votelinks\" valign=\"top\"><center><a href=\"vote?id=36304143&amp;how=up&amp;goto=news\" id=\"up_36304143\"><div class=\"votearrow\" title=\"upvote\"></div></a></center></td>,\n",
       " <td class=\"title\"><span class=\"titleline\"><a href=\"https://github.com/ggerganov/llama.cpp/pull/1827\">Llama.cpp: Full CUDA GPU Acceleration</a><span class=\"sitebit comhead\"> (<a href=\"from?site=github.com/ggerganov\"><span class=\"sitestr\">github.com/ggerganov</span></a>)</span></span></td>]"
      ]
     },
     "execution_count": 96,
     "metadata": {},
     "output_type": "execute_result"
    }
   ],
   "source": [
    "link = links[0]\n",
    "link.find_all('td')"
   ]
  },
  {
   "cell_type": "code",
   "execution_count": 122,
   "id": "70216f68",
   "metadata": {},
   "outputs": [
    {
     "data": {
      "text/plain": [
       "'30.'"
      ]
     },
     "execution_count": 122,
     "metadata": {},
     "output_type": "execute_result"
    }
   ],
   "source": [
    "link.find_all('td')[0].span.text #.replace('.', '')"
   ]
  },
  {
   "cell_type": "code",
   "execution_count": 43,
   "id": "0cc4f8d4",
   "metadata": {},
   "outputs": [
    {
     "data": {
      "text/plain": [
       "bs4.element.Tag"
      ]
     },
     "execution_count": 43,
     "metadata": {},
     "output_type": "execute_result"
    }
   ],
   "source": [
    "type(link)"
   ]
  },
  {
   "cell_type": "code",
   "execution_count": 97,
   "id": "2f8f91e6",
   "metadata": {},
   "outputs": [
    {
     "name": "stdout",
     "output_type": "stream",
     "text": [
      "[{'id': '36304143', 'title': 'Llama.cpp: Full CUDA GPU Acceleration', 'url': 'https://github.com/ggerganov/llama.cpp/pull/1827', 'rank': 1}, {'id': '36303371', 'title': 'BBEdit: Where Respect Is Due', 'url': 'https://apps.apple.com/us/story/id1435835881', 'rank': 2}, {'id': '36296695', 'title': 'Show HN: Non.io, a Reddit-like platform Ive been working on for the last 4 years', 'url': 'https://non.io', 'rank': 3}, {'id': '36304979', 'title': 'Oyster: Towards Unsupervised Object Detection from Lidar Point Clouds', 'url': 'https://waabi.ai/oyster/', 'rank': 4}, {'id': '36305271', 'title': 'Hacking root EPP servers to take control of zones', 'url': 'https://hackcompute.com/hacking-epp-servers/', 'rank': 5}, {'id': '36304716', 'title': 'SnapFusion: Text-to-Image Diffusion Model on Mobile Devices Within Two Seconds', 'url': 'https://snap-research.github.io/SnapFusion/', 'rank': 6}, {'id': '36302805', 'title': \"Why sqlite3 temp files were renamed 'etilqs_*' (2006)\", 'url': 'https://github.com/mackyle/sqlite/blob/18cf47156abe94255ae1495ba2da84517dce6081/src/os.h', 'rank': 7}, {'id': '36302448', 'title': 'A new experiment casts doubt on the leading theory of the nucleus', 'url': 'https://www.quantamagazine.org/a-new-experiment-casts-doubt-on-the-leading-theory-of-the-nucleus-20230612/', 'rank': 8}, {'id': '36299543', 'title': \"Lisp Game Jam – “Wireworld” in WebAssembly Using Spritely's Hoot Project\", 'url': 'https://spritely.institute/news/hoot-wireworld-live-in-browser.html', 'rank': 9}, {'id': '36302002', 'title': \"Don't use custom CSS scrollbars\", 'url': 'https://ericwbailey.website/published/dont-use-custom-css-scrollbars/', 'rank': 10}, {'id': '36301974', 'title': 'Anchor Brewing Company ends national distribution, kills Christmas Ale', 'url': 'https://www.sfgate.com/food/article/anchor-brewing-co-ends-national-distribution-18148141.php', 'rank': 11}, {'id': '36299246', 'title': 'Orca: Progressive Learning from Complex Explanation Traces of GPT-4', 'url': 'https://arxiv.org/abs/2306.02707', 'rank': 12}, {'id': '36296882', 'title': 'Killing Community', 'url': 'https://www.marginalia.nu/log/82_killing_community', 'rank': 13}, {'id': '36297476', 'title': \"Understanding DeepMind's sorting algorithm\", 'url': 'https://justine.lol/sorting/', 'rank': 14}, {'id': '36304623', 'title': 'Meta to Buy Almost 7M Carbon Credits', 'url': 'https://carboncredits.com/meta-to-buy-almost-7-million-carbon-credits-from-aspiration/', 'rank': 15}, {'id': '36304685', 'title': 'Xerox scanners randomly alter numbers in scanned documents (2013)', 'url': 'https://www.dkriesel.com/en/blog/2013/0802_xerox-workcentres_are_switching_written_numbers_when_scanning', 'rank': 16}, {'id': '36302231', 'title': \"“But the SEC let us go public” and other flawed arguments in Coinbase's defense\", 'url': 'https://newsletter.mollywhite.net/p/but-the-sec-let-us-go-public-and', 'rank': 17}, {'id': '36301758', 'title': 'In praise of blowing up your life', 'url': 'https://sashachapin.substack.com/p/in-praise-of-blowing-up-your-life', 'rank': 18}, {'id': '36300439', 'title': 'MDMA Moves from Club Drug to Real Therapy', 'url': 'https://www.scientificamerican.com/podcast/episode/mdma-moves-from-club-drug-to-real-therapy/', 'rank': 19}, {'id': '36296282', 'title': 'Pixelfed Introduces Import from Instagram', 'url': 'https://pixelfed.blog/p/2023/feature/introducing-import-from-instagram', 'rank': 20}, {'id': '36303955', 'title': 'Vintage National Geographic Photos', 'url': 'https://vintagenatgeographic.tumblr.com/', 'rank': 21}, {'id': '36300958', 'title': 'US Patent Office proposes rule to make it much harder to kill bad patents', 'url': 'https://www.techdirt.com/2023/06/08/us-patent-office-proposes-rule-to-make-it-much-harder-to-kill-bad-patents/', 'rank': 22}, {'id': '36289682', 'title': 'Miniature Macintosh with Raspberry Pi', 'url': 'https://www.hackster.io/news/miniature-macintosh-with-raspberry-pi-cbff147ed047', 'rank': 23}, {'id': '36295227', 'title': 'Show HN: Stable Diffusion powered level editor for a 2D game', 'url': 'https://generalrobots.substack.com/p/dimension-hopper-part-1', 'rank': 24}, {'id': '36300539', 'title': 'The Adventures of Writing a CHIP8 Emulator', 'url': 'https://benjcal.space/posts/the-adventures-of-writing-a-chip8-emulator-part-1/', 'rank': 25}, {'id': '36289580', 'title': 'Scripting with Elixir', 'url': 'https://underjord.io/scripting-with-elixir.html', 'rank': 26}, {'id': '36303074', 'title': 'Converting Full Terraform Programs to Pulumi', 'url': 'https://www.pulumi.com/blog/converting-full-terraform-programs-to-pulumi/', 'rank': 27}, {'id': '36303447', 'title': 'MrBeast has become a viral sensation for his acts of altruism', 'url': 'https://www.nytimes.com/2023/06/12/magazine/mrbeast-youtube.html', 'rank': 28}, {'id': '36301337', 'title': 'Show HN: Zsync, a Reddit Alternative with the Goal to Reward Quality Comments', 'url': 'https://zsync.xyz/', 'rank': 29}, {'id': '36289493', 'title': 'The Mobian Bookworm has landed', 'url': 'https://blog.mobian.org/posts/2023/06/10/bookworm/', 'rank': 30}]\n"
     ]
    }
   ],
   "source": [
    "\n",
    "formatted_links = []\n",
    "\n",
    "for link in links:\n",
    "    data = {\n",
    "        'id': link['id'],\n",
    "        'title': link.find_all('td')[2].a.text,\n",
    "        \"url\": link.find_all('td')[2].a['href'],\n",
    "        \"rank\": int(link.find_all('td')[0].span.text.replace('.', ''))\n",
    "    }\n",
    "    formatted_links.append(data)\n",
    "\n",
    "print(formatted_links)"
   ]
  },
  {
   "cell_type": "code",
   "execution_count": 33,
   "id": "4277001f",
   "metadata": {},
   "outputs": [
    {
     "data": {
      "text/html": [
       "<div>\n",
       "<style scoped>\n",
       "    .dataframe tbody tr th:only-of-type {\n",
       "        vertical-align: middle;\n",
       "    }\n",
       "\n",
       "    .dataframe tbody tr th {\n",
       "        vertical-align: top;\n",
       "    }\n",
       "\n",
       "    .dataframe thead th {\n",
       "        text-align: right;\n",
       "    }\n",
       "</style>\n",
       "<table border=\"1\" class=\"dataframe\">\n",
       "  <thead>\n",
       "    <tr style=\"text-align: right;\">\n",
       "      <th></th>\n",
       "      <th>id</th>\n",
       "      <th>title</th>\n",
       "      <th>url</th>\n",
       "      <th>rank</th>\n",
       "    </tr>\n",
       "  </thead>\n",
       "  <tbody>\n",
       "    <tr>\n",
       "      <th>0</th>\n",
       "      <td>31474710</td>\n",
       "      <td>Useless Use of \"dd\" (2015)</td>\n",
       "      <td>https://www.vidarholen.net/contents/blog/?p=479</td>\n",
       "      <td>1</td>\n",
       "    </tr>\n",
       "    <tr>\n",
       "      <th>1</th>\n",
       "      <td>31475680</td>\n",
       "      <td>My experience as a Unit-18 Berkeley Lecturer</td>\n",
       "      <td>http://blog.pamelafox.org/2022/05/my-experienc...</td>\n",
       "      <td>2</td>\n",
       "    </tr>\n",
       "    <tr>\n",
       "      <th>2</th>\n",
       "      <td>31472997</td>\n",
       "      <td>“What if it changes?”</td>\n",
       "      <td>https://chriskiehl.com/article/the-tyranny-of-...</td>\n",
       "      <td>3</td>\n",
       "    </tr>\n",
       "    <tr>\n",
       "      <th>3</th>\n",
       "      <td>31475130</td>\n",
       "      <td>What’s in Which Python</td>\n",
       "      <td>https://nedbatchelder.com/text/which-py.html</td>\n",
       "      <td>4</td>\n",
       "    </tr>\n",
       "    <tr>\n",
       "      <th>4</th>\n",
       "      <td>31474062</td>\n",
       "      <td>Feather Wiki: app for creating personal non-li...</td>\n",
       "      <td>https://feather.wiki/</td>\n",
       "      <td>5</td>\n",
       "    </tr>\n",
       "    <tr>\n",
       "      <th>5</th>\n",
       "      <td>31474506</td>\n",
       "      <td>Is This a Tank?</td>\n",
       "      <td>https://acoup.blog/2022/05/13/collections-anci...</td>\n",
       "      <td>6</td>\n",
       "    </tr>\n",
       "    <tr>\n",
       "      <th>6</th>\n",
       "      <td>31475575</td>\n",
       "      <td>The Apple M1, ARM/x86 Linux Virtualization, an...</td>\n",
       "      <td>https://www.sevarg.net/2021/01/09/arm-mac-mini...</td>\n",
       "      <td>7</td>\n",
       "    </tr>\n",
       "    <tr>\n",
       "      <th>7</th>\n",
       "      <td>31456867</td>\n",
       "      <td>Before Ships Used GPS, There Was the Fresnel Lens</td>\n",
       "      <td>https://spectrum.ieee.org/fresnel-lens-milestone</td>\n",
       "      <td>8</td>\n",
       "    </tr>\n",
       "    <tr>\n",
       "      <th>8</th>\n",
       "      <td>31470400</td>\n",
       "      <td>Grandpa’s Basement House</td>\n",
       "      <td>https://www.granolashotgun.com/granolashotgunc...</td>\n",
       "      <td>9</td>\n",
       "    </tr>\n",
       "    <tr>\n",
       "      <th>9</th>\n",
       "      <td>31473846</td>\n",
       "      <td>Blinkenlights: PC Binary Emulating Visualizer</td>\n",
       "      <td>https://justine.lol/blinkenlights/</td>\n",
       "      <td>10</td>\n",
       "    </tr>\n",
       "    <tr>\n",
       "      <th>10</th>\n",
       "      <td>31473369</td>\n",
       "      <td>Case Studies in USB-C Debugging (2020)</td>\n",
       "      <td>https://medium.com/@kolluru.nathan/case-studie...</td>\n",
       "      <td>11</td>\n",
       "    </tr>\n",
       "    <tr>\n",
       "      <th>11</th>\n",
       "      <td>31475420</td>\n",
       "      <td>A Chrome extension for bionic reading on any w...</td>\n",
       "      <td>https://github.com/ansh/bionic-reading</td>\n",
       "      <td>12</td>\n",
       "    </tr>\n",
       "    <tr>\n",
       "      <th>12</th>\n",
       "      <td>31455322</td>\n",
       "      <td>The Vulnerable World Hypothesis [pdf] (2019)</td>\n",
       "      <td>https://www.nickbostrom.com/papers/vulnerable.pdf</td>\n",
       "      <td>13</td>\n",
       "    </tr>\n",
       "    <tr>\n",
       "      <th>13</th>\n",
       "      <td>31472716</td>\n",
       "      <td>Details on AMD's Quirky Chipset Solutions for AM5</td>\n",
       "      <td>https://angstronomics.substack.com/p/site-laun...</td>\n",
       "      <td>14</td>\n",
       "    </tr>\n",
       "    <tr>\n",
       "      <th>14</th>\n",
       "      <td>31470928</td>\n",
       "      <td>Lofi.co – Relax and Focus</td>\n",
       "      <td>https://lofi.co/</td>\n",
       "      <td>15</td>\n",
       "    </tr>\n",
       "    <tr>\n",
       "      <th>15</th>\n",
       "      <td>31474078</td>\n",
       "      <td>Empirical Notes on Kissing</td>\n",
       "      <td>https://belkarx.github.io/posts/finished/Empir...</td>\n",
       "      <td>16</td>\n",
       "    </tr>\n",
       "    <tr>\n",
       "      <th>16</th>\n",
       "      <td>31449044</td>\n",
       "      <td>AutoAnimate  – Add motion to web apps with a s...</td>\n",
       "      <td>https://github.com/formkit/auto-animate</td>\n",
       "      <td>17</td>\n",
       "    </tr>\n",
       "    <tr>\n",
       "      <th>17</th>\n",
       "      <td>31475401</td>\n",
       "      <td>Goodbye smallpox vaccination, hello monkeypox ...</td>\n",
       "      <td>https://www.nationalgeographic.com/science/art...</td>\n",
       "      <td>18</td>\n",
       "    </tr>\n",
       "    <tr>\n",
       "      <th>18</th>\n",
       "      <td>31457181</td>\n",
       "      <td>Interland: The Country in the Intersection</td>\n",
       "      <td>https://maximumprogress.substack.com/p/interla...</td>\n",
       "      <td>19</td>\n",
       "    </tr>\n",
       "    <tr>\n",
       "      <th>19</th>\n",
       "      <td>31474810</td>\n",
       "      <td>STUNner: A Kubernetes ingress gateway for WebRTC</td>\n",
       "      <td>https://github.com/l7mp/stunner</td>\n",
       "      <td>20</td>\n",
       "    </tr>\n",
       "    <tr>\n",
       "      <th>20</th>\n",
       "      <td>31472093</td>\n",
       "      <td>Simple software things that are actually very ...</td>\n",
       "      <td>https://www.construct.net/en/blogs/ashleys-blo...</td>\n",
       "      <td>21</td>\n",
       "    </tr>\n",
       "    <tr>\n",
       "      <th>21</th>\n",
       "      <td>31471804</td>\n",
       "      <td>Programming with Nothing</td>\n",
       "      <td>https://tomstu.art/programming-with-nothing</td>\n",
       "      <td>22</td>\n",
       "    </tr>\n",
       "    <tr>\n",
       "      <th>22</th>\n",
       "      <td>31473632</td>\n",
       "      <td>MasterCard to launch biometric checkout tool f...</td>\n",
       "      <td>https://www.retaildive.com/news/mastercard-bio...</td>\n",
       "      <td>23</td>\n",
       "    </tr>\n",
       "    <tr>\n",
       "      <th>23</th>\n",
       "      <td>31471416</td>\n",
       "      <td>Current guidelines for sun exposure are unheal...</td>\n",
       "      <td>https://www.outsideonline.com/health/wellness/...</td>\n",
       "      <td>24</td>\n",
       "    </tr>\n",
       "    <tr>\n",
       "      <th>24</th>\n",
       "      <td>31449837</td>\n",
       "      <td>Are Prompt-Based Models Clueless?</td>\n",
       "      <td>https://arxiv.org/abs/2205.09295</td>\n",
       "      <td>25</td>\n",
       "    </tr>\n",
       "    <tr>\n",
       "      <th>25</th>\n",
       "      <td>31470482</td>\n",
       "      <td>Constraint-based geometry (CAD) sketcher for B...</td>\n",
       "      <td>https://github.com/hlorus/CAD_Sketcher</td>\n",
       "      <td>26</td>\n",
       "    </tr>\n",
       "    <tr>\n",
       "      <th>26</th>\n",
       "      <td>31468303</td>\n",
       "      <td>How This Ends</td>\n",
       "      <td>https://avc.com/2022/05/how-this-ends-2/</td>\n",
       "      <td>27</td>\n",
       "    </tr>\n",
       "    <tr>\n",
       "      <th>27</th>\n",
       "      <td>31448792</td>\n",
       "      <td>Intel plans immersion lab to chill its power-h...</td>\n",
       "      <td>https://www.theregister.com/2022/05/19/intel_i...</td>\n",
       "      <td>28</td>\n",
       "    </tr>\n",
       "    <tr>\n",
       "      <th>28</th>\n",
       "      <td>31469295</td>\n",
       "      <td>Faster CRC32 on the Apple M1</td>\n",
       "      <td>https://dougallj.wordpress.com/2022/05/22/fast...</td>\n",
       "      <td>29</td>\n",
       "    </tr>\n",
       "    <tr>\n",
       "      <th>29</th>\n",
       "      <td>31449368</td>\n",
       "      <td>SQLite may become foundational for digital pro...</td>\n",
       "      <td>https://venturebeat.com/2022/05/20/why-sqlite-...</td>\n",
       "      <td>30</td>\n",
       "    </tr>\n",
       "  </tbody>\n",
       "</table>\n",
       "</div>"
      ],
      "text/plain": [
       "          id                                              title  \\\n",
       "0   31474710                         Useless Use of \"dd\" (2015)   \n",
       "1   31475680       My experience as a Unit-18 Berkeley Lecturer   \n",
       "2   31472997                              “What if it changes?”   \n",
       "3   31475130                             What’s in Which Python   \n",
       "4   31474062  Feather Wiki: app for creating personal non-li...   \n",
       "5   31474506                                    Is This a Tank?   \n",
       "6   31475575  The Apple M1, ARM/x86 Linux Virtualization, an...   \n",
       "7   31456867  Before Ships Used GPS, There Was the Fresnel Lens   \n",
       "8   31470400                           Grandpa’s Basement House   \n",
       "9   31473846      Blinkenlights: PC Binary Emulating Visualizer   \n",
       "10  31473369             Case Studies in USB-C Debugging (2020)   \n",
       "11  31475420  A Chrome extension for bionic reading on any w...   \n",
       "12  31455322       The Vulnerable World Hypothesis [pdf] (2019)   \n",
       "13  31472716  Details on AMD's Quirky Chipset Solutions for AM5   \n",
       "14  31470928                          Lofi.co – Relax and Focus   \n",
       "15  31474078                         Empirical Notes on Kissing   \n",
       "16  31449044  AutoAnimate  – Add motion to web apps with a s...   \n",
       "17  31475401  Goodbye smallpox vaccination, hello monkeypox ...   \n",
       "18  31457181         Interland: The Country in the Intersection   \n",
       "19  31474810   STUNner: A Kubernetes ingress gateway for WebRTC   \n",
       "20  31472093  Simple software things that are actually very ...   \n",
       "21  31471804                           Programming with Nothing   \n",
       "22  31473632  MasterCard to launch biometric checkout tool f...   \n",
       "23  31471416  Current guidelines for sun exposure are unheal...   \n",
       "24  31449837                  Are Prompt-Based Models Clueless?   \n",
       "25  31470482  Constraint-based geometry (CAD) sketcher for B...   \n",
       "26  31468303                                      How This Ends   \n",
       "27  31448792  Intel plans immersion lab to chill its power-h...   \n",
       "28  31469295                       Faster CRC32 on the Apple M1   \n",
       "29  31449368  SQLite may become foundational for digital pro...   \n",
       "\n",
       "                                                  url  rank  \n",
       "0     https://www.vidarholen.net/contents/blog/?p=479     1  \n",
       "1   http://blog.pamelafox.org/2022/05/my-experienc...     2  \n",
       "2   https://chriskiehl.com/article/the-tyranny-of-...     3  \n",
       "3        https://nedbatchelder.com/text/which-py.html     4  \n",
       "4                               https://feather.wiki/     5  \n",
       "5   https://acoup.blog/2022/05/13/collections-anci...     6  \n",
       "6   https://www.sevarg.net/2021/01/09/arm-mac-mini...     7  \n",
       "7    https://spectrum.ieee.org/fresnel-lens-milestone     8  \n",
       "8   https://www.granolashotgun.com/granolashotgunc...     9  \n",
       "9                  https://justine.lol/blinkenlights/    10  \n",
       "10  https://medium.com/@kolluru.nathan/case-studie...    11  \n",
       "11             https://github.com/ansh/bionic-reading    12  \n",
       "12  https://www.nickbostrom.com/papers/vulnerable.pdf    13  \n",
       "13  https://angstronomics.substack.com/p/site-laun...    14  \n",
       "14                                   https://lofi.co/    15  \n",
       "15  https://belkarx.github.io/posts/finished/Empir...    16  \n",
       "16            https://github.com/formkit/auto-animate    17  \n",
       "17  https://www.nationalgeographic.com/science/art...    18  \n",
       "18  https://maximumprogress.substack.com/p/interla...    19  \n",
       "19                    https://github.com/l7mp/stunner    20  \n",
       "20  https://www.construct.net/en/blogs/ashleys-blo...    21  \n",
       "21        https://tomstu.art/programming-with-nothing    22  \n",
       "22  https://www.retaildive.com/news/mastercard-bio...    23  \n",
       "23  https://www.outsideonline.com/health/wellness/...    24  \n",
       "24                   https://arxiv.org/abs/2205.09295    25  \n",
       "25             https://github.com/hlorus/CAD_Sketcher    26  \n",
       "26           https://avc.com/2022/05/how-this-ends-2/    27  \n",
       "27  https://www.theregister.com/2022/05/19/intel_i...    28  \n",
       "28  https://dougallj.wordpress.com/2022/05/22/fast...    29  \n",
       "29  https://venturebeat.com/2022/05/20/why-sqlite-...    30  "
      ]
     },
     "execution_count": 33,
     "metadata": {},
     "output_type": "execute_result"
    }
   ],
   "source": [
    "import pandas as pd\n",
    "a = pd.DataFrame(formatted_links)\n",
    "a"
   ]
  },
  {
   "cell_type": "code",
   "execution_count": 23,
   "id": "124fe53a",
   "metadata": {},
   "outputs": [
    {
     "data": {
      "text/plain": [
       "'Vintage computer ads that show how far we’ve progressed, 1970-1990'"
      ]
     },
     "execution_count": 23,
     "metadata": {},
     "output_type": "execute_result"
    }
   ],
   "source": [
    "links[0].find_all('td')[2].a.text"
   ]
  },
  {
   "cell_type": "code",
   "execution_count": 24,
   "id": "2b536034",
   "metadata": {},
   "outputs": [
    {
     "data": {
      "text/plain": [
       "[<td align=\"right\" class=\"title\" valign=\"top\"><span class=\"rank\">1.</span></td>,\n",
       " <td class=\"votelinks\" valign=\"top\"><center><a href=\"vote?id=31457612&amp;how=up&amp;goto=news\" id=\"up_31457612\"><div class=\"votearrow\" title=\"upvote\"></div></a></center></td>,\n",
       " <td class=\"title\"><a class=\"titlelink\" href=\"https://rarehistoricalphotos.com/vintage-computer-ads/\">Vintage computer ads that show how far we’ve progressed, 1970-1990</a><span class=\"sitebit comhead\"> (<a href=\"from?site=rarehistoricalphotos.com\"><span class=\"sitestr\">rarehistoricalphotos.com</span></a>)</span></td>]"
      ]
     },
     "execution_count": 24,
     "metadata": {},
     "output_type": "execute_result"
    }
   ],
   "source": [
    "links[0].find_all('td')"
   ]
  },
  {
   "cell_type": "markdown",
   "id": "3a888ffc",
   "metadata": {},
   "source": [
    "Great, with only a couple of lines of Python code we have managed to load the site of Hacker News and get the details of all the posting"
   ]
  },
  {
   "cell_type": "code",
   "execution_count": 33,
   "id": "63ae4413",
   "metadata": {},
   "outputs": [
    {
     "name": "stdout",
     "output_type": "stream",
     "text": [
      "<html lang=\"en\" op=\"news\">\n",
      " <head>\n",
      "  <meta content=\"origin\" name=\"referrer\"/>\n",
      "  <meta content=\"width=device-width, initial-scale=1.0\" name=\"viewport\"/>\n",
      "  <link href=\"news.css?v1DKgiAnJbxahaAg6hb4\" rel=\"stylesheet\" type=\"text/\n"
     ]
    }
   ],
   "source": [
    "import urllib3\n",
    "from bs4 import BeautifulSoup\n",
    "\n",
    "# Fetch the html file\n",
    "r = requests.get('https://news.ycombinator.com')\n",
    "html_doc = r.text\n",
    "\n",
    "# Parse the html file\n",
    "soup = BeautifulSoup(r.text, 'html.parser')\n",
    "\n",
    "# Format the parsed html file\n",
    "strhtm = soup.prettify()\n",
    "\n",
    "# Print the first few characters\n",
    "print (strhtm[:225])"
   ]
  },
  {
   "cell_type": "code",
   "execution_count": 34,
   "id": "1967ff0d",
   "metadata": {},
   "outputs": [
    {
     "data": {
      "text/plain": [
       "'<html lang=\"en\" op=\"news\">\\n <head>\\n  <meta content=\"origin\" name=\"referrer\"/>\\n  <meta content=\"width=device-width, initial-scale=1.0\" name=\"viewport\"/>\\n  <link href=\"news.css?v1DKgiAnJbxahaAg6hb4\" rel=\"stylesheet\" type=\"text/css\"/>\\n  <link href=\"favicon.ico\" rel=\"shortcut icon\"/>\\n  <link href=\"rss\" rel=\"alternate\" title=\"RSS\" type=\"application/rss+xml\"/>\\n  <title>\\n   Hacker News\\n  </title>\\n </head>\\n <body>\\n  <center>\\n   <table bgcolor=\"#f6f6ef\" border=\"0\" cellpadding=\"0\" cellspacing=\"0\" id=\"hnmain\" width=\"85%\">\\n    <tr>\\n     <td bgcolor=\"#ff6600\">\\n      <table border=\"0\" cellpadding=\"0\" cellspacing=\"0\" style=\"padding:2px\" width=\"100%\">\\n       <tr>\\n        <td style=\"width:18px;padding-right:4px\">\\n         <a href=\"https://news.ycombinator.com\">\\n          <img height=\"18\" src=\"y18.gif\" style=\"border:1px white solid;\" width=\"18\"/>\\n         </a>\\n        </td>\\n        <td style=\"line-height:12pt; height:10px;\">\\n         <span class=\"pagetop\">\\n          <b class=\"hnname\">\\n           <a href=\"news\">\\n            Hacker News\\n           </a>\\n          </b>\\n          <a href=\"newest\">\\n           new\\n          </a>\\n          |\\n          <a href=\"front\">\\n           past\\n          </a>\\n          |\\n          <a href=\"newcomments\">\\n           comments\\n          </a>\\n          |\\n          <a href=\"ask\">\\n           ask\\n          </a>\\n          |\\n          <a href=\"show\">\\n           show\\n          </a>\\n          |\\n          <a href=\"jobs\">\\n           jobs\\n          </a>\\n          |\\n          <a href=\"submit\">\\n           submit\\n          </a>\\n         </span>\\n        </td>\\n        <td style=\"text-align:right;padding-right:4px;\">\\n         <span class=\"pagetop\">\\n          <a href=\"login?goto=news\">\\n           login\\n          </a>\\n         </span>\\n        </td>\\n       </tr>\\n      </table>\\n     </td>\\n    </tr>\\n    <tr id=\"pagespace\" style=\"height:10px\" title=\"\">\\n    </tr>\\n    <tr>\\n     <td>\\n      <table border=\"0\" cellpadding=\"0\" cellspacing=\"0\" class=\"itemlist\">\\n       <tr class=\"athing\" id=\"31459258\">\\n        <td align=\"right\" class=\"title\" valign=\"top\">\\n         <span class=\"rank\">\\n          1.\\n         </span>\\n        </td>\\n        <td class=\"votelinks\" valign=\"top\">\\n         <center>\\n          <a href=\"vote?id=31459258&amp;how=up&amp;goto=news\" id=\"up_31459258\">\\n           <div class=\"votearrow\" title=\"upvote\">\\n           </div>\\n          </a>\\n         </center>\\n        </td>\\n        <td class=\"title\">\\n         <a class=\"titlelink\" href=\"https://lwthiker.com/opensource/2022/05/21/firefox-flagged-suspicious.html\">\\n          Firefox appears to be flagged as suspicious by Cloudflare\\n         </a>\\n         <span class=\"sitebit comhead\">\\n          (\\n          <a href=\"from?site=lwthiker.com\">\\n           <span class=\"sitestr\">\\n            lwthiker.com\\n           </span>\\n          </a>\\n          )\\n         </span>\\n        </td>\\n       </tr>\\n       <tr>\\n        <td colspan=\"2\">\\n        </td>\\n        <td class=\"subtext\">\\n         <span class=\"score\" id=\"score_31459258\">\\n          67 points\\n         </span>\\n         by\\n         <a class=\"hnuser\" href=\"user?id=lwthiker\">\\n          lwthiker\\n         </a>\\n         <span class=\"age\" title=\"2022-05-21T16:26:29\">\\n          <a href=\"item?id=31459258\">\\n           1 hour ago\\n          </a>\\n         </span>\\n         <span id=\"unv_31459258\">\\n         </span>\\n         |\\n         <a href=\"hide?id=31459258&amp;goto=news\">\\n          hide\\n         </a>\\n         |\\n         <a href=\"item?id=31459258\">\\n          26\\xa0comments\\n         </a>\\n        </td>\\n       </tr>\\n       <tr class=\"spacer\" style=\"height:5px\">\\n       </tr>\\n       <tr class=\"athing\" id=\"31458635\">\\n        <td align=\"right\" class=\"title\" valign=\"top\">\\n         <span class=\"rank\">\\n          2.\\n         </span>\\n        </td>\\n        <td class=\"votelinks\" valign=\"top\">\\n         <center>\\n          <a href=\"vote?id=31458635&amp;how=up&amp;goto=news\" id=\"up_31458635\">\\n           <div class=\"votearrow\" title=\"upvote\">\\n           </div>\\n          </a>\\n         </center>\\n        </td>\\n        <td class=\"title\">\\n         <a class=\"titlelink\" href=\"https://xpdelta.weebly.com/\">\\n          Windows XP Delta Edition\\n         </a>\\n         <span class=\"sitebit comhead\">\\n          (\\n          <a href=\"from?site=xpdelta.weebly.com\">\\n           <span class=\"sitestr\">\\n            xpdelta.weebly.com\\n           </span>\\n          </a>\\n          )\\n         </span>\\n        </td>\\n       </tr>\\n       <tr>\\n        <td colspan=\"2\">\\n        </td>\\n        <td class=\"subtext\">\\n         <span class=\"score\" id=\"score_31458635\">\\n          89 points\\n         </span>\\n         by\\n         <a class=\"hnuser\" href=\"user?id=kosasbest\">\\n          kosasbest\\n         </a>\\n         <span class=\"age\" title=\"2022-05-21T15:18:56\">\\n          <a href=\"item?id=31458635\">\\n           2 hours ago\\n          </a>\\n         </span>\\n         <span id=\"unv_31458635\">\\n         </span>\\n         |\\n         <a href=\"hide?id=31458635&amp;goto=news\">\\n          hide\\n         </a>\\n         |\\n         <a href=\"item?id=31458635\">\\n          54\\xa0comments\\n         </a>\\n        </td>\\n       </tr>\\n       <tr class=\"spacer\" style=\"height:5px\">\\n       </tr>\\n       <tr class=\"athing\" id=\"31459316\">\\n        <td align=\"right\" class=\"title\" valign=\"top\">\\n         <span class=\"rank\">\\n          3.\\n         </span>\\n        </td>\\n        <td class=\"votelinks\" valign=\"top\">\\n         <center>\\n          <a href=\"vote?id=31459316&amp;how=up&amp;goto=news\" id=\"up_31459316\">\\n           <div class=\"votearrow\" title=\"upvote\">\\n           </div>\\n          </a>\\n         </center>\\n        </td>\\n        <td class=\"title\">\\n         <a class=\"titlelink\" href=\"https://nolanlawson.com/2022/05/21/the-balance-has-shifted-away-from-spas/\">\\n          The balance has shifted away from SPAs\\n         </a>\\n         <span class=\"sitebit comhead\">\\n          (\\n          <a href=\"from?site=nolanlawson.com\">\\n           <span class=\"sitestr\">\\n            nolanlawson.com\\n           </span>\\n          </a>\\n          )\\n         </span>\\n        </td>\\n       </tr>\\n       <tr>\\n        <td colspan=\"2\">\\n        </td>\\n        <td class=\"subtext\">\\n         <span class=\"score\" id=\"score_31459316\">\\n          53 points\\n         </span>\\n         by\\n         <a class=\"hnuser\" href=\"user?id=feross\">\\n          feross\\n         </a>\\n         <span class=\"age\" title=\"2022-05-21T16:32:51\">\\n          <a href=\"item?id=31459316\">\\n           58 minutes ago\\n          </a>\\n         </span>\\n         <span id=\"unv_31459316\">\\n         </span>\\n         |\\n         <a href=\"hide?id=31459316&amp;goto=news\">\\n          hide\\n         </a>\\n         |\\n         <a href=\"item?id=31459316\">\\n          64\\xa0comments\\n         </a>\\n        </td>\\n       </tr>\\n       <tr class=\"spacer\" style=\"height:5px\">\\n       </tr>\\n       <tr class=\"athing\" id=\"31458955\">\\n        <td align=\"right\" class=\"title\" valign=\"top\">\\n         <span class=\"rank\">\\n          4.\\n         </span>\\n        </td>\\n        <td class=\"votelinks\" valign=\"top\">\\n         <center>\\n          <a href=\"vote?id=31458955&amp;how=up&amp;goto=news\" id=\"up_31458955\">\\n           <div class=\"votearrow\" title=\"upvote\">\\n           </div>\\n          </a>\\n         </center>\\n        </td>\\n        <td class=\"title\">\\n         <a class=\"titlelink\" href=\"https://boingboing.net/2022/05/16/engineering-students-create-edible-adhesive-tape-to-keep-your-burrito-wrapped-tightly.html\">\\n          Engineering students create edible adhesive tape to keep burrito wrapped tightly\\n         </a>\\n         <span class=\"sitebit comhead\">\\n          (\\n          <a href=\"from?site=boingboing.net\">\\n           <span class=\"sitestr\">\\n            boingboing.net\\n           </span>\\n          </a>\\n          )\\n         </span>\\n        </td>\\n       </tr>\\n       <tr>\\n        <td colspan=\"2\">\\n        </td>\\n        <td class=\"subtext\">\\n         <span class=\"score\" id=\"score_31458955\">\\n          62 points\\n         </span>\\n         by\\n         <a class=\"hnuser\" href=\"user?id=zdw\">\\n          zdw\\n         </a>\\n         <span class=\"age\" title=\"2022-05-21T15:53:58\">\\n          <a href=\"item?id=31458955\">\\n           1 hour ago\\n          </a>\\n         </span>\\n         <span id=\"unv_31458955\">\\n         </span>\\n         |\\n         <a href=\"hide?id=31458955&amp;goto=news\">\\n          hide\\n         </a>\\n         |\\n         <a href=\"item?id=31458955\">\\n          54\\xa0comments\\n         </a>\\n        </td>\\n       </tr>\\n       <tr class=\"spacer\" style=\"height:5px\">\\n       </tr>\\n       <tr class=\"athing\" id=\"31455968\">\\n        <td align=\"right\" class=\"title\" valign=\"top\">\\n         <span class=\"rank\">\\n          5.\\n         </span>\\n        </td>\\n        <td class=\"votelinks\" valign=\"top\">\\n         <center>\\n          <a href=\"vote?id=31455968&amp;how=up&amp;goto=news\" id=\"up_31455968\">\\n           <div class=\"votearrow\" title=\"upvote\">\\n           </div>\\n          </a>\\n         </center>\\n        </td>\\n        <td class=\"title\">\\n         <a class=\"titlelink\" href=\"https://lock.cmpxchg8b.com/linux123.html\">\\n          Lotus 1-2-3 For Linux\\n         </a>\\n         <span class=\"sitebit comhead\">\\n          (\\n          <a href=\"from?site=cmpxchg8b.com\">\\n           <span class=\"sitestr\">\\n            cmpxchg8b.com\\n           </span>\\n          </a>\\n          )\\n         </span>\\n        </td>\\n       </tr>\\n       <tr>\\n        <td colspan=\"2\">\\n        </td>\\n        <td class=\"subtext\">\\n         <span class=\"score\" id=\"score_31455968\">\\n          513 points\\n         </span>\\n         by\\n         <a class=\"hnuser\" href=\"user?id=taviso\">\\n          taviso\\n         </a>\\n         <span class=\"age\" title=\"2022-05-21T07:22:21\">\\n          <a href=\"item?id=31455968\">\\n           10 hours ago\\n          </a>\\n         </span>\\n         <span id=\"unv_31455968\">\\n         </span>\\n         |\\n         <a href=\"hide?id=31455968&amp;goto=news\">\\n          hide\\n         </a>\\n         |\\n         <a href=\"item?id=31455968\">\\n          44\\xa0comments\\n         </a>\\n        </td>\\n       </tr>\\n       <tr class=\"spacer\" style=\"height:5px\">\\n       </tr>\\n       <tr class=\"athing\" id=\"31456918\">\\n        <td align=\"right\" class=\"title\" valign=\"top\">\\n         <span class=\"rank\">\\n          6.\\n         </span>\\n        </td>\\n        <td class=\"votelinks\" valign=\"top\">\\n         <center>\\n          <a href=\"vote?id=31456918&amp;how=up&amp;goto=news\" id=\"up_31456918\">\\n           <div class=\"votearrow\" title=\"upvote\">\\n           </div>\\n          </a>\\n         </center>\\n        </td>\\n        <td class=\"title\">\\n         <a class=\"titlelink\" href=\"https://github.com/hng/tech-coops\">\\n          List of Worker-Owned Tech Cooperatives Worldwide\\n         </a>\\n         <span class=\"sitebit comhead\">\\n          (\\n          <a href=\"from?site=github.com/hng\">\\n           <span class=\"sitestr\">\\n            github.com/hng\\n           </span>\\n          </a>\\n          )\\n         </span>\\n        </td>\\n       </tr>\\n       <tr>\\n        <td colspan=\"2\">\\n        </td>\\n        <td class=\"subtext\">\\n         <span class=\"score\" id=\"score_31456918\">\\n          208 points\\n         </span>\\n         by\\n         <a class=\"hnuser\" href=\"user?id=cheshire_cat\">\\n          cheshire_cat\\n         </a>\\n         <span class=\"age\" title=\"2022-05-21T11:17:24\">\\n          <a href=\"item?id=31456918\">\\n           6 hours ago\\n          </a>\\n         </span>\\n         <span id=\"unv_31456918\">\\n         </span>\\n         |\\n         <a href=\"hide?id=31456918&amp;goto=news\">\\n          hide\\n         </a>\\n         |\\n         <a href=\"item?id=31456918\">\\n          66\\xa0comments\\n         </a>\\n        </td>\\n       </tr>\\n       <tr class=\"spacer\" style=\"height:5px\">\\n       </tr>\\n       <tr class=\"athing\" id=\"31459590\">\\n        <td align=\"right\" class=\"title\" valign=\"top\">\\n         <span class=\"rank\">\\n          7.\\n         </span>\\n        </td>\\n        <td>\\n        </td>\\n        <td class=\"title\">\\n         <a class=\"titlelink\" href=\"https://www.dover.com/open-roles/software-engineer\" rel=\"nofollow\">\\n          Dover (YC S19) is (still) hiring\\n         </a>\\n         <span class=\"sitebit comhead\">\\n          (\\n          <a href=\"from?site=dover.com\">\\n           <span class=\"sitestr\">\\n            dover.com\\n           </span>\\n          </a>\\n          )\\n         </span>\\n        </td>\\n       </tr>\\n       <tr>\\n        <td colspan=\"2\">\\n        </td>\\n        <td class=\"subtext\">\\n         <span class=\"age\" title=\"2022-05-21T17:00:34\">\\n          <a href=\"item?id=31459590\">\\n           30 minutes ago\\n          </a>\\n         </span>\\n         |\\n         <a href=\"hide?id=31459590&amp;goto=news\">\\n          hide\\n         </a>\\n        </td>\\n       </tr>\\n       <tr class=\"spacer\" style=\"height:5px\">\\n       </tr>\\n       <tr class=\"athing\" id=\"31456007\">\\n        <td align=\"right\" class=\"title\" valign=\"top\">\\n         <span class=\"rank\">\\n          8.\\n         </span>\\n        </td>\\n        <td class=\"votelinks\" valign=\"top\">\\n         <center>\\n          <a href=\"vote?id=31456007&amp;how=up&amp;goto=news\" id=\"up_31456007\">\\n           <div class=\"votearrow\" title=\"upvote\">\\n           </div>\\n          </a>\\n         </center>\\n        </td>\\n        <td class=\"title\">\\n         <a class=\"titlelink\" href=\"https://rustdesk.com/\">\\n          Rustdesk – Remote desktop software, an open source TeamViewer alternative\\n         </a>\\n         <span class=\"sitebit comhead\">\\n          (\\n          <a href=\"from?site=rustdesk.com\">\\n           <span class=\"sitestr\">\\n            rustdesk.com\\n           </span>\\n          </a>\\n          )\\n         </span>\\n        </td>\\n       </tr>\\n       <tr>\\n        <td colspan=\"2\">\\n        </td>\\n        <td class=\"subtext\">\\n         <span class=\"score\" id=\"score_31456007\">\\n          298 points\\n         </span>\\n         by\\n         <a class=\"hnuser\" href=\"user?id=yarapavan\">\\n          yarapavan\\n         </a>\\n         <span class=\"age\" title=\"2022-05-21T07:32:06\">\\n          <a href=\"item?id=31456007\">\\n           9 hours ago\\n          </a>\\n         </span>\\n         <span id=\"unv_31456007\">\\n         </span>\\n         |\\n         <a href=\"hide?id=31456007&amp;goto=news\">\\n          hide\\n         </a>\\n         |\\n         <a href=\"item?id=31456007\">\\n          77\\xa0comments\\n         </a>\\n        </td>\\n       </tr>\\n       <tr class=\"spacer\" style=\"height:5px\">\\n       </tr>\\n       <tr class=\"athing\" id=\"31457612\">\\n        <td align=\"right\" class=\"title\" valign=\"top\">\\n         <span class=\"rank\">\\n          9.\\n         </span>\\n        </td>\\n        <td class=\"votelinks\" valign=\"top\">\\n         <center>\\n          <a href=\"vote?id=31457612&amp;how=up&amp;goto=news\" id=\"up_31457612\">\\n           <div class=\"votearrow\" title=\"upvote\">\\n           </div>\\n          </a>\\n         </center>\\n        </td>\\n        <td class=\"title\">\\n         <a class=\"titlelink\" href=\"https://rarehistoricalphotos.com/vintage-computer-ads/\">\\n          Vintage computer ads that show how far we’ve progressed, 1970-1990\\n         </a>\\n         <span class=\"sitebit comhead\">\\n          (\\n          <a href=\"from?site=rarehistoricalphotos.com\">\\n           <span class=\"sitestr\">\\n            rarehistoricalphotos.com\\n           </span>\\n          </a>\\n          )\\n         </span>\\n        </td>\\n       </tr>\\n       <tr>\\n        <td colspan=\"2\">\\n        </td>\\n        <td class=\"subtext\">\\n         <span class=\"score\" id=\"score_31457612\">\\n          103 points\\n         </span>\\n         by\\n         <a class=\"hnuser\" href=\"user?id=davesailer\">\\n          davesailer\\n         </a>\\n         <span class=\"age\" title=\"2022-05-21T13:17:41\">\\n          <a href=\"item?id=31457612\">\\n           3 hours ago\\n          </a>\\n         </span>\\n         <span id=\"unv_31457612\">\\n         </span>\\n         |\\n         <a href=\"hide?id=31457612&amp;goto=news\">\\n          hide\\n         </a>\\n         |\\n         <a href=\"item?id=31457612\">\\n          99\\xa0comments\\n         </a>\\n        </td>\\n       </tr>\\n       <tr class=\"spacer\" style=\"height:5px\">\\n       </tr>\\n       <tr class=\"athing\" id=\"31450597\">\\n        <td align=\"right\" class=\"title\" valign=\"top\">\\n         <span class=\"rank\">\\n          10.\\n         </span>\\n        </td>\\n        <td class=\"votelinks\" valign=\"top\">\\n         <center>\\n          <a href=\"vote?id=31450597&amp;how=up&amp;goto=news\" id=\"up_31450597\">\\n           <div class=\"votearrow\" title=\"upvote\">\\n           </div>\\n          </a>\\n         </center>\\n        </td>\\n        <td class=\"title\">\\n         <a class=\"titlelink\" href=\"https://nschloe.github.io/2022/05/20/math-on-github.html\">\\n          Math on GitHub: The Good, the Bad and the Ugly\\n         </a>\\n         <span class=\"sitebit comhead\">\\n          (\\n          <a href=\"from?site=nschloe.github.io\">\\n           <span class=\"sitestr\">\\n            nschloe.github.io\\n           </span>\\n          </a>\\n          )\\n         </span>\\n        </td>\\n       </tr>\\n       <tr>\\n        <td colspan=\"2\">\\n        </td>\\n        <td class=\"subtext\">\\n         <span class=\"score\" id=\"score_31450597\">\\n          147 points\\n         </span>\\n         by\\n         <a class=\"hnuser\" href=\"user?id=s1291\">\\n          s1291\\n         </a>\\n         <span class=\"age\" title=\"2022-05-20T17:56:19\">\\n          <a href=\"item?id=31450597\">\\n           7 hours ago\\n          </a>\\n         </span>\\n         <span id=\"unv_31450597\">\\n         </span>\\n         |\\n         <a href=\"hide?id=31450597&amp;goto=news\">\\n          hide\\n         </a>\\n         |\\n         <a href=\"item?id=31450597\">\\n          33\\xa0comments\\n         </a>\\n        </td>\\n       </tr>\\n       <tr class=\"spacer\" style=\"height:5px\">\\n       </tr>\\n       <tr class=\"athing\" id=\"31459103\">\\n        <td align=\"right\" class=\"title\" valign=\"top\">\\n         <span class=\"rank\">\\n          11.\\n         </span>\\n        </td>\\n        <td class=\"votelinks\" valign=\"top\">\\n         <center>\\n          <a href=\"vote?id=31459103&amp;how=up&amp;goto=news\" id=\"up_31459103\">\\n           <div class=\"votearrow\" title=\"upvote\">\\n           </div>\\n          </a>\\n         </center>\\n        </td>\\n        <td class=\"title\">\\n         <a class=\"titlelink\" href=\"https://daily.jstor.org/what-happened-to-tagging/\">\\n          What Happened to Tagging? (2019)\\n         </a>\\n         <span class=\"sitebit comhead\">\\n          (\\n          <a href=\"from?site=jstor.org\">\\n           <span class=\"sitestr\">\\n            jstor.org\\n           </span>\\n          </a>\\n          )\\n         </span>\\n        </td>\\n       </tr>\\n       <tr>\\n        <td colspan=\"2\">\\n        </td>\\n        <td class=\"subtext\">\\n         <span class=\"score\" id=\"score_31459103\">\\n          14 points\\n         </span>\\n         by\\n         <a class=\"hnuser\" href=\"user?id=Tomte\">\\n          Tomte\\n         </a>\\n         <span class=\"age\" title=\"2022-05-21T16:09:41\">\\n          <a href=\"item?id=31459103\">\\n           1 hour ago\\n          </a>\\n         </span>\\n         <span id=\"unv_31459103\">\\n         </span>\\n         |\\n         <a href=\"hide?id=31459103&amp;goto=news\">\\n          hide\\n         </a>\\n         |\\n         <a href=\"item?id=31459103\">\\n          10\\xa0comments\\n         </a>\\n        </td>\\n       </tr>\\n       <tr class=\"spacer\" style=\"height:5px\">\\n       </tr>\\n       <tr class=\"athing\" id=\"31447080\">\\n        <td align=\"right\" class=\"title\" valign=\"top\">\\n         <span class=\"rank\">\\n          12.\\n         </span>\\n        </td>\\n        <td class=\"votelinks\" valign=\"top\">\\n         <center>\\n          <a href=\"vote?id=31447080&amp;how=up&amp;goto=news\" id=\"up_31447080\">\\n           <div class=\"votearrow\" title=\"upvote\">\\n           </div>\\n          </a>\\n         </center>\\n        </td>\\n        <td class=\"title\">\\n         <a class=\"titlelink\" href=\"https://consulting.drmaciver.com/code-review-quick-fixes/\">\\n          Quick fixes to your code review workflow\\n         </a>\\n         <span class=\"sitebit comhead\">\\n          (\\n          <a href=\"from?site=drmaciver.com\">\\n           <span class=\"sitestr\">\\n            drmaciver.com\\n           </span>\\n          </a>\\n          )\\n         </span>\\n        </td>\\n       </tr>\\n       <tr>\\n        <td colspan=\"2\">\\n        </td>\\n        <td class=\"subtext\">\\n         <span class=\"score\" id=\"score_31447080\">\\n          36 points\\n         </span>\\n         by\\n         <a class=\"hnuser\" href=\"user?id=hyperpape\">\\n          hyperpape\\n         </a>\\n         <span class=\"age\" title=\"2022-05-20T13:28:57\">\\n          <a href=\"item?id=31447080\">\\n           3 hours ago\\n          </a>\\n         </span>\\n         <span id=\"unv_31447080\">\\n         </span>\\n         |\\n         <a href=\"hide?id=31447080&amp;goto=news\">\\n          hide\\n         </a>\\n         |\\n         <a href=\"item?id=31447080\">\\n          17\\xa0comments\\n         </a>\\n        </td>\\n       </tr>\\n       <tr class=\"spacer\" style=\"height:5px\">\\n       </tr>\\n       <tr class=\"athing\" id=\"31448024\">\\n        <td align=\"right\" class=\"title\" valign=\"top\">\\n         <span class=\"rank\">\\n          13.\\n         </span>\\n        </td>\\n        <td class=\"votelinks\" valign=\"top\">\\n         <center>\\n          <a href=\"vote?id=31448024&amp;how=up&amp;goto=news\" id=\"up_31448024\">\\n           <div class=\"votearrow\" title=\"upvote\">\\n           </div>\\n          </a>\\n         </center>\\n        </td>\\n        <td class=\"title\">\\n         <a class=\"titlelink\" href=\"https://thisgoke.medium.com/analysing-data-in-web3-with-sql-6c205fff6364\">\\n          Analysing Data in Web3 with SQL\\n         </a>\\n         <span class=\"sitebit comhead\">\\n          (\\n          <a href=\"from?site=thisgoke.medium.com\">\\n           <span class=\"sitestr\">\\n            thisgoke.medium.com\\n           </span>\\n          </a>\\n          )\\n         </span>\\n        </td>\\n       </tr>\\n       <tr>\\n        <td colspan=\"2\">\\n        </td>\\n        <td class=\"subtext\">\\n         <span class=\"score\" id=\"score_31448024\">\\n          23 points\\n         </span>\\n         by\\n         <a class=\"hnuser\" href=\"user?id=webmaven\">\\n          webmaven\\n         </a>\\n         <span class=\"age\" title=\"2022-05-20T14:36:35\">\\n          <a href=\"item?id=31448024\">\\n           2 hours ago\\n          </a>\\n         </span>\\n         <span id=\"unv_31448024\">\\n         </span>\\n         |\\n         <a href=\"hide?id=31448024&amp;goto=news\">\\n          hide\\n         </a>\\n         |\\n         <a href=\"item?id=31448024\">\\n          2\\xa0comments\\n         </a>\\n        </td>\\n       </tr>\\n       <tr class=\"spacer\" style=\"height:5px\">\\n       </tr>\\n       <tr class=\"athing\" id=\"31459012\">\\n        <td align=\"right\" class=\"title\" valign=\"top\">\\n         <span class=\"rank\">\\n          14.\\n         </span>\\n        </td>\\n        <td class=\"votelinks\" valign=\"top\">\\n         <center>\\n          <a href=\"vote?id=31459012&amp;how=up&amp;goto=news\" id=\"up_31459012\">\\n           <div class=\"votearrow\" title=\"upvote\">\\n           </div>\\n          </a>\\n         </center>\\n        </td>\\n        <td class=\"title\">\\n         <a class=\"titlelink\" href=\"https://twitter.com/MorePerfectUS/status/1527661935054962688\">\\n          .01% of Bitcoin holders hold 27% of all Bitcoin\\n         </a>\\n         <span class=\"sitebit comhead\">\\n          (\\n          <a href=\"from?site=twitter.com/moreperfectus\">\\n           <span class=\"sitestr\">\\n            twitter.com/moreperfectus\\n           </span>\\n          </a>\\n          )\\n         </span>\\n        </td>\\n       </tr>\\n       <tr>\\n        <td colspan=\"2\">\\n        </td>\\n        <td class=\"subtext\">\\n         <span class=\"score\" id=\"score_31459012\">\\n          79 points\\n         </span>\\n         by\\n         <a class=\"hnuser\" href=\"user?id=croes\">\\n          croes\\n         </a>\\n         <span class=\"age\" title=\"2022-05-21T16:00:25\">\\n          <a href=\"item?id=31459012\">\\n           1 hour ago\\n          </a>\\n         </span>\\n         <span id=\"unv_31459012\">\\n         </span>\\n         |\\n         <a href=\"hide?id=31459012&amp;goto=news\">\\n          hide\\n         </a>\\n         |\\n         <a href=\"item?id=31459012\">\\n          47\\xa0comments\\n         </a>\\n        </td>\\n       </tr>\\n       <tr class=\"spacer\" style=\"height:5px\">\\n       </tr>\\n       <tr class=\"athing\" id=\"31459044\">\\n        <td align=\"right\" class=\"title\" valign=\"top\">\\n         <span class=\"rank\">\\n          15.\\n         </span>\\n        </td>\\n        <td class=\"votelinks\" valign=\"top\">\\n         <center>\\n          <a href=\"vote?id=31459044&amp;how=up&amp;goto=news\" id=\"up_31459044\">\\n           <div class=\"votearrow\" title=\"upvote\">\\n           </div>\\n          </a>\\n         </center>\\n        </td>\\n        <td class=\"title\">\\n         <a class=\"titlelink\" href=\"https://specbranch.com/posts/teach-bridge/\">\\n          Teach your Kids Bridge, not Poker\\n         </a>\\n         <span class=\"sitebit comhead\">\\n          (\\n          <a href=\"from?site=specbranch.com\">\\n           <span class=\"sitestr\">\\n            specbranch.com\\n           </span>\\n          </a>\\n          )\\n         </span>\\n        </td>\\n       </tr>\\n       <tr>\\n        <td colspan=\"2\">\\n        </td>\\n        <td class=\"subtext\">\\n         <span class=\"score\" id=\"score_31459044\">\\n          20 points\\n         </span>\\n         by\\n         <a class=\"hnuser\" href=\"user?id=pclmulqdq\">\\n          pclmulqdq\\n         </a>\\n         <span class=\"age\" title=\"2022-05-21T16:03:25\">\\n          <a href=\"item?id=31459044\">\\n           1 hour ago\\n          </a>\\n         </span>\\n         <span id=\"unv_31459044\">\\n         </span>\\n         |\\n         <a href=\"hide?id=31459044&amp;goto=news\">\\n          hide\\n         </a>\\n         |\\n         <a href=\"item?id=31459044\">\\n          9\\xa0comments\\n         </a>\\n        </td>\\n       </tr>\\n       <tr class=\"spacer\" style=\"height:5px\">\\n       </tr>\\n       <tr class=\"athing\" id=\"31456284\">\\n        <td align=\"right\" class=\"title\" valign=\"top\">\\n         <span class=\"rank\">\\n          16.\\n         </span>\\n        </td>\\n        <td class=\"votelinks\" valign=\"top\">\\n         <center>\\n          <a href=\"vote?id=31456284&amp;how=up&amp;goto=news\" id=\"up_31456284\">\\n           <div class=\"votearrow\" title=\"upvote\">\\n           </div>\\n          </a>\\n         </center>\\n        </td>\\n        <td class=\"title\">\\n         <a class=\"titlelink\" href=\"https://blog.samaltman.com/how-to-be-successful\">\\n          How to Be Successful (2019)\\n         </a>\\n         <span class=\"sitebit comhead\">\\n          (\\n          <a href=\"from?site=samaltman.com\">\\n           <span class=\"sitestr\">\\n            samaltman.com\\n           </span>\\n          </a>\\n          )\\n         </span>\\n        </td>\\n       </tr>\\n       <tr>\\n        <td colspan=\"2\">\\n        </td>\\n        <td class=\"subtext\">\\n         <span class=\"score\" id=\"score_31456284\">\\n          168 points\\n         </span>\\n         by\\n         <a class=\"hnuser\" href=\"user?id=Brajeshwar\">\\n          Brajeshwar\\n         </a>\\n         <span class=\"age\" title=\"2022-05-21T08:39:58\">\\n          <a href=\"item?id=31456284\">\\n           8 hours ago\\n          </a>\\n         </span>\\n         <span id=\"unv_31456284\">\\n         </span>\\n         |\\n         <a href=\"hide?id=31456284&amp;goto=news\">\\n          hide\\n         </a>\\n         |\\n         <a href=\"item?id=31456284\">\\n          120\\xa0comments\\n         </a>\\n        </td>\\n       </tr>\\n       <tr class=\"spacer\" style=\"height:5px\">\\n       </tr>\\n       <tr class=\"athing\" id=\"31455275\">\\n        <td align=\"right\" class=\"title\" valign=\"top\">\\n         <span class=\"rank\">\\n          17.\\n         </span>\\n        </td>\\n        <td class=\"votelinks\" valign=\"top\">\\n         <center>\\n          <a href=\"vote?id=31455275&amp;how=up&amp;goto=news\" id=\"up_31455275\">\\n           <div class=\"votearrow\" title=\"upvote\">\\n           </div>\\n          </a>\\n         </center>\\n        </td>\\n        <td class=\"title\">\\n         <a class=\"titlelink\" href=\"https://goto10.substack.com/p/800xl-inside\">\\n          The Atari 800XL\\n         </a>\\n         <span class=\"sitebit comhead\">\\n          (\\n          <a href=\"from?site=goto10.substack.com\">\\n           <span class=\"sitestr\">\\n            goto10.substack.com\\n           </span>\\n          </a>\\n          )\\n         </span>\\n        </td>\\n       </tr>\\n       <tr>\\n        <td colspan=\"2\">\\n        </td>\\n        <td class=\"subtext\">\\n         <span class=\"score\" id=\"score_31455275\">\\n          22 points\\n         </span>\\n         by\\n         <a class=\"hnuser\" href=\"user?id=jdkee\">\\n          jdkee\\n         </a>\\n         <span class=\"age\" title=\"2022-05-21T04:40:09\">\\n          <a href=\"item?id=31455275\">\\n           4 hours ago\\n          </a>\\n         </span>\\n         <span id=\"unv_31455275\">\\n         </span>\\n         |\\n         <a href=\"hide?id=31455275&amp;goto=news\">\\n          hide\\n         </a>\\n         |\\n         <a href=\"item?id=31455275\">\\n          7\\xa0comments\\n         </a>\\n        </td>\\n       </tr>\\n       <tr class=\"spacer\" style=\"height:5px\">\\n       </tr>\\n       <tr class=\"athing\" id=\"31456763\">\\n        <td align=\"right\" class=\"title\" valign=\"top\">\\n         <span class=\"rank\">\\n          18.\\n         </span>\\n        </td>\\n        <td class=\"votelinks\" valign=\"top\">\\n         <center>\\n          <a href=\"vote?id=31456763&amp;how=up&amp;goto=news\" id=\"up_31456763\">\\n           <div class=\"votearrow\" title=\"upvote\">\\n           </div>\\n          </a>\\n         </center>\\n        </td>\\n        <td class=\"title\">\\n         <a class=\"titlelink\" href=\"https://www.theverge.com/2022/5/21/23079058/apple-self-service-iphone-repair-kit-hands-on\">\\n          Apple Shipped Me a 79-Pound iPhone Repair Kit to Fix a 1.1-Ounce Battery\\n         </a>\\n         <span class=\"sitebit comhead\">\\n          (\\n          <a href=\"from?site=theverge.com\">\\n           <span class=\"sitestr\">\\n            theverge.com\\n           </span>\\n          </a>\\n          )\\n         </span>\\n        </td>\\n       </tr>\\n       <tr>\\n        <td colspan=\"2\">\\n        </td>\\n        <td class=\"subtext\">\\n         <span class=\"score\" id=\"score_31456763\">\\n          357 points\\n         </span>\\n         by\\n         <a class=\"hnuser\" href=\"user?id=kryptiskt\">\\n          kryptiskt\\n         </a>\\n         <span class=\"age\" title=\"2022-05-21T10:40:50\">\\n          <a href=\"item?id=31456763\">\\n           6 hours ago\\n          </a>\\n         </span>\\n         <span id=\"unv_31456763\">\\n         </span>\\n         |\\n         <a href=\"hide?id=31456763&amp;goto=news\">\\n          hide\\n         </a>\\n         |\\n         <a href=\"item?id=31456763\">\\n          372\\xa0comments\\n         </a>\\n        </td>\\n       </tr>\\n       <tr class=\"spacer\" style=\"height:5px\">\\n       </tr>\\n       <tr class=\"athing\" id=\"31456550\">\\n        <td align=\"right\" class=\"title\" valign=\"top\">\\n         <span class=\"rank\">\\n          19.\\n         </span>\\n        </td>\\n        <td class=\"votelinks\" valign=\"top\">\\n         <center>\\n          <a href=\"vote?id=31456550&amp;how=up&amp;goto=news\" id=\"up_31456550\">\\n           <div class=\"votearrow\" title=\"upvote\">\\n           </div>\\n          </a>\\n         </center>\\n        </td>\\n        <td class=\"title\">\\n         <a class=\"titlelink\" href=\"https://blog.sigplan.org/2022/05/19/language-design-in-the-real-world/\">\\n          Language Design in the Real World\\n         </a>\\n         <span class=\"sitebit comhead\">\\n          (\\n          <a href=\"from?site=sigplan.org\">\\n           <span class=\"sitestr\">\\n            sigplan.org\\n           </span>\\n          </a>\\n          )\\n         </span>\\n        </td>\\n       </tr>\\n       <tr>\\n        <td colspan=\"2\">\\n        </td>\\n        <td class=\"subtext\">\\n         <span class=\"score\" id=\"score_31456550\">\\n          56 points\\n         </span>\\n         by\\n         <a class=\"hnuser\" href=\"user?id=yeputons\">\\n          yeputons\\n         </a>\\n         <span class=\"age\" title=\"2022-05-21T09:41:28\">\\n          <a href=\"item?id=31456550\">\\n           7 hours ago\\n          </a>\\n         </span>\\n         <span id=\"unv_31456550\">\\n         </span>\\n         |\\n         <a href=\"hide?id=31456550&amp;goto=news\">\\n          hide\\n         </a>\\n         |\\n         <a href=\"item?id=31456550\">\\n          3\\xa0comments\\n         </a>\\n        </td>\\n       </tr>\\n       <tr class=\"spacer\" style=\"height:5px\">\\n       </tr>\\n       <tr class=\"athing\" id=\"31457057\">\\n        <td align=\"right\" class=\"title\" valign=\"top\">\\n         <span class=\"rank\">\\n          20.\\n         </span>\\n        </td>\\n        <td class=\"votelinks\" valign=\"top\">\\n         <center>\\n          <a href=\"vote?id=31457057&amp;how=up&amp;goto=news\" id=\"up_31457057\">\\n           <div class=\"votearrow\" title=\"upvote\">\\n           </div>\\n          </a>\\n         </center>\\n        </td>\\n        <td class=\"title\">\\n         <a class=\"titlelink\" href=\"https://ancientbeat.substack.com/p/-ancient-beat-12\">\\n          This week\\'s archaeological news: Underground stone circles and ancient trade\\n         </a>\\n         <span class=\"sitebit comhead\">\\n          (\\n          <a href=\"from?site=ancientbeat.substack.com\">\\n           <span class=\"sitestr\">\\n            ancientbeat.substack.com\\n           </span>\\n          </a>\\n          )\\n         </span>\\n        </td>\\n       </tr>\\n       <tr>\\n        <td colspan=\"2\">\\n        </td>\\n        <td class=\"subtext\">\\n         <span class=\"score\" id=\"score_31457057\">\\n          38 points\\n         </span>\\n         by\\n         <a class=\"hnuser\" href=\"user?id=jamesofthedrum\">\\n          jamesofthedrum\\n         </a>\\n         <span class=\"age\" title=\"2022-05-21T11:46:41\">\\n          <a href=\"item?id=31457057\">\\n           5 hours ago\\n          </a>\\n         </span>\\n         <span id=\"unv_31457057\">\\n         </span>\\n         |\\n         <a href=\"hide?id=31457057&amp;goto=news\">\\n          hide\\n         </a>\\n         |\\n         <a href=\"item?id=31457057\">\\n          18\\xa0comments\\n         </a>\\n        </td>\\n       </tr>\\n       <tr class=\"spacer\" style=\"height:5px\">\\n       </tr>\\n       <tr class=\"athing\" id=\"31456519\">\\n        <td align=\"right\" class=\"title\" valign=\"top\">\\n         <span class=\"rank\">\\n          21.\\n         </span>\\n        </td>\\n        <td class=\"votelinks\" valign=\"top\">\\n         <center>\\n          <a href=\"vote?id=31456519&amp;how=up&amp;goto=news\" id=\"up_31456519\">\\n           <div class=\"votearrow\" title=\"upvote\">\\n           </div>\\n          </a>\\n         </center>\\n        </td>\\n        <td class=\"title\">\\n         <a class=\"titlelink\" href=\"https://www.csrhymes.com/2022/05/18/considerations-for-incremental-static-regeneration.html\">\\n          Considerations for Incremental Static Regeneration in Next.js\\n         </a>\\n         <span class=\"sitebit comhead\">\\n          (\\n          <a href=\"from?site=csrhymes.com\">\\n           <span class=\"sitestr\">\\n            csrhymes.com\\n           </span>\\n          </a>\\n          )\\n         </span>\\n        </td>\\n       </tr>\\n       <tr>\\n        <td colspan=\"2\">\\n        </td>\\n        <td class=\"subtext\">\\n         <span class=\"score\" id=\"score_31456519\">\\n          21 points\\n         </span>\\n         by\\n         <a class=\"hnuser\" href=\"user?id=rhymesey\">\\n          rhymesey\\n         </a>\\n         <span class=\"age\" title=\"2022-05-21T09:33:18\">\\n          <a href=\"item?id=31456519\">\\n           4 hours ago\\n          </a>\\n         </span>\\n         <span id=\"unv_31456519\">\\n         </span>\\n         |\\n         <a href=\"hide?id=31456519&amp;goto=news\">\\n          hide\\n         </a>\\n         |\\n         <a href=\"item?id=31456519\">\\n          7\\xa0comments\\n         </a>\\n        </td>\\n       </tr>\\n       <tr class=\"spacer\" style=\"height:5px\">\\n       </tr>\\n       <tr class=\"athing\" id=\"31455287\">\\n        <td align=\"right\" class=\"title\" valign=\"top\">\\n         <span class=\"rank\">\\n          22.\\n         </span>\\n        </td>\\n        <td class=\"votelinks\" valign=\"top\">\\n         <center>\\n          <a href=\"vote?id=31455287&amp;how=up&amp;goto=news\" id=\"up_31455287\">\\n           <div class=\"votearrow\" title=\"upvote\">\\n           </div>\\n          </a>\\n         </center>\\n        </td>\\n        <td class=\"title\">\\n         <a class=\"titlelink\" href=\"https://www.youtube.com/watch?v=8-dCIkJAjyM\">\\n          5 Megawatt Nitinol Engine by Mcdonnell Douglas (2015) [video]\\n         </a>\\n         <span class=\"sitebit comhead\">\\n          (\\n          <a href=\"from?site=youtube.com\">\\n           <span class=\"sitestr\">\\n            youtube.com\\n           </span>\\n          </a>\\n          )\\n         </span>\\n        </td>\\n       </tr>\\n       <tr>\\n        <td colspan=\"2\">\\n        </td>\\n        <td class=\"subtext\">\\n         <span class=\"score\" id=\"score_31455287\">\\n          149 points\\n         </span>\\n         by\\n         <a class=\"hnuser\" href=\"user?id=cmroanirgo\">\\n          cmroanirgo\\n         </a>\\n         <span class=\"age\" title=\"2022-05-21T04:43:20\">\\n          <a href=\"item?id=31455287\">\\n           12 hours ago\\n          </a>\\n         </span>\\n         <span id=\"unv_31455287\">\\n         </span>\\n         |\\n         <a href=\"hide?id=31455287&amp;goto=news\">\\n          hide\\n         </a>\\n         |\\n         <a href=\"item?id=31455287\">\\n          76\\xa0comments\\n         </a>\\n        </td>\\n       </tr>\\n       <tr class=\"spacer\" style=\"height:5px\">\\n       </tr>\\n       <tr class=\"athing\" id=\"31457804\">\\n        <td align=\"right\" class=\"title\" valign=\"top\">\\n         <span class=\"rank\">\\n          23.\\n         </span>\\n        </td>\\n        <td class=\"votelinks\" valign=\"top\">\\n         <center>\\n          <a href=\"vote?id=31457804&amp;how=up&amp;goto=news\" id=\"up_31457804\">\\n           <div class=\"votearrow\" title=\"upvote\">\\n           </div>\\n          </a>\\n         </center>\\n        </td>\\n        <td class=\"title\">\\n         <a class=\"titlelink\" href=\"https://www.southernliving.com/culture/tom-brown-appalachian-apple-sleuth-rare-lost-varieties\">\\n          Tom Brown Is on a Mission to Restore Appalachia\\'s Rare and Lost Apples (2021)\\n         </a>\\n         <span class=\"sitebit comhead\">\\n          (\\n          <a href=\"from?site=southernliving.com\">\\n           <span class=\"sitestr\">\\n            southernliving.com\\n           </span>\\n          </a>\\n          )\\n         </span>\\n        </td>\\n       </tr>\\n       <tr>\\n        <td colspan=\"2\">\\n        </td>\\n        <td class=\"subtext\">\\n         <span class=\"score\" id=\"score_31457804\">\\n          14 points\\n         </span>\\n         by\\n         <a class=\"hnuser\" href=\"user?id=taubek\">\\n          taubek\\n         </a>\\n         <span class=\"age\" title=\"2022-05-21T13:41:11\">\\n          <a href=\"item?id=31457804\">\\n           3 hours ago\\n          </a>\\n         </span>\\n         <span id=\"unv_31457804\">\\n         </span>\\n         |\\n         <a href=\"hide?id=31457804&amp;goto=news\">\\n          hide\\n         </a>\\n         |\\n         <a href=\"item?id=31457804\">\\n          5\\xa0comments\\n         </a>\\n        </td>\\n       </tr>\\n       <tr class=\"spacer\" style=\"height:5px\">\\n       </tr>\\n       <tr class=\"athing\" id=\"31457965\">\\n        <td align=\"right\" class=\"title\" valign=\"top\">\\n         <span class=\"rank\">\\n          24.\\n         </span>\\n        </td>\\n        <td class=\"votelinks\" valign=\"top\">\\n         <center>\\n          <a href=\"vote?id=31457965&amp;how=up&amp;goto=news\" id=\"up_31457965\">\\n           <div class=\"votearrow\" title=\"upvote\">\\n           </div>\\n          </a>\\n         </center>\\n        </td>\\n        <td class=\"title\">\\n         <a class=\"titlelink\" href=\"https://discourse.ubuntu.com/t/pipewire-as-a-replacement-for-pulseaudio/28489\">\\n          Pipewire to replace Pulseaudion on Ubuntu 22.10\\n         </a>\\n         <span class=\"sitebit comhead\">\\n          (\\n          <a href=\"from?site=ubuntu.com\">\\n           <span class=\"sitestr\">\\n            ubuntu.com\\n           </span>\\n          </a>\\n          )\\n         </span>\\n        </td>\\n       </tr>\\n       <tr>\\n        <td colspan=\"2\">\\n        </td>\\n        <td class=\"subtext\">\\n         <span class=\"score\" id=\"score_31457965\">\\n          75 points\\n         </span>\\n         by\\n         <a class=\"hnuser\" href=\"user?id=marcodiego\">\\n          marcodiego\\n         </a>\\n         <span class=\"age\" title=\"2022-05-21T13:56:26\">\\n          <a href=\"item?id=31457965\">\\n           3 hours ago\\n          </a>\\n         </span>\\n         <span id=\"unv_31457965\">\\n         </span>\\n         |\\n         <a href=\"hide?id=31457965&amp;goto=news\">\\n          hide\\n         </a>\\n         |\\n         <a href=\"item?id=31457965\">\\n          31\\xa0comments\\n         </a>\\n        </td>\\n       </tr>\\n       <tr class=\"spacer\" style=\"height:5px\">\\n       </tr>\\n       <tr class=\"athing\" id=\"31457864\">\\n        <td align=\"right\" class=\"title\" valign=\"top\">\\n         <span class=\"rank\">\\n          25.\\n         </span>\\n        </td>\\n        <td class=\"votelinks\" valign=\"top\">\\n         <center>\\n          <a href=\"vote?id=31457864&amp;how=up&amp;goto=news\" id=\"up_31457864\">\\n           <div class=\"votearrow\" title=\"upvote\">\\n           </div>\\n          </a>\\n         </center>\\n        </td>\\n        <td class=\"title\">\\n         <a class=\"titlelink\" href=\"http://intyos.free.fr/\">\\n          IntyOS, an operating system for the Intellivision (2003)\\n         </a>\\n         <span class=\"sitebit comhead\">\\n          (\\n          <a href=\"from?site=intyos.free.fr\">\\n           <span class=\"sitestr\">\\n            intyos.free.fr\\n           </span>\\n          </a>\\n          )\\n         </span>\\n        </td>\\n       </tr>\\n       <tr>\\n        <td colspan=\"2\">\\n        </td>\\n        <td class=\"subtext\">\\n         <span class=\"score\" id=\"score_31457864\">\\n          12 points\\n         </span>\\n         by\\n         <a class=\"hnuser\" href=\"user?id=classichasclass\">\\n          classichasclass\\n         </a>\\n         <span class=\"age\" title=\"2022-05-21T13:46:54\">\\n          <a href=\"item?id=31457864\">\\n           3 hours ago\\n          </a>\\n         </span>\\n         <span id=\"unv_31457864\">\\n         </span>\\n         |\\n         <a href=\"hide?id=31457864&amp;goto=news\">\\n          hide\\n         </a>\\n         |\\n         <a href=\"item?id=31457864\">\\n          discuss\\n         </a>\\n        </td>\\n       </tr>\\n       <tr class=\"spacer\" style=\"height:5px\">\\n       </tr>\\n       <tr class=\"athing\" id=\"31458021\">\\n        <td align=\"right\" class=\"title\" valign=\"top\">\\n         <span class=\"rank\">\\n          26.\\n         </span>\\n        </td>\\n        <td class=\"votelinks\" valign=\"top\">\\n         <center>\\n          <a href=\"vote?id=31458021&amp;how=up&amp;goto=news\" id=\"up_31458021\">\\n           <div class=\"votearrow\" title=\"upvote\">\\n           </div>\\n          </a>\\n         </center>\\n        </td>\\n        <td class=\"title\">\\n         <a class=\"titlelink\" href=\"https://www.wsj.com/articles/crypto-might-have-an-insider-trading-problem-11653084398\">\\n          Crypto Might Have an Insider Trading Problem\\n         </a>\\n         <span class=\"sitebit comhead\">\\n          (\\n          <a href=\"from?site=wsj.com\">\\n           <span class=\"sitestr\">\\n            wsj.com\\n           </span>\\n          </a>\\n          )\\n         </span>\\n        </td>\\n       </tr>\\n       <tr>\\n        <td colspan=\"2\">\\n        </td>\\n        <td class=\"subtext\">\\n         <span class=\"score\" id=\"score_31458021\">\\n          73 points\\n         </span>\\n         by\\n         <a class=\"hnuser\" href=\"user?id=IdEntities\">\\n          IdEntities\\n         </a>\\n         <span class=\"age\" title=\"2022-05-21T14:03:38\">\\n          <a href=\"item?id=31458021\">\\n           3 hours ago\\n          </a>\\n         </span>\\n         <span id=\"unv_31458021\">\\n         </span>\\n         |\\n         <a href=\"hide?id=31458021&amp;goto=news\">\\n          hide\\n         </a>\\n         |\\n         <a href=\"item?id=31458021\">\\n          50\\xa0comments\\n         </a>\\n        </td>\\n       </tr>\\n       <tr class=\"spacer\" style=\"height:5px\">\\n       </tr>\\n       <tr class=\"athing\" id=\"31456450\">\\n        <td align=\"right\" class=\"title\" valign=\"top\">\\n         <span class=\"rank\">\\n          27.\\n         </span>\\n        </td>\\n        <td class=\"votelinks\" valign=\"top\">\\n         <center>\\n          <a href=\"vote?id=31456450&amp;how=up&amp;goto=news\" id=\"up_31456450\">\\n           <div class=\"votearrow\" title=\"upvote\">\\n           </div>\\n          </a>\\n         </center>\\n        </td>\\n        <td class=\"title\">\\n         <a class=\"titlelink\" href=\"https://sebastianraschka.com/blog/2022/pytorch-m1-gpu.html\">\\n          Running PyTorch on the M1 GPU\\n         </a>\\n         <span class=\"sitebit comhead\">\\n          (\\n          <a href=\"from?site=sebastianraschka.com\">\\n           <span class=\"sitestr\">\\n            sebastianraschka.com\\n           </span>\\n          </a>\\n          )\\n         </span>\\n        </td>\\n       </tr>\\n       <tr>\\n        <td colspan=\"2\">\\n        </td>\\n        <td class=\"subtext\">\\n         <span class=\"score\" id=\"score_31456450\">\\n          75 points\\n         </span>\\n         by\\n         <a class=\"hnuser\" href=\"user?id=my123\">\\n          my123\\n         </a>\\n         <span class=\"age\" title=\"2022-05-21T09:16:57\">\\n          <a href=\"item?id=31456450\">\\n           8 hours ago\\n          </a>\\n         </span>\\n         <span id=\"unv_31456450\">\\n         </span>\\n         |\\n         <a href=\"hide?id=31456450&amp;goto=news\">\\n          hide\\n         </a>\\n         |\\n         <a href=\"item?id=31456450\">\\n          27\\xa0comments\\n         </a>\\n        </td>\\n       </tr>\\n       <tr class=\"spacer\" style=\"height:5px\">\\n       </tr>\\n       <tr class=\"athing\" id=\"31451889\">\\n        <td align=\"right\" class=\"title\" valign=\"top\">\\n         <span class=\"rank\">\\n          28.\\n         </span>\\n        </td>\\n        <td class=\"votelinks\" valign=\"top\">\\n         <center>\\n          <a href=\"vote?id=31451889&amp;how=up&amp;goto=news\" id=\"up_31451889\">\\n           <div class=\"votearrow\" title=\"upvote\">\\n           </div>\\n          </a>\\n         </center>\\n        </td>\\n        <td class=\"title\">\\n         <a class=\"titlelink\" href=\"https://not-matthias.github.io/posts/mechanical-keyboard/\">\\n          Building my first mechanical keyboard\\n         </a>\\n         <span class=\"sitebit comhead\">\\n          (\\n          <a href=\"from?site=not-matthias.github.io\">\\n           <span class=\"sitestr\">\\n            not-matthias.github.io\\n           </span>\\n          </a>\\n          )\\n         </span>\\n        </td>\\n       </tr>\\n       <tr>\\n        <td colspan=\"2\">\\n        </td>\\n        <td class=\"subtext\">\\n         <span class=\"score\" id=\"score_31451889\">\\n          79 points\\n         </span>\\n         by\\n         <a class=\"hnuser\" href=\"user?id=not-matthias\">\\n          not-matthias\\n         </a>\\n         <span class=\"age\" title=\"2022-05-20T20:03:03\">\\n          <a href=\"item?id=31451889\">\\n           10 hours ago\\n          </a>\\n         </span>\\n         <span id=\"unv_31451889\">\\n         </span>\\n         |\\n         <a href=\"hide?id=31451889&amp;goto=news\">\\n          hide\\n         </a>\\n         |\\n         <a href=\"item?id=31451889\">\\n          72\\xa0comments\\n         </a>\\n        </td>\\n       </tr>\\n       <tr class=\"spacer\" style=\"height:5px\">\\n       </tr>\\n       <tr class=\"athing\" id=\"31437375\">\\n        <td align=\"right\" class=\"title\" valign=\"top\">\\n         <span class=\"rank\">\\n          29.\\n         </span>\\n        </td>\\n        <td class=\"votelinks\" valign=\"top\">\\n         <center>\\n          <a href=\"vote?id=31437375&amp;how=up&amp;goto=news\" id=\"up_31437375\">\\n           <div class=\"votearrow\" title=\"upvote\">\\n           </div>\\n          </a>\\n         </center>\\n        </td>\\n        <td class=\"title\">\\n         <a class=\"titlelink\" href=\"https://bellmar.medium.com/computer-science-is-a-liberal-arts-degree-b182fd1c0ef1\">\\n          Computer science is a liberal arts degree\\n         </a>\\n         <span class=\"sitebit comhead\">\\n          (\\n          <a href=\"from?site=bellmar.medium.com\">\\n           <span class=\"sitestr\">\\n            bellmar.medium.com\\n           </span>\\n          </a>\\n          )\\n         </span>\\n        </td>\\n       </tr>\\n       <tr>\\n        <td colspan=\"2\">\\n        </td>\\n        <td class=\"subtext\">\\n         <span class=\"score\" id=\"score_31437375\">\\n          71 points\\n         </span>\\n         by\\n         <a class=\"hnuser\" href=\"user?id=mbellotti\">\\n          mbellotti\\n         </a>\\n         <span class=\"age\" title=\"2022-05-19T17:16:29\">\\n          <a href=\"item?id=31437375\">\\n           10 hours ago\\n          </a>\\n         </span>\\n         <span id=\"unv_31437375\">\\n         </span>\\n         |\\n         <a href=\"hide?id=31437375&amp;goto=news\">\\n          hide\\n         </a>\\n         |\\n         <a href=\"item?id=31437375\">\\n          106\\xa0comments\\n         </a>\\n        </td>\\n       </tr>\\n       <tr class=\"spacer\" style=\"height:5px\">\\n       </tr>\\n       <tr class=\"athing\" id=\"31457140\">\\n        <td align=\"right\" class=\"title\" valign=\"top\">\\n         <span class=\"rank\">\\n          30.\\n         </span>\\n        </td>\\n        <td class=\"votelinks\" valign=\"top\">\\n         <center>\\n          <a href=\"vote?id=31457140&amp;how=up&amp;goto=news\" id=\"up_31457140\">\\n           <div class=\"votearrow\" title=\"upvote\">\\n           </div>\\n          </a>\\n         </center>\\n        </td>\\n        <td class=\"title\">\\n         <a class=\"titlelink\" href=\"https://theconversation.com/tinnitus-seems-linked-with-sleep-understanding-how-could-bring-us-closer-to-finding-a-cure-182711\">\\n          Tinnitus Seems Linked with Sleep\\n         </a>\\n         <span class=\"sitebit comhead\">\\n          (\\n          <a href=\"from?site=theconversation.com\">\\n           <span class=\"sitestr\">\\n            theconversation.com\\n           </span>\\n          </a>\\n          )\\n         </span>\\n        </td>\\n       </tr>\\n       <tr>\\n        <td colspan=\"2\">\\n        </td>\\n        <td class=\"subtext\">\\n         <span class=\"score\" id=\"score_31457140\">\\n          103 points\\n         </span>\\n         by\\n         <a class=\"hnuser\" href=\"user?id=pseudolus\">\\n          pseudolus\\n         </a>\\n         <span class=\"age\" title=\"2022-05-21T12:02:30\">\\n          <a href=\"item?id=31457140\">\\n           5 hours ago\\n          </a>\\n         </span>\\n         <span id=\"unv_31457140\">\\n         </span>\\n         |\\n         <a href=\"hide?id=31457140&amp;goto=news\">\\n          hide\\n         </a>\\n         |\\n         <a href=\"item?id=31457140\">\\n          40\\xa0comments\\n         </a>\\n        </td>\\n       </tr>\\n       <tr class=\"spacer\" style=\"height:5px\">\\n       </tr>\\n       <tr class=\"morespace\" style=\"height:10px\">\\n       </tr>\\n       <tr>\\n        <td colspan=\"2\">\\n        </td>\\n        <td class=\"title\">\\n         <a class=\"morelink\" href=\"news?p=2\" rel=\"next\">\\n          More\\n         </a>\\n        </td>\\n       </tr>\\n      </table>\\n     </td>\\n    </tr>\\n    <tr>\\n     <td>\\n      <img height=\"10\" src=\"s.gif\" width=\"0\"/>\\n      <table cellpadding=\"1\" cellspacing=\"0\" width=\"100%\">\\n       <tr>\\n        <td bgcolor=\"#ff6600\">\\n        </td>\\n       </tr>\\n      </table>\\n      <br/>\\n      <center>\\n       <span class=\"yclinks\">\\n        <a href=\"newsguidelines.html\">\\n         Guidelines\\n        </a>\\n        |\\n        <a href=\"newsfaq.html\">\\n         FAQ\\n        </a>\\n        |\\n        <a href=\"lists\">\\n         Lists\\n        </a>\\n        |\\n        <a href=\"https://github.com/HackerNews/API\">\\n         API\\n        </a>\\n        |\\n        <a href=\"security.html\">\\n         Security\\n        </a>\\n        |\\n        <a href=\"http://www.ycombinator.com/legal/\">\\n         Legal\\n        </a>\\n        |\\n        <a href=\"http://www.ycombinator.com/apply/\">\\n         Apply to YC\\n        </a>\\n        |\\n        <a href=\"mailto:hn@ycombinator.com\">\\n         Contact\\n        </a>\\n       </span>\\n       <br/>\\n       <br/>\\n       <form action=\"//hn.algolia.com/\" method=\"get\">\\n        Search:\\n        <input autocapitalize=\"off\" autocomplete=\"false\" autocorrect=\"off\" name=\"q\" size=\"17\" spellcheck=\"false\" type=\"text\" value=\"\"/>\\n       </form>\\n      </center>\\n     </td>\\n    </tr>\\n   </table>\\n  </center>\\n </body>\\n <script src=\"hn.js?v1DKgiAnJbxahaAg6hb4\" type=\"text/javascript\">\\n </script>\\n</html>\\n'"
      ]
     },
     "execution_count": 34,
     "metadata": {},
     "output_type": "execute_result"
    }
   ],
   "source": [
    "strhtm"
   ]
  },
  {
   "cell_type": "code",
   "execution_count": 76,
   "id": "12899087",
   "metadata": {},
   "outputs": [],
   "source": [
    "class Callback:\n",
    "    \n",
    "...   def changeColor(self, color):\n",
    "...     print('neha')\n",
    "...     print(color)\n"
   ]
  },
  {
   "cell_type": "code",
   "execution_count": null,
   "id": "45634b7a",
   "metadata": {},
   "outputs": [],
   "source": []
  },
  {
   "cell_type": "code",
   "execution_count": 78,
   "id": "8283ce31",
   "metadata": {},
   "outputs": [],
   "source": [
    "bj = Callback()"
   ]
  },
  {
   "cell_type": "code",
   "execution_count": 87,
   "id": "4d8fd0c9",
   "metadata": {},
   "outputs": [
    {
     "name": "stdout",
     "output_type": "stream",
     "text": [
      "neha\n",
      "blck\n"
     ]
    }
   ],
   "source": [
    "bj.changeColor('blck')"
   ]
  },
  {
   "cell_type": "code",
   "execution_count": 83,
   "id": "5ec48bb3",
   "metadata": {},
   "outputs": [
    {
     "data": {
      "text/plain": [
       "['__class__',\n",
       " '__delattr__',\n",
       " '__dict__',\n",
       " '__dir__',\n",
       " '__doc__',\n",
       " '__eq__',\n",
       " '__format__',\n",
       " '__ge__',\n",
       " '__getattribute__',\n",
       " '__gt__',\n",
       " '__hash__',\n",
       " '__init__',\n",
       " '__init_subclass__',\n",
       " '__le__',\n",
       " '__lt__',\n",
       " '__module__',\n",
       " '__ne__',\n",
       " '__new__',\n",
       " '__reduce__',\n",
       " '__reduce_ex__',\n",
       " '__repr__',\n",
       " '__setattr__',\n",
       " '__sizeof__',\n",
       " '__str__',\n",
       " '__subclasshook__',\n",
       " '__weakref__',\n",
       " 'changeColor']"
      ]
     },
     "execution_count": 83,
     "metadata": {},
     "output_type": "execute_result"
    }
   ],
   "source": [
    "dir(bj)"
   ]
  },
  {
   "cell_type": "code",
   "execution_count": 81,
   "id": "c3c2a016",
   "metadata": {},
   "outputs": [
    {
     "name": "stdout",
     "output_type": "stream",
     "text": [
      "neha\n",
      "black\n"
     ]
    }
   ],
   "source": [
    "bj.changeColor('black')"
   ]
  },
  {
   "cell_type": "code",
   "execution_count": 61,
   "id": "7ca0628e",
   "metadata": {},
   "outputs": [
    {
     "data": {
      "text/plain": [
       "<bound method Callback.changeColor of <__main__.Callback object at 0x00000213929EDA00>>"
      ]
     },
     "execution_count": 61,
     "metadata": {},
     "output_type": "execute_result"
    }
   ],
   "source": [
    "bj.changeColor"
   ]
  },
  {
   "cell_type": "code",
   "execution_count": null,
   "id": "54c321e8",
   "metadata": {},
   "outputs": [],
   "source": [
    " cb = obj.changeColor()\n"
   ]
  },
  {
   "cell_type": "code",
   "execution_count": 58,
   "id": "4488a7b5",
   "metadata": {},
   "outputs": [],
   "source": [
    "a = 'nhea'"
   ]
  },
  {
   "cell_type": "code",
   "execution_count": 59,
   "id": "7231e940",
   "metadata": {},
   "outputs": [
    {
     "data": {
      "text/plain": [
       "['__add__',\n",
       " '__class__',\n",
       " '__contains__',\n",
       " '__delattr__',\n",
       " '__dir__',\n",
       " '__doc__',\n",
       " '__eq__',\n",
       " '__format__',\n",
       " '__ge__',\n",
       " '__getattribute__',\n",
       " '__getitem__',\n",
       " '__getnewargs__',\n",
       " '__gt__',\n",
       " '__hash__',\n",
       " '__init__',\n",
       " '__init_subclass__',\n",
       " '__iter__',\n",
       " '__le__',\n",
       " '__len__',\n",
       " '__lt__',\n",
       " '__mod__',\n",
       " '__mul__',\n",
       " '__ne__',\n",
       " '__new__',\n",
       " '__reduce__',\n",
       " '__reduce_ex__',\n",
       " '__repr__',\n",
       " '__rmod__',\n",
       " '__rmul__',\n",
       " '__setattr__',\n",
       " '__sizeof__',\n",
       " '__str__',\n",
       " '__subclasshook__',\n",
       " 'capitalize',\n",
       " 'casefold',\n",
       " 'center',\n",
       " 'count',\n",
       " 'encode',\n",
       " 'endswith',\n",
       " 'expandtabs',\n",
       " 'find',\n",
       " 'format',\n",
       " 'format_map',\n",
       " 'index',\n",
       " 'isalnum',\n",
       " 'isalpha',\n",
       " 'isascii',\n",
       " 'isdecimal',\n",
       " 'isdigit',\n",
       " 'isidentifier',\n",
       " 'islower',\n",
       " 'isnumeric',\n",
       " 'isprintable',\n",
       " 'isspace',\n",
       " 'istitle',\n",
       " 'isupper',\n",
       " 'join',\n",
       " 'ljust',\n",
       " 'lower',\n",
       " 'lstrip',\n",
       " 'maketrans',\n",
       " 'partition',\n",
       " 'removeprefix',\n",
       " 'removesuffix',\n",
       " 'replace',\n",
       " 'rfind',\n",
       " 'rindex',\n",
       " 'rjust',\n",
       " 'rpartition',\n",
       " 'rsplit',\n",
       " 'rstrip',\n",
       " 'split',\n",
       " 'splitlines',\n",
       " 'startswith',\n",
       " 'strip',\n",
       " 'swapcase',\n",
       " 'title',\n",
       " 'translate',\n",
       " 'upper',\n",
       " 'zfill']"
      ]
     },
     "execution_count": 59,
     "metadata": {},
     "output_type": "execute_result"
    }
   ],
   "source": [
    "dir(a)"
   ]
  },
  {
   "cell_type": "code",
   "execution_count": 85,
   "id": "de387ae7",
   "metadata": {},
   "outputs": [
    {
     "data": {
      "text/plain": [
       "0.14254260383881612"
      ]
     },
     "execution_count": 85,
     "metadata": {},
     "output_type": "execute_result"
    }
   ],
   "source": [
    "from scipy import stats\n",
    "stats.norm.cdf( 680, loc=711,scale=29)"
   ]
  },
  {
   "cell_type": "code",
   "execution_count": 88,
   "id": "3dad1388",
   "metadata": {},
   "outputs": [],
   "source": [
    "class Shark:\n",
    "    # Class variables\n",
    "    animal_type = \"fish\"\n",
    "    location = \"ocean\"\n",
    "    # Constructor method with instance variables name and age\n",
    "    def __init__(self, name, age):\n",
    "        self.name = name\n",
    "        self.age = age\n",
    "    # Method with instance variable followers\n",
    "    def set_followers(self, followers):\n",
    "        print(\"This user has \" + str(followers) + \" followers\")\n",
    "def main():\n",
    "    # First object, set up instance variables of constructor method\n",
    "    sammy = Shark(\"Sammy\", 5)\n",
    "    # Print out instance variable name\n",
    "    print(sammy.name)\n",
    "    # Print out class variable location\n",
    "    print(sammy.location)\n"
   ]
  },
  {
   "cell_type": "code",
   "execution_count": 89,
   "id": "7b1c8388",
   "metadata": {},
   "outputs": [
    {
     "name": "stdout",
     "output_type": "stream",
     "text": [
      "Sammy\n",
      "ocean\n"
     ]
    }
   ],
   "source": [
    "main()"
   ]
  },
  {
   "cell_type": "code",
   "execution_count": null,
   "id": "6ee7c827",
   "metadata": {},
   "outputs": [],
   "source": [
    "if __name__ == \"__main__\":\n",
    "    main()\n"
   ]
  },
  {
   "cell_type": "code",
   "execution_count": 111,
   "id": "ce7fcd22",
   "metadata": {},
   "outputs": [],
   "source": [
    "class Fish:\n",
    "    def __init__(self1, first_name, last_name=\"Fish\",\n",
    "                 skeleton=\"bone\", eyelids=False):\n",
    "        self1.first_name = first_name\n",
    "        self1.last_name = last_name\n",
    "        self1.skeleton = skeleton\n",
    "        self1.eyelids = eyelids\n",
    "    def swim(self1):\n",
    "        print(\"The fish is swimming.\", self1.first_name)\n",
    "    def swim_backwards(self):\n",
    "        print(\"The fish can swim backwards.\")\n"
   ]
  },
  {
   "cell_type": "code",
   "execution_count": 3,
   "id": "3e338fab",
   "metadata": {},
   "outputs": [
    {
     "ename": "TypeError",
     "evalue": "'int' object is not callable",
     "output_type": "error",
     "traceback": [
      "\u001b[1;31m---------------------------------------------------------------------------\u001b[0m",
      "\u001b[1;31mTypeError\u001b[0m                                 Traceback (most recent call last)",
      "\u001b[1;32m~\\AppData\\Local\\Temp\\ipykernel_1016\\2918704183.py\u001b[0m in \u001b[0;36m<module>\u001b[1;34m\u001b[0m\n\u001b[1;32m----> 1\u001b[1;33m \u001b[0mprint\u001b[0m\u001b[1;33m(\u001b[0m\u001b[1;34m'neha'\u001b[0m\u001b[1;33m)\u001b[0m\u001b[1;33m\u001b[0m\u001b[1;33m\u001b[0m\u001b[0m\n\u001b[0m",
      "\u001b[1;31mTypeError\u001b[0m: 'int' object is not callable"
     ]
    }
   ],
   "source": [
    "print('neha')"
   ]
  },
  {
   "cell_type": "code",
   "execution_count": 2,
   "id": "257b9b7a",
   "metadata": {},
   "outputs": [],
   "source": [
    "print = 6"
   ]
  },
  {
   "cell_type": "code",
   "execution_count": 112,
   "id": "69ff7bdb",
   "metadata": {},
   "outputs": [],
   "source": [
    "b = Fish('test')"
   ]
  },
  {
   "cell_type": "code",
   "execution_count": 113,
   "id": "47f01e12",
   "metadata": {},
   "outputs": [
    {
     "name": "stdout",
     "output_type": "stream",
     "text": [
      "The fish is swimming. test\n"
     ]
    }
   ],
   "source": [
    "b.swim()"
   ]
  },
  {
   "cell_type": "code",
   "execution_count": 98,
   "id": "942fc31b",
   "metadata": {},
   "outputs": [],
   "source": [
    "class xyz(Fish):\n",
    "    def swim_fast(self):\n",
    "        print(self.first_name)"
   ]
  },
  {
   "cell_type": "code",
   "execution_count": 99,
   "id": "58d7ecef",
   "metadata": {},
   "outputs": [],
   "source": [
    "a = xyz('Nemo')"
   ]
  },
  {
   "cell_type": "code",
   "execution_count": 100,
   "id": "f458df92",
   "metadata": {},
   "outputs": [
    {
     "data": {
      "text/plain": [
       "'bone'"
      ]
     },
     "execution_count": 100,
     "metadata": {},
     "output_type": "execute_result"
    }
   ],
   "source": [
    "a.skeleton"
   ]
  },
  {
   "cell_type": "code",
   "execution_count": 97,
   "id": "ef16521c",
   "metadata": {},
   "outputs": [
    {
     "name": "stdout",
     "output_type": "stream",
     "text": [
      "The fish is swimming.\n"
     ]
    }
   ],
   "source": [
    "a.swim()"
   ]
  },
  {
   "cell_type": "code",
   "execution_count": 1,
   "id": "5c5faa9e",
   "metadata": {},
   "outputs": [
    {
     "data": {
      "text/plain": [
       "0.985913361817253"
      ]
     },
     "execution_count": 1,
     "metadata": {},
     "output_type": "execute_result"
    }
   ],
   "source": [
    "from scipy import stats\n",
    "#stats.norm.cdf(z)\n",
    "stats.t.cdf(2.236,df=79)\n"
   ]
  },
  {
   "cell_type": "code",
   "execution_count": 2,
   "id": "67f6586f",
   "metadata": {},
   "outputs": [
    {
     "data": {
      "text/plain": [
       "0.015000000000000013"
      ]
     },
     "execution_count": 2,
     "metadata": {},
     "output_type": "execute_result"
    }
   ],
   "source": [
    "1-0.985"
   ]
  },
  {
   "cell_type": "code",
   "execution_count": 5,
   "id": "77b822b8",
   "metadata": {},
   "outputs": [
    {
     "data": {
      "text/plain": [
       "0.07926984145339233"
      ]
     },
     "execution_count": 5,
     "metadata": {},
     "output_type": "execute_result"
    }
   ],
   "source": [
    "1-stats.norm.cdf(1.41)"
   ]
  },
  {
   "cell_type": "code",
   "execution_count": null,
   "id": "0295a593",
   "metadata": {},
   "outputs": [],
   "source": [
    "def smart_divide(func):\n",
    "    print(\"I am going to divide\", a, \"and\", b)\n",
    "    if b == 0:\n",
    "        print(\"Whoops! cannot divide\")\n",
    "        return\n",
    "\n",
    "    return func(a, b)\n",
    "\n",
    "\n",
    "@smart_divide\n",
    "def divide(a, b):\n",
    "    print(a/b)"
   ]
  },
  {
   "cell_type": "code",
   "execution_count": null,
   "id": "3a7b19f0",
   "metadata": {},
   "outputs": [],
   "source": []
  }
 ],
 "metadata": {
  "kernelspec": {
   "display_name": "Python 3 (ipykernel)",
   "language": "python",
   "name": "python3"
  },
  "language_info": {
   "codemirror_mode": {
    "name": "ipython",
    "version": 3
   },
   "file_extension": ".py",
   "mimetype": "text/x-python",
   "name": "python",
   "nbconvert_exporter": "python",
   "pygments_lexer": "ipython3",
   "version": "3.9.13"
  }
 },
 "nbformat": 4,
 "nbformat_minor": 5
}
